{
 "cells": [
  {
   "cell_type": "markdown",
   "metadata": {
    "id": "5mrmVSI2aqFV"
   },
   "source": [
    "## データ準備"
   ]
  },
  {
   "cell_type": "code",
   "execution_count": null,
   "metadata": {
    "id": "ef0wdwDUada8"
   },
   "outputs": [],
   "source": [
    "import urllib.request\n",
    "import sys\n",
    "\n",
    "#ダウンロード\n",
    "url = \"https://www.rondhuit.com/download/ldcc-20140209.tar.gz\"\n",
    "urllib.request.urlretrieve(url,\"ldcc-20140209.tar.gz\")\n",
    "# 解凍\n",
    "!tar xvf ldcc-20140209.tar.gz"
   ]
  },
  {
   "cell_type": "code",
   "execution_count": 2,
   "metadata": {
    "colab": {
     "base_uri": "https://localhost:8080/",
     "height": 326
    },
    "id": "kdbfo7APbm-e",
    "outputId": "1c83a0c8-7cdc-4ff4-f05a-02bc5a91be63"
   },
   "outputs": [
    {
     "name": "stdout",
     "output_type": "stream",
     "text": [
      "カテゴリ： ['kaden-channel', 'peachy', 'livedoor-homme', 'movie-enter', 'dokujo-tsushin', 'it-life-hack', 'smax', 'topic-news', 'sports-watch']\n"
     ]
    },
    {
     "data": {
      "text/html": [
       "<div>\n",
       "<style scoped>\n",
       "    .dataframe tbody tr th:only-of-type {\n",
       "        vertical-align: middle;\n",
       "    }\n",
       "\n",
       "    .dataframe tbody tr th {\n",
       "        vertical-align: top;\n",
       "    }\n",
       "\n",
       "    .dataframe thead th {\n",
       "        text-align: right;\n",
       "    }\n",
       "</style>\n",
       "<table border=\"1\" class=\"dataframe\">\n",
       "  <thead>\n",
       "    <tr style=\"text-align: right;\">\n",
       "      <th></th>\n",
       "      <th>TITLE</th>\n",
       "      <th>BODY</th>\n",
       "      <th>CATEGORY</th>\n",
       "    </tr>\n",
       "  </thead>\n",
       "  <tbody>\n",
       "    <tr>\n",
       "      <th>0</th>\n",
       "      <td>五輪観戦しながらエクササイズ！　アルインコから室内フィットネス器具新発売【売れ筋チェック】\\n</td>\n",
       "      <td>ロンドン五輪が開幕し、深夜にテレビ観戦して寝不足が続いている人も多いのではないだろうか。鍛え...</td>\n",
       "      <td>kaden-channel</td>\n",
       "    </tr>\n",
       "    <tr>\n",
       "      <th>1</th>\n",
       "      <td>次世代Xbox 720は年明けすぐに発表か？　この冬買いたいゲーム機をおさらいしよう【話題】\\n</td>\n",
       "      <td>噂のマイクロソフト、次世代Xbox 720発表時期が早まったようだ。2012年の１月にCon...</td>\n",
       "      <td>kaden-channel</td>\n",
       "    </tr>\n",
       "    <tr>\n",
       "      <th>2</th>\n",
       "      <td>【記事連動】黒と白、ガンマの調整をするための オリジナルチャート【ビデオSALON】\\n</td>\n",
       "      <td>ビデオサロン２月号P66-67の短期集中マスター\\n「ソニーFS100Jで学ぶピクチャープロ...</td>\n",
       "      <td>kaden-channel</td>\n",
       "    </tr>\n",
       "    <tr>\n",
       "      <th>3</th>\n",
       "      <td>日テレで出る出る詐欺！　出演を告知していた中島騒動の占い師が登場せず【話題】\\n</td>\n",
       "      <td>日本テレビで放送された「芸能★BANG」、これは気になる芸能人のゴシップをレポーターや芸能記...</td>\n",
       "      <td>kaden-channel</td>\n",
       "    </tr>\n",
       "    <tr>\n",
       "      <th>4</th>\n",
       "      <td>一度は働いてみたい？　グーグル社のとにかくおしゃれなロンドンオフィスが話題に【話題】　\\n</td>\n",
       "      <td>グーグル社のロンドンオフィスがおしゃれだと話題になっている。グーグルではエンジニアに素晴らし...</td>\n",
       "      <td>kaden-channel</td>\n",
       "    </tr>\n",
       "  </tbody>\n",
       "</table>\n",
       "</div>"
      ],
      "text/plain": [
       "                                              TITLE  ...       CATEGORY\n",
       "0   五輪観戦しながらエクササイズ！　アルインコから室内フィットネス器具新発売【売れ筋チェック】\\n  ...  kaden-channel\n",
       "1  次世代Xbox 720は年明けすぐに発表か？　この冬買いたいゲーム機をおさらいしよう【話題】\\n  ...  kaden-channel\n",
       "2      【記事連動】黒と白、ガンマの調整をするための オリジナルチャート【ビデオSALON】\\n  ...  kaden-channel\n",
       "3          日テレで出る出る詐欺！　出演を告知していた中島騒動の占い師が登場せず【話題】\\n  ...  kaden-channel\n",
       "4     一度は働いてみたい？　グーグル社のとにかくおしゃれなロンドンオフィスが話題に【話題】　\\n  ...  kaden-channel\n",
       "\n",
       "[5 rows x 3 columns]"
      ]
     },
     "execution_count": 2,
     "metadata": {
      "tags": []
     },
     "output_type": "execute_result"
    }
   ],
   "source": [
    "import pandas as pd\n",
    "import os\n",
    "from glob import glob\n",
    "import linecache\n",
    "\n",
    "# カテゴリを配列で取得\n",
    "categories = [name for name in os.listdir('text') if os.path.isdir(f'text/{name}')]\n",
    "print('カテゴリ：', categories)\n",
    "\n",
    "title_list = []\n",
    "body_list = []\n",
    "cat_list = []\n",
    "for category in categories:\n",
    "  path = f'text/{category}/*.txt'\n",
    "  files = glob(path)\n",
    "  for text_name in files:\n",
    "    # 各テキストの3行目をリストに追加（タイトル）\n",
    "    title_list.append(linecache.getline(text_name, 3))\n",
    "    # 各テキストの4〜10行目をリストに追加（本文）\n",
    "    body = ''\n",
    "    for body_line in range(4, 10):\n",
    "      body += linecache.getline(text_name, body_line)\n",
    "    body_list.append(body)\n",
    "    # 各テキストのカテゴリーをリストに追加\n",
    "    cat_list.append(category)\n",
    "\n",
    "cols = {'TITLE': title_list, 'BODY': body_list, 'CATEGORY': cat_list}\n",
    "df = pd.DataFrame(cols)\n",
    "df.head()"
   ]
  },
  {
   "cell_type": "markdown",
   "metadata": {
    "id": "g77dtYFmh76c"
   },
   "source": [
    "## データを眺める"
   ]
  },
  {
   "cell_type": "code",
   "execution_count": 3,
   "metadata": {
    "colab": {
     "base_uri": "https://localhost:8080/"
    },
    "id": "WWuV1O3Xh9qU",
    "outputId": "458f23e5-7d94-48a4-b69f-6cfadeab29d4"
   },
   "outputs": [
    {
     "data": {
      "text/plain": [
       "7376"
      ]
     },
     "execution_count": 3,
     "metadata": {
      "tags": []
     },
     "output_type": "execute_result"
    }
   ],
   "source": [
    "len(df)"
   ]
  },
  {
   "cell_type": "code",
   "execution_count": 4,
   "metadata": {
    "colab": {
     "base_uri": "https://localhost:8080/"
    },
    "id": "bCA9sq9liAxv",
    "outputId": "cf8fe656-70d6-4c02-add9-fa6ba45c7ed4"
   },
   "outputs": [
    {
     "data": {
      "text/plain": [
       "sports-watch      901\n",
       "movie-enter       871\n",
       "it-life-hack      871\n",
       "smax              871\n",
       "dokujo-tsushin    871\n",
       "kaden-channel     865\n",
       "peachy            843\n",
       "topic-news        771\n",
       "livedoor-homme    512\n",
       "Name: CATEGORY, dtype: int64"
      ]
     },
     "execution_count": 4,
     "metadata": {
      "tags": []
     },
     "output_type": "execute_result"
    }
   ],
   "source": [
    "df['CATEGORY'].value_counts()"
   ]
  },
  {
   "cell_type": "code",
   "execution_count": 5,
   "metadata": {
    "colab": {
     "base_uri": "https://localhost:8080/",
     "height": 282
    },
    "id": "nEwY1lnx0L-l",
    "outputId": "05635b7d-2d15-4454-ce8d-ac6a30c3b9be"
   },
   "outputs": [
    {
     "data": {
      "text/plain": [
       "<matplotlib.axes._subplots.AxesSubplot at 0x7f6e6672e310>"
      ]
     },
     "execution_count": 5,
     "metadata": {
      "tags": []
     },
     "output_type": "execute_result"
    },
    {
     "data": {
      "image/png": "[encoded data removed]",
      "text/plain": [
       "<Figure size 432x288 with 1 Axes>"
      ]
     },
     "metadata": {
      "needs_background": "light",
      "tags": []
     },
     "output_type": "display_data"
    }
   ],
   "source": [
    "import matplotlib.pyplot as plt\n",
    "%matplotlib inline\n",
    "\n",
    "df['CATEGORY'].value_counts().plot(kind='barh')"
   ]
  },
  {
   "cell_type": "code",
   "execution_count": 9,
   "metadata": {
    "colab": {
     "base_uri": "https://localhost:8080/",
     "height": 282
    },
    "id": "nBpoTi9w1iPW",
    "outputId": "fa9e3528-5058-4ee1-a497-50d59b6f928f"
   },
   "outputs": [
    {
     "data": {
      "text/plain": [
       "<matplotlib.axes._subplots.AxesSubplot at 0x7f6e62153c10>"
      ]
     },
     "execution_count": 9,
     "metadata": {
      "tags": []
     },
     "output_type": "execute_result"
    },
    {
     "data": {
      "image/png": "[encoded data removed]",
      "text/plain": [
       "<Figure size 432x288 with 1 Axes>"
      ]
     },
     "metadata": {
      "needs_background": "light",
      "tags": []
     },
     "output_type": "display_data"
    }
   ],
   "source": [
    "df['CATEGORY'].value_counts().plot.kde()"
   ]
  },
  {
   "cell_type": "markdown",
   "metadata": {
    "id": "xSwKcxWWhwlX"
   },
   "source": [
    "## 前処理"
   ]
  },
  {
   "cell_type": "code",
   "execution_count": 10,
   "metadata": {
    "id": "Nr2U5mLheygJ"
   },
   "outputs": [],
   "source": [
    "import re\n",
    "\n",
    "def preprocessing(text):\n",
    "  # 全角 => 半角\n",
    "  text = text.translate(str.maketrans({chr(0xFF01 + i): chr(0x21 + i) for i in range(94)}))\n",
    "  # 英語大文字を小文字化\n",
    "  text = text.lower()\n",
    "  # 削除する文字列\n",
    "  remove_list = ['\\n', '　', ' ']\n",
    "  for rem_word in remove_list:\n",
    "    text = text.replace(rem_word, '')\n",
    "  # 数字列を0に置換\n",
    "  text = re.sub('[0-9]+', '0', text)\n",
    "\n",
    "  return text"
   ]
  },
  {
   "cell_type": "code",
   "execution_count": 11,
   "metadata": {
    "id": "ljVSvq3ropqp"
   },
   "outputs": [],
   "source": [
    "df['TITLE'] = df['TITLE'].map(preprocessing)"
   ]
  },
  {
   "cell_type": "code",
   "execution_count": 12,
   "metadata": {
    "colab": {
     "base_uri": "https://localhost:8080/",
     "height": 289
    },
    "id": "ohpAh6TUovoK",
    "outputId": "eed4b86d-50fa-4130-df03-1c987f49869c"
   },
   "outputs": [
    {
     "data": {
      "text/html": [
       "<div>\n",
       "<style scoped>\n",
       "    .dataframe tbody tr th:only-of-type {\n",
       "        vertical-align: middle;\n",
       "    }\n",
       "\n",
       "    .dataframe tbody tr th {\n",
       "        vertical-align: top;\n",
       "    }\n",
       "\n",
       "    .dataframe thead th {\n",
       "        text-align: right;\n",
       "    }\n",
       "</style>\n",
       "<table border=\"1\" class=\"dataframe\">\n",
       "  <thead>\n",
       "    <tr style=\"text-align: right;\">\n",
       "      <th></th>\n",
       "      <th>TITLE</th>\n",
       "      <th>BODY</th>\n",
       "      <th>CATEGORY</th>\n",
       "    </tr>\n",
       "  </thead>\n",
       "  <tbody>\n",
       "    <tr>\n",
       "      <th>0</th>\n",
       "      <td>五輪観戦しながらエクササイズ!アルインコから室内フィットネス器具新発売【売れ筋チェック】</td>\n",
       "      <td>ロンドン五輪が開幕し、深夜にテレビ観戦して寝不足が続いている人も多いのではないだろうか。鍛え...</td>\n",
       "      <td>kaden-channel</td>\n",
       "    </tr>\n",
       "    <tr>\n",
       "      <th>1</th>\n",
       "      <td>次世代xbox0は年明けすぐに発表か?この冬買いたいゲーム機をおさらいしよう【話題】</td>\n",
       "      <td>噂のマイクロソフト、次世代Xbox 720発表時期が早まったようだ。2012年の１月にCon...</td>\n",
       "      <td>kaden-channel</td>\n",
       "    </tr>\n",
       "    <tr>\n",
       "      <th>2</th>\n",
       "      <td>【記事連動】黒と白、ガンマの調整をするためのオリジナルチャート【ビデオsalon】</td>\n",
       "      <td>ビデオサロン２月号P66-67の短期集中マスター\\n「ソニーFS100Jで学ぶピクチャープロ...</td>\n",
       "      <td>kaden-channel</td>\n",
       "    </tr>\n",
       "    <tr>\n",
       "      <th>3</th>\n",
       "      <td>日テレで出る出る詐欺!出演を告知していた中島騒動の占い師が登場せず【話題】</td>\n",
       "      <td>日本テレビで放送された「芸能★BANG」、これは気になる芸能人のゴシップをレポーターや芸能記...</td>\n",
       "      <td>kaden-channel</td>\n",
       "    </tr>\n",
       "    <tr>\n",
       "      <th>4</th>\n",
       "      <td>一度は働いてみたい?グーグル社のとにかくおしゃれなロンドンオフィスが話題に【話題】</td>\n",
       "      <td>グーグル社のロンドンオフィスがおしゃれだと話題になっている。グーグルではエンジニアに素晴らし...</td>\n",
       "      <td>kaden-channel</td>\n",
       "    </tr>\n",
       "  </tbody>\n",
       "</table>\n",
       "</div>"
      ],
      "text/plain": [
       "                                          TITLE  ...       CATEGORY\n",
       "0  五輪観戦しながらエクササイズ!アルインコから室内フィットネス器具新発売【売れ筋チェック】  ...  kaden-channel\n",
       "1    次世代xbox0は年明けすぐに発表か?この冬買いたいゲーム機をおさらいしよう【話題】  ...  kaden-channel\n",
       "2     【記事連動】黒と白、ガンマの調整をするためのオリジナルチャート【ビデオsalon】  ...  kaden-channel\n",
       "3         日テレで出る出る詐欺!出演を告知していた中島騒動の占い師が登場せず【話題】  ...  kaden-channel\n",
       "4     一度は働いてみたい?グーグル社のとにかくおしゃれなロンドンオフィスが話題に【話題】  ...  kaden-channel\n",
       "\n",
       "[5 rows x 3 columns]"
      ]
     },
     "execution_count": 12,
     "metadata": {
      "tags": []
     },
     "output_type": "execute_result"
    }
   ],
   "source": [
    "df.head()"
   ]
  },
  {
   "cell_type": "markdown",
   "metadata": {
    "id": "7wkQaL0GpCLC"
   },
   "source": [
    "## Mecabインストール"
   ]
  },
  {
   "cell_type": "code",
   "execution_count": null,
   "metadata": {
    "id": "8r9wrIl6oxFi"
   },
   "outputs": [],
   "source": [
    "!apt install aptitude\n",
    "!aptitude install mecab libmecab-dev mecab-ipadic-utf8 git make curl xz-utils file -y\n",
    "!pip install mecab-python3==0.7\n",
    "\n",
    "!git clone --depth 1 https://github.com/neologd/mecab-ipadic-neologd.git\n",
    "!echo yes | mecab-ipadic-neologd/bin/install-mecab-ipadic-neologd -n\n",
    "\n",
    "!sed -e \"s!/var/lib/mecab/dic/debian!/usr/lib/x86_64-linux-gnu/mecab/dic/mecab-ipadic-neologd!g\" /etc/mecabrc &gt; /etc/mecabrc.new\n",
    "!cp /etc/mecabrc /etc/mecabrc.org\n",
    "!cp /etc/mecabrc.new /etc/mecabrc"
   ]
  },
  {
   "cell_type": "markdown",
   "metadata": {
    "id": "KwALJcKmpq5t"
   },
   "source": [
    "## 分かち書き"
   ]
  },
  {
   "cell_type": "code",
   "execution_count": 14,
   "metadata": {
    "id": "oCMDZ8TlpGpj"
   },
   "outputs": [],
   "source": [
    "import MeCab\n",
    "\n",
    "def tokenize(text, target_pos=['名詞', '形容詞', '形容動詞', '動詞', '副詞']):\n",
    "  tokens = []\n",
    "  mecab = MeCab.Tagger ('-d /usr/lib/x86_64-linux-gnu/mecab/dic/mecab-ipadic-neologd')\n",
    "  mecab.parse('') #文字列がGCされるのを防ぐ\n",
    "  node = mecab.parseToNode(text)\n",
    "  while node:\n",
    "    #単語を取得\n",
    "    word = node.surface\n",
    "    #品詞を取得\n",
    "    pos = node.feature.split(\",\")[0]\n",
    "    # 名詞の場合のみ抽出\n",
    "    if pos in target_pos:\n",
    "      tokens.append(word)\n",
    "    #次の単語に進める\n",
    "    node = node.next\n",
    "  return tokens"
   ]
  },
  {
   "cell_type": "code",
   "execution_count": 77,
   "metadata": {
    "colab": {
     "base_uri": "https://localhost:8080/",
     "height": 374
    },
    "id": "su0bhEH8pxgm",
    "outputId": "ed05409f-c833-40ab-c5f8-a0c12d3810ee"
   },
   "outputs": [
    {
     "data": {
      "text/html": [
       "<div>\n",
       "<style scoped>\n",
       "    .dataframe tbody tr th:only-of-type {\n",
       "        vertical-align: middle;\n",
       "    }\n",
       "\n",
       "    .dataframe tbody tr th {\n",
       "        vertical-align: top;\n",
       "    }\n",
       "\n",
       "    .dataframe thead th {\n",
       "        text-align: right;\n",
       "    }\n",
       "</style>\n",
       "<table border=\"1\" class=\"dataframe\">\n",
       "  <thead>\n",
       "    <tr style=\"text-align: right;\">\n",
       "      <th></th>\n",
       "      <th>TITLE</th>\n",
       "      <th>BODY</th>\n",
       "      <th>CATEGORY</th>\n",
       "      <th>TITLE_WAKATI</th>\n",
       "      <th>CATEGORY_CODE</th>\n",
       "    </tr>\n",
       "  </thead>\n",
       "  <tbody>\n",
       "    <tr>\n",
       "      <th>0</th>\n",
       "      <td>五輪観戦しながらエクササイズ!アルインコから室内フィットネス器具新発売【売れ筋チェック】</td>\n",
       "      <td>ロンドン五輪が開幕し、深夜にテレビ観戦して寝不足が続いている人も多いのではないだろうか。鍛え...</td>\n",
       "      <td>kaden-channel</td>\n",
       "      <td>五輪 観戦 し エクササイズ アルインコ 室内 フィットネス 器具 新発売 売れ筋 チェック</td>\n",
       "      <td>0</td>\n",
       "    </tr>\n",
       "    <tr>\n",
       "      <th>1</th>\n",
       "      <td>次世代xbox0は年明けすぐに発表か?この冬買いたいゲーム機をおさらいしよう【話題】</td>\n",
       "      <td>噂のマイクロソフト、次世代Xbox 720発表時期が早まったようだ。2012年の１月にCon...</td>\n",
       "      <td>kaden-channel</td>\n",
       "      <td>次世代 xbox 0 年明け すぐ 発表 冬 買い ゲーム機 おさらい しよう 話題</td>\n",
       "      <td>0</td>\n",
       "    </tr>\n",
       "    <tr>\n",
       "      <th>2</th>\n",
       "      <td>【記事連動】黒と白、ガンマの調整をするためのオリジナルチャート【ビデオsalon】</td>\n",
       "      <td>ビデオサロン２月号P66-67の短期集中マスター\\n「ソニーFS100Jで学ぶピクチャープロ...</td>\n",
       "      <td>kaden-channel</td>\n",
       "      <td>記事 連動 黒 白 ガンマ 調整 する ため オリジナル チャート ビデオsalon</td>\n",
       "      <td>0</td>\n",
       "    </tr>\n",
       "    <tr>\n",
       "      <th>3</th>\n",
       "      <td>日テレで出る出る詐欺!出演を告知していた中島騒動の占い師が登場せず【話題】</td>\n",
       "      <td>日本テレビで放送された「芸能★BANG」、これは気になる芸能人のゴシップをレポーターや芸能記...</td>\n",
       "      <td>kaden-channel</td>\n",
       "      <td>日テレ 出る 出る 詐欺 出演 告知 し い 中島 騒動 占い師 登場 せ 話題</td>\n",
       "      <td>0</td>\n",
       "    </tr>\n",
       "    <tr>\n",
       "      <th>4</th>\n",
       "      <td>一度は働いてみたい?グーグル社のとにかくおしゃれなロンドンオフィスが話題に【話題】</td>\n",
       "      <td>グーグル社のロンドンオフィスがおしゃれだと話題になっている。グーグルではエンジニアに素晴らし...</td>\n",
       "      <td>kaden-channel</td>\n",
       "      <td>一 度 働い み グーグル 社 とにかく おしゃれ ロンドン オフィス 話題 話題</td>\n",
       "      <td>0</td>\n",
       "    </tr>\n",
       "  </tbody>\n",
       "</table>\n",
       "</div>"
      ],
      "text/plain": [
       "                                          TITLE  ... CATEGORY_CODE\n",
       "0  五輪観戦しながらエクササイズ!アルインコから室内フィットネス器具新発売【売れ筋チェック】  ...             0\n",
       "1    次世代xbox0は年明けすぐに発表か?この冬買いたいゲーム機をおさらいしよう【話題】  ...             0\n",
       "2     【記事連動】黒と白、ガンマの調整をするためのオリジナルチャート【ビデオsalon】  ...             0\n",
       "3         日テレで出る出る詐欺!出演を告知していた中島騒動の占い師が登場せず【話題】  ...             0\n",
       "4     一度は働いてみたい?グーグル社のとにかくおしゃれなロンドンオフィスが話題に【話題】  ...             0\n",
       "\n",
       "[5 rows x 5 columns]"
      ]
     },
     "execution_count": 77,
     "metadata": {
      "tags": []
     },
     "output_type": "execute_result"
    }
   ],
   "source": [
    "df['TITLE_WAKATI'] = df['TITLE'].map(lambda x: ' '.join(tokenize(x)))\n",
    "df.head()"
   ]
  },
  {
   "cell_type": "markdown",
   "metadata": {
    "id": "5HWVBZiVq_x8"
   },
   "source": [
    "## 目的変数をIDに変換"
   ]
  },
  {
   "cell_type": "code",
   "execution_count": 16,
   "metadata": {
    "colab": {
     "base_uri": "https://localhost:8080/",
     "height": 682
    },
    "id": "d96yuslfrFL-",
    "outputId": "bb437c01-5cb7-4ad3-87bd-8f41e340f9c8"
   },
   "outputs": [
    {
     "data": {
      "text/html": [
       "<div>\n",
       "<style scoped>\n",
       "    .dataframe tbody tr th:only-of-type {\n",
       "        vertical-align: middle;\n",
       "    }\n",
       "\n",
       "    .dataframe tbody tr th {\n",
       "        vertical-align: top;\n",
       "    }\n",
       "\n",
       "    .dataframe thead th {\n",
       "        text-align: right;\n",
       "    }\n",
       "</style>\n",
       "<table border=\"1\" class=\"dataframe\">\n",
       "  <thead>\n",
       "    <tr style=\"text-align: right;\">\n",
       "      <th></th>\n",
       "      <th>TITLE</th>\n",
       "      <th>BODY</th>\n",
       "      <th>CATEGORY</th>\n",
       "      <th>TITLE_WAKATI</th>\n",
       "      <th>CATEGORY_CODE</th>\n",
       "    </tr>\n",
       "  </thead>\n",
       "  <tbody>\n",
       "    <tr>\n",
       "      <th>0</th>\n",
       "      <td>五輪観戦しながらエクササイズ!アルインコから室内フィットネス器具新発売【売れ筋チェック】</td>\n",
       "      <td>ロンドン五輪が開幕し、深夜にテレビ観戦して寝不足が続いている人も多いのではないだろうか。鍛え...</td>\n",
       "      <td>kaden-channel</td>\n",
       "      <td>五輪 観戦 し エクササイズ アルインコ 室内 フィットネス 器具 新発売 売れ筋 チェック</td>\n",
       "      <td>0</td>\n",
       "    </tr>\n",
       "    <tr>\n",
       "      <th>777</th>\n",
       "      <td>ボディソニック座イス—ナップ・ファンソニックマンボウソファ【売れ筋チェック】</td>\n",
       "      <td>節電暖房器具としてコタツが注目されているが、長時間そこで温まるからこそ、座イスにもとことんこ...</td>\n",
       "      <td>kaden-channel</td>\n",
       "      <td>ボディソニック 座 イス ナップ・ファンソニックマンボウソファ 売れ筋 チェック</td>\n",
       "      <td>0</td>\n",
       "    </tr>\n",
       "    <tr>\n",
       "      <th>1554</th>\n",
       "      <td>ショコラファンの為のチョコレートの祭典「サロン・デュ・ショコラ」が開催</td>\n",
       "      <td>毎年パリで開催されショコラファンを魅了するチョコレートの祭典である「サロン・デュ・ショコラ...</td>\n",
       "      <td>peachy</td>\n",
       "      <td>ショコラ ファン 為 チョコレート 祭典 サロン・デュ・ショコラ 開催</td>\n",
       "      <td>1</td>\n",
       "    </tr>\n",
       "    <tr>\n",
       "      <th>2331</th>\n",
       "      <td>剛力彩芽が収録現場でハプニング「夢は宇宙人になること!」</td>\n",
       "      <td>『エイリアン』『グラディエーター』など映画史上において幾多の金字塔を打ち建ててきた、生きる...</td>\n",
       "      <td>movie-enter</td>\n",
       "      <td>剛力彩芽 収録 現場 ハプニング 夢 宇宙人 なる こと</td>\n",
       "      <td>3</td>\n",
       "    </tr>\n",
       "    <tr>\n",
       "      <th>3108</th>\n",
       "      <td>もし身近な男性がタイガーマスクだったら?</td>\n",
       "      <td>昨年のクリスマスに「伊達直人」名義で児童養護施設へランドセルが届けられた、という報道が発端に...</td>\n",
       "      <td>dokujo-tsushin</td>\n",
       "      <td>もし 身近 男性 タイガーマスク</td>\n",
       "      <td>4</td>\n",
       "    </tr>\n",
       "    <tr>\n",
       "      <th>3885</th>\n",
       "      <td>独女的ブックレビュー『「ゆるオタ君」と結婚しよう』</td>\n",
       "      <td>婚活に疲れ気味、あるいは「いい男がいない」「出会いがない」が口癖の独女にお薦めしたいのが、マ...</td>\n",
       "      <td>dokujo-tsushin</td>\n",
       "      <td>独女 的 ブックレビュー ゆるオタ 君 結婚 しよう</td>\n",
       "      <td>4</td>\n",
       "    </tr>\n",
       "    <tr>\n",
       "      <th>4662</th>\n",
       "      <td>0gbのbdxl対応ドライブが登場!最小・最軽量のポータブルドライブ</td>\n",
       "      <td>PC向けのポータブル外付けドライブとしては世界最小・最軽量を謳う製品がバッファローより登場。...</td>\n",
       "      <td>it-life-hack</td>\n",
       "      <td>0g b bdxl 対応 ドライブ 登場 最小 軽量 ポータブル ドライブ</td>\n",
       "      <td>5</td>\n",
       "    </tr>\n",
       "    <tr>\n",
       "      <th>5439</th>\n",
       "      <td>0.0ghzクアッドコアcpu搭載!超ハイスペックandroidタブレット「asustran...</td>\n",
       "      <td>ASUS Transformer Pad Infinity TF700Tを購入！ \\n\\nA...</td>\n",
       "      <td>smax</td>\n",
       "      <td>0 0g hz クアッドコア cpu 搭載 ハイスペック android タブレット asu...</td>\n",
       "      <td>6</td>\n",
       "    </tr>\n",
       "    <tr>\n",
       "      <th>6216</th>\n",
       "      <td>深澤真紀さん「“草食系男子”という言葉を作り申し訳なく思う」</td>\n",
       "      <td>“草食系男子”という言葉は、2009年度の新語・流行語大賞のトップテンに選ばれ、日本社会でも...</td>\n",
       "      <td>topic-news</td>\n",
       "      <td>深澤真紀 さん 草食系男子 言葉 作り 申し訳なく 思う</td>\n",
       "      <td>7</td>\n",
       "    </tr>\n",
       "    <tr>\n",
       "      <th>6993</th>\n",
       "      <td>【sportswatch】星野楽天、今オフに再び大型補強の噂</td>\n",
       "      <td>ペナントレースも大詰めを迎えているプロ野球界だが、盛り上がっている様子がいまいち伝わってこな...</td>\n",
       "      <td>sports-watch</td>\n",
       "      <td>sports watch 星野 楽天 オフ 再び 大型 補強 噂</td>\n",
       "      <td>8</td>\n",
       "    </tr>\n",
       "  </tbody>\n",
       "</table>\n",
       "</div>"
      ],
      "text/plain": [
       "                                                  TITLE  ... CATEGORY_CODE\n",
       "0          五輪観戦しながらエクササイズ!アルインコから室内フィットネス器具新発売【売れ筋チェック】  ...             0\n",
       "777              ボディソニック座イス—ナップ・ファンソニックマンボウソファ【売れ筋チェック】  ...             0\n",
       "1554                ショコラファンの為のチョコレートの祭典「サロン・デュ・ショコラ」が開催  ...             1\n",
       "2331                       剛力彩芽が収録現場でハプニング「夢は宇宙人になること!」  ...             3\n",
       "3108                               もし身近な男性がタイガーマスクだったら?  ...             4\n",
       "3885                          独女的ブックレビュー『「ゆるオタ君」と結婚しよう』  ...             4\n",
       "4662                 0gbのbdxl対応ドライブが登場!最小・最軽量のポータブルドライブ  ...             5\n",
       "5439  0.0ghzクアッドコアcpu搭載!超ハイスペックandroidタブレット「asustran...  ...             6\n",
       "6216                     深澤真紀さん「“草食系男子”という言葉を作り申し訳なく思う」  ...             7\n",
       "6993                     【sportswatch】星野楽天、今オフに再び大型補強の噂  ...             8\n",
       "\n",
       "[10 rows x 5 columns]"
      ]
     },
     "execution_count": 16,
     "metadata": {
      "tags": []
     },
     "output_type": "execute_result"
    }
   ],
   "source": [
    "ctgs_dict = {}\n",
    "for idx, ctg in enumerate(categories):\n",
    "  ctgs_dict[ctg] = idx\n",
    "\n",
    "df['CATEGORY_CODE'] = df['CATEGORY'].map(ctgs_dict)\n",
    "df[::777]"
   ]
  },
  {
   "cell_type": "markdown",
   "metadata": {
    "id": "xRrWJo2wqprP"
   },
   "source": [
    "## 単語埋め込みのために、学習・検証・テストに分割"
   ]
  },
  {
   "cell_type": "code",
   "execution_count": 17,
   "metadata": {
    "colab": {
     "base_uri": "https://localhost:8080/"
    },
    "id": "-2keh4_fp51I",
    "outputId": "3d7c81b8-018f-4489-a46b-0ee2c0a3125b"
   },
   "outputs": [
    {
     "name": "stdout",
     "output_type": "stream",
     "text": [
      "===学習データ===\n",
      "8    720\n",
      "3    697\n",
      "6    697\n",
      "5    697\n",
      "4    697\n",
      "0    692\n",
      "1    674\n",
      "7    617\n",
      "2    409\n",
      "Name: CATEGORY_CODE, dtype: int64\n",
      "===検証データ===\n",
      "8    90\n",
      "6    87\n",
      "5    87\n",
      "4    87\n",
      "3    87\n",
      "0    86\n",
      "1    85\n",
      "7    77\n",
      "2    52\n",
      "Name: CATEGORY_CODE, dtype: int64\n",
      "===評価データ===\n",
      "8    91\n",
      "6    87\n",
      "5    87\n",
      "4    87\n",
      "3    87\n",
      "0    87\n",
      "1    84\n",
      "7    77\n",
      "2    51\n",
      "Name: CATEGORY_CODE, dtype: int64\n"
     ]
    }
   ],
   "source": [
    "from sklearn.model_selection import train_test_split\n",
    "\n",
    "train, valid_test = train_test_split(df, test_size=0.2, random_state=144, stratify=df['CATEGORY_CODE'])\n",
    "valid, test = train_test_split(valid_test, test_size=0.5, random_state=144, stratify=valid_test['CATEGORY_CODE'])\n",
    "\n",
    "# 事例数の確認\n",
    "print('===学習データ===')\n",
    "print(train['CATEGORY_CODE'].value_counts())\n",
    "print('===検証データ===')\n",
    "print(valid['CATEGORY_CODE'].value_counts())\n",
    "print('===評価データ===')\n",
    "print(test['CATEGORY_CODE'].value_counts())"
   ]
  },
  {
   "cell_type": "markdown",
   "metadata": {
    "id": "Z2vfKvrHsay7"
   },
   "source": [
    "## Word2Vecによる単語埋め込み"
   ]
  },
  {
   "cell_type": "code",
   "execution_count": 18,
   "metadata": {
    "colab": {
     "base_uri": "https://localhost:8080/",
     "height": 419
    },
    "id": "l-HS0AbqqzVd",
    "outputId": "857a3cd6-db22-4ae7-a85f-3b67e412fa79"
   },
   "outputs": [
    {
     "data": {
      "text/html": [
       "<div>\n",
       "<style scoped>\n",
       "    .dataframe tbody tr th:only-of-type {\n",
       "        vertical-align: middle;\n",
       "    }\n",
       "\n",
       "    .dataframe tbody tr th {\n",
       "        vertical-align: top;\n",
       "    }\n",
       "\n",
       "    .dataframe thead th {\n",
       "        text-align: right;\n",
       "    }\n",
       "</style>\n",
       "<table border=\"1\" class=\"dataframe\">\n",
       "  <thead>\n",
       "    <tr style=\"text-align: right;\">\n",
       "      <th></th>\n",
       "      <th>TITLE_WAKATI</th>\n",
       "    </tr>\n",
       "  </thead>\n",
       "  <tbody>\n",
       "    <tr>\n",
       "      <th>3380</th>\n",
       "      <td>やっぱり お金持ち 結婚 し</td>\n",
       "    </tr>\n",
       "    <tr>\n",
       "      <th>456</th>\n",
       "      <td>連載 極 ト書き 一 行 カット 割り 0回 ビデオsalon</td>\n",
       "    </tr>\n",
       "    <tr>\n",
       "      <th>1890</th>\n",
       "      <td>注目 セレクトショップ バイヤー 聞く ファッション 業界 裏バナシ</td>\n",
       "    </tr>\n",
       "    <tr>\n",
       "      <th>5604</th>\n",
       "      <td>パナソニック 新しい ブランド 機能 高性能 foma スマホ elugavp 0 d 特集</td>\n",
       "    </tr>\n",
       "    <tr>\n",
       "      <th>2767</th>\n",
       "      <td>女子大生 体 張っ 東京国際映画祭 告知</td>\n",
       "    </tr>\n",
       "    <tr>\n",
       "      <th>...</th>\n",
       "      <td>...</td>\n",
       "    </tr>\n",
       "    <tr>\n",
       "      <th>4983</th>\n",
       "      <td>リアル 役立つ 美味しい ビール 注ぎ 方 マスター できる ビール 黄金 比率 iphon...</td>\n",
       "    </tr>\n",
       "    <tr>\n",
       "      <th>5548</th>\n",
       "      <td>ついに ios版 配信 開始 三面記事 的 ニュース サクッと チェック できる 三面 貴族...</td>\n",
       "    </tr>\n",
       "    <tr>\n",
       "      <th>4841</th>\n",
       "      <td>サムスン電子 nttドコモ 向け galaxynotesc 0 d and roi d0 0...</td>\n",
       "    </tr>\n",
       "    <tr>\n",
       "      <th>898</th>\n",
       "      <td>インタビュー 大井真理子 さん 経済 わかる 絶対 強い</td>\n",
       "    </tr>\n",
       "    <tr>\n",
       "      <th>2998</th>\n",
       "      <td>バイオハザード 超え 三銃士 ドイツ 初登場 0 位 獲得</td>\n",
       "    </tr>\n",
       "  </tbody>\n",
       "</table>\n",
       "<p>5900 rows × 1 columns</p>\n",
       "</div>"
      ],
      "text/plain": [
       "                                           TITLE_WAKATI\n",
       "3380                                     やっぱり お金持ち 結婚 し\n",
       "456                     連載 極 ト書き 一 行 カット 割り 0回 ビデオsalon\n",
       "1890                 注目 セレクトショップ バイヤー 聞く ファッション 業界 裏バナシ\n",
       "5604     パナソニック 新しい ブランド 機能 高性能 foma スマホ elugavp 0 d 特集\n",
       "2767                               女子大生 体 張っ 東京国際映画祭 告知\n",
       "...                                                 ...\n",
       "4983  リアル 役立つ 美味しい ビール 注ぎ 方 マスター できる ビール 黄金 比率 iphon...\n",
       "5548  ついに ios版 配信 開始 三面記事 的 ニュース サクッと チェック できる 三面 貴族...\n",
       "4841  サムスン電子 nttドコモ 向け galaxynotesc 0 d and roi d0 0...\n",
       "898                        インタビュー 大井真理子 さん 経済 わかる 絶対 強い\n",
       "2998                      バイオハザード 超え 三銃士 ドイツ 初登場 0 位 獲得\n",
       "\n",
       "[5900 rows x 1 columns]"
      ]
     },
     "execution_count": 18,
     "metadata": {
      "tags": []
     },
     "output_type": "execute_result"
    }
   ],
   "source": [
    "wakati = train[['TITLE_WAKATI']]\n",
    "wakati.to_csv('wakati.csv', sep='\\n', header=True, index=False)\n",
    "wakati"
   ]
  },
  {
   "cell_type": "code",
   "execution_count": null,
   "metadata": {
    "id": "273QL5Xvsjlv"
   },
   "outputs": [],
   "source": [
    "from gensim.models import word2vec\n",
    "import logging\n",
    "\n",
    "logging.basicConfig(format='%(asctime)s : %(levelname)s : %(message)s', level=logging.INFO)\n",
    "sentence_data = word2vec.LineSentence('wakati.csv')\n",
    "vectorizer = word2vec.Word2Vec(sentence_data,\n",
    "                         sg=1,        # Skip-gram\n",
    "                         size=200,    # 次元数\n",
    "                         min_count=1, # min_count回未満の単語を破棄\n",
    "                         window=3,    # 文脈の最大単語数\n",
    "                         hs=1,        # 階層ソフトマックス(ネガティブサンプリングするなら0)\n",
    "                         negative=5,  # ネガティブサンプリング\n",
    "                         iter=50      # Epoch数\n",
    "                         )"
   ]
  },
  {
   "cell_type": "code",
   "execution_count": 20,
   "metadata": {
    "colab": {
     "base_uri": "https://localhost:8080/"
    },
    "id": "cFOiPuhFsqB6",
    "outputId": "73f96f5f-518f-40ac-b78c-9665f3fa2d20"
   },
   "outputs": [
    {
     "name": "stderr",
     "output_type": "stream",
     "text": [
      "/usr/local/lib/python3.7/dist-packages/ipykernel_launcher.py:1: DeprecationWarning: Call to deprecated `most_similar` (Method will be removed in 4.0.0, use self.wv.most_similar() instead).\n",
      "  \"\"\"Entry point for launching an IPython kernel.\n",
      "2021-06-21 13:07:44,208 : INFO : precomputing L2-norms of word weight vectors\n"
     ]
    },
    {
     "data": {
      "text/plain": [
       "[('マイ・ビッグ・ファット・ウェディング', 0.49575042724609375),\n",
       " ('部', 0.4737938642501831),\n",
       " ('大杉漣', 0.4730076193809509),\n",
       " ('tiff', 0.4707191288471222),\n",
       " ('gogw', 0.46691828966140747),\n",
       " ('抜擢', 0.45512598752975464),\n",
       " ('すてき', 0.4541832506656647),\n",
       " ('綾瀬はるか', 0.4539102017879486),\n",
       " ('精子バンク', 0.4484458565711975),\n",
       " ('ねごと', 0.4477579593658447)]"
      ]
     },
     "execution_count": 20,
     "metadata": {
      "tags": []
     },
     "output_type": "execute_result"
    }
   ],
   "source": [
    "vectorizer.most_similar('映画')"
   ]
  },
  {
   "cell_type": "markdown",
   "metadata": {
    "id": "MKZUd149tA64"
   },
   "source": [
    "## 単語埋め込みから特徴ベクトル作成"
   ]
  },
  {
   "cell_type": "code",
   "execution_count": 21,
   "metadata": {
    "id": "whMZsjYAs2Wp"
   },
   "outputs": [],
   "source": [
    "import string\n",
    "import torch\n",
    "\n",
    "def transform_w2v(text):\n",
    "  table = str.maketrans(string.punctuation, ' '*len(string.punctuation))\n",
    "  words = text.translate(table).split()  # 記号をスペースに置換後、スペースで分割してリスト化\n",
    "  vec = [vectorizer[word] for word in words if word in vectorizer]  # 1語ずつベクトル化\n",
    "\n",
    "  return torch.tensor(sum(vec) / len(vec))  # 平均ベクトルをTensor型に変換して出力"
   ]
  },
  {
   "cell_type": "code",
   "execution_count": 22,
   "metadata": {
    "colab": {
     "base_uri": "https://localhost:8080/"
    },
    "id": "st77vENWtIMh",
    "outputId": "c49c3e62-9917-4823-ecdd-83d1858d7d9b"
   },
   "outputs": [
    {
     "name": "stderr",
     "output_type": "stream",
     "text": [
      "/usr/local/lib/python3.7/dist-packages/ipykernel_launcher.py:7: DeprecationWarning: Call to deprecated `__contains__` (Method will be removed in 4.0.0, use self.wv.__contains__() instead).\n",
      "  import sys\n",
      "/usr/local/lib/python3.7/dist-packages/ipykernel_launcher.py:7: DeprecationWarning: Call to deprecated `__getitem__` (Method will be removed in 4.0.0, use self.wv.__getitem__() instead).\n",
      "  import sys\n"
     ]
    },
    {
     "name": "stdout",
     "output_type": "stream",
     "text": [
      "torch.Size([5900, 200])\n",
      "tensor([[ 0.2483, -0.5716, -0.4387,  ...,  0.1442,  0.0408, -0.1703],\n",
      "        [ 0.4662,  0.0948,  0.3693,  ..., -0.0928,  0.4833, -0.0487],\n",
      "        [-0.0558, -0.3060, -0.2442,  ..., -0.1102, -0.2541, -0.0646],\n",
      "        ...,\n",
      "        [ 0.2470,  0.1478, -0.0585,  ..., -0.3463,  0.1212,  0.1382],\n",
      "        [-0.1154,  0.2898, -0.1179,  ...,  0.1844,  0.0927, -0.3289],\n",
      "        [ 0.0488, -0.5713,  0.1610,  ..., -0.3007,  0.1320,  0.1958]])\n"
     ]
    }
   ],
   "source": [
    "# 特徴ベクトルの作成\n",
    "X_train = torch.stack([transform_w2v(text) for text in train['TITLE_WAKATI']])\n",
    "X_valid = torch.stack([transform_w2v(text) for text in valid['TITLE_WAKATI']])\n",
    "X_test = torch.stack([transform_w2v(text) for text in test['TITLE_WAKATI']])\n",
    "\n",
    "print(X_train.size())\n",
    "print(X_train)"
   ]
  },
  {
   "cell_type": "markdown",
   "metadata": {
    "id": "50osXLQRzOPX"
   },
   "source": [
    "## ラベルベクトルの作成"
   ]
  },
  {
   "cell_type": "code",
   "execution_count": 23,
   "metadata": {
    "colab": {
     "base_uri": "https://localhost:8080/"
    },
    "id": "xan4JIMYysCv",
    "outputId": "0936b66a-9114-45bd-bf55-eb78f727fa64"
   },
   "outputs": [
    {
     "name": "stdout",
     "output_type": "stream",
     "text": [
      "torch.Size([5900])\n",
      "tensor([4, 0, 2,  ..., 6, 1, 3])\n"
     ]
    }
   ],
   "source": [
    "y_train = torch.tensor(train['CATEGORY_CODE'].values)\n",
    "y_valid = torch.tensor(valid['CATEGORY_CODE'].values)\n",
    "y_test = torch.tensor(test['CATEGORY_CODE'].values)\n",
    "\n",
    "print(y_train.size())\n",
    "print(y_train)"
   ]
  },
  {
   "cell_type": "markdown",
   "metadata": {
    "id": "9zV8XQCdz6SP"
   },
   "source": [
    "## 学習 => 予測 => 精度評価"
   ]
  },
  {
   "cell_type": "code",
   "execution_count": 62,
   "metadata": {
    "id": "7ZutRcfszadV"
   },
   "outputs": [],
   "source": [
    "from sklearn.metrics import confusion_matrix\n",
    "import seaborn as sns\n",
    "\n",
    "def learn_pred_accuracy(clf, train_x, train_y, valid_x, valid_y, test_x, test_y):\n",
    "  # 学習\n",
    "  clf.fit(train_x, train_y)\n",
    "  # 予測\n",
    "  predict_vy = clf.predict(valid_x)\n",
    "  predict_y = clf.predict(test_x)\n",
    "  # 正解率\n",
    "  print('検証True:', np.count_nonzero(predict_vy == valid_y))\n",
    "  print('検証False:', np.count_nonzero(predict_vy != valid_y))\n",
    "  print('検証正解率:', np.count_nonzero(predict_vy == valid_y) / len(valid_y))\n",
    "  print('テストTrue:', np.count_nonzero(predict_y == test_y))\n",
    "  print('テストFalse:', np.count_nonzero(predict_y != test_y))\n",
    "  print('テスト正解率:', np.count_nonzero(predict_y == test_y) / len(test_y))\n",
    "  # 様々な精度結果\n",
    "  print(classification_report(test_y, predict_y))\n",
    "  # 正解と予測データ\n",
    "  print('検証正解：', valid_y[:20])\n",
    "  print('検証予測：', predict_vy[:20])\n",
    "  print('test正解：', test_y[:20])\n",
    "  print('test予測：', predict_y[:20])\n",
    "  # 予測データのヒストグラム\n",
    "  fig, (ax1, ax2) = plt.subplots(1, 2, figsize=(10, 5))\n",
    "  sns.countplot(x=predict_vy, ax=ax1)\n",
    "  sns.countplot(x=predict_y, ax=ax2)\n",
    "  # 混合行列\n",
    "  fig, (ax1, ax2) = plt.subplots(1, 2, figsize=(17, 5))\n",
    "  cm = confusion_matrix(valid_y, predict_vy)\n",
    "  sns.heatmap(cm, cmap='jet', annot=True, ax=ax1)\n",
    "  cm = confusion_matrix(test_y, predict_y)\n",
    "  sns.heatmap(cm, cmap='jet', annot=True, ax=ax2)"
   ]
  },
  {
   "cell_type": "markdown",
   "metadata": {
    "id": "BAtTVWyH1zvo"
   },
   "source": [
    "## Naive Bayes"
   ]
  },
  {
   "cell_type": "code",
   "execution_count": 63,
   "metadata": {
    "colab": {
     "base_uri": "https://localhost:8080/",
     "height": 1000
    },
    "id": "E0Me4O7K0GOd",
    "outputId": "4fed1c18-61c2-4f7f-b64d-32cfe3097dca"
   },
   "outputs": [
    {
     "name": "stdout",
     "output_type": "stream",
     "text": [
      "検証True: 469\n",
      "検証False: 269\n",
      "検証正解率: 0.6355013550135501\n",
      "テストTrue: 480\n",
      "テストFalse: 258\n",
      "テスト正解率: 0.6504065040650406\n",
      "              precision    recall  f1-score   support\n",
      "\n",
      "           0       0.59      0.63      0.61        87\n",
      "           1       0.55      0.55      0.55        84\n",
      "           2       0.93      0.25      0.40        51\n",
      "           3       0.62      0.79      0.69        87\n",
      "           4       0.59      0.68      0.63        87\n",
      "           5       0.57      0.63      0.60        87\n",
      "           6       0.66      0.68      0.67        87\n",
      "           7       0.75      0.70      0.72        77\n",
      "           8       0.91      0.77      0.83        91\n",
      "\n",
      "    accuracy                           0.65       738\n",
      "   macro avg       0.68      0.63      0.63       738\n",
      "weighted avg       0.67      0.65      0.65       738\n",
      "\n",
      "検証正解： [3 1 0 1 5 6 1 8 4 5 0 5 6 0 4 0 4 6 8 7]\n",
      "検証予測： [3 1 0 1 5 6 4 8 3 3 5 5 6 0 4 0 4 6 8 7]\n",
      "test正解： [0 8 3 3 2 4 6 0 1 5 0 7 8 2 0 8 7 3 7 8]\n",
      "test予測： [0 8 3 3 1 4 6 0 3 3 4 7 8 3 5 8 7 3 7 3]\n"
     ]
    },
    {
     "data": {
      "image/png": "[encoded data removed]",
      "text/plain": [
       "<Figure size 720x360 with 2 Axes>"
      ]
     },
     "metadata": {
      "needs_background": "light",
      "tags": []
     },
     "output_type": "display_data"
    },
    {
     "data": {
      "image/png": "[encoded data removed]",
      "text/plain": [
       "<Figure size 1224x360 with 4 Axes>"
      ]
     },
     "metadata": {
      "needs_background": "light",
      "tags": []
     },
     "output_type": "display_data"
    }
   ],
   "source": [
    "import numpy as np\n",
    "from sklearn.naive_bayes import MultinomialNB\n",
    "from sklearn.metrics import classification_report\n",
    "from sklearn import preprocessing\n",
    "\n",
    "clf = MultinomialNB(alpha=.01)\n",
    "mm = preprocessing.MinMaxScaler()\n",
    "X_train_mm = mm.fit_transform(X_train)\n",
    "X_valid_mm = mm.transform(X_valid)\n",
    "X_test_mm = mm.transform(X_test)\n",
    "mm = preprocessing.MinMaxScaler()\n",
    "learn_pred_accuracy(clf, X_train_mm, y_train, X_valid_mm, np.array(y_valid), X_test_mm, np.array(y_test))"
   ]
  },
  {
   "cell_type": "markdown",
   "metadata": {
    "id": "k3MTODtp2UNK"
   },
   "source": [
    "## Decision Tree Classifier"
   ]
  },
  {
   "cell_type": "code",
   "execution_count": 64,
   "metadata": {
    "colab": {
     "base_uri": "https://localhost:8080/",
     "height": 1000
    },
    "id": "e73zA5oH11pu",
    "outputId": "31e320b6-6cca-4716-f7ff-18a8247a0376"
   },
   "outputs": [
    {
     "name": "stdout",
     "output_type": "stream",
     "text": [
      "検証True: 380\n",
      "検証False: 358\n",
      "検証正解率: 0.5149051490514905\n",
      "テストTrue: 366\n",
      "テストFalse: 372\n",
      "テスト正解率: 0.4959349593495935\n",
      "              precision    recall  f1-score   support\n",
      "\n",
      "           0       0.43      0.47      0.45        87\n",
      "           1       0.41      0.42      0.41        84\n",
      "           2       0.42      0.39      0.40        51\n",
      "           3       0.42      0.43      0.42        87\n",
      "           4       0.45      0.44      0.44        87\n",
      "           5       0.51      0.51      0.51        87\n",
      "           6       0.65      0.68      0.66        87\n",
      "           7       0.40      0.42      0.41        77\n",
      "           8       0.74      0.66      0.70        91\n",
      "\n",
      "    accuracy                           0.50       738\n",
      "   macro avg       0.49      0.49      0.49       738\n",
      "weighted avg       0.50      0.50      0.50       738\n",
      "\n",
      "検証正解： [3 1 0 1 5 6 1 8 4 5 0 5 6 0 4 0 4 6 8 7]\n",
      "検証予測： [2 0 0 3 3 6 3 8 3 0 5 5 0 8 1 0 3 6 8 7]\n",
      "test正解： [0 8 3 3 2 4 6 0 1 5 0 7 8 2 0 8 7 3 7 8]\n",
      "test予測： [2 8 0 3 1 4 6 0 4 3 7 5 7 0 6 8 5 4 7 7]\n"
     ]
    },
    {
     "data": {
      "image/png": "[encoded data removed]",
      "text/plain": [
       "<Figure size 720x360 with 2 Axes>"
      ]
     },
     "metadata": {
      "needs_background": "light",
      "tags": []
     },
     "output_type": "display_data"
    },
    {
     "data": {
      "image/png": "[encoded data removed]",
      "text/plain": [
       "<Figure size 1224x360 with 4 Axes>"
      ]
     },
     "metadata": {
      "needs_background": "light",
      "tags": []
     },
     "output_type": "display_data"
    }
   ],
   "source": [
    "from sklearn.tree import DecisionTreeClassifier\n",
    "\n",
    "clf = DecisionTreeClassifier(random_state=144)\n",
    "learn_pred_accuracy(clf, X_train, y_train, X_valid, np.array(y_valid), X_test, np.array(y_test))"
   ]
  },
  {
   "cell_type": "markdown",
   "metadata": {
    "id": "EMNjYOTn2cO8"
   },
   "source": [
    "## XGBoost"
   ]
  },
  {
   "cell_type": "code",
   "execution_count": 65,
   "metadata": {
    "colab": {
     "base_uri": "https://localhost:8080/",
     "height": 1000
    },
    "id": "OqKOQSBO2XUj",
    "outputId": "42f7c1e1-19df-4389-de37-0ba6c5681db3"
   },
   "outputs": [
    {
     "name": "stdout",
     "output_type": "stream",
     "text": [
      "検証True: 524\n",
      "検証False: 214\n",
      "検証正解率: 0.7100271002710027\n",
      "テストTrue: 519\n",
      "テストFalse: 219\n",
      "テスト正解率: 0.7032520325203252\n",
      "              precision    recall  f1-score   support\n",
      "\n",
      "           0       0.70      0.75      0.72        87\n",
      "           1       0.53      0.62      0.57        84\n",
      "           2       0.82      0.45      0.58        51\n",
      "           3       0.67      0.80      0.73        87\n",
      "           4       0.76      0.61      0.68        87\n",
      "           5       0.67      0.66      0.66        87\n",
      "           6       0.73      0.86      0.79        87\n",
      "           7       0.72      0.62      0.67        77\n",
      "           8       0.85      0.84      0.84        91\n",
      "\n",
      "    accuracy                           0.70       738\n",
      "   macro avg       0.72      0.69      0.69       738\n",
      "weighted avg       0.71      0.70      0.70       738\n",
      "\n",
      "検証正解： [3 1 0 1 5 6 1 8 4 5 0 5 6 0 4 0 4 6 8 7]\n",
      "検証予測： [3 3 0 0 5 6 1 8 1 3 5 5 6 0 4 0 1 6 8 7]\n",
      "test正解： [0 8 3 3 2 4 6 0 1 5 0 7 8 2 0 8 7 3 7 8]\n",
      "test予測： [0 8 3 3 1 4 6 0 1 3 4 5 8 3 6 8 7 3 7 8]\n"
     ]
    },
    {
     "data": {
      "image/png": "[encoded data removed]",
      "text/plain": [
       "<Figure size 720x360 with 2 Axes>"
      ]
     },
     "metadata": {
      "needs_background": "light",
      "tags": []
     },
     "output_type": "display_data"
    },
    {
     "data": {
      "image/png": "[encoded data removed]",
      "text/plain": [
       "<Figure size 1224x360 with 4 Axes>"
      ]
     },
     "metadata": {
      "needs_background": "light",
      "tags": []
     },
     "output_type": "display_data"
    }
   ],
   "source": [
    "from xgboost import XGBClassifier\n",
    "\n",
    "clf = XGBClassifier(random_state=144, objective='binary:logistic')\n",
    "learn_pred_accuracy(clf, X_train, y_train, X_valid, np.array(y_valid), X_test, np.array(y_test))"
   ]
  },
  {
   "cell_type": "markdown",
   "metadata": {
    "id": "BtSzV6i821kB"
   },
   "source": [
    "## ロジスティック回帰"
   ]
  },
  {
   "cell_type": "code",
   "execution_count": 66,
   "metadata": {
    "colab": {
     "base_uri": "https://localhost:8080/",
     "height": 1000
    },
    "id": "q7a3FSez2dm8",
    "outputId": "5a9e2bb4-f685-4d56-8289-9dd84ecb11a4"
   },
   "outputs": [
    {
     "name": "stdout",
     "output_type": "stream",
     "text": [
      "検証True: 539\n",
      "検証False: 199\n",
      "検証正解率: 0.7303523035230353\n",
      "テストTrue: 563\n",
      "テストFalse: 175\n",
      "テスト正解率: 0.7628726287262872\n",
      "              precision    recall  f1-score   support\n",
      "\n",
      "           0       0.73      0.79      0.76        87\n",
      "           1       0.71      0.67      0.69        84\n",
      "           2       0.67      0.55      0.60        51\n",
      "           3       0.75      0.83      0.79        87\n",
      "           4       0.75      0.69      0.72        87\n",
      "           5       0.72      0.79      0.75        87\n",
      "           6       0.84      0.91      0.87        87\n",
      "           7       0.79      0.70      0.74        77\n",
      "           8       0.85      0.84      0.84        91\n",
      "\n",
      "    accuracy                           0.76       738\n",
      "   macro avg       0.76      0.75      0.75       738\n",
      "weighted avg       0.76      0.76      0.76       738\n",
      "\n",
      "検証正解： [3 1 0 1 5 6 1 8 4 5 0 5 6 0 4 0 4 6 8 7]\n",
      "検証予測： [3 2 0 2 5 6 2 8 3 3 5 5 5 0 4 0 3 6 8 7]\n",
      "test正解： [0 8 3 3 2 4 6 0 1 5 0 7 8 2 0 8 7 3 7 8]\n",
      "test予測： [0 8 3 3 2 4 6 0 1 2 4 7 8 3 6 8 7 3 7 5]\n"
     ]
    },
    {
     "data": {
      "image/png": "[encoded data removed]",
      "text/plain": [
       "<Figure size 720x360 with 2 Axes>"
      ]
     },
     "metadata": {
      "needs_background": "light",
      "tags": []
     },
     "output_type": "display_data"
    },
    {
     "data": {
      "image/png": "[encoded data removed]",
      "text/plain": [
       "<Figure size 1224x360 with 4 Axes>"
      ]
     },
     "metadata": {
      "needs_background": "light",
      "tags": []
     },
     "output_type": "display_data"
    }
   ],
   "source": [
    "from sklearn.linear_model import LogisticRegression\n",
    "\n",
    "clf = LogisticRegression(random_state=144, max_iter=144000)\n",
    "learn_pred_accuracy(clf, X_train, y_train, X_valid, np.array(y_valid), X_test, np.array(y_test))"
   ]
  },
  {
   "cell_type": "markdown",
   "metadata": {
    "id": "Lf9RQtdZ3Kv7"
   },
   "source": [
    "## LSTM"
   ]
  },
  {
   "cell_type": "code",
   "execution_count": 120,
   "metadata": {
    "colab": {
     "base_uri": "https://localhost:8080/"
    },
    "id": "EGEDRKwf23OE",
    "outputId": "abfeccfa-9333-460b-83ec-aabc477b44fb"
   },
   "outputs": [
    {
     "name": "stdout",
     "output_type": "stream",
     "text": [
      "X_train: torch.Size([5900, 1, 200])\n",
      "X_valid: torch.Size([738, 1, 200])\n",
      "X_test: torch.Size([738, 1, 200])\n"
     ]
    }
   ],
   "source": [
    "# バッチサイズを1とする\n",
    "\"\"\"\n",
    "X_train = X_train.view(len(X_train), 1, -1)\n",
    "X_valid = X_valid.view(len(X_valid), 1, -1)\n",
    "X_test = X_test.view(len(X_test), 1, -1)\n",
    "\n",
    "print('X_train:', X_train.size())\n",
    "print('X_valid:', X_valid.size())\n",
    "print('X_test:', X_test.size())\n",
    "\"\"\""
   ]
  },
  {
   "cell_type": "code",
   "execution_count": 67,
   "metadata": {
    "id": "6q0IM3hh4Aq2"
   },
   "outputs": [],
   "source": [
    "import torch\n",
    "import torch.nn as nn\n",
    "\n",
    "# nn.Moduleを継承して新しいクラスを作る。決まり文句\n",
    "class LSTMClassifier(nn.Module):\n",
    "  # モデルで使う各ネットワークをコンストラクタで定義\n",
    "  def __init__(self, embedding_dim, hidden_dim, vocab_size, tagset_size):\n",
    "    # 親クラスのコンストラクタ。決まり文句\n",
    "    super(LSTMClassifier, self).__init__()\n",
    "    # 隠れ層の次元数。これは好きな値に設定しても行列計算の過程で出力には出てこないので。\n",
    "    self.hidden_dim = hidden_dim\n",
    "    # インプットの単語をベクトル化するために使う\n",
    "    self.word_embeddings = nn.Embedding(vocab_size, embedding_dim)\n",
    "    # LSTMの隠れ層。これ１つでOK。超便利。\n",
    "    self.lstm = nn.LSTM(embedding_dim, hidden_dim)\n",
    "    # LSTMの出力を受け取って全結合してsoftmaxに食わせるための１層のネットワーク\n",
    "    self.hidden2tag = nn.Linear(hidden_dim, tagset_size)\n",
    "    # softmaxのLog版。dim=0で列、dim=1で行方向を確率変換。\n",
    "    self.softmax = nn.LogSoftmax(dim=1)\n",
    "\n",
    "  # 順伝播処理はforward関数に記載\n",
    "  def forward(self, sentence):\n",
    "    # 文章内の各単語をベクトル化して出力。2次元のテンソル\n",
    "    embeds = self.word_embeddings(sentence)\n",
    "    # 2次元テンソルをLSTMに食わせられる様にviewで３次元テンソルにした上でLSTMへ流す。\n",
    "    # 上記で説明した様にmany to oneのタスクを解きたいので、第二戻り値だけ使う。\n",
    "    _, lstm_out = self.lstm(embeds.view(len(sentence), 1, -1))\n",
    "    # lstm_out[0]は３次元テンソルになってしまっているので2次元に調整して全結合。\n",
    "    tag_space = self.hidden2tag(lstm_out[0].view(-1, self.hidden_dim))\n",
    "    # softmaxに食わせて、確率として表現\n",
    "    tag_scores = self.softmax(tag_space)\n",
    "    return tag_scores"
   ]
  },
  {
   "cell_type": "code",
   "execution_count": 74,
   "metadata": {
    "colab": {
     "base_uri": "https://localhost:8080/"
    },
    "id": "N1r73AfG5ySu",
    "outputId": "a2d89a11-25f1-40a4-ba42-17acd2edff2e"
   },
   "outputs": [
    {
     "name": "stdout",
     "output_type": "stream",
     "text": [
      "epoch 0 \t loss 12321.468370690942\n",
      "epoch 1 \t loss 10722.16016432643\n",
      "epoch 2 \t loss 10180.66920878482\n",
      "epoch 3 \t loss 9999.271032893448\n",
      "epoch 4 \t loss 9816.490174383041\n",
      "epoch 5 \t loss 9666.416423010058\n",
      "epoch 6 \t loss 9529.215358903195\n",
      "epoch 7 \t loss 9403.004448020947\n",
      "epoch 8 \t loss 9286.00225551473\n",
      "epoch 9 \t loss 9173.927343069823\n",
      "done.\n"
     ]
    }
   ],
   "source": [
    "import torch.optim as optim\n",
    "\n",
    "# trainとtestに分割\n",
    "traindata, testdata = train_test_split(df, train_size=0.8)\n",
    "# 単語のベクトル次元数\n",
    "EMBEDDING_DIM = 10\n",
    "# 隠れ層の次元数\n",
    "HIDDEN_DIM = 128\n",
    "# データ全体の単語数\n",
    "VOCAB_SIZE = len(word2index)\n",
    "# 分類先のカテゴリの数\n",
    "TAG_SIZE = len(categories)\n",
    "# モデル宣言\n",
    "model = LSTMClassifier(EMBEDDING_DIM, HIDDEN_DIM, VOCAB_SIZE, TAG_SIZE)\n",
    "# 損失関数はNLLLoss()を使う。LogSoftmaxを使う時はこれを使うらしい。\n",
    "loss_function = nn.NLLLoss()\n",
    "# 最適化の手法はSGDで。lossの減りに時間かかるけど、一旦はこれを使う。\n",
    "optimizer = optim.SGD(model.parameters(), lr=0.01)\n",
    "\n",
    "def make_wakati(sentence):\n",
    "  # MeCabで分かち書き\n",
    "  mecab = MeCab.Tagger ('-d /usr/lib/x86_64-linux-gnu/mecab/dic/mecab-ipadic-neologd')\n",
    "  mecab.parse('') #文字列がGCされるのを防ぐ\n",
    "  sentence = mecab.parse(sentence)\n",
    "  # 半角全角英数字除去\n",
    "  sentence = re.sub(r'[0-9０-９a-zA-Zａ-ｚＡ-Ｚ]+', \" \", sentence)\n",
    "  # 記号もろもろ除去\n",
    "  sentence = re.sub(r'[\\．_－―─！＠＃＄％＾＆\\-‐|\\\\＊\\“（）＿■×+α※÷⇒—●★☆〇◎◆▼◇△□(：〜～＋=)／*&^%$#@!~`){}［］…\\[\\]\\\"\\'\\”\\’:;<>?＜＞〔〕〈〉？、。・,\\./『』【】「」→←○《》≪≫\\n\\u3000]+', \"\", sentence)\n",
    "  # スペースで区切って形態素の配列へ\n",
    "  wakati = sentence.split(\" \")\n",
    "  # 空の要素は削除\n",
    "  wakati = list(filter((\"\").__ne__, wakati))\n",
    "  return wakati\n",
    "\n",
    "# 単語ID辞書を作成する\n",
    "word2index = {}\n",
    "for title in df['TITLE']:\n",
    "  wakati = make_wakati(title)\n",
    "  for word in wakati:\n",
    "    if word in word2index: continue\n",
    "    word2index[word] = len(word2index)\n",
    "\n",
    "# 文章を単語IDの系列データに変換\n",
    "# PyTorchのLSTMのインプットになるデータなので、もちろんtensor型で\n",
    "def sentence2index(sentence):\n",
    "  wakati = make_wakati(sentence)\n",
    "  return torch.tensor([word2index[w] for w in wakati], dtype=torch.long)\n",
    "\n",
    "category2index = {}\n",
    "for cat in categories:\n",
    "  if cat in category2index: continue\n",
    "  category2index[cat] = len(category2index)\n",
    "\n",
    "def category2tensor(cat):\n",
    "  return torch.tensor([category2index[cat]], dtype=torch.long)\n",
    "\n",
    "# 各エポックの合計loss値を格納する\n",
    "losses = []\n",
    "# 10ループ回してみる。（バッチ化とかGPU使ってないので結構時間かかる...）\n",
    "for epoch in range(10):\n",
    "    all_loss = 0\n",
    "    for title, cat in zip(traindata['TITLE'], traindata['CATEGORY']):\n",
    "        # モデルが持ってる勾配の情報をリセット\n",
    "        model.zero_grad()\n",
    "        # 文章を単語IDの系列に変換（modelに食わせられる形に変換）\n",
    "        inputs = sentence2index(title)\n",
    "        # 順伝播の結果を受け取る\n",
    "        out = model(inputs)\n",
    "        # 正解カテゴリをテンソル化\n",
    "        answer = category2tensor(cat)\n",
    "        # 正解とのlossを計算\n",
    "        loss = loss_function(out, answer)\n",
    "        # 勾配をセット\n",
    "        loss.backward()\n",
    "        # 逆伝播でパラメータ更新\n",
    "        optimizer.step()\n",
    "        # lossを集計\n",
    "        all_loss += loss.item()\n",
    "    losses.append(all_loss)\n",
    "    print('epoch', epoch, '\\t' , 'loss', all_loss)\n",
    "print('done.')"
   ]
  },
  {
   "cell_type": "code",
   "execution_count": 75,
   "metadata": {
    "colab": {
     "base_uri": "https://localhost:8080/",
     "height": 282
    },
    "id": "rYtH134x6dZ7",
    "outputId": "4ad8abb9-6c04-4296-c19f-440a7cb12b48"
   },
   "outputs": [
    {
     "data": {
      "text/plain": [
       "[<matplotlib.lines.Line2D at 0x7f6dea89c4d0>]"
      ]
     },
     "execution_count": 75,
     "metadata": {
      "tags": []
     },
     "output_type": "execute_result"
    },
    {
     "data": {
      "image/png": "[encoded data removed]",
      "text/plain": [
       "<Figure size 432x288 with 1 Axes>"
      ]
     },
     "metadata": {
      "needs_background": "light",
      "tags": []
     },
     "output_type": "display_data"
    }
   ],
   "source": [
    "plt.plot(losses)"
   ]
  },
  {
   "cell_type": "code",
   "execution_count": 76,
   "metadata": {
    "colab": {
     "base_uri": "https://localhost:8080/"
    },
    "id": "7MVQ8q5F9CWy",
    "outputId": "dd2e4a78-775f-453d-b233-570b8c215a39"
   },
   "outputs": [
    {
     "name": "stdout",
     "output_type": "stream",
     "text": [
      "predict :  0.3970189701897019\n"
     ]
    }
   ],
   "source": [
    "# テストデータの母数計算\n",
    "test_num = len(testdata)\n",
    "# 正解の件数\n",
    "a = 0\n",
    "# 勾配自動計算OFF\n",
    "with torch.no_grad():\n",
    "    for title, category in zip(testdata['TITLE'], testdata['CATEGORY']):\n",
    "        # テストデータの予測\n",
    "        inputs = sentence2index(title)\n",
    "        out = model(inputs)\n",
    "\n",
    "        # outの一番大きい要素を予測結果をする\n",
    "        _, predict = torch.max(out, 1)\n",
    "\n",
    "        answer = category2tensor(category)\n",
    "        if predict == answer:\n",
    "            a += 1\n",
    "print(\"predict : \", a / test_num)"
   ]
  },
  {
   "cell_type": "code",
   "execution_count": null,
   "metadata": {
    "id": "6Cdw2zph-5qI"
   },
   "outputs": [],
   "source": []
  }
 ],
 "metadata": {
  "colab": {
   "collapsed_sections": [],
   "name": "livedoor_news_multi_classification.ipynb",
   "provenance": [],
   "toc_visible": true
  },
  "kernelspec": {
   "display_name": "Python 3",
   "language": "python",
   "name": "python3"
  },
  "language_info": {
   "codemirror_mode": {
    "name": "ipython",
    "version": 3
   },
   "file_extension": ".py",
   "mimetype": "text/x-python",
   "name": "python",
   "nbconvert_exporter": "python",
   "pygments_lexer": "ipython3",
   "version": "3.8.8"
  }
 },
 "nbformat": 4,
 "nbformat_minor": 1
}
