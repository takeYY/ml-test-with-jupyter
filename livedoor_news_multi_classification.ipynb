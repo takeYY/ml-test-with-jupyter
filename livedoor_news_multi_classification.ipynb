{
  "nbformat": 4,
  "nbformat_minor": 0,
  "metadata": {
    "colab": {
      "name": "livedoor_news_multi_classification.ipynb",
      "provenance": [],
      "collapsed_sections": [
        "E3ubo4FlGnGB",
        "zPx9RJ6LJtp8"
      ]
    },
    "kernelspec": {
      "name": "python3",
      "display_name": "Python 3"
    },
    "language_info": {
      "name": "python"
    }
  },
  "cells": [
    {
      "cell_type": "markdown",
      "metadata": {
        "id": "5mrmVSI2aqFV"
      },
      "source": [
        "## データ準備"
      ]
    },
    {
      "cell_type": "code",
      "metadata": {
        "id": "ef0wdwDUada8"
      },
      "source": [
        "import urllib.request\n",
        "import sys\n",
        "\n",
        "#ダウンロード\n",
        "url = \"https://www.rondhuit.com/download/ldcc-20140209.tar.gz\"\n",
        "urllib.request.urlretrieve(url,\"ldcc-20140209.tar.gz\")\n",
        "# 解凍\n",
        "!tar xvf ldcc-20140209.tar.gz"
      ],
      "execution_count": null,
      "outputs": []
    },
    {
      "cell_type": "code",
      "metadata": {
        "id": "kdbfo7APbm-e",
        "colab": {
          "base_uri": "https://localhost:8080/",
          "height": 343
        },
        "outputId": "262b64bf-2075-4ba0-c7a8-97061fe5d979"
      },
      "source": [
        "import pandas as pd\n",
        "import os\n",
        "from glob import glob\n",
        "import linecache\n",
        "\n",
        "# カテゴリを配列で取得\n",
        "categories = [name for name in os.listdir('text') if os.path.isdir(f'text/{name}')]\n",
        "print('カテゴリ：', categories)\n",
        "print('カテゴリ数：', len(categories))\n",
        "\n",
        "title_list = []\n",
        "body_list = []\n",
        "cat_list = []\n",
        "for category in categories:\n",
        "  path = f'text/{category}/*.txt'\n",
        "  files = glob(path)\n",
        "  for text_name in files:\n",
        "    # 各テキストの3行目をリストに追加（タイトル）\n",
        "    title_list.append(linecache.getline(text_name, 3))\n",
        "    # 各テキストの4〜10行目をリストに追加（本文）\n",
        "    body = ''\n",
        "    for body_line in range(4, 10):\n",
        "      body += linecache.getline(text_name, body_line)\n",
        "    body_list.append(body)\n",
        "    # 各テキストのカテゴリーをリストに追加\n",
        "    cat_list.append(category)\n",
        "\n",
        "cols = {'TITLE': title_list, 'BODY': body_list, 'CATEGORY': cat_list}\n",
        "df = pd.DataFrame(cols)\n",
        "df.head()"
      ],
      "execution_count": 2,
      "outputs": [
        {
          "output_type": "stream",
          "text": [
            "カテゴリ： ['kaden-channel', 'topic-news', 'peachy', 'movie-enter', 'livedoor-homme', 'smax', 'sports-watch', 'it-life-hack', 'dokujo-tsushin']\n",
            "カテゴリ数： 9\n"
          ],
          "name": "stdout"
        },
        {
          "output_type": "execute_result",
          "data": {
            "text/html": [
              "<div>\n",
              "<style scoped>\n",
              "    .dataframe tbody tr th:only-of-type {\n",
              "        vertical-align: middle;\n",
              "    }\n",
              "\n",
              "    .dataframe tbody tr th {\n",
              "        vertical-align: top;\n",
              "    }\n",
              "\n",
              "    .dataframe thead th {\n",
              "        text-align: right;\n",
              "    }\n",
              "</style>\n",
              "<table border=\"1\" class=\"dataframe\">\n",
              "  <thead>\n",
              "    <tr style=\"text-align: right;\">\n",
              "      <th></th>\n",
              "      <th>TITLE</th>\n",
              "      <th>BODY</th>\n",
              "      <th>CATEGORY</th>\n",
              "    </tr>\n",
              "  </thead>\n",
              "  <tbody>\n",
              "    <tr>\n",
              "      <th>0</th>\n",
              "      <td>iPhoneだけじゃない！！　サムスンの「GALAXY S II」もいきなり発火【話題】\\n</td>\n",
              "      <td>先日、オーストラリアでiPhoneが突然白い煙をあげたというニュースがあったが、サムスンの「...</td>\n",
              "      <td>kaden-channel</td>\n",
              "    </tr>\n",
              "    <tr>\n",
              "      <th>1</th>\n",
              "      <td>コンパスを使うのは年に１度？　iPhoneで一番不要な機能とは【話題】\\n</td>\n",
              "      <td>多くの機能があり便利なのがiPhoneだが、いらないと思った機能のひとつやふたつあるのではな...</td>\n",
              "      <td>kaden-channel</td>\n",
              "    </tr>\n",
              "    <tr>\n",
              "      <th>2</th>\n",
              "      <td>感想をシェアしながら映画鑑賞！　ニコニコ動画がワーナーと連携し映画配信【話題】\\n</td>\n",
              "      <td>動画に書き込んだコメントが流れることが特徴のニコニコ動画。ここに新しいコンテンツが登場した。...</td>\n",
              "      <td>kaden-channel</td>\n",
              "    </tr>\n",
              "    <tr>\n",
              "      <th>3</th>\n",
              "      <td>過去３００年の新聞をすべてアーカイブ！　大英国図書館が有料サービスを開始【話題】\\n</td>\n",
              "      <td>イギリスの由緒ある図書館、大英国図書館が18世紀前半以降の新聞記事アーカイブを公開する有償サ...</td>\n",
              "      <td>kaden-channel</td>\n",
              "    </tr>\n",
              "    <tr>\n",
              "      <th>4</th>\n",
              "      <td>視聴率が悪いのはネットのせい？　テレビ関係者のコメントにネットが反論【話題】\\n</td>\n",
              "      <td>俳優オダギリジョー主演のドラマ「家族のうた」（フジテレビ）の第３話の視聴率が発表された。数字...</td>\n",
              "      <td>kaden-channel</td>\n",
              "    </tr>\n",
              "  </tbody>\n",
              "</table>\n",
              "</div>"
            ],
            "text/plain": [
              "                                            TITLE  ...       CATEGORY\n",
              "0  iPhoneだけじゃない！！　サムスンの「GALAXY S II」もいきなり発火【話題】\\n  ...  kaden-channel\n",
              "1           コンパスを使うのは年に１度？　iPhoneで一番不要な機能とは【話題】\\n  ...  kaden-channel\n",
              "2       感想をシェアしながら映画鑑賞！　ニコニコ動画がワーナーと連携し映画配信【話題】\\n  ...  kaden-channel\n",
              "3      過去３００年の新聞をすべてアーカイブ！　大英国図書館が有料サービスを開始【話題】\\n  ...  kaden-channel\n",
              "4        視聴率が悪いのはネットのせい？　テレビ関係者のコメントにネットが反論【話題】\\n  ...  kaden-channel\n",
              "\n",
              "[5 rows x 3 columns]"
            ]
          },
          "metadata": {
            "tags": []
          },
          "execution_count": 2
        }
      ]
    },
    {
      "cell_type": "markdown",
      "metadata": {
        "id": "g77dtYFmh76c"
      },
      "source": [
        "## データを眺める"
      ]
    },
    {
      "cell_type": "code",
      "metadata": {
        "id": "WWuV1O3Xh9qU",
        "colab": {
          "base_uri": "https://localhost:8080/"
        },
        "outputId": "bd2f617c-dfb9-42b0-b97b-a54a8d048128"
      },
      "source": [
        "len(df)"
      ],
      "execution_count": 3,
      "outputs": [
        {
          "output_type": "execute_result",
          "data": {
            "text/plain": [
              "7376"
            ]
          },
          "metadata": {
            "tags": []
          },
          "execution_count": 3
        }
      ]
    },
    {
      "cell_type": "code",
      "metadata": {
        "id": "bCA9sq9liAxv",
        "colab": {
          "base_uri": "https://localhost:8080/"
        },
        "outputId": "734a2bf2-6eaf-4082-9ff6-fec3f775bdfe"
      },
      "source": [
        "df['CATEGORY'].value_counts()"
      ],
      "execution_count": 4,
      "outputs": [
        {
          "output_type": "execute_result",
          "data": {
            "text/plain": [
              "sports-watch      901\n",
              "it-life-hack      871\n",
              "movie-enter       871\n",
              "smax              871\n",
              "dokujo-tsushin    871\n",
              "kaden-channel     865\n",
              "peachy            843\n",
              "topic-news        771\n",
              "livedoor-homme    512\n",
              "Name: CATEGORY, dtype: int64"
            ]
          },
          "metadata": {
            "tags": []
          },
          "execution_count": 4
        }
      ]
    },
    {
      "cell_type": "code",
      "metadata": {
        "id": "nEwY1lnx0L-l",
        "colab": {
          "base_uri": "https://localhost:8080/",
          "height": 282
        },
        "outputId": "0a4f127d-1ce8-4671-c930-b5b961c24526"
      },
      "source": [
        "import matplotlib.pyplot as plt\n",
        "%matplotlib inline\n",
        "\n",
        "df['CATEGORY'].value_counts().plot(kind='barh')"
      ],
      "execution_count": 5,
      "outputs": [
        {
          "output_type": "execute_result",
          "data": {
            "text/plain": [
              "<matplotlib.axes._subplots.AxesSubplot at 0x7f3c624b2550>"
            ]
          },
          "metadata": {
            "tags": []
          },
          "execution_count": 5
        },
        {
          "output_type": "display_data",
          "data": {
            "image/png": "[encoded data removed]",
            "text/plain": [
              "<Figure size 432x288 with 1 Axes>"
            ]
          },
          "metadata": {
            "tags": [],
            "needs_background": "light"
          }
        }
      ]
    },
    {
      "cell_type": "code",
      "metadata": {
        "id": "nBpoTi9w1iPW"
      },
      "source": [
        "df['CATEGORY'].value_counts().plot.kde()"
      ],
      "execution_count": null,
      "outputs": []
    },
    {
      "cell_type": "markdown",
      "metadata": {
        "id": "xSwKcxWWhwlX"
      },
      "source": [
        "## 前処理"
      ]
    },
    {
      "cell_type": "code",
      "metadata": {
        "id": "Nr2U5mLheygJ"
      },
      "source": [
        "import re\n",
        "\n",
        "def preprocessing(text):\n",
        "  # 全角 => 半角\n",
        "  text = text.translate(str.maketrans({chr(0xFF01 + i): chr(0x21 + i) for i in range(94)}))\n",
        "  # 英語大文字を小文字化\n",
        "  text = text.lower()\n",
        "  # 削除する文字列\n",
        "  remove_list = ['\\n', '　', ' ']\n",
        "  for rem_word in remove_list:\n",
        "    text = text.replace(rem_word, '')\n",
        "  # 数字列を0に置換\n",
        "  text = re.sub('[0-9]+', '0', text)\n",
        "\n",
        "  return text"
      ],
      "execution_count": 6,
      "outputs": []
    },
    {
      "cell_type": "code",
      "metadata": {
        "id": "ljVSvq3ropqp"
      },
      "source": [
        "df['TITLE'] = df['TITLE'].map(preprocessing)"
      ],
      "execution_count": 7,
      "outputs": []
    },
    {
      "cell_type": "code",
      "metadata": {
        "id": "bji8x2IzvZDB"
      },
      "source": [
        "df['BODY'] = df['BODY'].map(preprocessing)"
      ],
      "execution_count": 8,
      "outputs": []
    },
    {
      "cell_type": "code",
      "metadata": {
        "id": "ohpAh6TUovoK",
        "colab": {
          "base_uri": "https://localhost:8080/",
          "height": 289
        },
        "outputId": "fdd027d7-71f0-43d3-bd1f-3e1edde0b5f3"
      },
      "source": [
        "df.head()"
      ],
      "execution_count": 9,
      "outputs": [
        {
          "output_type": "execute_result",
          "data": {
            "text/html": [
              "<div>\n",
              "<style scoped>\n",
              "    .dataframe tbody tr th:only-of-type {\n",
              "        vertical-align: middle;\n",
              "    }\n",
              "\n",
              "    .dataframe tbody tr th {\n",
              "        vertical-align: top;\n",
              "    }\n",
              "\n",
              "    .dataframe thead th {\n",
              "        text-align: right;\n",
              "    }\n",
              "</style>\n",
              "<table border=\"1\" class=\"dataframe\">\n",
              "  <thead>\n",
              "    <tr style=\"text-align: right;\">\n",
              "      <th></th>\n",
              "      <th>TITLE</th>\n",
              "      <th>BODY</th>\n",
              "      <th>CATEGORY</th>\n",
              "    </tr>\n",
              "  </thead>\n",
              "  <tbody>\n",
              "    <tr>\n",
              "      <th>0</th>\n",
              "      <td>iphoneだけじゃない!!サムスンの「galaxysii」もいきなり発火【話題】</td>\n",
              "      <td>先日、オーストラリアでiphoneが突然白い煙をあげたというニュースがあったが、サムスンの「...</td>\n",
              "      <td>kaden-channel</td>\n",
              "    </tr>\n",
              "    <tr>\n",
              "      <th>1</th>\n",
              "      <td>コンパスを使うのは年に0度?iphoneで一番不要な機能とは【話題】</td>\n",
              "      <td>多くの機能があり便利なのがiphoneだが、いらないと思った機能のひとつやふたつあるのではな...</td>\n",
              "      <td>kaden-channel</td>\n",
              "    </tr>\n",
              "    <tr>\n",
              "      <th>2</th>\n",
              "      <td>感想をシェアしながら映画鑑賞!ニコニコ動画がワーナーと連携し映画配信【話題】</td>\n",
              "      <td>動画に書き込んだコメントが流れることが特徴のニコニコ動画。ここに新しいコンテンツが登場した。...</td>\n",
              "      <td>kaden-channel</td>\n",
              "    </tr>\n",
              "    <tr>\n",
              "      <th>3</th>\n",
              "      <td>過去0年の新聞をすべてアーカイブ!大英国図書館が有料サービスを開始【話題】</td>\n",
              "      <td>イギリスの由緒ある図書館、大英国図書館が0世紀前半以降の新聞記事アーカイブを公開する有償サイ...</td>\n",
              "      <td>kaden-channel</td>\n",
              "    </tr>\n",
              "    <tr>\n",
              "      <th>4</th>\n",
              "      <td>視聴率が悪いのはネットのせい?テレビ関係者のコメントにネットが反論【話題】</td>\n",
              "      <td>俳優オダギリジョー主演のドラマ「家族のうた」(フジテレビ)の第0話の視聴率が発表された。数字...</td>\n",
              "      <td>kaden-channel</td>\n",
              "    </tr>\n",
              "  </tbody>\n",
              "</table>\n",
              "</div>"
            ],
            "text/plain": [
              "                                       TITLE  ...       CATEGORY\n",
              "0  iphoneだけじゃない!!サムスンの「galaxysii」もいきなり発火【話題】  ...  kaden-channel\n",
              "1         コンパスを使うのは年に0度?iphoneで一番不要な機能とは【話題】  ...  kaden-channel\n",
              "2     感想をシェアしながら映画鑑賞!ニコニコ動画がワーナーと連携し映画配信【話題】  ...  kaden-channel\n",
              "3      過去0年の新聞をすべてアーカイブ!大英国図書館が有料サービスを開始【話題】  ...  kaden-channel\n",
              "4      視聴率が悪いのはネットのせい?テレビ関係者のコメントにネットが反論【話題】  ...  kaden-channel\n",
              "\n",
              "[5 rows x 3 columns]"
            ]
          },
          "metadata": {
            "tags": []
          },
          "execution_count": 9
        }
      ]
    },
    {
      "cell_type": "markdown",
      "metadata": {
        "id": "7wkQaL0GpCLC"
      },
      "source": [
        "## Mecabインストール"
      ]
    },
    {
      "cell_type": "code",
      "metadata": {
        "id": "8r9wrIl6oxFi"
      },
      "source": [
        "!apt install aptitude\n",
        "!aptitude install mecab libmecab-dev mecab-ipadic-utf8 git make curl xz-utils file -y\n",
        "!pip install mecab-python3==0.7\n",
        "\n",
        "!git clone --depth 1 https://github.com/neologd/mecab-ipadic-neologd.git\n",
        "!echo yes | mecab-ipadic-neologd/bin/install-mecab-ipadic-neologd -n\n",
        "\n",
        "!sed -e \"s!/var/lib/mecab/dic/debian!/usr/lib/x86_64-linux-gnu/mecab/dic/mecab-ipadic-neologd!g\" /etc/mecabrc &gt; /etc/mecabrc.new\n",
        "!cp /etc/mecabrc /etc/mecabrc.org\n",
        "!cp /etc/mecabrc.new /etc/mecabrc"
      ],
      "execution_count": null,
      "outputs": []
    },
    {
      "cell_type": "markdown",
      "metadata": {
        "id": "KwALJcKmpq5t"
      },
      "source": [
        "## 分かち書き"
      ]
    },
    {
      "cell_type": "code",
      "metadata": {
        "id": "oCMDZ8TlpGpj"
      },
      "source": [
        "import MeCab\n",
        "\n",
        "def tokenize(text, target_pos=['名詞', '形容詞', '形容動詞', '動詞', '副詞']):\n",
        "  tokens = []\n",
        "  mecab = MeCab.Tagger ('-d /usr/lib/x86_64-linux-gnu/mecab/dic/mecab-ipadic-neologd')\n",
        "  mecab.parse('') #文字列がGCされるのを防ぐ\n",
        "  node = mecab.parseToNode(text)\n",
        "  while node:\n",
        "    #単語を取得\n",
        "    word = node.surface\n",
        "    #品詞を取得\n",
        "    pos = node.feature.split(\",\")[0]\n",
        "    # 名詞の場合のみ抽出\n",
        "    if pos in target_pos:\n",
        "      tokens.append(word)\n",
        "    #次の単語に進める\n",
        "    node = node.next\n",
        "  return tokens"
      ],
      "execution_count": 11,
      "outputs": []
    },
    {
      "cell_type": "code",
      "metadata": {
        "id": "su0bhEH8pxgm",
        "colab": {
          "base_uri": "https://localhost:8080/",
          "height": 374
        },
        "outputId": "56b0e997-4116-449a-8a5a-908e55346ee7"
      },
      "source": [
        "df['TITLE_WAKATI'] = df['TITLE'].map(lambda x: ' '.join(tokenize(x)))\n",
        "df['BODY_WAKATI'] = df['BODY'].map(lambda x: ' '.join(tokenize(x)))\n",
        "df.head()"
      ],
      "execution_count": 12,
      "outputs": [
        {
          "output_type": "execute_result",
          "data": {
            "text/html": [
              "<div>\n",
              "<style scoped>\n",
              "    .dataframe tbody tr th:only-of-type {\n",
              "        vertical-align: middle;\n",
              "    }\n",
              "\n",
              "    .dataframe tbody tr th {\n",
              "        vertical-align: top;\n",
              "    }\n",
              "\n",
              "    .dataframe thead th {\n",
              "        text-align: right;\n",
              "    }\n",
              "</style>\n",
              "<table border=\"1\" class=\"dataframe\">\n",
              "  <thead>\n",
              "    <tr style=\"text-align: right;\">\n",
              "      <th></th>\n",
              "      <th>TITLE</th>\n",
              "      <th>BODY</th>\n",
              "      <th>CATEGORY</th>\n",
              "      <th>TITLE_WAKATI</th>\n",
              "      <th>BODY_WAKATI</th>\n",
              "    </tr>\n",
              "  </thead>\n",
              "  <tbody>\n",
              "    <tr>\n",
              "      <th>0</th>\n",
              "      <td>iphoneだけじゃない!!サムスンの「galaxysii」もいきなり発火【話題】</td>\n",
              "      <td>先日、オーストラリアでiphoneが突然白い煙をあげたというニュースがあったが、サムスンの「...</td>\n",
              "      <td>kaden-channel</td>\n",
              "      <td>iphone サムスン galaxy sii いきなり 発火 話題</td>\n",
              "      <td>先日 オーストラリア iphone 突然 白い 煙 あげ ニュース あっ サムスン gala...</td>\n",
              "    </tr>\n",
              "    <tr>\n",
              "      <th>1</th>\n",
              "      <td>コンパスを使うのは年に0度?iphoneで一番不要な機能とは【話題】</td>\n",
              "      <td>多くの機能があり便利なのがiphoneだが、いらないと思った機能のひとつやふたつあるのではな...</td>\n",
              "      <td>kaden-channel</td>\n",
              "      <td>コンパス 使う の 年 0度 iphone 一番 不要 機能 話題</td>\n",
              "      <td>多く 機能 あり 便利 の iphone いら 思っ 機能 ひとつ ふたつ ある の ネット...</td>\n",
              "    </tr>\n",
              "    <tr>\n",
              "      <th>2</th>\n",
              "      <td>感想をシェアしながら映画鑑賞!ニコニコ動画がワーナーと連携し映画配信【話題】</td>\n",
              "      <td>動画に書き込んだコメントが流れることが特徴のニコニコ動画。ここに新しいコンテンツが登場した。...</td>\n",
              "      <td>kaden-channel</td>\n",
              "      <td>感想 シェア しながら 映画鑑賞 ニコニコ動画 ワーナー 連携 し 映画 配信 話題</td>\n",
              "      <td>動画 書き込ん コメント 流れる こと 特徴 ニコニコ動画 ここに 新しい コンテンツ 登場...</td>\n",
              "    </tr>\n",
              "    <tr>\n",
              "      <th>3</th>\n",
              "      <td>過去0年の新聞をすべてアーカイブ!大英国図書館が有料サービスを開始【話題】</td>\n",
              "      <td>イギリスの由緒ある図書館、大英国図書館が0世紀前半以降の新聞記事アーカイブを公開する有償サイ...</td>\n",
              "      <td>kaden-channel</td>\n",
              "      <td>過去 0 年 新聞 すべて アーカイブ 英国 図書館 有料 サービス 開始 話題</td>\n",
              "      <td>イギリス 由緒 ある 図書館 英国 図書館 0 世紀 前半 以降 新聞記事 アーカイブ 公開...</td>\n",
              "    </tr>\n",
              "    <tr>\n",
              "      <th>4</th>\n",
              "      <td>視聴率が悪いのはネットのせい?テレビ関係者のコメントにネットが反論【話題】</td>\n",
              "      <td>俳優オダギリジョー主演のドラマ「家族のうた」(フジテレビ)の第0話の視聴率が発表された。数字...</td>\n",
              "      <td>kaden-channel</td>\n",
              "      <td>視聴率 悪い の ネット せい テレビ 関係 者 コメント ネット 反論 話題</td>\n",
              "      <td>俳優 オダギリジョー 主演 ドラマ 家族のうた フジテレビ 0 話 視聴率 発表 さ れ 数...</td>\n",
              "    </tr>\n",
              "  </tbody>\n",
              "</table>\n",
              "</div>"
            ],
            "text/plain": [
              "                                       TITLE  ...                                        BODY_WAKATI\n",
              "0  iphoneだけじゃない!!サムスンの「galaxysii」もいきなり発火【話題】  ...  先日 オーストラリア iphone 突然 白い 煙 あげ ニュース あっ サムスン gala...\n",
              "1         コンパスを使うのは年に0度?iphoneで一番不要な機能とは【話題】  ...  多く 機能 あり 便利 の iphone いら 思っ 機能 ひとつ ふたつ ある の ネット...\n",
              "2     感想をシェアしながら映画鑑賞!ニコニコ動画がワーナーと連携し映画配信【話題】  ...  動画 書き込ん コメント 流れる こと 特徴 ニコニコ動画 ここに 新しい コンテンツ 登場...\n",
              "3      過去0年の新聞をすべてアーカイブ!大英国図書館が有料サービスを開始【話題】  ...  イギリス 由緒 ある 図書館 英国 図書館 0 世紀 前半 以降 新聞記事 アーカイブ 公開...\n",
              "4      視聴率が悪いのはネットのせい?テレビ関係者のコメントにネットが反論【話題】  ...  俳優 オダギリジョー 主演 ドラマ 家族のうた フジテレビ 0 話 視聴率 発表 さ れ 数...\n",
              "\n",
              "[5 rows x 5 columns]"
            ]
          },
          "metadata": {
            "tags": []
          },
          "execution_count": 12
        }
      ]
    },
    {
      "cell_type": "markdown",
      "metadata": {
        "id": "5HWVBZiVq_x8"
      },
      "source": [
        "## 目的変数をIDに変換"
      ]
    },
    {
      "cell_type": "code",
      "metadata": {
        "id": "d96yuslfrFL-",
        "colab": {
          "base_uri": "https://localhost:8080/",
          "height": 869
        },
        "outputId": "34c170d2-311d-4ec8-d095-4439842ea167"
      },
      "source": [
        "ctgs_dict = {}\n",
        "for idx, ctg in enumerate(categories):\n",
        "  ctgs_dict[ctg] = idx\n",
        "\n",
        "df['CATEGORY_CODE'] = df['CATEGORY'].map(ctgs_dict)\n",
        "df[::777]"
      ],
      "execution_count": 13,
      "outputs": [
        {
          "output_type": "execute_result",
          "data": {
            "text/html": [
              "<div>\n",
              "<style scoped>\n",
              "    .dataframe tbody tr th:only-of-type {\n",
              "        vertical-align: middle;\n",
              "    }\n",
              "\n",
              "    .dataframe tbody tr th {\n",
              "        vertical-align: top;\n",
              "    }\n",
              "\n",
              "    .dataframe thead th {\n",
              "        text-align: right;\n",
              "    }\n",
              "</style>\n",
              "<table border=\"1\" class=\"dataframe\">\n",
              "  <thead>\n",
              "    <tr style=\"text-align: right;\">\n",
              "      <th></th>\n",
              "      <th>TITLE</th>\n",
              "      <th>BODY</th>\n",
              "      <th>CATEGORY</th>\n",
              "      <th>TITLE_WAKATI</th>\n",
              "      <th>BODY_WAKATI</th>\n",
              "      <th>CATEGORY_CODE</th>\n",
              "    </tr>\n",
              "  </thead>\n",
              "  <tbody>\n",
              "    <tr>\n",
              "      <th>0</th>\n",
              "      <td>iphoneだけじゃない!!サムスンの「galaxysii」もいきなり発火【話題】</td>\n",
              "      <td>先日、オーストラリアでiphoneが突然白い煙をあげたというニュースがあったが、サムスンの「...</td>\n",
              "      <td>kaden-channel</td>\n",
              "      <td>iphone サムスン galaxy sii いきなり 発火 話題</td>\n",
              "      <td>先日 オーストラリア iphone 突然 白い 煙 あげ ニュース あっ サムスン gala...</td>\n",
              "      <td>0</td>\n",
              "    </tr>\n",
              "    <tr>\n",
              "      <th>777</th>\n",
              "      <td>「老後どうすんの?」さんまの質問にメッシが激怒!テレビが凍りついた瞬間【話題】</td>\n",
              "      <td>「toyotaプレゼンツfifaクラブワールドカップジャパン0」の決勝戦が0日、横浜国際総合...</td>\n",
              "      <td>kaden-channel</td>\n",
              "      <td>老後 どう すん さんま 質問 メッシ 激怒 テレビ 凍りつい 瞬間 話題</td>\n",
              "      <td>toyota プレゼンツ fifaクラブワールドカップ ジャパン 0 決勝戦 0 日 横浜国...</td>\n",
              "      <td>0</td>\n",
              "    </tr>\n",
              "    <tr>\n",
              "      <th>1554</th>\n",
              "      <td>少女時代の作曲家が人種差別的発言…少女時代にも批判が飛び火</td>\n",
              "      <td>少女時代の作曲家であるジェニー・ヒュンが人種差別的発言をしたと各メディアが伝えており、ネット...</td>\n",
              "      <td>topic-news</td>\n",
              "      <td>少女時代 作曲家 人種差別 的 発言 少女時代 批判 飛び火</td>\n",
              "      <td>少女時代 作曲家 ジェニー・ヒュン 人種差別 的 発言 し メディア 伝え おり ネット上 ...</td>\n",
              "      <td>1</td>\n",
              "    </tr>\n",
              "    <tr>\n",
              "      <th>2331</th>\n",
              "      <td>冬の女子会は特製「薬膳火鍋」に決定!美味しく食べてポッカポカ</td>\n",
              "      <td>本格的な寒さを感じるこの季節。「何が食べたい?」と聞かれたら、真っ先に思い浮かぶのはお鍋!ダ...</td>\n",
              "      <td>peachy</td>\n",
              "      <td>冬 女子会 特製 薬膳 火鍋 決定 美味しく 食べ ポッカポカ</td>\n",
              "      <td>本格 的 寒さ 感じる 季節 何 食べ 聞か れ 真っ先 思い 浮かぶ の お鍋 ダシ 効い...</td>\n",
              "      <td>2</td>\n",
              "    </tr>\n",
              "    <tr>\n",
              "      <th>3108</th>\n",
              "      <td>0万部突破「図書館戦争」シリーズが映画化、主題歌はbaseballbear「初恋」</td>\n",
              "      <td>「県庁おもてなし課」「フリーター、家を買う。」など、数々のベストセラーを送り出している有川浩...</td>\n",
              "      <td>movie-enter</td>\n",
              "      <td>0 万 部 突破 図書館戦争 シリーズ 映画化 主題歌 baseballbear 初恋</td>\n",
              "      <td>県庁おもてなし課 フリーター、家を買う。 数々 ベストセラー 送り出し いる 有川浩 ありか...</td>\n",
              "      <td>3</td>\n",
              "    </tr>\n",
              "    <tr>\n",
              "      <th>3885</th>\n",
              "      <td>こんなアプリもあったのか!スマートフォンがマウスになる、あると便利な「advancedtou...</td>\n",
              "      <td>スマートフォンのタッチパネルでパソコンを操作!youtubeをパソコンのフルスクリーンで楽し...</td>\n",
              "      <td>smax</td>\n",
              "      <td>アプリ あっ の スマートフォン マウス なる ある 便利 advancedtouchpad...</td>\n",
              "      <td>スマートフォン タッチパネル パソコン 操作 youtube パソコン フルスクリーン 楽し...</td>\n",
              "      <td>5</td>\n",
              "    </tr>\n",
              "    <tr>\n",
              "      <th>4662</th>\n",
              "      <td>kddi、au向けwimax対応android0.0ics搭載「urbanoprogress...</td>\n",
              "      <td>urbanoシリーズ初のスマートフォン!kddiおよび沖縄セルラーは0日、この夏に発売する予...</td>\n",
              "      <td>smax</td>\n",
              "      <td>kddi au 向け wimax 対応 and roi d0 0 ics 搭載 urbano...</td>\n",
              "      <td>urbanoシリーズ 初 スマートフォン kddi および 沖縄セルラー 0 日 夏 発売 ...</td>\n",
              "      <td>5</td>\n",
              "    </tr>\n",
              "    <tr>\n",
              "      <th>5439</th>\n",
              "      <td>【sportswatch】海老蔵殴打事件、元祖夜遊びjリーガーも“絡まれることはある”</td>\n",
              "      <td>歌舞伎俳優、市川海老蔵殴打事件で、傷害の疑いで逮捕された伊藤リオン容疑者。サッカーでは、jリ...</td>\n",
              "      <td>sports-watch</td>\n",
              "      <td>sports watch 海老蔵 殴打 事件 元祖 夜遊び jリーガー 絡ま れる こと ある</td>\n",
              "      <td>歌舞伎俳優 市川海老蔵 殴打 事件 傷害 疑い 逮捕 さ れ 伊藤リオン 容疑者 サッカー ...</td>\n",
              "      <td>6</td>\n",
              "    </tr>\n",
              "    <tr>\n",
              "      <th>6216</th>\n",
              "      <td>アナタはまだブラウザのブックマーク?ブックマーク管理はライフリストがオススメ</td>\n",
              "      <td>最近ネットサーフィンをする際にもっぱら利用しているのが「ライフリスト」というサイトだ。この「...</td>\n",
              "      <td>it-life-hack</td>\n",
              "      <td>アナタ まだ ブラウザ ブックマーク ブックマーク 管理 ライフ リスト オススメ</td>\n",
              "      <td>最近 ネットサーフィン する 際 もっぱら 利用 し いる の ライフ リスト サイト ライ...</td>\n",
              "      <td>7</td>\n",
              "    </tr>\n",
              "    <tr>\n",
              "      <th>6993</th>\n",
              "      <td>となりの会社のおやつ事情</td>\n",
              "      <td>デザイン会社に勤務するマスミさん(0歳)の楽しみは、0ヶ月に0回の「社内おやつ」の買い出し。...</td>\n",
              "      <td>dokujo-tsushin</td>\n",
              "      <td>となり 会社 おやつ 事情</td>\n",
              "      <td>デザイン会社 勤務 する マスミ さん 0歳 楽しみ 0 ヶ月 0回 社内 おやつ 買い出し...</td>\n",
              "      <td>8</td>\n",
              "    </tr>\n",
              "  </tbody>\n",
              "</table>\n",
              "</div>"
            ],
            "text/plain": [
              "                                                  TITLE  ... CATEGORY_CODE\n",
              "0             iphoneだけじゃない!!サムスンの「galaxysii」もいきなり発火【話題】  ...             0\n",
              "777             「老後どうすんの?」さんまの質問にメッシが激怒!テレビが凍りついた瞬間【話題】  ...             0\n",
              "1554                      少女時代の作曲家が人種差別的発言…少女時代にも批判が飛び火  ...             1\n",
              "2331                     冬の女子会は特製「薬膳火鍋」に決定!美味しく食べてポッカポカ  ...             2\n",
              "3108          0万部突破「図書館戦争」シリーズが映画化、主題歌はbaseballbear「初恋」  ...             3\n",
              "3885  こんなアプリもあったのか!スマートフォンがマウスになる、あると便利な「advancedtou...  ...             5\n",
              "4662  kddi、au向けwimax対応android0.0ics搭載「urbanoprogress...  ...             5\n",
              "5439        【sportswatch】海老蔵殴打事件、元祖夜遊びjリーガーも“絡まれることはある”  ...             6\n",
              "6216             アナタはまだブラウザのブックマーク?ブックマーク管理はライフリストがオススメ  ...             7\n",
              "6993                                       となりの会社のおやつ事情  ...             8\n",
              "\n",
              "[10 rows x 6 columns]"
            ]
          },
          "metadata": {
            "tags": []
          },
          "execution_count": 13
        }
      ]
    },
    {
      "cell_type": "markdown",
      "metadata": {
        "id": "xRrWJo2wqprP"
      },
      "source": [
        "## 学習・検証・評価データに分割"
      ]
    },
    {
      "cell_type": "code",
      "metadata": {
        "id": "-2keh4_fp51I",
        "colab": {
          "base_uri": "https://localhost:8080/"
        },
        "outputId": "09d4512d-c04e-484b-8f27-f9631dec0ab6"
      },
      "source": [
        "from sklearn.model_selection import train_test_split\n",
        "\n",
        "train, valid_test = train_test_split(df, test_size=0.2, random_state=144, stratify=df['CATEGORY_CODE'])\n",
        "valid, test = train_test_split(valid_test, test_size=0.5, random_state=144, stratify=valid_test['CATEGORY_CODE'])\n",
        "\n",
        "# 事例数の確認\n",
        "print('===学習データ===')\n",
        "print(train['CATEGORY_CODE'].value_counts())\n",
        "print('===検証データ===')\n",
        "print(valid['CATEGORY_CODE'].value_counts())\n",
        "print('===評価データ===')\n",
        "print(test['CATEGORY_CODE'].value_counts())"
      ],
      "execution_count": 14,
      "outputs": [
        {
          "output_type": "stream",
          "text": [
            "===学習データ===\n",
            "6    720\n",
            "7    697\n",
            "3    697\n",
            "5    697\n",
            "8    697\n",
            "0    692\n",
            "2    674\n",
            "1    617\n",
            "4    409\n",
            "Name: CATEGORY_CODE, dtype: int64\n",
            "===検証データ===\n",
            "6    90\n",
            "8    87\n",
            "7    87\n",
            "5    87\n",
            "3    87\n",
            "0    86\n",
            "2    85\n",
            "1    77\n",
            "4    52\n",
            "Name: CATEGORY_CODE, dtype: int64\n",
            "===評価データ===\n",
            "6    91\n",
            "8    87\n",
            "7    87\n",
            "5    87\n",
            "3    87\n",
            "0    87\n",
            "2    84\n",
            "1    77\n",
            "4    51\n",
            "Name: CATEGORY_CODE, dtype: int64\n"
          ],
          "name": "stdout"
        }
      ]
    },
    {
      "cell_type": "markdown",
      "metadata": {
        "id": "Z2vfKvrHsay7"
      },
      "source": [
        "## Word2Vecによる単語埋め込み"
      ]
    },
    {
      "cell_type": "code",
      "metadata": {
        "id": "l-HS0AbqqzVd",
        "colab": {
          "base_uri": "https://localhost:8080/",
          "height": 419
        },
        "outputId": "ac7a2f98-56ac-4f47-e6a7-e77ad4f4ae9e"
      },
      "source": [
        "wakati = train[['BODY_WAKATI']]\n",
        "wakati.to_csv('wakati.csv', sep='\\n', header=True, index=False)\n",
        "wakati"
      ],
      "execution_count": 15,
      "outputs": [
        {
          "output_type": "execute_result",
          "data": {
            "text/html": [
              "<div>\n",
              "<style scoped>\n",
              "    .dataframe tbody tr th:only-of-type {\n",
              "        vertical-align: middle;\n",
              "    }\n",
              "\n",
              "    .dataframe tbody tr th {\n",
              "        vertical-align: top;\n",
              "    }\n",
              "\n",
              "    .dataframe thead th {\n",
              "        text-align: right;\n",
              "    }\n",
              "</style>\n",
              "<table border=\"1\" class=\"dataframe\">\n",
              "  <thead>\n",
              "    <tr style=\"text-align: right;\">\n",
              "      <th></th>\n",
              "      <th>BODY_WAKATI</th>\n",
              "    </tr>\n",
              "  </thead>\n",
              "  <tbody>\n",
              "    <tr>\n",
              "      <th>4921</th>\n",
              "      <td>0 日 0 連敗 中 現在 0 位 低迷 し いる 阪神タイガース 中でも 打率 0 割 き...</td>\n",
              "    </tr>\n",
              "    <tr>\n",
              "      <th>6263</th>\n",
              "      <td>通常 excel 列 表示 a b c よう なっ いる 人 パソコン 使う とき 特定 フ...</td>\n",
              "    </tr>\n",
              "    <tr>\n",
              "      <th>6273</th>\n",
              "      <td>以前 筆者 記事 予想 し よう アップル wwdc 0 合わせ 発表 し 新しい macb...</td>\n",
              "    </tr>\n",
              "    <tr>\n",
              "      <th>6209</th>\n",
              "      <td>いま クラウド 型 ストレージ サービス デファクトスタンダード 言う サービス 言える 普...</td>\n",
              "    </tr>\n",
              "    <tr>\n",
              "      <th>1376</th>\n",
              "      <td>0 日 一部メディア フジテレビ 情報番組 知りたがり! 金曜 レギュラー 出演 する こと...</td>\n",
              "    </tr>\n",
              "    <tr>\n",
              "      <th>...</th>\n",
              "      <td>...</td>\n",
              "    </tr>\n",
              "    <tr>\n",
              "      <th>394</th>\n",
              "      <td>0 月 android版 先行 登場 し livedoorニュース 無料 公式 アプリ 三面...</td>\n",
              "    </tr>\n",
              "    <tr>\n",
              "      <th>5323</th>\n",
              "      <td>0 日 茨城ゴルフ倶楽部 開幕 する ワールド レディス サロンパスカップ 宮里藍 有村智恵...</td>\n",
              "    </tr>\n",
              "    <tr>\n",
              "      <th>3968</th>\n",
              "      <td>ゼロ 始める スマートフォン ジャストシステム 0 日 android 向け 文字入力 シス...</td>\n",
              "    </tr>\n",
              "    <tr>\n",
              "      <th>2016</th>\n",
              "      <td>昔ながらの 懐かしい 商店街 賑わい みせる 千歳烏山 地元 人々 愛さ れる 街 雰囲気 ...</td>\n",
              "    </tr>\n",
              "    <tr>\n",
              "      <th>1084</th>\n",
              "      <td>0 日 札幌市 マンション 住む 0 代 姉妹 遺体 発見 さ れ 問題 姉 0 年 半 前...</td>\n",
              "    </tr>\n",
              "  </tbody>\n",
              "</table>\n",
              "<p>5900 rows × 1 columns</p>\n",
              "</div>"
            ],
            "text/plain": [
              "                                            BODY_WAKATI\n",
              "4921  0 日 0 連敗 中 現在 0 位 低迷 し いる 阪神タイガース 中でも 打率 0 割 き...\n",
              "6263  通常 excel 列 表示 a b c よう なっ いる 人 パソコン 使う とき 特定 フ...\n",
              "6273  以前 筆者 記事 予想 し よう アップル wwdc 0 合わせ 発表 し 新しい macb...\n",
              "6209  いま クラウド 型 ストレージ サービス デファクトスタンダード 言う サービス 言える 普...\n",
              "1376  0 日 一部メディア フジテレビ 情報番組 知りたがり! 金曜 レギュラー 出演 する こと...\n",
              "...                                                 ...\n",
              "394   0 月 android版 先行 登場 し livedoorニュース 無料 公式 アプリ 三面...\n",
              "5323  0 日 茨城ゴルフ倶楽部 開幕 する ワールド レディス サロンパスカップ 宮里藍 有村智恵...\n",
              "3968  ゼロ 始める スマートフォン ジャストシステム 0 日 android 向け 文字入力 シス...\n",
              "2016  昔ながらの 懐かしい 商店街 賑わい みせる 千歳烏山 地元 人々 愛さ れる 街 雰囲気 ...\n",
              "1084  0 日 札幌市 マンション 住む 0 代 姉妹 遺体 発見 さ れ 問題 姉 0 年 半 前...\n",
              "\n",
              "[5900 rows x 1 columns]"
            ]
          },
          "metadata": {
            "tags": []
          },
          "execution_count": 15
        }
      ]
    },
    {
      "cell_type": "code",
      "metadata": {
        "id": "273QL5Xvsjlv"
      },
      "source": [
        "from gensim.models import word2vec\n",
        "import logging\n",
        "\n",
        "logging.basicConfig(format='%(asctime)s : %(levelname)s : %(message)s', level=logging.INFO)\n",
        "sentence_data = word2vec.LineSentence('wakati.csv')\n",
        "vectorizer = word2vec.Word2Vec(sentence_data,\n",
        "                         sg=1,        # Skip-gram\n",
        "                         size=300,    # 次元数\n",
        "                         min_count=5, # min_count回未満の単語を破棄\n",
        "                         window=3,    # 文脈の最大単語数\n",
        "                         hs=0,        # 階層ソフトマックス(ネガティブサンプリングするなら0)\n",
        "                         negative=5,  # ネガティブサンプリング\n",
        "                         iter=100      # Epoch数\n",
        "                         )"
      ],
      "execution_count": null,
      "outputs": []
    },
    {
      "cell_type": "code",
      "metadata": {
        "id": "cFOiPuhFsqB6",
        "colab": {
          "base_uri": "https://localhost:8080/"
        },
        "outputId": "3f61a4cc-bf08-438b-9072-bf9ee5b2f771"
      },
      "source": [
        "vectorizer.most_similar('映画')"
      ],
      "execution_count": 17,
      "outputs": [
        {
          "output_type": "stream",
          "text": [
            "/usr/local/lib/python3.7/dist-packages/ipykernel_launcher.py:1: DeprecationWarning: Call to deprecated `most_similar` (Method will be removed in 4.0.0, use self.wv.most_similar() instead).\n",
            "  \"\"\"Entry point for launching an IPython kernel.\n",
            "2021-06-28 14:29:05,700 : INFO : precomputing L2-norms of word weight vectors\n"
          ],
          "name": "stderr"
        },
        {
          "output_type": "execute_result",
          "data": {
            "text/plain": [
              "[('指輪をはめたい', 0.41661548614501953),\n",
              " ('キャプテン・アメリカ/ザ・ファースト・アベンジャー', 0.4006258547306061),\n",
              " ('完成披露試写会', 0.39491355419158936),\n",
              " ('フライトナイト/恐怖の夜', 0.3894181251525879),\n",
              " ('themovie', 0.38604772090911865),\n",
              " ('グラディエーター', 0.38051730394363403),\n",
              " ('カンタ', 0.3731711506843567),\n",
              " ('新作映画', 0.3722120225429535),\n",
              " ('全国公開', 0.36964526772499084),\n",
              " ('新劇場版', 0.3658650517463684)]"
            ]
          },
          "metadata": {
            "tags": []
          },
          "execution_count": 17
        }
      ]
    },
    {
      "cell_type": "code",
      "metadata": {
        "id": "ixlF-BcA25Lo"
      },
      "source": [
        "# メソッド一覧\n",
        "import inspect\n",
        "for x in inspect.getmembers(vectorizer, inspect.ismethod):\n",
        "  print(x[0])"
      ],
      "execution_count": null,
      "outputs": []
    },
    {
      "cell_type": "markdown",
      "metadata": {
        "id": "E3ubo4FlGnGB"
      },
      "source": [
        "## 学習済みWord2Vec（ChiVe）による単語埋め込み"
      ]
    },
    {
      "cell_type": "code",
      "metadata": {
        "colab": {
          "base_uri": "https://localhost:8080/"
        },
        "id": "4uhyql2XGqtv",
        "outputId": "1e03f175-6aae-4dd0-f2e8-b2cadaa21081"
      },
      "source": [
        "import gensim\n",
        "import urllib.request\n",
        "import sys\n",
        "\n",
        "#ダウンロード\n",
        "url = \"https://sudachi.s3-ap-northeast-1.amazonaws.com/chive/chive-1.2-mc90_gensim.tar.gz\"  #ファイルのURLを指定\n",
        "urllib.request.urlretrieve(url,\"chive.tar.gz\")\n",
        "#解凍\n",
        "!tar -zxvf chive.tar.gz\n",
        "\n",
        "vectorizer = gensim.models.KeyedVectors.load(\"chive-1.2-mc90_gensim/chive-1.2-mc90.kv\")"
      ],
      "execution_count": 37,
      "outputs": [
        {
          "output_type": "stream",
          "text": [
            "chive-1.2-mc90_gensim/\n",
            "chive-1.2-mc90_gensim/LICENSE\n",
            "chive-1.2-mc90_gensim/README.md\n",
            "chive-1.2-mc90_gensim/chive-1.2-mc90.kv.vectors.npy\n",
            "chive-1.2-mc90_gensim/chive-1.2-mc90.kv\n"
          ],
          "name": "stdout"
        },
        {
          "output_type": "stream",
          "text": [
            "2021-06-28 05:33:43,878 : INFO : loading Word2VecKeyedVectors object from chive-1.2-mc90_gensim/chive-1.2-mc90.kv\n",
            "2021-06-28 05:33:45,992 : INFO : loading vectors from chive-1.2-mc90_gensim/chive-1.2-mc90.kv.vectors.npy with mmap=None\n",
            "2021-06-28 05:33:48,292 : INFO : setting ignored attribute vectors_norm to None\n",
            "2021-06-28 05:33:48,294 : INFO : loaded chive-1.2-mc90_gensim/chive-1.2-mc90.kv\n"
          ],
          "name": "stderr"
        }
      ]
    },
    {
      "cell_type": "code",
      "metadata": {
        "colab": {
          "base_uri": "https://localhost:8080/"
        },
        "id": "HlLXYxjCHChX",
        "outputId": "667d066e-4ae8-4683-855c-2cb6b9b948de"
      },
      "source": [
        "vectorizer.most_similar('映画')"
      ],
      "execution_count": 38,
      "outputs": [
        {
          "output_type": "stream",
          "text": [
            "2021-06-28 05:34:07,993 : INFO : precomputing L2-norms of word weight vectors\n"
          ],
          "name": "stderr"
        },
        {
          "output_type": "execute_result",
          "data": {
            "text/plain": [
              "[('邦画', 0.7711033821105957),\n",
              " ('予告編', 0.7660966515541077),\n",
              " ('主演', 0.7257440090179443),\n",
              " ('ハリウッド', 0.7001019716262817),\n",
              " ('映画館', 0.6935902237892151),\n",
              " ('映画界', 0.689943253993988),\n",
              " ('劇映画', 0.6886698007583618),\n",
              " ('話題作', 0.684718132019043),\n",
              " ('映画化', 0.681873083114624),\n",
              " ('上映', 0.6801760196685791)]"
            ]
          },
          "metadata": {
            "tags": []
          },
          "execution_count": 38
        }
      ]
    },
    {
      "cell_type": "markdown",
      "metadata": {
        "id": "zPx9RJ6LJtp8"
      },
      "source": [
        "## TF-IDFによる単語埋め込み"
      ]
    },
    {
      "cell_type": "code",
      "metadata": {
        "id": "_dDFF34aJ46A"
      },
      "source": [
        "from sklearn.feature_extraction.text import TfidfVectorizer\n",
        "\n",
        "vectorizer = TfidfVectorizer(tokenizer=tokenize, ngram_range=(1, 2))"
      ],
      "execution_count": 64,
      "outputs": []
    },
    {
      "cell_type": "code",
      "metadata": {
        "colab": {
          "base_uri": "https://localhost:8080/"
        },
        "id": "kb-UoJ5gKYDX",
        "outputId": "f1186b5d-1253-4e2f-f8f4-07890c2e32f3"
      },
      "source": [
        "# 特徴ベクトルの作成\n",
        "X_train = vectorizer.fit_transform(train['BODY_WAKATI'])\n",
        "X_valid = vectorizer.transform(valid['BODY_WAKATI'])\n",
        "X_test = vectorizer.transform(test['BODY_WAKATI'])\n",
        "\n",
        "print(X_train.shape)"
      ],
      "execution_count": 65,
      "outputs": [
        {
          "output_type": "stream",
          "text": [
            "(5900, 376849)\n"
          ],
          "name": "stdout"
        }
      ]
    },
    {
      "cell_type": "markdown",
      "metadata": {
        "id": "MKZUd149tA64"
      },
      "source": [
        "## 単語埋め込みから特徴ベクトル作成"
      ]
    },
    {
      "cell_type": "code",
      "metadata": {
        "id": "whMZsjYAs2Wp"
      },
      "source": [
        "import string\n",
        "import torch\n",
        "import numpy as np\n",
        "\n",
        "def transform_w2v(text):\n",
        "  table = str.maketrans(string.punctuation, ' '*len(string.punctuation))\n",
        "  words = text.translate(table).split()  # 記号をスペースに置換後、スペースで分割してリスト化\n",
        "  vec = [vectorizer[word] for word in words if word in vectorizer]  # 1語ずつベクトル化\n",
        "\n",
        "  if len(vec) != 0:\n",
        "    return torch.tensor(sum(vec) / len(vec))\n",
        "  else:\n",
        "    return torch.tensor(np.zeros(300))"
      ],
      "execution_count": 18,
      "outputs": []
    },
    {
      "cell_type": "code",
      "metadata": {
        "id": "st77vENWtIMh",
        "colab": {
          "base_uri": "https://localhost:8080/"
        },
        "outputId": "62681526-ccc1-4132-c6f6-e0531a54d8f2"
      },
      "source": [
        "# 特徴ベクトルの作成\n",
        "X_train = torch.stack([transform_w2v(text) for text in train['BODY_WAKATI']])\n",
        "X_valid = torch.stack([transform_w2v(text) for text in valid['BODY_WAKATI']])\n",
        "X_test = torch.stack([transform_w2v(text) for text in test['BODY_WAKATI']])\n",
        "\n",
        "print(X_train.size())\n",
        "print(X_train)"
      ],
      "execution_count": 19,
      "outputs": [
        {
          "output_type": "stream",
          "text": [
            "/usr/local/lib/python3.7/dist-packages/ipykernel_launcher.py:8: DeprecationWarning: Call to deprecated `__contains__` (Method will be removed in 4.0.0, use self.wv.__contains__() instead).\n",
            "  \n",
            "/usr/local/lib/python3.7/dist-packages/ipykernel_launcher.py:8: DeprecationWarning: Call to deprecated `__getitem__` (Method will be removed in 4.0.0, use self.wv.__getitem__() instead).\n",
            "  \n"
          ],
          "name": "stderr"
        },
        {
          "output_type": "stream",
          "text": [
            "torch.Size([5900, 300])\n",
            "tensor([[ 0.0844,  0.0349,  0.0153,  ..., -0.0372, -0.0199,  0.1348],\n",
            "        [ 0.1903, -0.1339, -0.1134,  ...,  0.1252, -0.0053,  0.1227],\n",
            "        [ 0.1564, -0.1329, -0.1911,  ...,  0.0554,  0.0260,  0.1537],\n",
            "        ...,\n",
            "        [-0.0384, -0.1945, -0.2214,  ...,  0.0775,  0.0442,  0.1336],\n",
            "        [ 0.0520, -0.0418,  0.1076,  ...,  0.0302, -0.0546,  0.2851],\n",
            "        [-0.0090, -0.1007, -0.0882,  ..., -0.0492,  0.0349,  0.1201]])\n"
          ],
          "name": "stdout"
        }
      ]
    },
    {
      "cell_type": "markdown",
      "metadata": {
        "id": "50osXLQRzOPX"
      },
      "source": [
        "## ラベルベクトルの作成"
      ]
    },
    {
      "cell_type": "code",
      "metadata": {
        "id": "xan4JIMYysCv",
        "colab": {
          "base_uri": "https://localhost:8080/"
        },
        "outputId": "b7216139-b1ba-4c12-b878-5ea05c7ee4cb"
      },
      "source": [
        "y_train = torch.tensor(train['CATEGORY_CODE'].values)\n",
        "y_valid = torch.tensor(valid['CATEGORY_CODE'].values)\n",
        "y_test = torch.tensor(test['CATEGORY_CODE'].values)\n",
        "\n",
        "print(y_train.size())\n",
        "print(y_train)"
      ],
      "execution_count": 20,
      "outputs": [
        {
          "output_type": "stream",
          "text": [
            "torch.Size([5900])\n",
            "tensor([6, 7, 7,  ..., 5, 2, 1])\n"
          ],
          "name": "stdout"
        }
      ]
    },
    {
      "cell_type": "markdown",
      "metadata": {
        "id": "9zV8XQCdz6SP"
      },
      "source": [
        "## 学習 => 予測 => 精度評価"
      ]
    },
    {
      "cell_type": "code",
      "metadata": {
        "id": "7ZutRcfszadV"
      },
      "source": [
        "from sklearn.metrics import confusion_matrix\n",
        "import seaborn as sns\n",
        "\n",
        "def learn_pred_accuracy(clf, train_x, train_y, valid_x, valid_y, test_x, test_y):\n",
        "  # 学習\n",
        "  clf.fit(train_x, train_y)\n",
        "  # 予測\n",
        "  predict_vy = clf.predict(valid_x)\n",
        "  predict_y = clf.predict(test_x)\n",
        "  # 正解率\n",
        "  print('検証True:', np.count_nonzero(predict_vy == valid_y))\n",
        "  print('検証False:', np.count_nonzero(predict_vy != valid_y))\n",
        "  print('検証正解率:', np.count_nonzero(predict_vy == valid_y) / len(valid_y))\n",
        "  print('テストTrue:', np.count_nonzero(predict_y == test_y))\n",
        "  print('テストFalse:', np.count_nonzero(predict_y != test_y))\n",
        "  print('テスト正解率:', np.count_nonzero(predict_y == test_y) / len(test_y))\n",
        "  # 様々な精度結果\n",
        "  print(classification_report(test_y, predict_y))\n",
        "  # 正解と予測データ\n",
        "  print('検証正解：', valid_y[:20])\n",
        "  print('検証予測：', predict_vy[:20])\n",
        "  print('test正解：', test_y[:20])\n",
        "  print('test予測：', predict_y[:20])\n",
        "  # DF化\n",
        "  ## valid\n",
        "  pred_df = pd.DataFrame({'data': predict_vy, 'type': 'pred'})\n",
        "  true_df = pd.DataFrame({'data': valid_y, 'type': 'true'})\n",
        "  valid_df = pd.concat([true_df, pred_df]).reset_index(drop=True)\n",
        "  ## test\n",
        "  pred_df = pd.DataFrame({'data': predict_y, 'type': 'pred'})\n",
        "  true_df = pd.DataFrame({'data': test_y, 'type': 'true'})\n",
        "  test_df = pd.concat([true_df, pred_df]).reset_index(drop=True)\n",
        "  # 予測データのヒストグラム\n",
        "  fig, (ax1, ax2) = plt.subplots(1, 2, figsize=(20, 7))\n",
        "  sns.countplot(data=valid_df, x='data', hue='type', ax=ax1)\n",
        "  sns.countplot(data=test_df, x='data', hue='type', ax=ax2)\n",
        "  # 混合行列\n",
        "  fig, (ax1, ax2) = plt.subplots(1, 2, figsize=(17, 5))\n",
        "  cm = confusion_matrix(valid_y, predict_vy)\n",
        "  p1 = sns.heatmap(cm, cmap='jet', annot=True, ax=ax1)\n",
        "  p1.set(xlabel='predict', ylabel='true')\n",
        "  cm = confusion_matrix(test_y, predict_y)\n",
        "  p2 = sns.heatmap(cm, cmap='jet', annot=True, ax=ax2)\n",
        "  p2.set(xlabel='predict', ylabel='true')"
      ],
      "execution_count": 21,
      "outputs": []
    },
    {
      "cell_type": "markdown",
      "metadata": {
        "id": "BAtTVWyH1zvo"
      },
      "source": [
        "## Naive Bayes"
      ]
    },
    {
      "cell_type": "code",
      "metadata": {
        "id": "E0Me4O7K0GOd",
        "colab": {
          "base_uri": "https://localhost:8080/",
          "height": 1000
        },
        "outputId": "12ac07a8-354b-481e-b280-39bfbec9899f"
      },
      "source": [
        "import numpy as np\n",
        "from sklearn.naive_bayes import MultinomialNB\n",
        "from sklearn.metrics import classification_report\n",
        "from sklearn import preprocessing\n",
        "\n",
        "clf = MultinomialNB(alpha=.01)\n",
        "mm = preprocessing.MinMaxScaler()\n",
        "try:\n",
        "  X_train_mm = mm.fit_transform(X_train)\n",
        "except:\n",
        "  X_train_mm = X_train\n",
        "try:\n",
        "  X_valid_mm = mm.transform(X_valid)\n",
        "except:\n",
        "  X_valid_mm = X_valid\n",
        "try:\n",
        "  X_test_mm = mm.transform(X_test)\n",
        "except:\n",
        "  X_test_mm = X_test\n",
        "learn_pred_accuracy(clf, X_train_mm, y_train, X_valid_mm, np.array(y_valid), X_test_mm, np.array(y_test))"
      ],
      "execution_count": 22,
      "outputs": [
        {
          "output_type": "stream",
          "text": [
            "検証True: 497\n",
            "検証False: 241\n",
            "検証正解率: 0.6734417344173442\n",
            "テストTrue: 540\n",
            "テストFalse: 198\n",
            "テスト正解率: 0.7317073170731707\n",
            "              precision    recall  f1-score   support\n",
            "\n",
            "           0       0.57      0.67      0.62        87\n",
            "           1       0.77      0.86      0.81        77\n",
            "           2       0.73      0.71      0.72        84\n",
            "           3       0.84      0.91      0.87        87\n",
            "           4       1.00      0.14      0.24        51\n",
            "           5       0.79      0.72      0.75        87\n",
            "           6       0.91      0.87      0.89        91\n",
            "           7       0.65      0.61      0.63        87\n",
            "           8       0.63      0.86      0.73        87\n",
            "\n",
            "    accuracy                           0.73       738\n",
            "   macro avg       0.77      0.71      0.70       738\n",
            "weighted avg       0.75      0.73      0.72       738\n",
            "\n",
            "検証正解： [0 3 4 7 3 6 3 0 7 2 6 2 6 4 8 1 5 6 7 7]\n",
            "検証予測： [6 3 2 3 3 6 3 0 7 7 6 2 6 0 8 7 0 0 7 7]\n",
            "test正解： [4 7 6 6 1 0 6 3 7 1 3 8 0 0 2 8 4 3 5 6]\n",
            "test予測： [3 7 6 6 1 0 6 3 7 1 3 8 0 0 2 8 7 3 5 6]\n"
          ],
          "name": "stdout"
        },
        {
          "output_type": "display_data",
          "data": {
            "image/png": "[encoded data removed]",
            "text/plain": [
              "<Figure size 1440x504 with 2 Axes>"
            ]
          },
          "metadata": {
            "tags": [],
            "needs_background": "light"
          }
        },
        {
          "output_type": "display_data",
          "data": {
            "image/png": "[encoded data removed]",
            "text/plain": [
              "<Figure size 1224x360 with 4 Axes>"
            ]
          },
          "metadata": {
            "tags": [],
            "needs_background": "light"
          }
        }
      ]
    },
    {
      "cell_type": "markdown",
      "metadata": {
        "id": "k3MTODtp2UNK"
      },
      "source": [
        "## Decision Tree Classifier"
      ]
    },
    {
      "cell_type": "code",
      "metadata": {
        "id": "e73zA5oH11pu",
        "colab": {
          "base_uri": "https://localhost:8080/",
          "height": 1000
        },
        "outputId": "a232128b-0e75-433f-e55d-2be1bd65bea3"
      },
      "source": [
        "from sklearn.tree import DecisionTreeClassifier\n",
        "\n",
        "clf = DecisionTreeClassifier(random_state=144)\n",
        "learn_pred_accuracy(clf, X_train, y_train, X_valid, np.array(y_valid), X_test, np.array(y_test))"
      ],
      "execution_count": 23,
      "outputs": [
        {
          "output_type": "stream",
          "text": [
            "検証True: 381\n",
            "検証False: 357\n",
            "検証正解率: 0.516260162601626\n",
            "テストTrue: 405\n",
            "テストFalse: 333\n",
            "テスト正解率: 0.5487804878048781\n",
            "              precision    recall  f1-score   support\n",
            "\n",
            "           0       0.34      0.38      0.36        87\n",
            "           1       0.61      0.62      0.62        77\n",
            "           2       0.48      0.51      0.50        84\n",
            "           3       0.63      0.60      0.62        87\n",
            "           4       0.29      0.33      0.31        51\n",
            "           5       0.74      0.66      0.70        87\n",
            "           6       0.75      0.67      0.71        91\n",
            "           7       0.52      0.49      0.51        87\n",
            "           8       0.55      0.59      0.57        87\n",
            "\n",
            "    accuracy                           0.55       738\n",
            "   macro avg       0.55      0.54      0.54       738\n",
            "weighted avg       0.56      0.55      0.55       738\n",
            "\n",
            "検証正解： [0 3 4 7 3 6 3 0 7 2 6 2 6 4 8 1 5 6 7 7]\n",
            "検証予測： [0 3 0 5 0 6 5 2 7 5 6 0 6 4 0 7 1 6 2 1]\n",
            "test正解： [4 7 6 6 1 0 6 3 7 1 3 8 0 0 2 8 4 3 5 6]\n",
            "test予測： [3 0 6 6 1 5 1 8 7 1 3 2 3 8 0 8 7 3 5 6]\n"
          ],
          "name": "stdout"
        },
        {
          "output_type": "display_data",
          "data": {
            "image/png": "[encoded data removed]",
            "text/plain": [
              "<Figure size 1440x504 with 2 Axes>"
            ]
          },
          "metadata": {
            "tags": [],
            "needs_background": "light"
          }
        },
        {
          "output_type": "display_data",
          "data": {
            "image/png": "[encoded data removed]",
            "text/plain": [
              "<Figure size 1224x360 with 4 Axes>"
            ]
          },
          "metadata": {
            "tags": [],
            "needs_background": "light"
          }
        }
      ]
    },
    {
      "cell_type": "markdown",
      "metadata": {
        "id": "EMNjYOTn2cO8"
      },
      "source": [
        "## XGBoost"
      ]
    },
    {
      "cell_type": "code",
      "metadata": {
        "id": "OqKOQSBO2XUj",
        "colab": {
          "base_uri": "https://localhost:8080/",
          "height": 1000
        },
        "outputId": "56db551c-cd93-4683-a4aa-b1d1b661fc9f"
      },
      "source": [
        "from xgboost import XGBClassifier\n",
        "\n",
        "clf = XGBClassifier(random_state=144, objective='binary:logistic')\n",
        "learn_pred_accuracy(clf, X_train, y_train, X_valid, np.array(y_valid), X_test, np.array(y_test))"
      ],
      "execution_count": 24,
      "outputs": [
        {
          "output_type": "stream",
          "text": [
            "検証True: 543\n",
            "検証False: 195\n",
            "検証正解率: 0.7357723577235772\n",
            "テストTrue: 586\n",
            "テストFalse: 152\n",
            "テスト正解率: 0.7940379403794038\n",
            "              precision    recall  f1-score   support\n",
            "\n",
            "           0       0.64      0.70      0.67        87\n",
            "           1       0.82      0.87      0.84        77\n",
            "           2       0.72      0.80      0.76        84\n",
            "           3       0.88      0.93      0.91        87\n",
            "           4       0.77      0.39      0.52        51\n",
            "           5       0.94      0.78      0.86        87\n",
            "           6       0.94      0.89      0.92        91\n",
            "           7       0.68      0.75      0.71        87\n",
            "           8       0.79      0.87      0.83        87\n",
            "\n",
            "    accuracy                           0.79       738\n",
            "   macro avg       0.80      0.78      0.78       738\n",
            "weighted avg       0.80      0.79      0.79       738\n",
            "\n",
            "検証正解： [0 3 4 7 3 6 3 0 7 2 6 2 6 4 8 1 5 6 7 7]\n",
            "検証予測： [1 3 4 4 3 6 3 4 7 5 6 0 6 4 2 7 0 0 7 7]\n",
            "test正解： [4 7 6 6 1 0 6 3 7 1 3 8 0 0 2 8 4 3 5 6]\n",
            "test予測： [4 7 6 6 1 0 6 3 7 1 3 8 4 0 2 8 7 3 5 6]\n"
          ],
          "name": "stdout"
        },
        {
          "output_type": "display_data",
          "data": {
            "image/png": "[encoded data removed]",
            "text/plain": [
              "<Figure size 1440x504 with 2 Axes>"
            ]
          },
          "metadata": {
            "tags": [],
            "needs_background": "light"
          }
        },
        {
          "output_type": "display_data",
          "data": {
            "image/png": "[encoded data removed]",
            "text/plain": [
              "<Figure size 1224x360 with 4 Axes>"
            ]
          },
          "metadata": {
            "tags": [],
            "needs_background": "light"
          }
        }
      ]
    },
    {
      "cell_type": "markdown",
      "metadata": {
        "id": "BtSzV6i821kB"
      },
      "source": [
        "## ロジスティック回帰"
      ]
    },
    {
      "cell_type": "code",
      "metadata": {
        "id": "q7a3FSez2dm8",
        "colab": {
          "base_uri": "https://localhost:8080/",
          "height": 1000
        },
        "outputId": "f0fc7c5d-8b22-4dc8-f81a-946e7ca748bf"
      },
      "source": [
        "from sklearn.linear_model import LogisticRegression\n",
        "\n",
        "clf = LogisticRegression(random_state=144, max_iter=144000)\n",
        "learn_pred_accuracy(clf, X_train, y_train, X_valid, np.array(y_valid), X_test, np.array(y_test))"
      ],
      "execution_count": 25,
      "outputs": [
        {
          "output_type": "stream",
          "text": [
            "検証True: 592\n",
            "検証False: 146\n",
            "検証正解率: 0.8021680216802168\n",
            "テストTrue: 624\n",
            "テストFalse: 114\n",
            "テスト正解率: 0.8455284552845529\n",
            "              precision    recall  f1-score   support\n",
            "\n",
            "           0       0.73      0.79      0.76        87\n",
            "           1       0.88      0.92      0.90        77\n",
            "           2       0.85      0.86      0.85        84\n",
            "           3       0.89      0.99      0.93        87\n",
            "           4       0.83      0.47      0.60        51\n",
            "           5       0.95      0.80      0.87        87\n",
            "           6       0.95      0.91      0.93        91\n",
            "           7       0.78      0.85      0.81        87\n",
            "           8       0.78      0.86      0.82        87\n",
            "\n",
            "    accuracy                           0.85       738\n",
            "   macro avg       0.85      0.83      0.83       738\n",
            "weighted avg       0.85      0.85      0.84       738\n",
            "\n",
            "検証正解： [0 3 4 7 3 6 3 0 7 2 6 2 6 4 8 1 5 6 7 7]\n",
            "検証予測： [0 3 4 7 3 6 3 2 7 5 6 8 6 4 2 7 5 4 7 7]\n",
            "test正解： [4 7 6 6 1 0 6 3 7 1 3 8 0 0 2 8 4 3 5 6]\n",
            "test予測： [3 7 6 6 1 0 6 3 7 1 3 8 4 0 2 8 7 3 5 6]\n"
          ],
          "name": "stdout"
        },
        {
          "output_type": "display_data",
          "data": {
            "image/png": "[encoded data removed]",
            "text/plain": [
              "<Figure size 1440x504 with 2 Axes>"
            ]
          },
          "metadata": {
            "tags": [],
            "needs_background": "light"
          }
        },
        {
          "output_type": "display_data",
          "data": {
            "image/png": "[encoded data removed]",
            "text/plain": [
              "<Figure size 1224x360 with 4 Axes>"
            ]
          },
          "metadata": {
            "tags": [],
            "needs_background": "light"
          }
        }
      ]
    },
    {
      "cell_type": "markdown",
      "metadata": {
        "id": "Lf9RQtdZ3Kv7"
      },
      "source": [
        "## LSTM"
      ]
    },
    {
      "cell_type": "code",
      "metadata": {
        "id": "EGEDRKwf23OE"
      },
      "source": [
        "# バッチサイズを1とする\n",
        "\"\"\"\n",
        "X_train = X_train.view(len(X_train), 1, -1)\n",
        "X_valid = X_valid.view(len(X_valid), 1, -1)\n",
        "X_test = X_test.view(len(X_test), 1, -1)\n",
        "\n",
        "print('X_train:', X_train.size())\n",
        "print('X_valid:', X_valid.size())\n",
        "print('X_test:', X_test.size())\n",
        "\"\"\""
      ],
      "execution_count": null,
      "outputs": []
    },
    {
      "cell_type": "code",
      "metadata": {
        "id": "6q0IM3hh4Aq2"
      },
      "source": [
        "import torch\n",
        "import torch.nn as nn\n",
        "\n",
        "# nn.Moduleを継承して新しいクラスを作る。決まり文句\n",
        "class LSTMClassifier(nn.Module):\n",
        "  # モデルで使う各ネットワークをコンストラクタで定義\n",
        "  def __init__(self, embedding_dim, hidden_dim, vocab_size, tagset_size):\n",
        "    # 親クラスのコンストラクタ。決まり文句\n",
        "    super(LSTMClassifier, self).__init__()\n",
        "    # 隠れ層の次元数。これは好きな値に設定しても行列計算の過程で出力には出てこないので。\n",
        "    self.hidden_dim = hidden_dim\n",
        "    # インプットの単語をベクトル化するために使う\n",
        "    self.word_embeddings = nn.Embedding(vocab_size, embedding_dim)\n",
        "    # LSTMの隠れ層。これ１つでOK。超便利。\n",
        "    self.lstm = nn.LSTM(embedding_dim, hidden_dim)\n",
        "    # LSTMの出力を受け取って全結合してsoftmaxに食わせるための１層のネットワーク\n",
        "    self.hidden2tag = nn.Linear(hidden_dim, tagset_size)\n",
        "    # softmaxのLog版。dim=0で列、dim=1で行方向を確率変換。\n",
        "    self.softmax = nn.LogSoftmax(dim=1)\n",
        "\n",
        "  # 順伝播処理はforward関数に記載\n",
        "  def forward(self, sentence):\n",
        "    # 文章内の各単語をベクトル化して出力。2次元のテンソル\n",
        "    embeds = self.word_embeddings(sentence)\n",
        "    # 2次元テンソルをLSTMに食わせられる様にviewで３次元テンソルにした上でLSTMへ流す。\n",
        "    # 上記で説明した様にmany to oneのタスクを解きたいので、第二戻り値だけ使う。\n",
        "    _, lstm_out = self.lstm(embeds.view(len(sentence), 1, -1))\n",
        "    # lstm_out[0]は３次元テンソルになってしまっているので2次元に調整して全結合。\n",
        "    tag_space = self.hidden2tag(lstm_out[0].view(-1, self.hidden_dim))\n",
        "    # softmaxに食わせて、確率として表現\n",
        "    tag_scores = self.softmax(tag_space)\n",
        "    return tag_scores"
      ],
      "execution_count": 26,
      "outputs": []
    },
    {
      "cell_type": "code",
      "metadata": {
        "id": "N1r73AfG5ySu",
        "colab": {
          "base_uri": "https://localhost:8080/"
        },
        "outputId": "0c1129c9-8c94-4a3d-e5e2-a285f27a6414"
      },
      "source": [
        "import torch.optim as optim\n",
        "\n",
        "# 単語ID辞書を作成する\n",
        "word2index = {}\n",
        "for body in df['BODY']:\n",
        "  wakati = tokenize(body)\n",
        "  for word in wakati:\n",
        "    if word in word2index: continue\n",
        "    word2index[word] = len(word2index)\n",
        "\n",
        "# trainとtestに分割\n",
        "traindata, testdata = train_test_split(df, train_size=0.8)\n",
        "# 単語のベクトル次元数\n",
        "EMBEDDING_DIM = 10\n",
        "# 隠れ層の次元数\n",
        "HIDDEN_DIM = 128\n",
        "# データ全体の単語数\n",
        "VOCAB_SIZE = len(word2index)\n",
        "# 分類先のカテゴリの数\n",
        "TAG_SIZE = len(categories)\n",
        "# モデル宣言\n",
        "model = LSTMClassifier(EMBEDDING_DIM, HIDDEN_DIM, VOCAB_SIZE, TAG_SIZE)\n",
        "# 損失関数はNLLLoss()を使う。LogSoftmaxを使う時はこれを使うらしい。\n",
        "loss_function = nn.NLLLoss()\n",
        "# 最適化の手法はSGDで。lossの減りに時間かかるけど、一旦はこれを使う。\n",
        "optimizer = optim.SGD(model.parameters(), lr=0.01)\n",
        "\n",
        "# 文章を単語IDの系列データに変換\n",
        "# PyTorchのLSTMのインプットになるデータなので、もちろんtensor型で\n",
        "def sentence2index(sentence):\n",
        "  wakati = tokenize(sentence)\n",
        "  return torch.tensor([word2index.get(w, 0) for w in wakati], dtype=torch.long)\n",
        "\n",
        "category2index = {}\n",
        "for cat in categories:\n",
        "  if cat in category2index: continue\n",
        "  category2index[cat] = len(category2index)\n",
        "\n",
        "def category2tensor(cat):\n",
        "  return torch.tensor([category2index[cat]], dtype=torch.long)\n",
        "\n",
        "# 各エポックの合計loss値を格納する\n",
        "losses = []\n",
        "# 10ループ回してみる。（バッチ化とかGPU使ってないので結構時間かかる...）\n",
        "for epoch in range(100):\n",
        "    all_loss = 0\n",
        "    for title, cat in zip(traindata['TITLE'], traindata['CATEGORY']):\n",
        "        # モデルが持ってる勾配の情報をリセット\n",
        "        model.zero_grad()\n",
        "        # 文章を単語IDの系列に変換（modelに食わせられる形に変換）\n",
        "        inputs = sentence2index(title)\n",
        "        # 順伝播の結果を受け取る\n",
        "        out = model(inputs)\n",
        "        # 正解カテゴリをテンソル化\n",
        "        answer = category2tensor(cat)\n",
        "        # 正解とのlossを計算\n",
        "        loss = loss_function(out, answer)\n",
        "        # 勾配をセット\n",
        "        loss.backward()\n",
        "        # 逆伝播でパラメータ更新\n",
        "        optimizer.step()\n",
        "        # lossを集計\n",
        "        all_loss += loss.item()\n",
        "    losses.append(all_loss)\n",
        "    print('epoch', epoch, '\\t' , 'loss', all_loss)\n",
        "print('done.')"
      ],
      "execution_count": 27,
      "outputs": [
        {
          "output_type": "stream",
          "text": [
            "epoch 0 \t loss 12516.618558585644\n",
            "epoch 1 \t loss 11561.870995014906\n",
            "epoch 2 \t loss 10432.724759422243\n",
            "epoch 3 \t loss 8912.164867054671\n",
            "epoch 4 \t loss 8241.326593821868\n",
            "epoch 5 \t loss 7874.037762549473\n",
            "epoch 6 \t loss 7309.018563553924\n",
            "epoch 7 \t loss 6859.129175600188\n",
            "epoch 8 \t loss 6437.064698550428\n",
            "epoch 9 \t loss 6011.973187330848\n",
            "epoch 10 \t loss 5583.927710120115\n",
            "epoch 11 \t loss 5161.168123680029\n",
            "epoch 12 \t loss 4728.224502765361\n",
            "epoch 13 \t loss 4281.776644387408\n",
            "epoch 14 \t loss 3813.678574675787\n",
            "epoch 15 \t loss 3344.541131103965\n",
            "epoch 16 \t loss 2850.580169299434\n",
            "epoch 17 \t loss 2369.5561846939054\n",
            "epoch 18 \t loss 1866.8228438321623\n",
            "epoch 19 \t loss 1469.542318379309\n",
            "epoch 20 \t loss 1123.6435470802494\n",
            "epoch 21 \t loss 828.6741409350677\n",
            "epoch 22 \t loss 815.8283986132798\n",
            "epoch 23 \t loss 869.3794706671088\n",
            "epoch 24 \t loss 508.64012890651713\n",
            "epoch 25 \t loss 308.15312216688926\n",
            "epoch 26 \t loss 228.17515916655853\n",
            "epoch 27 \t loss 164.22050609767516\n",
            "epoch 28 \t loss 125.11387259420485\n",
            "epoch 29 \t loss 102.56078542507606\n",
            "epoch 30 \t loss 89.09381467304976\n",
            "epoch 31 \t loss 79.8808213495042\n",
            "epoch 32 \t loss 72.98195211796036\n",
            "epoch 33 \t loss 67.5766447389704\n",
            "epoch 34 \t loss 63.21716316922882\n",
            "epoch 35 \t loss 59.624002310971726\n",
            "epoch 36 \t loss 56.61110581653011\n",
            "epoch 37 \t loss 54.048470732471635\n",
            "epoch 38 \t loss 51.84217054198872\n",
            "epoch 39 \t loss 49.922300352062514\n",
            "epoch 40 \t loss 48.23597700898375\n",
            "epoch 41 \t loss 46.74242325771834\n",
            "epoch 42 \t loss 45.40980574575013\n",
            "epoch 43 \t loss 44.212842384762254\n",
            "epoch 44 \t loss 43.13140579332835\n",
            "epoch 45 \t loss 42.14895506320526\n",
            "epoch 46 \t loss 41.252119523020106\n",
            "epoch 47 \t loss 40.42983423624017\n",
            "epoch 48 \t loss 39.67310922710803\n",
            "epoch 49 \t loss 38.974641975115034\n",
            "epoch 50 \t loss 38.328321987274116\n",
            "epoch 51 \t loss 37.728574815769036\n",
            "epoch 52 \t loss 37.170222447234195\n",
            "epoch 53 \t loss 36.64884385121532\n",
            "epoch 54 \t loss 36.16101505391455\n",
            "epoch 55 \t loss 35.703767559729776\n",
            "epoch 56 \t loss 35.27446803474991\n",
            "epoch 57 \t loss 34.870783387871796\n",
            "epoch 58 \t loss 34.49052580637005\n",
            "epoch 59 \t loss 34.13180568543729\n",
            "epoch 60 \t loss 33.79287296300778\n",
            "epoch 61 \t loss 33.47212779031049\n",
            "epoch 62 \t loss 33.168217964429545\n",
            "epoch 63 \t loss 32.87977470622554\n",
            "epoch 64 \t loss 32.605675569211506\n",
            "epoch 65 \t loss 32.344871271879406\n",
            "epoch 66 \t loss 32.09639183899663\n",
            "epoch 67 \t loss 31.859322987695123\n",
            "epoch 68 \t loss 31.63293425969558\n",
            "epoch 69 \t loss 31.41645903562776\n",
            "epoch 70 \t loss 31.209256515642387\n",
            "epoch 71 \t loss 31.010695590273144\n",
            "epoch 72 \t loss 30.820253164709293\n",
            "epoch 73 \t loss 30.637397393686413\n",
            "epoch 74 \t loss 30.461653442616765\n",
            "epoch 75 \t loss 30.292630500681916\n",
            "epoch 76 \t loss 30.129882025150586\n",
            "epoch 77 \t loss 29.973073985910332\n",
            "epoch 78 \t loss 29.821862722838468\n",
            "epoch 79 \t loss 29.675945965105605\n",
            "epoch 80 \t loss 29.535014339302606\n",
            "epoch 81 \t loss 29.398814145318653\n",
            "epoch 82 \t loss 29.267100977020817\n",
            "epoch 83 \t loss 29.13961527572698\n",
            "epoch 84 \t loss 29.016174964902504\n",
            "epoch 85 \t loss 28.896565697822112\n",
            "epoch 86 \t loss 28.780591154785284\n",
            "epoch 87 \t loss 28.668091722660485\n",
            "epoch 88 \t loss 28.558897881589488\n",
            "epoch 89 \t loss 28.45286147689106\n",
            "epoch 90 \t loss 28.349821999297973\n",
            "epoch 91 \t loss 28.249640210046238\n",
            "epoch 92 \t loss 28.152216986053723\n",
            "epoch 93 \t loss 28.05739991139847\n",
            "epoch 94 \t loss 27.9650969337168\n",
            "epoch 95 \t loss 27.87519567578625\n",
            "epoch 96 \t loss 27.78758732730379\n",
            "epoch 97 \t loss 27.702195557649098\n",
            "epoch 98 \t loss 27.618908808778663\n",
            "epoch 99 \t loss 27.53763995937581\n",
            "done.\n"
          ],
          "name": "stdout"
        }
      ]
    },
    {
      "cell_type": "code",
      "metadata": {
        "id": "rYtH134x6dZ7",
        "colab": {
          "base_uri": "https://localhost:8080/",
          "height": 282
        },
        "outputId": "267bbcc2-b81e-41ca-d191-90c5dcabf01d"
      },
      "source": [
        "plt.plot(losses)"
      ],
      "execution_count": 28,
      "outputs": [
        {
          "output_type": "execute_result",
          "data": {
            "text/plain": [
              "[<matplotlib.lines.Line2D at 0x7f3bdf9e1550>]"
            ]
          },
          "metadata": {
            "tags": []
          },
          "execution_count": 28
        },
        {
          "output_type": "display_data",
          "data": {
            "image/png": "[encoded data removed]",
            "text/plain": [
              "<Figure size 432x288 with 1 Axes>"
            ]
          },
          "metadata": {
            "tags": [],
            "needs_background": "light"
          }
        }
      ]
    },
    {
      "cell_type": "code",
      "metadata": {
        "id": "7MVQ8q5F9CWy",
        "colab": {
          "base_uri": "https://localhost:8080/"
        },
        "outputId": "e554b27b-9f0f-4db6-e312-8b0167abb7f2"
      },
      "source": [
        "# テストデータの母数計算\n",
        "test_num = len(testdata)\n",
        "# 正解の件数\n",
        "a = 0\n",
        "# 勾配自動計算OFF\n",
        "with torch.no_grad():\n",
        "    for body, category in zip(testdata['BODY'], testdata['CATEGORY']):\n",
        "        # テストデータの予測\n",
        "        inputs = sentence2index(body)\n",
        "        out = model(inputs)\n",
        "\n",
        "        # outの一番大きい要素を予測結果をする\n",
        "        _, predict = torch.max(out, 1)\n",
        "\n",
        "        answer = category2tensor(category)\n",
        "        if predict == answer:\n",
        "            a += 1\n",
        "print(\"predict : \", a / test_num)"
      ],
      "execution_count": 30,
      "outputs": [
        {
          "output_type": "stream",
          "text": [
            "predict :  0.12669376693766937\n"
          ],
          "name": "stdout"
        }
      ]
    },
    {
      "cell_type": "code",
      "metadata": {
        "id": "Jng87vquz-2l"
      },
      "source": [
        ""
      ],
      "execution_count": null,
      "outputs": []
    }
  ]
}