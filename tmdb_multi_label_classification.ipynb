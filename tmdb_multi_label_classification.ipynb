{
  "nbformat": 4,
  "nbformat_minor": 0,
  "metadata": {
    "colab": {
      "name": "tmdb_multi-label-classification.ipynb",
      "provenance": [],
      "collapsed_sections": [
        "t2RJMJCoToGL",
        "x6r3mzLVWAzA",
        "GCzPGr6E8jNe",
        "X6qFVvNlHFuz",
        "ygNgSCFKJGJ_"
      ],
      "toc_visible": true
    },
    "kernelspec": {
      "name": "python3",
      "display_name": "Python 3"
    },
    "language_info": {
      "name": "python"
    },
    "accelerator": "GPU"
  },
  "cells": [
    {
      "cell_type": "markdown",
      "metadata": {
        "id": "2Vx6WouTFd4N"
      },
      "source": [
        "# TMDbから得られた映画情報のマルチクラス・ラベル分類"
      ]
    },
    {
      "cell_type": "markdown",
      "metadata": {
        "id": "-DaUEp1QGGYO"
      },
      "source": [
        "## データ準備"
      ]
    },
    {
      "cell_type": "code",
      "metadata": {
        "colab": {
          "base_uri": "https://localhost:8080/",
          "height": 759
        },
        "id": "_zT4lfaIFUmf",
        "outputId": "5ec0c3d8-e58f-4382-851a-e7c8973d0708"
      },
      "source": [
        "import pandas as pd\n",
        "import numpy as np\n",
        "import matplotlib.pyplot as plt\n",
        "%matplotlib inline\n",
        "import seaborn as sns\n",
        "\n",
        "data_path = '/content/drive/MyDrive/GoogleColab/マルチラベルデータセット/output_df'\n",
        "\n",
        "df = pd.read_csv(f'{data_path}/tmdb_movies.csv')\n",
        "df"
      ],
      "execution_count": 1,
      "outputs": [
        {
          "output_type": "execute_result",
          "data": {
            "text/html": [
              "<div>\n",
              "<style scoped>\n",
              "    .dataframe tbody tr th:only-of-type {\n",
              "        vertical-align: middle;\n",
              "    }\n",
              "\n",
              "    .dataframe tbody tr th {\n",
              "        vertical-align: top;\n",
              "    }\n",
              "\n",
              "    .dataframe thead th {\n",
              "        text-align: right;\n",
              "    }\n",
              "</style>\n",
              "<table border=\"1\" class=\"dataframe\">\n",
              "  <thead>\n",
              "    <tr style=\"text-align: right;\">\n",
              "      <th></th>\n",
              "      <th>id</th>\n",
              "      <th>title</th>\n",
              "      <th>genres</th>\n",
              "      <th>release_date</th>\n",
              "      <th>popularity</th>\n",
              "      <th>vote_average</th>\n",
              "      <th>vote_count</th>\n",
              "      <th>overview</th>\n",
              "    </tr>\n",
              "  </thead>\n",
              "  <tbody>\n",
              "    <tr>\n",
              "      <th>0</th>\n",
              "      <td>364897</td>\n",
              "      <td>閃乱カグラESTIVAL VERSUS -水着だらけの前夜祭-</td>\n",
              "      <td>28,35,16</td>\n",
              "      <td>2015-04-24</td>\n",
              "      <td>1.301</td>\n",
              "      <td>10.0</td>\n",
              "      <td>1</td>\n",
              "      <td>2月。月閃女学館の雪泉と夜桜は雪中の実践修行をし、残りの3人は部屋でダラダラしていると豪華な...</td>\n",
              "    </tr>\n",
              "    <tr>\n",
              "      <th>1</th>\n",
              "      <td>190147</td>\n",
              "      <td>十字路</td>\n",
              "      <td>18</td>\n",
              "      <td>1928-05-11</td>\n",
              "      <td>0.989</td>\n",
              "      <td>7.2</td>\n",
              "      <td>9</td>\n",
              "      <td>江戸の裏町でひっそりと暮らす姉弟。弟はある女をめぐり傷害事件を起こしてしまう。一方姉は借金返...</td>\n",
              "    </tr>\n",
              "    <tr>\n",
              "      <th>2</th>\n",
              "      <td>143</td>\n",
              "      <td>西部戦線異状なし</td>\n",
              "      <td>18,10752</td>\n",
              "      <td>1930-10-24</td>\n",
              "      <td>11.206</td>\n",
              "      <td>7.8</td>\n",
              "      <td>457</td>\n",
              "      <td>第1次大戦がはじまってまもない、ドイツのある町。群衆の歓声に送られて、戦場へ向かう大部隊が進...</td>\n",
              "    </tr>\n",
              "    <tr>\n",
              "      <th>3</th>\n",
              "      <td>3063</td>\n",
              "      <td>我輩はカモである</td>\n",
              "      <td>35,10752</td>\n",
              "      <td>1934-01-27</td>\n",
              "      <td>7.993</td>\n",
              "      <td>7.4</td>\n",
              "      <td>511</td>\n",
              "      <td>財政難のフリードニア共和国は、富豪夫人の援助を受けるため、彼女の愛人を宰相に就任させる。それ...</td>\n",
              "    </tr>\n",
              "    <tr>\n",
              "      <th>4</th>\n",
              "      <td>630</td>\n",
              "      <td>オズの魔法使</td>\n",
              "      <td>12,14,10751</td>\n",
              "      <td>1954-12-25</td>\n",
              "      <td>51.605</td>\n",
              "      <td>7.6</td>\n",
              "      <td>4176</td>\n",
              "      <td>カンザスの農場でおじさん夫婦と一緒に暮らす少女ドロシーは、ある日、竜巻に家ごと上空に巻き上げ...</td>\n",
              "    </tr>\n",
              "    <tr>\n",
              "      <th>...</th>\n",
              "      <td>...</td>\n",
              "      <td>...</td>\n",
              "      <td>...</td>\n",
              "      <td>...</td>\n",
              "      <td>...</td>\n",
              "      <td>...</td>\n",
              "      <td>...</td>\n",
              "      <td>...</td>\n",
              "    </tr>\n",
              "    <tr>\n",
              "      <th>5240</th>\n",
              "      <td>744392</td>\n",
              "      <td>架空OL日記</td>\n",
              "      <td>35</td>\n",
              "      <td>2020-02-28</td>\n",
              "      <td>0.600</td>\n",
              "      <td>6.5</td>\n",
              "      <td>2</td>\n",
              "      <td>お笑い芸人のバカリズムが主演や脚本を務め、2017年に放送された連続ドラマの劇場版。原作は、...</td>\n",
              "    </tr>\n",
              "    <tr>\n",
              "      <th>5241</th>\n",
              "      <td>718498</td>\n",
              "      <td>あのこは貴族</td>\n",
              "      <td>18</td>\n",
              "      <td>2021-02-26</td>\n",
              "      <td>0.600</td>\n",
              "      <td>0.0</td>\n",
              "      <td>0</td>\n",
              "      <td>都会の異なる環境を生きる2人の女性が、恋愛や結婚だけではない人生を切り拓く姿を描くシスターフ...</td>\n",
              "    </tr>\n",
              "    <tr>\n",
              "      <th>5242</th>\n",
              "      <td>704933</td>\n",
              "      <td>仮面病棟</td>\n",
              "      <td>80,53</td>\n",
              "      <td>2020-03-06</td>\n",
              "      <td>0.717</td>\n",
              "      <td>6.7</td>\n",
              "      <td>3</td>\n",
              "      <td>医師の速水(坂口健太郎)は、一日だけの当直医として元精神科病院に出向く。だがピエロの仮面をか...</td>\n",
              "    </tr>\n",
              "    <tr>\n",
              "      <th>5243</th>\n",
              "      <td>695376</td>\n",
              "      <td>水曜日が消えた</td>\n",
              "      <td>9648</td>\n",
              "      <td>2020-05-15</td>\n",
              "      <td>1.400</td>\n",
              "      <td>6.0</td>\n",
              "      <td>1</td>\n",
              "      <td>幼少期の交通事故が原因で、曜日ごとに7人の人格が入れ替わる青年は、思考や性格はバラバラだが、...</td>\n",
              "    </tr>\n",
              "    <tr>\n",
              "      <th>5244</th>\n",
              "      <td>675392</td>\n",
              "      <td>バジャのスタジオ ～バジャのみた海～</td>\n",
              "      <td>16,10751,14</td>\n",
              "      <td>2020-02-21</td>\n",
              "      <td>0.600</td>\n",
              "      <td>7.0</td>\n",
              "      <td>1</td>\n",
              "      <td>夢にあふれるアニメーションを作っている「KOHATAアニメスタジオ」。ここで働く人たちに育て...</td>\n",
              "    </tr>\n",
              "  </tbody>\n",
              "</table>\n",
              "<p>5245 rows × 8 columns</p>\n",
              "</div>"
            ],
            "text/plain": [
              "          id  ...                                           overview\n",
              "0     364897  ...  2月。月閃女学館の雪泉と夜桜は雪中の実践修行をし、残りの3人は部屋でダラダラしていると豪華な...\n",
              "1     190147  ...  江戸の裏町でひっそりと暮らす姉弟。弟はある女をめぐり傷害事件を起こしてしまう。一方姉は借金返...\n",
              "2        143  ...  第1次大戦がはじまってまもない、ドイツのある町。群衆の歓声に送られて、戦場へ向かう大部隊が進...\n",
              "3       3063  ...  財政難のフリードニア共和国は、富豪夫人の援助を受けるため、彼女の愛人を宰相に就任させる。それ...\n",
              "4        630  ...  カンザスの農場でおじさん夫婦と一緒に暮らす少女ドロシーは、ある日、竜巻に家ごと上空に巻き上げ...\n",
              "...      ...  ...                                                ...\n",
              "5240  744392  ...  お笑い芸人のバカリズムが主演や脚本を務め、2017年に放送された連続ドラマの劇場版。原作は、...\n",
              "5241  718498  ...  都会の異なる環境を生きる2人の女性が、恋愛や結婚だけではない人生を切り拓く姿を描くシスターフ...\n",
              "5242  704933  ...  医師の速水(坂口健太郎)は、一日だけの当直医として元精神科病院に出向く。だがピエロの仮面をか...\n",
              "5243  695376  ...  幼少期の交通事故が原因で、曜日ごとに7人の人格が入れ替わる青年は、思考や性格はバラバラだが、...\n",
              "5244  675392  ...  夢にあふれるアニメーションを作っている「KOHATAアニメスタジオ」。ここで働く人たちに育て...\n",
              "\n",
              "[5245 rows x 8 columns]"
            ]
          },
          "metadata": {
            "tags": []
          },
          "execution_count": 1
        }
      ]
    },
    {
      "cell_type": "code",
      "metadata": {
        "colab": {
          "base_uri": "https://localhost:8080/"
        },
        "id": "Vx32TYpfg2hS",
        "outputId": "2fcda3a7-7d6d-429d-b99a-ea411953cf76"
      },
      "source": [
        "def count_genre_kind(x):\n",
        "  return list(map(int, x.split(',')))\n",
        "\n",
        "\n",
        "genres = list(set(sum(df['genres'].map(count_genre_kind).tolist(), [])))\n",
        "genres.sort()\n",
        "genres"
      ],
      "execution_count": 2,
      "outputs": [
        {
          "output_type": "execute_result",
          "data": {
            "text/plain": [
              "[12,\n",
              " 14,\n",
              " 16,\n",
              " 18,\n",
              " 27,\n",
              " 28,\n",
              " 35,\n",
              " 36,\n",
              " 37,\n",
              " 53,\n",
              " 80,\n",
              " 99,\n",
              " 878,\n",
              " 9648,\n",
              " 10402,\n",
              " 10749,\n",
              " 10751,\n",
              " 10752,\n",
              " 10770]"
            ]
          },
          "metadata": {
            "tags": []
          },
          "execution_count": 2
        }
      ]
    },
    {
      "cell_type": "code",
      "metadata": {
        "colab": {
          "base_uri": "https://localhost:8080/",
          "height": 1000
        },
        "id": "ySHc7ucDhCbQ",
        "outputId": "c0694f67-3539-4ed6-f7ac-a5a28463dac2"
      },
      "source": [
        "def get_genre_list(x):\n",
        "  x_l = list(map(int, x.split(',')))\n",
        "  genre_label = [0 for i in range(len(genres))]\n",
        "  for xl in x_l:\n",
        "    for idx, genre in enumerate(genres):\n",
        "      if xl == genre:\n",
        "        genre_label[idx] = 1\n",
        "\n",
        "  return genre_label\n",
        "\n",
        "genre_labels = np.array(df['genres'].map(get_genre_list).tolist()).T.tolist()\n",
        "for idx, genre in enumerate(genres):\n",
        "  df[f'genre_{genre}'] = genre_labels[idx]\n",
        "\n",
        "df.head()"
      ],
      "execution_count": 3,
      "outputs": [
        {
          "output_type": "execute_result",
          "data": {
            "text/html": [
              "<div>\n",
              "<style scoped>\n",
              "    .dataframe tbody tr th:only-of-type {\n",
              "        vertical-align: middle;\n",
              "    }\n",
              "\n",
              "    .dataframe tbody tr th {\n",
              "        vertical-align: top;\n",
              "    }\n",
              "\n",
              "    .dataframe thead th {\n",
              "        text-align: right;\n",
              "    }\n",
              "</style>\n",
              "<table border=\"1\" class=\"dataframe\">\n",
              "  <thead>\n",
              "    <tr style=\"text-align: right;\">\n",
              "      <th></th>\n",
              "      <th>id</th>\n",
              "      <th>title</th>\n",
              "      <th>genres</th>\n",
              "      <th>release_date</th>\n",
              "      <th>popularity</th>\n",
              "      <th>vote_average</th>\n",
              "      <th>vote_count</th>\n",
              "      <th>overview</th>\n",
              "      <th>genre_12</th>\n",
              "      <th>genre_14</th>\n",
              "      <th>genre_16</th>\n",
              "      <th>genre_18</th>\n",
              "      <th>genre_27</th>\n",
              "      <th>genre_28</th>\n",
              "      <th>genre_35</th>\n",
              "      <th>genre_36</th>\n",
              "      <th>genre_37</th>\n",
              "      <th>genre_53</th>\n",
              "      <th>genre_80</th>\n",
              "      <th>genre_99</th>\n",
              "      <th>genre_878</th>\n",
              "      <th>genre_9648</th>\n",
              "      <th>genre_10402</th>\n",
              "      <th>genre_10749</th>\n",
              "      <th>genre_10751</th>\n",
              "      <th>genre_10752</th>\n",
              "      <th>genre_10770</th>\n",
              "    </tr>\n",
              "  </thead>\n",
              "  <tbody>\n",
              "    <tr>\n",
              "      <th>0</th>\n",
              "      <td>364897</td>\n",
              "      <td>閃乱カグラESTIVAL VERSUS -水着だらけの前夜祭-</td>\n",
              "      <td>28,35,16</td>\n",
              "      <td>2015-04-24</td>\n",
              "      <td>1.301</td>\n",
              "      <td>10.0</td>\n",
              "      <td>1</td>\n",
              "      <td>2月。月閃女学館の雪泉と夜桜は雪中の実践修行をし、残りの3人は部屋でダラダラしていると豪華な...</td>\n",
              "      <td>0</td>\n",
              "      <td>0</td>\n",
              "      <td>1</td>\n",
              "      <td>0</td>\n",
              "      <td>0</td>\n",
              "      <td>1</td>\n",
              "      <td>1</td>\n",
              "      <td>0</td>\n",
              "      <td>0</td>\n",
              "      <td>0</td>\n",
              "      <td>0</td>\n",
              "      <td>0</td>\n",
              "      <td>0</td>\n",
              "      <td>0</td>\n",
              "      <td>0</td>\n",
              "      <td>0</td>\n",
              "      <td>0</td>\n",
              "      <td>0</td>\n",
              "      <td>0</td>\n",
              "    </tr>\n",
              "    <tr>\n",
              "      <th>1</th>\n",
              "      <td>190147</td>\n",
              "      <td>十字路</td>\n",
              "      <td>18</td>\n",
              "      <td>1928-05-11</td>\n",
              "      <td>0.989</td>\n",
              "      <td>7.2</td>\n",
              "      <td>9</td>\n",
              "      <td>江戸の裏町でひっそりと暮らす姉弟。弟はある女をめぐり傷害事件を起こしてしまう。一方姉は借金返...</td>\n",
              "      <td>0</td>\n",
              "      <td>0</td>\n",
              "      <td>0</td>\n",
              "      <td>1</td>\n",
              "      <td>0</td>\n",
              "      <td>0</td>\n",
              "      <td>0</td>\n",
              "      <td>0</td>\n",
              "      <td>0</td>\n",
              "      <td>0</td>\n",
              "      <td>0</td>\n",
              "      <td>0</td>\n",
              "      <td>0</td>\n",
              "      <td>0</td>\n",
              "      <td>0</td>\n",
              "      <td>0</td>\n",
              "      <td>0</td>\n",
              "      <td>0</td>\n",
              "      <td>0</td>\n",
              "    </tr>\n",
              "    <tr>\n",
              "      <th>2</th>\n",
              "      <td>143</td>\n",
              "      <td>西部戦線異状なし</td>\n",
              "      <td>18,10752</td>\n",
              "      <td>1930-10-24</td>\n",
              "      <td>11.206</td>\n",
              "      <td>7.8</td>\n",
              "      <td>457</td>\n",
              "      <td>第1次大戦がはじまってまもない、ドイツのある町。群衆の歓声に送られて、戦場へ向かう大部隊が進...</td>\n",
              "      <td>0</td>\n",
              "      <td>0</td>\n",
              "      <td>0</td>\n",
              "      <td>1</td>\n",
              "      <td>0</td>\n",
              "      <td>0</td>\n",
              "      <td>0</td>\n",
              "      <td>0</td>\n",
              "      <td>0</td>\n",
              "      <td>0</td>\n",
              "      <td>0</td>\n",
              "      <td>0</td>\n",
              "      <td>0</td>\n",
              "      <td>0</td>\n",
              "      <td>0</td>\n",
              "      <td>0</td>\n",
              "      <td>0</td>\n",
              "      <td>1</td>\n",
              "      <td>0</td>\n",
              "    </tr>\n",
              "    <tr>\n",
              "      <th>3</th>\n",
              "      <td>3063</td>\n",
              "      <td>我輩はカモである</td>\n",
              "      <td>35,10752</td>\n",
              "      <td>1934-01-27</td>\n",
              "      <td>7.993</td>\n",
              "      <td>7.4</td>\n",
              "      <td>511</td>\n",
              "      <td>財政難のフリードニア共和国は、富豪夫人の援助を受けるため、彼女の愛人を宰相に就任させる。それ...</td>\n",
              "      <td>0</td>\n",
              "      <td>0</td>\n",
              "      <td>0</td>\n",
              "      <td>0</td>\n",
              "      <td>0</td>\n",
              "      <td>0</td>\n",
              "      <td>1</td>\n",
              "      <td>0</td>\n",
              "      <td>0</td>\n",
              "      <td>0</td>\n",
              "      <td>0</td>\n",
              "      <td>0</td>\n",
              "      <td>0</td>\n",
              "      <td>0</td>\n",
              "      <td>0</td>\n",
              "      <td>0</td>\n",
              "      <td>0</td>\n",
              "      <td>1</td>\n",
              "      <td>0</td>\n",
              "    </tr>\n",
              "    <tr>\n",
              "      <th>4</th>\n",
              "      <td>630</td>\n",
              "      <td>オズの魔法使</td>\n",
              "      <td>12,14,10751</td>\n",
              "      <td>1954-12-25</td>\n",
              "      <td>51.605</td>\n",
              "      <td>7.6</td>\n",
              "      <td>4176</td>\n",
              "      <td>カンザスの農場でおじさん夫婦と一緒に暮らす少女ドロシーは、ある日、竜巻に家ごと上空に巻き上げ...</td>\n",
              "      <td>1</td>\n",
              "      <td>1</td>\n",
              "      <td>0</td>\n",
              "      <td>0</td>\n",
              "      <td>0</td>\n",
              "      <td>0</td>\n",
              "      <td>0</td>\n",
              "      <td>0</td>\n",
              "      <td>0</td>\n",
              "      <td>0</td>\n",
              "      <td>0</td>\n",
              "      <td>0</td>\n",
              "      <td>0</td>\n",
              "      <td>0</td>\n",
              "      <td>0</td>\n",
              "      <td>0</td>\n",
              "      <td>1</td>\n",
              "      <td>0</td>\n",
              "      <td>0</td>\n",
              "    </tr>\n",
              "  </tbody>\n",
              "</table>\n",
              "</div>"
            ],
            "text/plain": [
              "       id                            title  ... genre_10752 genre_10770\n",
              "0  364897  閃乱カグラESTIVAL VERSUS -水着だらけの前夜祭-  ...           0           0\n",
              "1  190147                              十字路  ...           0           0\n",
              "2     143                         西部戦線異状なし  ...           1           0\n",
              "3    3063                         我輩はカモである  ...           1           0\n",
              "4     630                           オズの魔法使  ...           0           0\n",
              "\n",
              "[5 rows x 27 columns]"
            ]
          },
          "metadata": {
            "tags": []
          },
          "execution_count": 3
        }
      ]
    },
    {
      "cell_type": "markdown",
      "metadata": {
        "id": "IAxypO2lrnTO"
      },
      "source": [
        "## マルチクラス分類"
      ]
    },
    {
      "cell_type": "markdown",
      "metadata": {
        "id": "MPAeV1UgrpmS"
      },
      "source": [
        "### 前処理"
      ]
    },
    {
      "cell_type": "code",
      "metadata": {
        "colab": {
          "base_uri": "https://localhost:8080/",
          "height": 289
        },
        "id": "8rTjbyeZrIy6",
        "outputId": "d6859758-b10a-4746-9f17-606e527cb3d4"
      },
      "source": [
        "# マルチクラス用のdfを違うオブジェクトで生成し、必要な列のみ抽出\n",
        "mclass_df = df.copy()[['title', 'genres', 'overview']]\n",
        "mclass_df.head()"
      ],
      "execution_count": 4,
      "outputs": [
        {
          "output_type": "execute_result",
          "data": {
            "text/html": [
              "<div>\n",
              "<style scoped>\n",
              "    .dataframe tbody tr th:only-of-type {\n",
              "        vertical-align: middle;\n",
              "    }\n",
              "\n",
              "    .dataframe tbody tr th {\n",
              "        vertical-align: top;\n",
              "    }\n",
              "\n",
              "    .dataframe thead th {\n",
              "        text-align: right;\n",
              "    }\n",
              "</style>\n",
              "<table border=\"1\" class=\"dataframe\">\n",
              "  <thead>\n",
              "    <tr style=\"text-align: right;\">\n",
              "      <th></th>\n",
              "      <th>title</th>\n",
              "      <th>genres</th>\n",
              "      <th>overview</th>\n",
              "    </tr>\n",
              "  </thead>\n",
              "  <tbody>\n",
              "    <tr>\n",
              "      <th>0</th>\n",
              "      <td>閃乱カグラESTIVAL VERSUS -水着だらけの前夜祭-</td>\n",
              "      <td>28,35,16</td>\n",
              "      <td>2月。月閃女学館の雪泉と夜桜は雪中の実践修行をし、残りの3人は部屋でダラダラしていると豪華な...</td>\n",
              "    </tr>\n",
              "    <tr>\n",
              "      <th>1</th>\n",
              "      <td>十字路</td>\n",
              "      <td>18</td>\n",
              "      <td>江戸の裏町でひっそりと暮らす姉弟。弟はある女をめぐり傷害事件を起こしてしまう。一方姉は借金返...</td>\n",
              "    </tr>\n",
              "    <tr>\n",
              "      <th>2</th>\n",
              "      <td>西部戦線異状なし</td>\n",
              "      <td>18,10752</td>\n",
              "      <td>第1次大戦がはじまってまもない、ドイツのある町。群衆の歓声に送られて、戦場へ向かう大部隊が進...</td>\n",
              "    </tr>\n",
              "    <tr>\n",
              "      <th>3</th>\n",
              "      <td>我輩はカモである</td>\n",
              "      <td>35,10752</td>\n",
              "      <td>財政難のフリードニア共和国は、富豪夫人の援助を受けるため、彼女の愛人を宰相に就任させる。それ...</td>\n",
              "    </tr>\n",
              "    <tr>\n",
              "      <th>4</th>\n",
              "      <td>オズの魔法使</td>\n",
              "      <td>12,14,10751</td>\n",
              "      <td>カンザスの農場でおじさん夫婦と一緒に暮らす少女ドロシーは、ある日、竜巻に家ごと上空に巻き上げ...</td>\n",
              "    </tr>\n",
              "  </tbody>\n",
              "</table>\n",
              "</div>"
            ],
            "text/plain": [
              "                             title  ...                                           overview\n",
              "0  閃乱カグラESTIVAL VERSUS -水着だらけの前夜祭-  ...  2月。月閃女学館の雪泉と夜桜は雪中の実践修行をし、残りの3人は部屋でダラダラしていると豪華な...\n",
              "1                              十字路  ...  江戸の裏町でひっそりと暮らす姉弟。弟はある女をめぐり傷害事件を起こしてしまう。一方姉は借金返...\n",
              "2                         西部戦線異状なし  ...  第1次大戦がはじまってまもない、ドイツのある町。群衆の歓声に送られて、戦場へ向かう大部隊が進...\n",
              "3                         我輩はカモである  ...  財政難のフリードニア共和国は、富豪夫人の援助を受けるため、彼女の愛人を宰相に就任させる。それ...\n",
              "4                           オズの魔法使  ...  カンザスの農場でおじさん夫婦と一緒に暮らす少女ドロシーは、ある日、竜巻に家ごと上空に巻き上げ...\n",
              "\n",
              "[5 rows x 3 columns]"
            ]
          },
          "metadata": {
            "tags": []
          },
          "execution_count": 4
        }
      ]
    },
    {
      "cell_type": "code",
      "metadata": {
        "colab": {
          "base_uri": "https://localhost:8080/",
          "height": 204
        },
        "id": "Qgyg-K60sblp",
        "outputId": "afd4bd7c-1e07-42d1-d521-64af3f9b6d85"
      },
      "source": [
        "# genresの先頭を予測対象とする\n",
        "def set_target(x):\n",
        "  return int(x.split(',')[0])\n",
        "\n",
        "# ジャンルの予測対象をセット\n",
        "mclass_df['target'] = mclass_df['genres'].map(set_target)\n",
        "# 必要な情報のみにそぎ落とし、全てのカラムを大文字化\n",
        "mclass_df = mclass_df[['title', 'overview', 'target']].rename(columns=str.upper)\n",
        "mclass_df.head()"
      ],
      "execution_count": 5,
      "outputs": [
        {
          "output_type": "execute_result",
          "data": {
            "text/html": [
              "<div>\n",
              "<style scoped>\n",
              "    .dataframe tbody tr th:only-of-type {\n",
              "        vertical-align: middle;\n",
              "    }\n",
              "\n",
              "    .dataframe tbody tr th {\n",
              "        vertical-align: top;\n",
              "    }\n",
              "\n",
              "    .dataframe thead th {\n",
              "        text-align: right;\n",
              "    }\n",
              "</style>\n",
              "<table border=\"1\" class=\"dataframe\">\n",
              "  <thead>\n",
              "    <tr style=\"text-align: right;\">\n",
              "      <th></th>\n",
              "      <th>TITLE</th>\n",
              "      <th>OVERVIEW</th>\n",
              "      <th>TARGET</th>\n",
              "    </tr>\n",
              "  </thead>\n",
              "  <tbody>\n",
              "    <tr>\n",
              "      <th>0</th>\n",
              "      <td>閃乱カグラESTIVAL VERSUS -水着だらけの前夜祭-</td>\n",
              "      <td>2月。月閃女学館の雪泉と夜桜は雪中の実践修行をし、残りの3人は部屋でダラダラしていると豪華な...</td>\n",
              "      <td>28</td>\n",
              "    </tr>\n",
              "    <tr>\n",
              "      <th>1</th>\n",
              "      <td>十字路</td>\n",
              "      <td>江戸の裏町でひっそりと暮らす姉弟。弟はある女をめぐり傷害事件を起こしてしまう。一方姉は借金返...</td>\n",
              "      <td>18</td>\n",
              "    </tr>\n",
              "    <tr>\n",
              "      <th>2</th>\n",
              "      <td>西部戦線異状なし</td>\n",
              "      <td>第1次大戦がはじまってまもない、ドイツのある町。群衆の歓声に送られて、戦場へ向かう大部隊が進...</td>\n",
              "      <td>18</td>\n",
              "    </tr>\n",
              "    <tr>\n",
              "      <th>3</th>\n",
              "      <td>我輩はカモである</td>\n",
              "      <td>財政難のフリードニア共和国は、富豪夫人の援助を受けるため、彼女の愛人を宰相に就任させる。それ...</td>\n",
              "      <td>35</td>\n",
              "    </tr>\n",
              "    <tr>\n",
              "      <th>4</th>\n",
              "      <td>オズの魔法使</td>\n",
              "      <td>カンザスの農場でおじさん夫婦と一緒に暮らす少女ドロシーは、ある日、竜巻に家ごと上空に巻き上げ...</td>\n",
              "      <td>12</td>\n",
              "    </tr>\n",
              "  </tbody>\n",
              "</table>\n",
              "</div>"
            ],
            "text/plain": [
              "                             TITLE  ... TARGET\n",
              "0  閃乱カグラESTIVAL VERSUS -水着だらけの前夜祭-  ...     28\n",
              "1                              十字路  ...     18\n",
              "2                         西部戦線異状なし  ...     18\n",
              "3                         我輩はカモである  ...     35\n",
              "4                           オズの魔法使  ...     12\n",
              "\n",
              "[5 rows x 3 columns]"
            ]
          },
          "metadata": {
            "tags": []
          },
          "execution_count": 5
        }
      ]
    },
    {
      "cell_type": "code",
      "metadata": {
        "id": "lZW-8ljzt-Wt"
      },
      "source": [
        "import re\n",
        "import string\n",
        "\n",
        "# テキストの前処理\n",
        "def preprocessing(text):\n",
        "  # 全角 => 半角\n",
        "  text = text.translate(str.maketrans({chr(0xFF01 + i): chr(0x21 + i) for i in range(94)}))\n",
        "  # 英語大文字を小文字化\n",
        "  text = text.lower()\n",
        "  # 記号をスペースに置換後、スペースを削除\n",
        "  table = str.maketrans(string.punctuation, ' '*len(string.punctuation))\n",
        "  text = ''.join(text.translate(table).split())\n",
        "  # 削除する文字列\n",
        "  remove_list = ['\\n', '　', ' ']\n",
        "  for rem_word in remove_list:\n",
        "    text = text.replace(rem_word, '')\n",
        "  # 数字列を0に置換\n",
        "  text = re.sub('[0-9]+', '0', text)\n",
        "\n",
        "  return text"
      ],
      "execution_count": 6,
      "outputs": []
    },
    {
      "cell_type": "code",
      "metadata": {
        "colab": {
          "base_uri": "https://localhost:8080/",
          "height": 204
        },
        "id": "02cB1vbsvp2T",
        "outputId": "47daa776-6093-4a78-f8b7-ddc861ea1950"
      },
      "source": [
        "mclass_df['OVERVIEW'] += mclass_df['TITLE']\n",
        "mclass_df['OVERVIEW'] = mclass_df['OVERVIEW'].map(preprocessing)\n",
        "mclass_df.head()"
      ],
      "execution_count": 7,
      "outputs": [
        {
          "output_type": "execute_result",
          "data": {
            "text/html": [
              "<div>\n",
              "<style scoped>\n",
              "    .dataframe tbody tr th:only-of-type {\n",
              "        vertical-align: middle;\n",
              "    }\n",
              "\n",
              "    .dataframe tbody tr th {\n",
              "        vertical-align: top;\n",
              "    }\n",
              "\n",
              "    .dataframe thead th {\n",
              "        text-align: right;\n",
              "    }\n",
              "</style>\n",
              "<table border=\"1\" class=\"dataframe\">\n",
              "  <thead>\n",
              "    <tr style=\"text-align: right;\">\n",
              "      <th></th>\n",
              "      <th>TITLE</th>\n",
              "      <th>OVERVIEW</th>\n",
              "      <th>TARGET</th>\n",
              "    </tr>\n",
              "  </thead>\n",
              "  <tbody>\n",
              "    <tr>\n",
              "      <th>0</th>\n",
              "      <td>閃乱カグラESTIVAL VERSUS -水着だらけの前夜祭-</td>\n",
              "      <td>0月。月閃女学館の雪泉と夜桜は雪中の実践修行をし、残りの0人は部屋でダラダラしていると豪華な...</td>\n",
              "      <td>28</td>\n",
              "    </tr>\n",
              "    <tr>\n",
              "      <th>1</th>\n",
              "      <td>十字路</td>\n",
              "      <td>江戸の裏町でひっそりと暮らす姉弟。弟はある女をめぐり傷害事件を起こしてしまう。一方姉は借金返...</td>\n",
              "      <td>18</td>\n",
              "    </tr>\n",
              "    <tr>\n",
              "      <th>2</th>\n",
              "      <td>西部戦線異状なし</td>\n",
              "      <td>第0次大戦がはじまってまもない、ドイツのある町。群衆の歓声に送られて、戦場へ向かう大部隊が進...</td>\n",
              "      <td>18</td>\n",
              "    </tr>\n",
              "    <tr>\n",
              "      <th>3</th>\n",
              "      <td>我輩はカモである</td>\n",
              "      <td>財政難のフリードニア共和国は、富豪夫人の援助を受けるため、彼女の愛人を宰相に就任させる。それ...</td>\n",
              "      <td>35</td>\n",
              "    </tr>\n",
              "    <tr>\n",
              "      <th>4</th>\n",
              "      <td>オズの魔法使</td>\n",
              "      <td>カンザスの農場でおじさん夫婦と一緒に暮らす少女ドロシーは、ある日、竜巻に家ごと上空に巻き上げ...</td>\n",
              "      <td>12</td>\n",
              "    </tr>\n",
              "  </tbody>\n",
              "</table>\n",
              "</div>"
            ],
            "text/plain": [
              "                             TITLE  ... TARGET\n",
              "0  閃乱カグラESTIVAL VERSUS -水着だらけの前夜祭-  ...     28\n",
              "1                              十字路  ...     18\n",
              "2                         西部戦線異状なし  ...     18\n",
              "3                         我輩はカモである  ...     35\n",
              "4                           オズの魔法使  ...     12\n",
              "\n",
              "[5 rows x 3 columns]"
            ]
          },
          "metadata": {
            "tags": []
          },
          "execution_count": 7
        }
      ]
    },
    {
      "cell_type": "markdown",
      "metadata": {
        "id": "-uN_UnLqxJ-l"
      },
      "source": [
        "### Mecabインストール"
      ]
    },
    {
      "cell_type": "code",
      "metadata": {
        "id": "H6fkRquvxGXc"
      },
      "source": [
        "!apt install aptitude\n",
        "!aptitude install mecab libmecab-dev mecab-ipadic-utf8 git make curl xz-utils file -y\n",
        "!pip install mecab-python3==0.7\n",
        "\n",
        "!git clone --depth 1 https://github.com/neologd/mecab-ipadic-neologd.git\n",
        "!echo yes | mecab-ipadic-neologd/bin/install-mecab-ipadic-neologd -n\n",
        "\n",
        "!sed -e \"s!/var/lib/mecab/dic/debian!/usr/lib/x86_64-linux-gnu/mecab/dic/mecab-ipadic-neologd!g\" /etc/mecabrc &gt; /etc/mecabrc.new\n",
        "!cp /etc/mecabrc /etc/mecabrc.org\n",
        "!cp /etc/mecabrc.new /etc/mecabrc"
      ],
      "execution_count": null,
      "outputs": []
    },
    {
      "cell_type": "markdown",
      "metadata": {
        "id": "tsB-KEY_xqDG"
      },
      "source": [
        "### 分かち書き"
      ]
    },
    {
      "cell_type": "code",
      "metadata": {
        "id": "EMDmoPVXxNNq",
        "colab": {
          "base_uri": "https://localhost:8080/"
        },
        "outputId": "8237bc67-eb09-4af9-83bf-2a07d823d0be"
      },
      "source": [
        "import MeCab\n",
        "\n",
        "stop_words = ['0']\n",
        "neologd = '-d /usr/lib/x86_64-linux-gnu/mecab/dic/mecab-ipadic-neologd'\n",
        "\n",
        "# デフォルト辞書はNEologd\n",
        "def tokenize(text, dictionary=neologd, target_pos=list(('名詞', '形容詞', '形容動詞', '動詞', '副詞'))):\n",
        "  tokens = []\n",
        "  mecab = MeCab.Tagger(dictionary)\n",
        "  mecab.parse('') #文字列がGCされるのを防ぐ\n",
        "  node = mecab.parseToNode(text)\n",
        "  while node:\n",
        "    #単語を取得\n",
        "    word = node.surface\n",
        "    #品詞を取得\n",
        "    pos = node.feature.split(',')[0]\n",
        "    # target_posの場合 と　stop_wordsにない単語のみ抽出\n",
        "    if pos in target_pos and word not in stop_words:\n",
        "      tokens.append(word)\n",
        "    #次の単語に進める\n",
        "    node = node.next\n",
        "  return tokens\n",
        "\n",
        "print('NEologd:', tokenize('ショーシャンクの空に'))\n",
        "print('default:', tokenize('ショーシャンクの空に', ''))"
      ],
      "execution_count": 9,
      "outputs": [
        {
          "output_type": "stream",
          "text": [
            "NEologd: ['ショーシャンクの空に']\n",
            "default: ['ショーシャンク', '空']\n"
          ],
          "name": "stdout"
        }
      ]
    },
    {
      "cell_type": "code",
      "metadata": {
        "colab": {
          "base_uri": "https://localhost:8080/",
          "height": 374
        },
        "id": "I40OJGLRx1HQ",
        "outputId": "e3d83204-2c80-4fab-cd43-a97edba7a16d"
      },
      "source": [
        "mclass_df['TITLE_WAKATI'] = mclass_df['TITLE'].map(lambda x: ' '.join(tokenize(x, '')))\n",
        "mclass_df['OVERVIEW_WAKATI'] = mclass_df['OVERVIEW'].map(lambda x: ' '.join(tokenize(x)))\n",
        "mclass_df.head()"
      ],
      "execution_count": 10,
      "outputs": [
        {
          "output_type": "execute_result",
          "data": {
            "text/html": [
              "<div>\n",
              "<style scoped>\n",
              "    .dataframe tbody tr th:only-of-type {\n",
              "        vertical-align: middle;\n",
              "    }\n",
              "\n",
              "    .dataframe tbody tr th {\n",
              "        vertical-align: top;\n",
              "    }\n",
              "\n",
              "    .dataframe thead th {\n",
              "        text-align: right;\n",
              "    }\n",
              "</style>\n",
              "<table border=\"1\" class=\"dataframe\">\n",
              "  <thead>\n",
              "    <tr style=\"text-align: right;\">\n",
              "      <th></th>\n",
              "      <th>TITLE</th>\n",
              "      <th>OVERVIEW</th>\n",
              "      <th>TARGET</th>\n",
              "      <th>TITLE_WAKATI</th>\n",
              "      <th>OVERVIEW_WAKATI</th>\n",
              "    </tr>\n",
              "  </thead>\n",
              "  <tbody>\n",
              "    <tr>\n",
              "      <th>0</th>\n",
              "      <td>閃乱カグラESTIVAL VERSUS -水着だらけの前夜祭-</td>\n",
              "      <td>0月。月閃女学館の雪泉と夜桜は雪中の実践修行をし、残りの0人は部屋でダラダラしていると豪華な...</td>\n",
              "      <td>28</td>\n",
              "      <td>閃乱 カグラ ESTIVAL VERSUS - 水着 だらけ 前夜祭 -</td>\n",
              "      <td>月 月 閃 女 学 館 雪 泉 夜桜 雪 中 実践 修行 し 残り 人 部屋 ダラダラ し ...</td>\n",
              "    </tr>\n",
              "    <tr>\n",
              "      <th>1</th>\n",
              "      <td>十字路</td>\n",
              "      <td>江戸の裏町でひっそりと暮らす姉弟。弟はある女をめぐり傷害事件を起こしてしまう。一方姉は借金返...</td>\n",
              "      <td>18</td>\n",
              "      <td>十字路</td>\n",
              "      <td>江戸 裏町 ひっそり 暮らす 姉弟 弟 ある 女 めぐり 傷害事件 起こし しまう 姉 借金...</td>\n",
              "    </tr>\n",
              "    <tr>\n",
              "      <th>2</th>\n",
              "      <td>西部戦線異状なし</td>\n",
              "      <td>第0次大戦がはじまってまもない、ドイツのある町。群衆の歓声に送られて、戦場へ向かう大部隊が進...</td>\n",
              "      <td>18</td>\n",
              "      <td>西部 戦線 異状 なし</td>\n",
              "      <td>次 大戦 はじ てま ない ドイツ ある 町 群衆 歓声 送ら れ 戦場 向かう 部隊 進軍...</td>\n",
              "    </tr>\n",
              "    <tr>\n",
              "      <th>3</th>\n",
              "      <td>我輩はカモである</td>\n",
              "      <td>財政難のフリードニア共和国は、富豪夫人の援助を受けるため、彼女の愛人を宰相に就任させる。それ...</td>\n",
              "      <td>35</td>\n",
              "      <td>我輩 カモ</td>\n",
              "      <td>財政難 フリードニア 共和国 富豪 夫人 援助 受ける ため 彼女 愛人 宰相 就任 さ せ...</td>\n",
              "    </tr>\n",
              "    <tr>\n",
              "      <th>4</th>\n",
              "      <td>オズの魔法使</td>\n",
              "      <td>カンザスの農場でおじさん夫婦と一緒に暮らす少女ドロシーは、ある日、竜巻に家ごと上空に巻き上げ...</td>\n",
              "      <td>12</td>\n",
              "      <td>オズ 魔法使</td>\n",
              "      <td>カンザス 農場 おじさん 夫婦 一緒 暮らす 少女 ドロシー ある日 竜巻 家 ごと 上空 ...</td>\n",
              "    </tr>\n",
              "  </tbody>\n",
              "</table>\n",
              "</div>"
            ],
            "text/plain": [
              "                             TITLE  ...                                    OVERVIEW_WAKATI\n",
              "0  閃乱カグラESTIVAL VERSUS -水着だらけの前夜祭-  ...  月 月 閃 女 学 館 雪 泉 夜桜 雪 中 実践 修行 し 残り 人 部屋 ダラダラ し ...\n",
              "1                              十字路  ...  江戸 裏町 ひっそり 暮らす 姉弟 弟 ある 女 めぐり 傷害事件 起こし しまう 姉 借金...\n",
              "2                         西部戦線異状なし  ...  次 大戦 はじ てま ない ドイツ ある 町 群衆 歓声 送ら れ 戦場 向かう 部隊 進軍...\n",
              "3                         我輩はカモである  ...  財政難 フリードニア 共和国 富豪 夫人 援助 受ける ため 彼女 愛人 宰相 就任 さ せ...\n",
              "4                           オズの魔法使  ...  カンザス 農場 おじさん 夫婦 一緒 暮らす 少女 ドロシー ある日 竜巻 家 ごと 上空 ...\n",
              "\n",
              "[5 rows x 5 columns]"
            ]
          },
          "metadata": {
            "tags": []
          },
          "execution_count": 10
        }
      ]
    },
    {
      "cell_type": "code",
      "metadata": {
        "colab": {
          "base_uri": "https://localhost:8080/",
          "height": 374
        },
        "id": "tLSX46H5GgjQ",
        "outputId": "c213dcd3-acdc-41a2-a0ae-b26ac6161e64"
      },
      "source": [
        "mclass_df['FEATURE'] = mclass_df['TITLE_WAKATI'] + ' ' + mclass_df['OVERVIEW_WAKATI']\n",
        "mclass_df.head()"
      ],
      "execution_count": 11,
      "outputs": [
        {
          "output_type": "execute_result",
          "data": {
            "text/html": [
              "<div>\n",
              "<style scoped>\n",
              "    .dataframe tbody tr th:only-of-type {\n",
              "        vertical-align: middle;\n",
              "    }\n",
              "\n",
              "    .dataframe tbody tr th {\n",
              "        vertical-align: top;\n",
              "    }\n",
              "\n",
              "    .dataframe thead th {\n",
              "        text-align: right;\n",
              "    }\n",
              "</style>\n",
              "<table border=\"1\" class=\"dataframe\">\n",
              "  <thead>\n",
              "    <tr style=\"text-align: right;\">\n",
              "      <th></th>\n",
              "      <th>TITLE</th>\n",
              "      <th>OVERVIEW</th>\n",
              "      <th>TARGET</th>\n",
              "      <th>TITLE_WAKATI</th>\n",
              "      <th>OVERVIEW_WAKATI</th>\n",
              "      <th>FEATURE</th>\n",
              "    </tr>\n",
              "  </thead>\n",
              "  <tbody>\n",
              "    <tr>\n",
              "      <th>0</th>\n",
              "      <td>閃乱カグラESTIVAL VERSUS -水着だらけの前夜祭-</td>\n",
              "      <td>0月。月閃女学館の雪泉と夜桜は雪中の実践修行をし、残りの0人は部屋でダラダラしていると豪華な...</td>\n",
              "      <td>28</td>\n",
              "      <td>閃乱 カグラ ESTIVAL VERSUS - 水着 だらけ 前夜祭 -</td>\n",
              "      <td>月 月 閃 女 学 館 雪 泉 夜桜 雪 中 実践 修行 し 残り 人 部屋 ダラダラ し ...</td>\n",
              "      <td>閃乱 カグラ ESTIVAL VERSUS - 水着 だらけ 前夜祭 - 月 月 閃 女 学...</td>\n",
              "    </tr>\n",
              "    <tr>\n",
              "      <th>1</th>\n",
              "      <td>十字路</td>\n",
              "      <td>江戸の裏町でひっそりと暮らす姉弟。弟はある女をめぐり傷害事件を起こしてしまう。一方姉は借金返...</td>\n",
              "      <td>18</td>\n",
              "      <td>十字路</td>\n",
              "      <td>江戸 裏町 ひっそり 暮らす 姉弟 弟 ある 女 めぐり 傷害事件 起こし しまう 姉 借金...</td>\n",
              "      <td>十字路 江戸 裏町 ひっそり 暮らす 姉弟 弟 ある 女 めぐり 傷害事件 起こし しまう ...</td>\n",
              "    </tr>\n",
              "    <tr>\n",
              "      <th>2</th>\n",
              "      <td>西部戦線異状なし</td>\n",
              "      <td>第0次大戦がはじまってまもない、ドイツのある町。群衆の歓声に送られて、戦場へ向かう大部隊が進...</td>\n",
              "      <td>18</td>\n",
              "      <td>西部 戦線 異状 なし</td>\n",
              "      <td>次 大戦 はじ てま ない ドイツ ある 町 群衆 歓声 送ら れ 戦場 向かう 部隊 進軍...</td>\n",
              "      <td>西部 戦線 異状 なし 次 大戦 はじ てま ない ドイツ ある 町 群衆 歓声 送ら れ ...</td>\n",
              "    </tr>\n",
              "    <tr>\n",
              "      <th>3</th>\n",
              "      <td>我輩はカモである</td>\n",
              "      <td>財政難のフリードニア共和国は、富豪夫人の援助を受けるため、彼女の愛人を宰相に就任させる。それ...</td>\n",
              "      <td>35</td>\n",
              "      <td>我輩 カモ</td>\n",
              "      <td>財政難 フリードニア 共和国 富豪 夫人 援助 受ける ため 彼女 愛人 宰相 就任 さ せ...</td>\n",
              "      <td>我輩 カモ 財政難 フリードニア 共和国 富豪 夫人 援助 受ける ため 彼女 愛人 宰相 ...</td>\n",
              "    </tr>\n",
              "    <tr>\n",
              "      <th>4</th>\n",
              "      <td>オズの魔法使</td>\n",
              "      <td>カンザスの農場でおじさん夫婦と一緒に暮らす少女ドロシーは、ある日、竜巻に家ごと上空に巻き上げ...</td>\n",
              "      <td>12</td>\n",
              "      <td>オズ 魔法使</td>\n",
              "      <td>カンザス 農場 おじさん 夫婦 一緒 暮らす 少女 ドロシー ある日 竜巻 家 ごと 上空 ...</td>\n",
              "      <td>オズ 魔法使 カンザス 農場 おじさん 夫婦 一緒 暮らす 少女 ドロシー ある日 竜巻 家...</td>\n",
              "    </tr>\n",
              "  </tbody>\n",
              "</table>\n",
              "</div>"
            ],
            "text/plain": [
              "                             TITLE  ...                                            FEATURE\n",
              "0  閃乱カグラESTIVAL VERSUS -水着だらけの前夜祭-  ...  閃乱 カグラ ESTIVAL VERSUS - 水着 だらけ 前夜祭 - 月 月 閃 女 学...\n",
              "1                              十字路  ...  十字路 江戸 裏町 ひっそり 暮らす 姉弟 弟 ある 女 めぐり 傷害事件 起こし しまう ...\n",
              "2                         西部戦線異状なし  ...  西部 戦線 異状 なし 次 大戦 はじ てま ない ドイツ ある 町 群衆 歓声 送ら れ ...\n",
              "3                         我輩はカモである  ...  我輩 カモ 財政難 フリードニア 共和国 富豪 夫人 援助 受ける ため 彼女 愛人 宰相 ...\n",
              "4                           オズの魔法使  ...  オズ 魔法使 カンザス 農場 おじさん 夫婦 一緒 暮らす 少女 ドロシー ある日 竜巻 家...\n",
              "\n",
              "[5 rows x 6 columns]"
            ]
          },
          "metadata": {
            "tags": []
          },
          "execution_count": 11
        }
      ]
    },
    {
      "cell_type": "markdown",
      "metadata": {
        "id": "JF0hMWcLzoRd"
      },
      "source": [
        "### 目的変数の作成"
      ]
    },
    {
      "cell_type": "code",
      "metadata": {
        "colab": {
          "base_uri": "https://localhost:8080/"
        },
        "id": "AYwGS64ey5DO",
        "outputId": "7bafbea1-6659-4969-ece9-07153f722281"
      },
      "source": [
        "# GENREコードをそのまま使用\n",
        "Y = np.array(mclass_df['TARGET'])\n",
        "Y"
      ],
      "execution_count": 68,
      "outputs": [
        {
          "output_type": "execute_result",
          "data": {
            "text/plain": [
              "array([  28,   18,   18, ...,   80, 9648,   16])"
            ]
          },
          "metadata": {
            "tags": []
          },
          "execution_count": 68
        }
      ]
    },
    {
      "cell_type": "code",
      "metadata": {
        "colab": {
          "base_uri": "https://localhost:8080/"
        },
        "id": "1ltTXG0XvOUV",
        "outputId": "7ade89ce-112b-498e-809a-bd751daff36e"
      },
      "source": [
        "# GENREコードを固有のIDへ変換\n",
        "genre2id = {}\n",
        "for idx, genre in enumerate(genres):\n",
        "  genre2id[genre] = idx\n",
        "Y = np.array(pd.Series(Y).map(genre2id))\n",
        "Y"
      ],
      "execution_count": 69,
      "outputs": [
        {
          "output_type": "execute_result",
          "data": {
            "text/plain": [
              "array([ 5,  3,  3, ..., 10, 13,  2])"
            ]
          },
          "metadata": {
            "tags": []
          },
          "execution_count": 69
        }
      ]
    },
    {
      "cell_type": "markdown",
      "metadata": {
        "id": "B4Zz9pg705SB"
      },
      "source": [
        "### 単語埋め込みのためのベクトライザー作成やロード"
      ]
    },
    {
      "cell_type": "code",
      "metadata": {
        "id": "TkVKBbGE2WXA"
      },
      "source": [
        "import string\n",
        "\n",
        "def transform_w2v(text, vec):\n",
        "  vec_size = vec['映画'].shape[0]\n",
        "  table = str.maketrans(string.punctuation, ' '*len(string.punctuation))\n",
        "  words = text.translate(table).split()  # 記号をスペースに置換後、スペースで分割してリスト化\n",
        "  vecs = [vec[word] for word in words if word in vec]  # 1語ずつベクトル化\n",
        "\n",
        "  if len(vecs) != 0:\n",
        "    # 各単語の平均ベクトルを出力\n",
        "    return np.array(sum(vecs) / len(vecs))\n",
        "  else:\n",
        "    # 単語が全てvecになかったら、0ベクトルを出力\n",
        "    return np.array(np.zeros(vec_size))"
      ],
      "execution_count": 14,
      "outputs": []
    },
    {
      "cell_type": "markdown",
      "metadata": {
        "id": "EqYh62rS0978"
      },
      "source": [
        "#### Word2Vec（独自学習）"
      ]
    },
    {
      "cell_type": "code",
      "metadata": {
        "colab": {
          "base_uri": "https://localhost:8080/"
        },
        "id": "wgJXDe2c00LN",
        "outputId": "d93ab4bd-3a92-46cd-d46a-77d4fee2b755"
      },
      "source": [
        "sentences = [s.split() for s in mclass_df['FEATURE'].tolist()]\n",
        "sentences[:2]"
      ],
      "execution_count": 15,
      "outputs": [
        {
          "output_type": "execute_result",
          "data": {
            "text/plain": [
              "[['閃乱',\n",
              "  'カグラ',\n",
              "  'ESTIVAL',\n",
              "  'VERSUS',\n",
              "  '-',\n",
              "  '水着',\n",
              "  'だらけ',\n",
              "  '前夜祭',\n",
              "  '-',\n",
              "  '月',\n",
              "  '月',\n",
              "  '閃',\n",
              "  '女',\n",
              "  '学',\n",
              "  '館',\n",
              "  '雪',\n",
              "  '泉',\n",
              "  '夜桜',\n",
              "  '雪',\n",
              "  '中',\n",
              "  '実践',\n",
              "  '修行',\n",
              "  'し',\n",
              "  '残り',\n",
              "  '人',\n",
              "  '部屋',\n",
              "  'ダラダラ',\n",
              "  'し',\n",
              "  'いる',\n",
              "  '豪華',\n",
              "  'スパリゾート',\n",
              "  '人',\n",
              "  '分',\n",
              "  '招待',\n",
              "  '状',\n",
              "  '届い',\n",
              "  '早速',\n",
              "  '行こう',\n",
              "  '盛り上がる',\n",
              "  '修行',\n",
              "  '帰っ',\n",
              "  'き',\n",
              "  '雪',\n",
              "  '泉',\n",
              "  'ダメ',\n",
              "  '言い',\n",
              "  'ダラ',\n",
              "  'いる',\n",
              "  '指摘',\n",
              "  'する',\n",
              "  '様々',\n",
              "  '意見',\n",
              "  '飛び交い',\n",
              "  'ぱいじゃんけんだよで',\n",
              "  '四季',\n",
              "  '勝ち',\n",
              "  'プール',\n",
              "  '行く',\n",
              "  'こと',\n",
              "  'なっ',\n",
              "  'プール',\n",
              "  '半蔵',\n",
              "  '学院',\n",
              "  '焔',\n",
              "  '紅蓮',\n",
              "  '隊',\n",
              "  '蛇',\n",
              "  '女子',\n",
              "  '学園',\n",
              "  '面々',\n",
              "  'やって来',\n",
              "  'い',\n",
              "  '今日',\n",
              "  '楽しも',\n",
              "  'こと',\n",
              "  'なり',\n",
              "  '一時',\n",
              "  '休戦',\n",
              "  '状態',\n",
              "  '些細なこと',\n",
              "  '不毛',\n",
              "  '言い争い',\n",
              "  'なり',\n",
              "  '雪',\n",
              "  '泉',\n",
              "  '提案',\n",
              "  '古来より',\n",
              "  '忍び',\n",
              "  '決闘',\n",
              "  '法',\n",
              "  '忍',\n",
              "  '騎馬戦',\n",
              "  '雌雄を決する',\n",
              "  '事',\n",
              "  'なる',\n",
              "  '閃乱カグラ',\n",
              "  'estivalversus',\n",
              "  '水着',\n",
              "  'だらけ',\n",
              "  '前夜祭'],\n",
              " ['十字路',\n",
              "  '江戸',\n",
              "  '裏町',\n",
              "  'ひっそり',\n",
              "  '暮らす',\n",
              "  '姉弟',\n",
              "  '弟',\n",
              "  'ある',\n",
              "  '女',\n",
              "  'めぐり',\n",
              "  '傷害事件',\n",
              "  '起こし',\n",
              "  'しまう',\n",
              "  '姉',\n",
              "  '借金',\n",
              "  '返済',\n",
              "  '身売り',\n",
              "  '話',\n",
              "  '持ちかけ',\n",
              "  'られ',\n",
              "  '十字路']]"
            ]
          },
          "metadata": {
            "tags": []
          },
          "execution_count": 15
        }
      ]
    },
    {
      "cell_type": "code",
      "metadata": {
        "id": "v5FYK6yT1G-x"
      },
      "source": [
        "from gensim.models import word2vec\n",
        "import logging\n",
        "\n",
        "vec_size = 64\n",
        "logging.basicConfig(format='%(asctime)s : %(levelname)s : %(message)s', level=logging.INFO)\n",
        "vectorizer = word2vec.Word2Vec(sentences,\n",
        "                               sg=1,            # Skip-gram\n",
        "                               size=vec_size,   # 次元数\n",
        "                               min_count=5,     # min_count回未満の単語を破棄\n",
        "                               window=3,        # 文脈の最大単語数\n",
        "                               hs=0,            # 階層ソフトマックス(ネガティブサンプリングするなら0)\n",
        "                               negative=5,      # ネガティブサンプリング\n",
        "                               iter=50          # Epoch数\n",
        "                               )"
      ],
      "execution_count": null,
      "outputs": []
    },
    {
      "cell_type": "code",
      "metadata": {
        "id": "SfBh_bt91QgK"
      },
      "source": [
        "vectorizer.most_similar('映画')"
      ],
      "execution_count": null,
      "outputs": []
    },
    {
      "cell_type": "code",
      "metadata": {
        "id": "Vawrmk9A1-Zh"
      },
      "source": [
        "vectorizer['映画'].shape[0]"
      ],
      "execution_count": null,
      "outputs": []
    },
    {
      "cell_type": "markdown",
      "metadata": {
        "id": "t2RJMJCoToGL"
      },
      "source": [
        "#### Word2Vec（ChiVe）"
      ]
    },
    {
      "cell_type": "code",
      "metadata": {
        "colab": {
          "base_uri": "https://localhost:8080/"
        },
        "id": "ZBGhbpoqT_SJ",
        "outputId": "33093b87-6af8-4f4c-c2d6-931b2bc7705f"
      },
      "source": [
        "import gensim\n",
        "import urllib.request\n",
        "import sys\n",
        "\n",
        "#ダウンロード\n",
        "url = \"https://sudachi.s3-ap-northeast-1.amazonaws.com/chive/chive-1.2-mc90_gensim.tar.gz\"  #ファイルのURLを指定\n",
        "urllib.request.urlretrieve(url,\"chive.tar.gz\")\n",
        "#解凍\n",
        "!tar -zxvf chive.tar.gz\n",
        "\n",
        "vectorizer = gensim.models.KeyedVectors.load(\"chive-1.2-mc90_gensim/chive-1.2-mc90.kv\")"
      ],
      "execution_count": null,
      "outputs": [
        {
          "output_type": "stream",
          "text": [
            "chive-1.2-mc90_gensim/\n",
            "chive-1.2-mc90_gensim/chive-1.2-mc90.kv\n",
            "chive-1.2-mc90_gensim/chive-1.2-mc90.kv.vectors.npy\n",
            "chive-1.2-mc90_gensim/LICENSE\n",
            "chive-1.2-mc90_gensim/README.md\n"
          ],
          "name": "stdout"
        },
        {
          "output_type": "stream",
          "text": [
            "2021-07-12 13:45:24,025 : INFO : loading Word2VecKeyedVectors object from chive-1.2-mc90_gensim/chive-1.2-mc90.kv\n",
            "2021-07-12 13:45:26,113 : INFO : loading vectors from chive-1.2-mc90_gensim/chive-1.2-mc90.kv.vectors.npy with mmap=None\n",
            "2021-07-12 13:45:26,349 : INFO : setting ignored attribute vectors_norm to None\n",
            "2021-07-12 13:45:26,353 : INFO : loaded chive-1.2-mc90_gensim/chive-1.2-mc90.kv\n"
          ],
          "name": "stderr"
        }
      ]
    },
    {
      "cell_type": "code",
      "metadata": {
        "colab": {
          "base_uri": "https://localhost:8080/"
        },
        "id": "TOdGmOIRUXS4",
        "outputId": "b79a3f79-a6a2-4514-e0af-4872c5a117ad"
      },
      "source": [
        "vectorizer.most_similar('映画')"
      ],
      "execution_count": null,
      "outputs": [
        {
          "output_type": "stream",
          "text": [
            "2021-07-12 13:46:10,365 : INFO : precomputing L2-norms of word weight vectors\n"
          ],
          "name": "stderr"
        },
        {
          "output_type": "execute_result",
          "data": {
            "text/plain": [
              "[('邦画', 0.7711033821105957),\n",
              " ('予告編', 0.7660966515541077),\n",
              " ('主演', 0.7257440090179443),\n",
              " ('ハリウッド', 0.7001019716262817),\n",
              " ('映画館', 0.6935902237892151),\n",
              " ('映画界', 0.689943253993988),\n",
              " ('劇映画', 0.6886698007583618),\n",
              " ('話題作', 0.684718132019043),\n",
              " ('映画化', 0.681873083114624),\n",
              " ('上映', 0.6801760196685791)]"
            ]
          },
          "metadata": {
            "tags": []
          },
          "execution_count": 18
        }
      ]
    },
    {
      "cell_type": "code",
      "metadata": {
        "colab": {
          "base_uri": "https://localhost:8080/"
        },
        "id": "kJhOViTcUdpr",
        "outputId": "bd5516b9-ce53-49fd-abdc-19d1c33fd1c8"
      },
      "source": [
        "vectorizer['映画'].shape[0]"
      ],
      "execution_count": null,
      "outputs": [
        {
          "output_type": "execute_result",
          "data": {
            "text/plain": [
              "300"
            ]
          },
          "metadata": {
            "tags": []
          },
          "execution_count": 19
        }
      ]
    },
    {
      "cell_type": "markdown",
      "metadata": {
        "id": "x6r3mzLVWAzA"
      },
      "source": [
        "#### TF-IDF（独自学習）"
      ]
    },
    {
      "cell_type": "code",
      "metadata": {
        "colab": {
          "base_uri": "https://localhost:8080/"
        },
        "id": "mO6-usQEWE7w",
        "outputId": "a95d71a3-b985-46d8-cf06-d6d93db21379"
      },
      "source": [
        "from sklearn.feature_extraction.text import TfidfVectorizer\n",
        "\n",
        "vectorizer_tfidf = TfidfVectorizer(tokenizer=tokenize,\n",
        "                                   ngram_range=(1, 1),\n",
        "                                   min_df=5)\n",
        "vectors = vectorizer_tfidf.fit_transform(mclass_df['OVERVIEW'])\n",
        "vectors.shape"
      ],
      "execution_count": null,
      "outputs": [
        {
          "output_type": "execute_result",
          "data": {
            "text/plain": [
              "(5245, 306313)"
            ]
          },
          "metadata": {
            "tags": []
          },
          "execution_count": 177
        }
      ]
    },
    {
      "cell_type": "markdown",
      "metadata": {
        "id": "dvKhpMqVSpMK"
      },
      "source": [
        "### 説明変数の作成"
      ]
    },
    {
      "cell_type": "code",
      "metadata": {
        "colab": {
          "base_uri": "https://localhost:8080/"
        },
        "id": "IrircwLP2qBa",
        "outputId": "e16136e5-1b55-45e8-9a7e-a49f8cd01cac"
      },
      "source": [
        "X = np.array([transform_w2v(text, vectorizer) for text in mclass_df['FEATURE']])\n",
        "\n",
        "print('== Word2Vec ==')\n",
        "print('独自学習:', X.shape)"
      ],
      "execution_count": 70,
      "outputs": [
        {
          "output_type": "stream",
          "text": [
            "/usr/local/lib/python3.7/dist-packages/ipykernel_launcher.py:4: DeprecationWarning: Call to deprecated `__getitem__` (Method will be removed in 4.0.0, use self.wv.__getitem__() instead).\n",
            "  after removing the cwd from sys.path.\n",
            "/usr/local/lib/python3.7/dist-packages/ipykernel_launcher.py:7: DeprecationWarning: Call to deprecated `__contains__` (Method will be removed in 4.0.0, use self.wv.__contains__() instead).\n",
            "  import sys\n",
            "/usr/local/lib/python3.7/dist-packages/ipykernel_launcher.py:7: DeprecationWarning: Call to deprecated `__getitem__` (Method will be removed in 4.0.0, use self.wv.__getitem__() instead).\n",
            "  import sys\n"
          ],
          "name": "stderr"
        },
        {
          "output_type": "stream",
          "text": [
            "== Word2Vec ==\n",
            "独自学習: (5245, 64)\n"
          ],
          "name": "stdout"
        }
      ]
    },
    {
      "cell_type": "markdown",
      "metadata": {
        "id": "4OEihmaF7o3R"
      },
      "source": [
        "### 学習・検証・評価に分割"
      ]
    },
    {
      "cell_type": "code",
      "metadata": {
        "colab": {
          "base_uri": "https://localhost:8080/"
        },
        "id": "RCgK3uSL7CEo",
        "outputId": "8185cbe9-c13e-4031-e880-da7c89907ba7"
      },
      "source": [
        "from sklearn.model_selection import train_test_split\n",
        "\n",
        "# 独自学習のWord2Vec\n",
        "X_train, X_valid_test, y_train, y_valid_test = train_test_split(X, Y, train_size=0.8, random_state=144, stratify=Y)\n",
        "X_valid, X_test, y_valid, y_test = train_test_split(X_valid_test, y_valid_test, train_size=0.5, random_state=144)\n",
        "\n",
        "print(f'{\"=\"*20} 学習データ {\"=\"*20}')\n",
        "print('X:', X_train.shape)\n",
        "print('Y:', y_train.shape)\n",
        "print(f'{\"=\"*20} 検証データ {\"=\"*20}')\n",
        "print('X:', X_valid.shape)\n",
        "print('Y:', y_valid.shape)\n",
        "print(f'{\"=\"*20} 評価データ {\"=\"*20}')\n",
        "print('X:', X_test.shape)\n",
        "print('Y:', y_test.shape)"
      ],
      "execution_count": 71,
      "outputs": [
        {
          "output_type": "stream",
          "text": [
            "==================== 学習データ ====================\n",
            "X: (4196, 64)\n",
            "Y: (4196,)\n",
            "==================== 検証データ ====================\n",
            "X: (524, 64)\n",
            "Y: (524,)\n",
            "==================== 評価データ ====================\n",
            "X: (525, 64)\n",
            "Y: (525,)\n"
          ],
          "name": "stdout"
        }
      ]
    },
    {
      "cell_type": "markdown",
      "metadata": {
        "id": "WC1YfwTwAEzU"
      },
      "source": [
        "### 学習・予測・精度評価"
      ]
    },
    {
      "cell_type": "markdown",
      "metadata": {
        "id": "GCzPGr6E8jNe"
      },
      "source": [
        "#### メソッド"
      ]
    },
    {
      "cell_type": "code",
      "metadata": {
        "id": "-6tPsqgmDihg"
      },
      "source": [
        "def print_true_pred(y_true, y_pred, text, limited_num=20):\n",
        "  print(f'{\"=\"*36} {text} {\"=\"*36}')\n",
        "  print('検証正解：', y_true[:limited_num])\n",
        "  print('検証予測：', y_pred[:limited_num])"
      ],
      "execution_count": 21,
      "outputs": []
    },
    {
      "cell_type": "code",
      "metadata": {
        "id": "kO20mqWwWs-h"
      },
      "source": [
        "from sklearn.metrics import confusion_matrix\n",
        "from sklearn.metrics import mean_squared_error\n",
        "from sklearn.metrics import classification_report\n",
        "\n",
        "def learn_pred_accuracy(clf, train_x, train_y, valid_x, valid_y, test_x, test_y):\n",
        "  # 学習\n",
        "  clf.fit(train_x, train_y)\n",
        "  # 予測\n",
        "  predict_vy = clf.predict(valid_x)\n",
        "  predict_y = clf.predict(test_x)\n",
        "  # 正解率\n",
        "  print('検証True:', np.count_nonzero(predict_vy == valid_y))\n",
        "  print('検証False:', np.count_nonzero(predict_vy != valid_y))\n",
        "  print('検証正解率:', np.count_nonzero(predict_vy == valid_y) / len(valid_y))\n",
        "  print('テストTrue:', np.count_nonzero(predict_y == test_y))\n",
        "  print('テストFalse:', np.count_nonzero(predict_y != test_y))\n",
        "  print('テスト正解率:', np.count_nonzero(predict_y == test_y) / len(test_y))\n",
        "  # 様々な精度結果\n",
        "  print(classification_report(test_y, predict_y))\n",
        "  # 正解と予測データ\n",
        "  print('検証正解：', valid_y[:20])\n",
        "  print('検証予測：', predict_vy[:20])\n",
        "  print('test正解：', test_y[:20])\n",
        "  print('test予測：', predict_y[:20])\n",
        "  # DF化\n",
        "  ## valid\n",
        "  pred_df = pd.DataFrame({'data': predict_vy, 'type': 'pred'})\n",
        "  true_df = pd.DataFrame({'data': valid_y, 'type': 'true'})\n",
        "  valid_df = pd.concat([true_df, pred_df]).reset_index(drop=True)\n",
        "  ## test\n",
        "  pred_df = pd.DataFrame({'data': predict_y, 'type': 'pred'})\n",
        "  true_df = pd.DataFrame({'data': test_y, 'type': 'true'})\n",
        "  test_df = pd.concat([true_df, pred_df]).reset_index(drop=True)\n",
        "  # 予測データのヒストグラム\n",
        "  fig, (ax1, ax2) = plt.subplots(1, 2, figsize=(20, 7))\n",
        "  sns.countplot(data=valid_df, x='data', hue='type', ax=ax1)\n",
        "  sns.countplot(data=test_df, x='data', hue='type', ax=ax2)\n",
        "  # 混合行列\n",
        "  fig, (ax1, ax2) = plt.subplots(1, 2, figsize=(17, 5))\n",
        "  cm = confusion_matrix(valid_y, predict_vy)\n",
        "  p1 = sns.heatmap(cm, cmap='jet', annot=True, ax=ax1)\n",
        "  p1.set(xlabel='predict', ylabel='true')\n",
        "  cm = confusion_matrix(test_y, predict_y)\n",
        "  p2 = sns.heatmap(cm, cmap='jet', annot=True, ax=ax2)\n",
        "  p2.set(xlabel='predict', ylabel='true')"
      ],
      "execution_count": 73,
      "outputs": []
    },
    {
      "cell_type": "markdown",
      "metadata": {
        "id": "xeNyLtgnNTRT"
      },
      "source": [
        "#### LSTM（Keras）"
      ]
    },
    {
      "cell_type": "code",
      "metadata": {
        "colab": {
          "base_uri": "https://localhost:8080/"
        },
        "id": "5KvDSSgwMnZ0",
        "outputId": "d8e038ed-6adb-48e8-93a4-9fc883e26cb2"
      },
      "source": [
        "import tensorflow as tf\n",
        "from tensorflow import keras\n",
        "from keras.models import Sequential\n",
        "from keras.layers.core import Dense, Activation\n",
        "from keras.layers import Embedding, Dropout, Bidirectional\n",
        "from keras.layers.recurrent import LSTM\n",
        "from keras.optimizers import Adam\n",
        "from keras.callbacks import EarlyStopping\n",
        "from tensorflow.keras import backend as K\n",
        "from sklearn.metrics import recall_score, precision_score, f1_score\n",
        "\n",
        "# データを整形\n",
        "def format_data(x, y, nb_of_samples, sequence_len):\n",
        "    # 学習データを整形\n",
        "    X_np = np.array(x)\n",
        "    # 正解データを整形\n",
        "    t = tf.keras.utils.to_categorical(y.reshape(y.shape[0], 1), num_classes=len(genres))\n",
        "    # LSTMに与える入力のため、(サンプル, 時刻, 特徴量の次元) の3次元にする\n",
        "    return X_np, t\n",
        "    #return X_np.reshape((nb_of_samples, sequence_len, 1)), t\n",
        "\n",
        "\n",
        "bs = 256\n",
        "nhu = len(genres)\n",
        "epoch = 100\n",
        "\n",
        "input_dim = 1                             # 入力データの次元数\n",
        "output_dim = len(genres)                  # 出力データの次元数\n",
        "num_hidden_units = nhu                    # 隠れ層のユニット数\n",
        "len_sequence = X_train.shape[1]           # 時系列の長さ\n",
        "batch_size = bs                           # ミニバッチサイズ\n",
        "num_of_training_epochs = epoch            # 学習エポック数\n",
        "learning_rate = 0.001                     # 学習率\n",
        "num_training_samples = X_train.shape[0]   # 学習データのサンプル数\n",
        "\n",
        "X_t, t = format_data(X_train, y_train, num_training_samples, len_sequence)\n",
        "\n",
        "# モデル構築\n",
        "## index振り直し\n",
        "K.clear_session()\n",
        "\"\"\"\n",
        "model = Sequential()\n",
        "model.add(Embedding(len_sequence, output_dim=len(genres)))\n",
        "model.add(Bidirectional(LSTM(\n",
        "    num_hidden_units,\n",
        "    input_shape=(len_sequence, input_dim),\n",
        "    return_sequences=False,\n",
        "    dropout=0.5,\n",
        "    recurrent_dropout=0.5)))\n",
        "\"\"\"\n",
        "\n",
        "\"\"\" 重みの正則化とドロップアウト\n",
        "model.add(Dense(output_dim, activation='relu',\n",
        "                     kernel_regularizer=keras.regularizers.l2(0.001)))\n",
        "model.add(Dropout(0.5))\n",
        "model.add(Dense(output_dim, activation='relu',\n",
        "                     kernel_regularizer=keras.regularizers.l2(0.001)))\n",
        "model.add(Dropout(0.5))\n",
        "### \"\"\"\n",
        "#model.add(Dense(output_dim, activation='softmax'))\n",
        "\n",
        "model = Sequential()\n",
        "model.add(Dense(input_dim=len_sequence, units=output_dim))\n",
        "model.add(Activation('softmax'))\n",
        "\n",
        "\n",
        "model.compile(loss='categorical_crossentropy',\n",
        "              optimizer=Adam(lr=learning_rate),\n",
        "              metrics=['accuracy'])\n",
        "model.summary()\n",
        "\n",
        "# アーリーストッピング\n",
        "#early_stopping = EarlyStopping(monitor='val_loss', mode='auto', patience=50)\n",
        "\n",
        "# データの整形\n",
        "## (サンプル, 時刻, 特徴量の次元) の3次元の入力を与える\n",
        "X_valid_t, y_valid_t = format_data(X_valid, y_valid, num_training_samples, len_sequence)\n",
        "X_test_t, y_test_t = format_data(X_test, y_test, num_training_samples, len_sequence)\n",
        "\n",
        "# 学習\n",
        "model.fit(\n",
        "    X_t, t,\n",
        "    batch_size=batch_size,\n",
        "    epochs=num_of_training_epochs,\n",
        "    validation_data=(X_valid_t, y_valid_t),\n",
        "    #validation_split=0.1,\n",
        "    #callbacks=[early_stopping]\n",
        ")\n",
        "\n",
        "# 予測\n",
        "## 検証用\n",
        "y_pred_vali = model.predict(X_valid_t)\n",
        "## 評価用\n",
        "y_pred_test = model.predict(X_test_t)\n",
        "\n",
        "# 結果出力\n",
        "print(f'{\"=\"*36} LSTM {\"=\"*36}')\n",
        "_, y_valid_T = np.where(y_valid_t > 0)\n",
        "_, y_test_T = np.where(y_test_t > 0)\n",
        "y_pred_vali_T = np.argmax(y_pred_vali, axis=1)\n",
        "y_pred_test_T = np.argmax(y_pred_test, axis=1)\n",
        "print('検証用')\n",
        "print('予測：', y_pred_vali_T[:20])\n",
        "print('正解：', y_valid_T[:20])\n",
        "print('評価用')\n",
        "print('予測：', y_pred_test_T[:20])\n",
        "print('正解：', y_test_T[:20])\n",
        "average = 'macro'\n",
        "# macro-F1\n",
        "print(f'valid_macroF1: {f1_score(y_true=y_valid_T, y_pred=y_pred_vali_T, average=average):.4f}')\n",
        "print(f'test_macroF1: {f1_score(y_true=y_test_T, y_pred=y_pred_test_T, average=average):.4f}')"
      ],
      "execution_count": 127,
      "outputs": [
        {
          "output_type": "stream",
          "text": [
            "/usr/local/lib/python3.7/dist-packages/tensorflow/python/keras/optimizer_v2/optimizer_v2.py:375: UserWarning: The `lr` argument is deprecated, use `learning_rate` instead.\n",
            "  \"The `lr` argument is deprecated, use `learning_rate` instead.\")\n"
          ],
          "name": "stderr"
        },
        {
          "output_type": "stream",
          "text": [
            "Model: \"sequential\"\n",
            "_________________________________________________________________\n",
            "Layer (type)                 Output Shape              Param #   \n",
            "=================================================================\n",
            "dense (Dense)                (None, 19)                1235      \n",
            "_________________________________________________________________\n",
            "activation (Activation)      (None, 19)                0         \n",
            "=================================================================\n",
            "Total params: 1,235\n",
            "Trainable params: 1,235\n",
            "Non-trainable params: 0\n",
            "_________________________________________________________________\n",
            "Epoch 1/100\n",
            "17/17 [==============================] - 1s 15ms/step - loss: 2.9094 - accuracy: 0.0378 - val_loss: 2.7742 - val_accuracy: 0.1107\n",
            "Epoch 2/100\n",
            "17/17 [==============================] - 0s 3ms/step - loss: 2.7467 - accuracy: 0.1385 - val_loss: 2.6309 - val_accuracy: 0.1927\n",
            "Epoch 3/100\n",
            "17/17 [==============================] - 0s 3ms/step - loss: 2.6028 - accuracy: 0.2126 - val_loss: 2.5215 - val_accuracy: 0.2099\n",
            "Epoch 4/100\n",
            "17/17 [==============================] - 0s 3ms/step - loss: 2.4940 - accuracy: 0.2433 - val_loss: 2.4413 - val_accuracy: 0.2366\n",
            "Epoch 5/100\n",
            "17/17 [==============================] - 0s 4ms/step - loss: 2.4212 - accuracy: 0.2824 - val_loss: 2.3825 - val_accuracy: 0.2653\n",
            "Epoch 6/100\n",
            "17/17 [==============================] - 0s 4ms/step - loss: 2.3461 - accuracy: 0.3096 - val_loss: 2.3378 - val_accuracy: 0.3015\n",
            "Epoch 7/100\n",
            "17/17 [==============================] - 0s 4ms/step - loss: 2.3235 - accuracy: 0.3191 - val_loss: 2.3039 - val_accuracy: 0.3149\n",
            "Epoch 8/100\n",
            "17/17 [==============================] - 0s 3ms/step - loss: 2.2903 - accuracy: 0.3264 - val_loss: 2.2767 - val_accuracy: 0.3168\n",
            "Epoch 9/100\n",
            "17/17 [==============================] - 0s 3ms/step - loss: 2.2598 - accuracy: 0.3324 - val_loss: 2.2539 - val_accuracy: 0.3168\n",
            "Epoch 10/100\n",
            "17/17 [==============================] - 0s 3ms/step - loss: 2.2564 - accuracy: 0.3275 - val_loss: 2.2343 - val_accuracy: 0.3130\n",
            "Epoch 11/100\n",
            "17/17 [==============================] - 0s 3ms/step - loss: 2.2221 - accuracy: 0.3406 - val_loss: 2.2166 - val_accuracy: 0.3149\n",
            "Epoch 12/100\n",
            "17/17 [==============================] - 0s 3ms/step - loss: 2.2027 - accuracy: 0.3347 - val_loss: 2.2005 - val_accuracy: 0.3168\n",
            "Epoch 13/100\n",
            "17/17 [==============================] - 0s 3ms/step - loss: 2.1802 - accuracy: 0.3368 - val_loss: 2.1861 - val_accuracy: 0.3282\n",
            "Epoch 14/100\n",
            "17/17 [==============================] - 0s 3ms/step - loss: 2.1601 - accuracy: 0.3448 - val_loss: 2.1723 - val_accuracy: 0.3263\n",
            "Epoch 15/100\n",
            "17/17 [==============================] - 0s 3ms/step - loss: 2.1523 - accuracy: 0.3568 - val_loss: 2.1596 - val_accuracy: 0.3321\n",
            "Epoch 16/100\n",
            "17/17 [==============================] - 0s 4ms/step - loss: 2.1596 - accuracy: 0.3421 - val_loss: 2.1474 - val_accuracy: 0.3340\n",
            "Epoch 17/100\n",
            "17/17 [==============================] - 0s 3ms/step - loss: 2.1373 - accuracy: 0.3442 - val_loss: 2.1356 - val_accuracy: 0.3435\n",
            "Epoch 18/100\n",
            "17/17 [==============================] - 0s 3ms/step - loss: 2.1155 - accuracy: 0.3559 - val_loss: 2.1245 - val_accuracy: 0.3492\n",
            "Epoch 19/100\n",
            "17/17 [==============================] - 0s 3ms/step - loss: 2.1119 - accuracy: 0.3591 - val_loss: 2.1140 - val_accuracy: 0.3531\n",
            "Epoch 20/100\n",
            "17/17 [==============================] - 0s 4ms/step - loss: 2.1052 - accuracy: 0.3696 - val_loss: 2.1037 - val_accuracy: 0.3531\n",
            "Epoch 21/100\n",
            "17/17 [==============================] - 0s 3ms/step - loss: 2.0790 - accuracy: 0.3663 - val_loss: 2.0936 - val_accuracy: 0.3588\n",
            "Epoch 22/100\n",
            "17/17 [==============================] - 0s 4ms/step - loss: 2.0818 - accuracy: 0.3737 - val_loss: 2.0841 - val_accuracy: 0.3569\n",
            "Epoch 23/100\n",
            "17/17 [==============================] - 0s 4ms/step - loss: 2.0789 - accuracy: 0.3694 - val_loss: 2.0750 - val_accuracy: 0.3588\n",
            "Epoch 24/100\n",
            "17/17 [==============================] - 0s 3ms/step - loss: 2.0662 - accuracy: 0.3766 - val_loss: 2.0662 - val_accuracy: 0.3626\n",
            "Epoch 25/100\n",
            "17/17 [==============================] - 0s 3ms/step - loss: 2.0419 - accuracy: 0.3718 - val_loss: 2.0578 - val_accuracy: 0.3626\n",
            "Epoch 26/100\n",
            "17/17 [==============================] - 0s 3ms/step - loss: 2.0450 - accuracy: 0.3767 - val_loss: 2.0498 - val_accuracy: 0.3664\n",
            "Epoch 27/100\n",
            "17/17 [==============================] - 0s 4ms/step - loss: 2.0349 - accuracy: 0.3760 - val_loss: 2.0421 - val_accuracy: 0.3645\n",
            "Epoch 28/100\n",
            "17/17 [==============================] - 0s 3ms/step - loss: 2.0254 - accuracy: 0.3840 - val_loss: 2.0346 - val_accuracy: 0.3626\n",
            "Epoch 29/100\n",
            "17/17 [==============================] - 0s 3ms/step - loss: 2.0111 - accuracy: 0.3866 - val_loss: 2.0269 - val_accuracy: 0.3645\n",
            "Epoch 30/100\n",
            "17/17 [==============================] - 0s 3ms/step - loss: 1.9996 - accuracy: 0.3853 - val_loss: 2.0199 - val_accuracy: 0.3683\n",
            "Epoch 31/100\n",
            "17/17 [==============================] - 0s 3ms/step - loss: 1.9888 - accuracy: 0.3837 - val_loss: 2.0127 - val_accuracy: 0.3683\n",
            "Epoch 32/100\n",
            "17/17 [==============================] - 0s 3ms/step - loss: 1.9964 - accuracy: 0.3844 - val_loss: 2.0061 - val_accuracy: 0.3683\n",
            "Epoch 33/100\n",
            "17/17 [==============================] - 0s 3ms/step - loss: 1.9603 - accuracy: 0.3928 - val_loss: 1.9993 - val_accuracy: 0.3683\n",
            "Epoch 34/100\n",
            "17/17 [==============================] - 0s 3ms/step - loss: 1.9930 - accuracy: 0.3813 - val_loss: 1.9929 - val_accuracy: 0.3702\n",
            "Epoch 35/100\n",
            "17/17 [==============================] - 0s 3ms/step - loss: 1.9733 - accuracy: 0.3911 - val_loss: 1.9870 - val_accuracy: 0.3702\n",
            "Epoch 36/100\n",
            "17/17 [==============================] - 0s 3ms/step - loss: 1.9700 - accuracy: 0.3885 - val_loss: 1.9810 - val_accuracy: 0.3702\n",
            "Epoch 37/100\n",
            "17/17 [==============================] - 0s 3ms/step - loss: 1.9555 - accuracy: 0.3957 - val_loss: 1.9752 - val_accuracy: 0.3721\n",
            "Epoch 38/100\n",
            "17/17 [==============================] - 0s 4ms/step - loss: 1.9365 - accuracy: 0.3993 - val_loss: 1.9696 - val_accuracy: 0.3721\n",
            "Epoch 39/100\n",
            "17/17 [==============================] - 0s 3ms/step - loss: 1.9550 - accuracy: 0.3991 - val_loss: 1.9637 - val_accuracy: 0.3798\n",
            "Epoch 40/100\n",
            "17/17 [==============================] - 0s 3ms/step - loss: 1.9353 - accuracy: 0.4037 - val_loss: 1.9585 - val_accuracy: 0.3779\n",
            "Epoch 41/100\n",
            "17/17 [==============================] - 0s 3ms/step - loss: 1.9486 - accuracy: 0.3858 - val_loss: 1.9533 - val_accuracy: 0.3836\n",
            "Epoch 42/100\n",
            "17/17 [==============================] - 0s 3ms/step - loss: 1.9224 - accuracy: 0.4005 - val_loss: 1.9483 - val_accuracy: 0.3836\n",
            "Epoch 43/100\n",
            "17/17 [==============================] - 0s 3ms/step - loss: 1.9259 - accuracy: 0.4019 - val_loss: 1.9434 - val_accuracy: 0.3874\n",
            "Epoch 44/100\n",
            "17/17 [==============================] - 0s 3ms/step - loss: 1.9209 - accuracy: 0.4014 - val_loss: 1.9386 - val_accuracy: 0.3855\n",
            "Epoch 45/100\n",
            "17/17 [==============================] - 0s 3ms/step - loss: 1.9070 - accuracy: 0.4053 - val_loss: 1.9341 - val_accuracy: 0.3855\n",
            "Epoch 46/100\n",
            "17/17 [==============================] - 0s 3ms/step - loss: 1.9013 - accuracy: 0.4079 - val_loss: 1.9292 - val_accuracy: 0.3855\n",
            "Epoch 47/100\n",
            "17/17 [==============================] - 0s 3ms/step - loss: 1.8957 - accuracy: 0.4172 - val_loss: 1.9247 - val_accuracy: 0.3855\n",
            "Epoch 48/100\n",
            "17/17 [==============================] - 0s 3ms/step - loss: 1.8828 - accuracy: 0.4135 - val_loss: 1.9202 - val_accuracy: 0.3893\n",
            "Epoch 49/100\n",
            "17/17 [==============================] - 0s 3ms/step - loss: 1.9038 - accuracy: 0.4079 - val_loss: 1.9161 - val_accuracy: 0.3855\n",
            "Epoch 50/100\n",
            "17/17 [==============================] - 0s 3ms/step - loss: 1.9152 - accuracy: 0.4006 - val_loss: 1.9119 - val_accuracy: 0.3912\n",
            "Epoch 51/100\n",
            "17/17 [==============================] - 0s 4ms/step - loss: 1.8922 - accuracy: 0.4102 - val_loss: 1.9076 - val_accuracy: 0.3931\n",
            "Epoch 52/100\n",
            "17/17 [==============================] - 0s 3ms/step - loss: 1.8873 - accuracy: 0.4046 - val_loss: 1.9033 - val_accuracy: 0.3931\n",
            "Epoch 53/100\n",
            "17/17 [==============================] - 0s 3ms/step - loss: 1.8913 - accuracy: 0.4047 - val_loss: 1.8994 - val_accuracy: 0.3931\n",
            "Epoch 54/100\n",
            "17/17 [==============================] - 0s 4ms/step - loss: 1.8838 - accuracy: 0.4092 - val_loss: 1.8961 - val_accuracy: 0.3931\n",
            "Epoch 55/100\n",
            "17/17 [==============================] - 0s 3ms/step - loss: 1.8634 - accuracy: 0.4153 - val_loss: 1.8923 - val_accuracy: 0.3969\n",
            "Epoch 56/100\n",
            "17/17 [==============================] - 0s 3ms/step - loss: 1.8719 - accuracy: 0.4155 - val_loss: 1.8888 - val_accuracy: 0.3931\n",
            "Epoch 57/100\n",
            "17/17 [==============================] - 0s 3ms/step - loss: 1.8807 - accuracy: 0.4036 - val_loss: 1.8851 - val_accuracy: 0.3969\n",
            "Epoch 58/100\n",
            "17/17 [==============================] - 0s 4ms/step - loss: 1.8644 - accuracy: 0.4095 - val_loss: 1.8817 - val_accuracy: 0.3950\n",
            "Epoch 59/100\n",
            "17/17 [==============================] - 0s 3ms/step - loss: 1.8447 - accuracy: 0.4186 - val_loss: 1.8786 - val_accuracy: 0.3950\n",
            "Epoch 60/100\n",
            "17/17 [==============================] - 0s 3ms/step - loss: 1.8593 - accuracy: 0.4112 - val_loss: 1.8754 - val_accuracy: 0.3969\n",
            "Epoch 61/100\n",
            "17/17 [==============================] - 0s 3ms/step - loss: 1.8513 - accuracy: 0.4152 - val_loss: 1.8718 - val_accuracy: 0.3989\n",
            "Epoch 62/100\n",
            "17/17 [==============================] - 0s 3ms/step - loss: 1.8569 - accuracy: 0.4086 - val_loss: 1.8686 - val_accuracy: 0.4008\n",
            "Epoch 63/100\n",
            "17/17 [==============================] - 0s 3ms/step - loss: 1.8587 - accuracy: 0.4086 - val_loss: 1.8658 - val_accuracy: 0.4008\n",
            "Epoch 64/100\n",
            "17/17 [==============================] - 0s 4ms/step - loss: 1.8316 - accuracy: 0.4125 - val_loss: 1.8632 - val_accuracy: 0.4027\n",
            "Epoch 65/100\n",
            "17/17 [==============================] - 0s 3ms/step - loss: 1.8364 - accuracy: 0.4241 - val_loss: 1.8597 - val_accuracy: 0.4027\n",
            "Epoch 66/100\n",
            "17/17 [==============================] - 0s 3ms/step - loss: 1.8346 - accuracy: 0.4196 - val_loss: 1.8572 - val_accuracy: 0.4027\n",
            "Epoch 67/100\n",
            "17/17 [==============================] - 0s 3ms/step - loss: 1.8253 - accuracy: 0.4236 - val_loss: 1.8539 - val_accuracy: 0.4027\n",
            "Epoch 68/100\n",
            "17/17 [==============================] - 0s 4ms/step - loss: 1.8185 - accuracy: 0.4150 - val_loss: 1.8510 - val_accuracy: 0.4008\n",
            "Epoch 69/100\n",
            "17/17 [==============================] - 0s 4ms/step - loss: 1.8046 - accuracy: 0.4251 - val_loss: 1.8487 - val_accuracy: 0.4027\n",
            "Epoch 70/100\n",
            "17/17 [==============================] - 0s 3ms/step - loss: 1.8374 - accuracy: 0.4119 - val_loss: 1.8456 - val_accuracy: 0.3989\n",
            "Epoch 71/100\n",
            "17/17 [==============================] - 0s 4ms/step - loss: 1.8144 - accuracy: 0.4150 - val_loss: 1.8434 - val_accuracy: 0.4027\n",
            "Epoch 72/100\n",
            "17/17 [==============================] - 0s 3ms/step - loss: 1.8326 - accuracy: 0.4096 - val_loss: 1.8405 - val_accuracy: 0.4008\n",
            "Epoch 73/100\n",
            "17/17 [==============================] - 0s 3ms/step - loss: 1.7821 - accuracy: 0.4325 - val_loss: 1.8380 - val_accuracy: 0.4008\n",
            "Epoch 74/100\n",
            "17/17 [==============================] - 0s 3ms/step - loss: 1.8228 - accuracy: 0.4103 - val_loss: 1.8356 - val_accuracy: 0.4008\n",
            "Epoch 75/100\n",
            "17/17 [==============================] - 0s 3ms/step - loss: 1.7849 - accuracy: 0.4296 - val_loss: 1.8332 - val_accuracy: 0.3989\n",
            "Epoch 76/100\n",
            "17/17 [==============================] - 0s 4ms/step - loss: 1.8327 - accuracy: 0.4165 - val_loss: 1.8309 - val_accuracy: 0.4008\n",
            "Epoch 77/100\n",
            "17/17 [==============================] - 0s 4ms/step - loss: 1.7906 - accuracy: 0.4352 - val_loss: 1.8284 - val_accuracy: 0.3989\n",
            "Epoch 78/100\n",
            "17/17 [==============================] - 0s 4ms/step - loss: 1.7908 - accuracy: 0.4301 - val_loss: 1.8261 - val_accuracy: 0.3969\n",
            "Epoch 79/100\n",
            "17/17 [==============================] - 0s 3ms/step - loss: 1.8065 - accuracy: 0.4205 - val_loss: 1.8240 - val_accuracy: 0.3989\n",
            "Epoch 80/100\n",
            "17/17 [==============================] - 0s 4ms/step - loss: 1.8070 - accuracy: 0.4242 - val_loss: 1.8218 - val_accuracy: 0.3989\n",
            "Epoch 81/100\n",
            "17/17 [==============================] - 0s 3ms/step - loss: 1.7909 - accuracy: 0.4309 - val_loss: 1.8197 - val_accuracy: 0.3989\n",
            "Epoch 82/100\n",
            "17/17 [==============================] - 0s 3ms/step - loss: 1.7830 - accuracy: 0.4279 - val_loss: 1.8174 - val_accuracy: 0.3989\n",
            "Epoch 83/100\n",
            "17/17 [==============================] - 0s 3ms/step - loss: 1.7976 - accuracy: 0.4214 - val_loss: 1.8152 - val_accuracy: 0.3989\n",
            "Epoch 84/100\n",
            "17/17 [==============================] - 0s 3ms/step - loss: 1.7693 - accuracy: 0.4283 - val_loss: 1.8132 - val_accuracy: 0.3989\n",
            "Epoch 85/100\n",
            "17/17 [==============================] - 0s 4ms/step - loss: 1.7746 - accuracy: 0.4245 - val_loss: 1.8114 - val_accuracy: 0.3989\n",
            "Epoch 86/100\n",
            "17/17 [==============================] - 0s 3ms/step - loss: 1.7808 - accuracy: 0.4261 - val_loss: 1.8091 - val_accuracy: 0.3989\n",
            "Epoch 87/100\n",
            "17/17 [==============================] - 0s 3ms/step - loss: 1.7778 - accuracy: 0.4209 - val_loss: 1.8073 - val_accuracy: 0.3989\n",
            "Epoch 88/100\n",
            "17/17 [==============================] - 0s 3ms/step - loss: 1.7604 - accuracy: 0.4303 - val_loss: 1.8056 - val_accuracy: 0.3989\n",
            "Epoch 89/100\n",
            "17/17 [==============================] - 0s 3ms/step - loss: 1.7803 - accuracy: 0.4242 - val_loss: 1.8037 - val_accuracy: 0.4008\n",
            "Epoch 90/100\n",
            "17/17 [==============================] - 0s 3ms/step - loss: 1.7630 - accuracy: 0.4354 - val_loss: 1.8015 - val_accuracy: 0.3989\n",
            "Epoch 91/100\n",
            "17/17 [==============================] - 0s 3ms/step - loss: 1.7874 - accuracy: 0.4259 - val_loss: 1.8001 - val_accuracy: 0.4027\n",
            "Epoch 92/100\n",
            "17/17 [==============================] - 0s 4ms/step - loss: 1.7781 - accuracy: 0.4244 - val_loss: 1.7988 - val_accuracy: 0.4103\n",
            "Epoch 93/100\n",
            "17/17 [==============================] - 0s 3ms/step - loss: 1.7642 - accuracy: 0.4248 - val_loss: 1.7970 - val_accuracy: 0.4103\n",
            "Epoch 94/100\n",
            "17/17 [==============================] - 0s 3ms/step - loss: 1.7688 - accuracy: 0.4213 - val_loss: 1.7953 - val_accuracy: 0.4103\n",
            "Epoch 95/100\n",
            "17/17 [==============================] - 0s 4ms/step - loss: 1.7683 - accuracy: 0.4271 - val_loss: 1.7935 - val_accuracy: 0.4103\n",
            "Epoch 96/100\n",
            "17/17 [==============================] - 0s 4ms/step - loss: 1.7523 - accuracy: 0.4317 - val_loss: 1.7915 - val_accuracy: 0.4065\n",
            "Epoch 97/100\n",
            "17/17 [==============================] - 0s 4ms/step - loss: 1.7400 - accuracy: 0.4362 - val_loss: 1.7906 - val_accuracy: 0.4084\n",
            "Epoch 98/100\n",
            "17/17 [==============================] - 0s 4ms/step - loss: 1.7715 - accuracy: 0.4277 - val_loss: 1.7887 - val_accuracy: 0.4065\n",
            "Epoch 99/100\n",
            "17/17 [==============================] - 0s 3ms/step - loss: 1.7608 - accuracy: 0.4339 - val_loss: 1.7872 - val_accuracy: 0.4065\n",
            "Epoch 100/100\n",
            "17/17 [==============================] - 0s 3ms/step - loss: 1.7533 - accuracy: 0.4289 - val_loss: 1.7853 - val_accuracy: 0.4084\n",
            "==================================== LSTM ====================================\n",
            "検証用\n",
            "予測： [3 5 3 5 3 2 5 3 6 5 2 3 3 3 3 3 5 3 5 6]\n",
            "正解： [ 3  1  6  5 15  0  5  3  5  2 16  3  0  3  6  9  4  3  5  6]\n",
            "評価用\n",
            "予測： [3 5 5 5 3 5 5 3 3 3 5 3 5 6 5 3 5 3 3 3]\n",
            "正解： [ 3 10  5  5  3  3  0  3  3  4  5  2  5  3  2  3  5  6  2  6]\n",
            "valid_macroF1: 0.1131\n",
            "test_macroF1: 0.1125\n"
          ],
          "name": "stdout"
        }
      ]
    },
    {
      "cell_type": "markdown",
      "metadata": {
        "id": "AwtMDxGkAZaR"
      },
      "source": [
        "#### Random Forest Classifier"
      ]
    },
    {
      "cell_type": "code",
      "metadata": {
        "id": "FnNq6X3N-Uem",
        "colab": {
          "base_uri": "https://localhost:8080/",
          "height": 1000
        },
        "outputId": "9539e856-c89e-4203-d490-a67c054cda7c"
      },
      "source": [
        "from sklearn.ensemble import RandomForestClassifier as classifier\n",
        "\n",
        "# モデル定義\n",
        "clf = classifier(random_state=144)\n",
        "learn_pred_accuracy(clf, X_train, y_train, X_valid, y_valid, X_test, y_test)"
      ],
      "execution_count": 74,
      "outputs": [
        {
          "output_type": "stream",
          "text": [
            "検証True: 211\n",
            "検証False: 313\n",
            "検証正解率: 0.4026717557251908\n",
            "テストTrue: 211\n",
            "テストFalse: 314\n",
            "テスト正解率: 0.40190476190476193\n",
            "              precision    recall  f1-score   support\n",
            "\n",
            "           0       0.00      0.00      0.00        24\n",
            "           1       0.00      0.00      0.00        11\n",
            "           2       0.39      0.38      0.38        74\n",
            "           3       0.41      0.76      0.54       129\n",
            "           4       0.00      0.00      0.00        23\n",
            "           5       0.41      0.72      0.52       100\n",
            "           6       0.31      0.18      0.23        61\n",
            "           7       0.00      0.00      0.00         3\n",
            "           8       0.00      0.00      0.00         1\n",
            "           9       0.00      0.00      0.00        15\n",
            "          10       1.00      0.05      0.10        20\n",
            "          11       0.50      0.12      0.20         8\n",
            "          12       0.00      0.00      0.00        14\n",
            "          13       0.00      0.00      0.00        11\n",
            "          14       0.00      0.00      0.00         3\n",
            "          15       0.00      0.00      0.00        13\n",
            "          16       0.00      0.00      0.00        11\n",
            "          17       0.00      0.00      0.00         3\n",
            "          18       0.00      0.00      0.00         1\n",
            "\n",
            "    accuracy                           0.40       525\n",
            "   macro avg       0.16      0.12      0.10       525\n",
            "weighted avg       0.32      0.40      0.32       525\n",
            "\n",
            "検証正解： [ 3  1  6  5 15  0  5  3  5  2 16  3  0  3  6  9  4  3  5  6]\n",
            "検証予測： [3 5 3 5 3 2 5 3 3 5 2 3 3 3 3 3 5 3 2 3]\n",
            "test正解： [ 3 10  5  5  3  3  0  3  3  4  5  2  5  3  2  3  5  6  2  6]\n",
            "test予測： [3 5 5 5 3 5 5 3 3 3 5 2 5 3 5 3 5 3 2 3]\n"
          ],
          "name": "stdout"
        },
        {
          "output_type": "stream",
          "text": [
            "/usr/local/lib/python3.7/dist-packages/sklearn/metrics/_classification.py:1272: UndefinedMetricWarning: Precision and F-score are ill-defined and being set to 0.0 in labels with no predicted samples. Use `zero_division` parameter to control this behavior.\n",
            "  _warn_prf(average, modifier, msg_start, len(result))\n"
          ],
          "name": "stderr"
        },
        {
          "output_type": "display_data",
          "data": {
            "image/png": "[encoded data removed]",
            "text/plain": [
              "<Figure size 1440x504 with 2 Axes>"
            ]
          },
          "metadata": {
            "tags": [],
            "needs_background": "light"
          }
        },
        {
          "output_type": "display_data",
          "data": {
            "image/png": "[encoded data removed]",
            "text/plain": [
              "<Figure size 1224x360 with 4 Axes>"
            ]
          },
          "metadata": {
            "tags": [],
            "needs_background": "light"
          }
        }
      ]
    },
    {
      "cell_type": "markdown",
      "metadata": {
        "id": "X6qFVvNlHFuz"
      },
      "source": [
        "#### Naive Bayes"
      ]
    },
    {
      "cell_type": "code",
      "metadata": {
        "colab": {
          "base_uri": "https://localhost:8080/",
          "height": 1000
        },
        "id": "N_bxh4rWCCLw",
        "outputId": "8468f0b2-36b3-473a-9f9c-ed31245f0d9a"
      },
      "source": [
        "from sklearn.naive_bayes import MultinomialNB\n",
        "from sklearn import preprocessing\n",
        "\n",
        "clf = MultinomialNB(alpha=.01)\n",
        "mm = preprocessing.MinMaxScaler()\n",
        "try:\n",
        "  X_train_mm = mm.fit_transform(X_train)\n",
        "except:\n",
        "  X_train_mm = X_train\n",
        "try:\n",
        "  X_valid_mm = mm.transform(X_valid)\n",
        "except:\n",
        "  X_valid_mm = X_valid\n",
        "try:\n",
        "  X_test_mm = mm.transform(X_test)\n",
        "except:\n",
        "  X_test_mm = X_test\n",
        "learn_pred_accuracy(clf, X_train_mm, y_train, X_valid_mm, y_valid, X_test_mm, y_test)"
      ],
      "execution_count": null,
      "outputs": [
        {
          "output_type": "stream",
          "text": [
            "検証True: 161\n",
            "検証False: 363\n",
            "検証正解率: 0.30725190839694655\n",
            "テストTrue: 170\n",
            "テストFalse: 355\n",
            "テスト正解率: 0.3238095238095238\n",
            "              precision    recall  f1-score   support\n",
            "\n",
            "          12       0.00      0.00      0.00        24\n",
            "          14       0.00      0.00      0.00        11\n",
            "          16       1.00      0.04      0.08        74\n",
            "          18       0.29      0.95      0.45       129\n",
            "          27       0.00      0.00      0.00        23\n",
            "          28       0.43      0.45      0.44       100\n",
            "          35       0.00      0.00      0.00        61\n",
            "          36       0.00      0.00      0.00         3\n",
            "          37       0.00      0.00      0.00         1\n",
            "          53       0.00      0.00      0.00        15\n",
            "          80       0.00      0.00      0.00        20\n",
            "          99       0.00      0.00      0.00         8\n",
            "         878       0.00      0.00      0.00        14\n",
            "        9648       0.00      0.00      0.00        11\n",
            "       10402       0.00      0.00      0.00         3\n",
            "       10749       0.00      0.00      0.00        13\n",
            "       10751       0.00      0.00      0.00        11\n",
            "       10752       0.00      0.00      0.00         3\n",
            "       10770       0.00      0.00      0.00         1\n",
            "\n",
            "    accuracy                           0.32       525\n",
            "   macro avg       0.09      0.08      0.05       525\n",
            "weighted avg       0.29      0.32      0.20       525\n",
            "\n",
            "検証正解： [   18    14    35    28 10749    12    28    18    28    16 10751    18\n",
            "    12    18    35    53    27    18    28    35]\n",
            "検証予測： [18 28 18 28 18 28 28 18 18 18 18 18 18 18 18 18 18 18 28 18]\n",
            "test正解： [18 80 28 28 18 18 12 18 18 27 28 16 28 18 16 18 28 35 16 35]\n",
            "test予測： [18 18 18 18 18 18 28 18 18 18 18 18 28 18 28 18 28 18 18 18]\n"
          ],
          "name": "stdout"
        },
        {
          "output_type": "stream",
          "text": [
            "/usr/local/lib/python3.7/dist-packages/sklearn/metrics/_classification.py:1272: UndefinedMetricWarning: Precision and F-score are ill-defined and being set to 0.0 in labels with no predicted samples. Use `zero_division` parameter to control this behavior.\n",
            "  _warn_prf(average, modifier, msg_start, len(result))\n"
          ],
          "name": "stderr"
        },
        {
          "output_type": "display_data",
          "data": {
            "image/png": "[encoded data removed]",
            "text/plain": [
              "<Figure size 1440x504 with 2 Axes>"
            ]
          },
          "metadata": {
            "tags": [],
            "needs_background": "light"
          }
        },
        {
          "output_type": "display_data",
          "data": {
            "image/png": "[encoded data removed]",
            "text/plain": [
              "<Figure size 1224x360 with 4 Axes>"
            ]
          },
          "metadata": {
            "tags": [],
            "needs_background": "light"
          }
        }
      ]
    },
    {
      "cell_type": "markdown",
      "metadata": {
        "id": "ygNgSCFKJGJ_"
      },
      "source": [
        "#### XGB"
      ]
    },
    {
      "cell_type": "code",
      "metadata": {
        "id": "FzZa1Z9vHhe4"
      },
      "source": [
        "import xgboost as xgb\n",
        "from sklearn.metrics import mean_squared_error\n",
        "\n",
        "def predict_by_xgb():\n",
        "  # DMatrixに変換\n",
        "  dtrain = xgb.DMatrix(X_train, label=y_train)\n",
        "  dvalid = xgb.DMatrix(X_valid, label=y_valid)\n",
        "  dtest = xgb.DMatrix(X_test, label=y_test)\n",
        "\n",
        "  # ハイパーパラメータの設定\n",
        "  params = {'objective': 'multi:softmax',\n",
        "            'silent': 1,\n",
        "            'random_state': 144,\n",
        "            'eval_metric': 'auc',\n",
        "            'num_class': len(genres)}\n",
        "  # 学習回数\n",
        "  num_round = 500\n",
        "  # アーリーストッピング\n",
        "  es_round = 50\n",
        "\n",
        "  # 訓練データはdtrain、評価用のテストデータはdvalidで設定\n",
        "  watchlist = [(dtrain, 'train'), (dvalid, 'eval')]\n",
        "  # 学習\n",
        "  xgb_model = xgb.train(params,\n",
        "                    dtrain,\n",
        "                    num_round,\n",
        "                    evals=watchlist,\n",
        "                    early_stopping_rounds=es_round\n",
        "                    )\n",
        "  # 予測\n",
        "  y_pred_vali = xgb_model.predict(dvalid, ntree_limit = xgb_model.best_ntree_limit)\n",
        "  y_pred_test = xgb_model.predict(dtest, ntree_limit = xgb_model.best_ntree_limit)\n",
        "\n",
        "  # 正解データ\n",
        "  valid_true = np.array(y_valid)\n",
        "  test_true = np.array(y_test)\n",
        "  # 結果出力\n",
        "  print(f'{\"=\"*36} XGB Classifier {\"=\"*36}')\n",
        "  print('検証用')\n",
        "  print('予測：', y_pred_vali)\n",
        "  print('正解：', valid_true)\n",
        "  print('評価用')\n",
        "  print('予測：', y_pred_test)\n",
        "  print('正解：', test_true)\n",
        "  print(f'valid_RMSE: {np.sqrt(mean_squared_error(valid_true, y_pred_vali)):.4f}')\n",
        "  print(f'test_RMSE: {np.sqrt(mean_squared_error(test_true, y_pred_test)):.4f}')\n",
        "\n",
        "predict_by_xgb()"
      ],
      "execution_count": null,
      "outputs": []
    },
    {
      "cell_type": "code",
      "metadata": {
        "colab": {
          "base_uri": "https://localhost:8080/",
          "height": 1000
        },
        "id": "TXpcflZQLmdM",
        "outputId": "640494ff-3259-473c-dacb-1031059f8207"
      },
      "source": [
        "from xgboost import XGBClassifier\n",
        "\n",
        "clf = XGBClassifier(random_state=144, objective='binary:logistic')\n",
        "learn_pred_accuracy(clf, X_train, y_train, X_valid, y_valid, X_test, y_test)"
      ],
      "execution_count": null,
      "outputs": [
        {
          "output_type": "stream",
          "text": [
            "検証True: 208\n",
            "検証False: 316\n",
            "検証正解率: 0.3969465648854962\n",
            "テストTrue: 223\n",
            "テストFalse: 302\n",
            "テスト正解率: 0.4247619047619048\n",
            "              precision    recall  f1-score   support\n",
            "\n",
            "          12       0.00      0.00      0.00        24\n",
            "          14       0.00      0.00      0.00        11\n",
            "          16       0.42      0.50      0.45        74\n",
            "          18       0.46      0.67      0.54       129\n",
            "          27       0.20      0.09      0.12        23\n",
            "          28       0.47      0.68      0.55       100\n",
            "          35       0.39      0.36      0.37        61\n",
            "          36       0.00      0.00      0.00         3\n",
            "          37       0.00      0.00      0.00         1\n",
            "          53       0.00      0.00      0.00        15\n",
            "          80       0.80      0.20      0.32        20\n",
            "          99       0.00      0.00      0.00         8\n",
            "         878       0.14      0.07      0.10        14\n",
            "        9648       0.14      0.09      0.11        11\n",
            "       10402       0.00      0.00      0.00         3\n",
            "       10749       0.25      0.08      0.12        13\n",
            "       10751       1.00      0.09      0.17        11\n",
            "       10752       0.00      0.00      0.00         3\n",
            "       10770       0.00      0.00      0.00         1\n",
            "\n",
            "    accuracy                           0.42       525\n",
            "   macro avg       0.22      0.15      0.15       525\n",
            "weighted avg       0.38      0.42      0.37       525\n",
            "\n",
            "検証正解： [   18    14    35    28 10749    12    28    18    28    16 10751    18\n",
            "    12    18    35    53    27    18    28    35]\n",
            "検証予測： [18 28 18 28 18 28 28 18 18 28 16 18 18 18 18 18 28 18 28 18]\n",
            "test正解： [18 80 28 28 18 18 12 18 18 27 28 16 28 18 16 18 28 35 16 35]\n",
            "test予測： [18 28 16 28 18 28 28 18 18 14 28 16 28 35 28 27 28 18 18 18]\n"
          ],
          "name": "stdout"
        },
        {
          "output_type": "stream",
          "text": [
            "/usr/local/lib/python3.7/dist-packages/sklearn/metrics/_classification.py:1272: UndefinedMetricWarning: Precision and F-score are ill-defined and being set to 0.0 in labels with no predicted samples. Use `zero_division` parameter to control this behavior.\n",
            "  _warn_prf(average, modifier, msg_start, len(result))\n"
          ],
          "name": "stderr"
        },
        {
          "output_type": "display_data",
          "data": {
            "image/png": "[encoded data removed]",
            "text/plain": [
              "<Figure size 1440x504 with 2 Axes>"
            ]
          },
          "metadata": {
            "tags": [],
            "needs_background": "light"
          }
        },
        {
          "output_type": "display_data",
          "data": {
            "image/png": "[encoded data removed]",
            "text/plain": [
              "<Figure size 1224x360 with 4 Axes>"
            ]
          },
          "metadata": {
            "tags": [],
            "needs_background": "light"
          }
        }
      ]
    }
  ]
}