{
 "cells": [
  {
   "cell_type": "markdown",
   "metadata": {
    "id": "2Vx6WouTFd4N"
   },
   "source": [
    "# TMDbから得られた映画情報のマルチクラス・ラベル分類"
   ]
  },
  {
   "cell_type": "markdown",
   "metadata": {
    "id": "-DaUEp1QGGYO"
   },
   "source": [
    "## データ準備"
   ]
  },
  {
   "cell_type": "code",
   "execution_count": 1,
   "metadata": {
    "colab": {
     "base_uri": "https://localhost:8080/",
     "height": 759
    },
    "id": "_zT4lfaIFUmf",
    "outputId": "22c5f59b-46cc-4fce-f284-90a4ca1e7e73"
   },
   "outputs": [
    {
     "data": {
      "text/html": [
       "<div>\n",
       "<style scoped>\n",
       "    .dataframe tbody tr th:only-of-type {\n",
       "        vertical-align: middle;\n",
       "    }\n",
       "\n",
       "    .dataframe tbody tr th {\n",
       "        vertical-align: top;\n",
       "    }\n",
       "\n",
       "    .dataframe thead th {\n",
       "        text-align: right;\n",
       "    }\n",
       "</style>\n",
       "<table border=\"1\" class=\"dataframe\">\n",
       "  <thead>\n",
       "    <tr style=\"text-align: right;\">\n",
       "      <th></th>\n",
       "      <th>id</th>\n",
       "      <th>title</th>\n",
       "      <th>genres</th>\n",
       "      <th>release_date</th>\n",
       "      <th>popularity</th>\n",
       "      <th>vote_average</th>\n",
       "      <th>vote_count</th>\n",
       "      <th>overview</th>\n",
       "    </tr>\n",
       "  </thead>\n",
       "  <tbody>\n",
       "    <tr>\n",
       "      <th>0</th>\n",
       "      <td>364897</td>\n",
       "      <td>閃乱カグラESTIVAL VERSUS -水着だらけの前夜祭-</td>\n",
       "      <td>28,35,16</td>\n",
       "      <td>2015-04-24</td>\n",
       "      <td>1.301</td>\n",
       "      <td>10.0</td>\n",
       "      <td>1</td>\n",
       "      <td>2月。月閃女学館の雪泉と夜桜は雪中の実践修行をし、残りの3人は部屋でダラダラしていると豪華な...</td>\n",
       "    </tr>\n",
       "    <tr>\n",
       "      <th>1</th>\n",
       "      <td>190147</td>\n",
       "      <td>十字路</td>\n",
       "      <td>18</td>\n",
       "      <td>1928-05-11</td>\n",
       "      <td>0.989</td>\n",
       "      <td>7.2</td>\n",
       "      <td>9</td>\n",
       "      <td>江戸の裏町でひっそりと暮らす姉弟。弟はある女をめぐり傷害事件を起こしてしまう。一方姉は借金返...</td>\n",
       "    </tr>\n",
       "    <tr>\n",
       "      <th>2</th>\n",
       "      <td>143</td>\n",
       "      <td>西部戦線異状なし</td>\n",
       "      <td>18,10752</td>\n",
       "      <td>1930-10-24</td>\n",
       "      <td>11.206</td>\n",
       "      <td>7.8</td>\n",
       "      <td>457</td>\n",
       "      <td>第1次大戦がはじまってまもない、ドイツのある町。群衆の歓声に送られて、戦場へ向かう大部隊が進...</td>\n",
       "    </tr>\n",
       "    <tr>\n",
       "      <th>3</th>\n",
       "      <td>3063</td>\n",
       "      <td>我輩はカモである</td>\n",
       "      <td>35,10752</td>\n",
       "      <td>1934-01-27</td>\n",
       "      <td>7.993</td>\n",
       "      <td>7.4</td>\n",
       "      <td>511</td>\n",
       "      <td>財政難のフリードニア共和国は、富豪夫人の援助を受けるため、彼女の愛人を宰相に就任させる。それ...</td>\n",
       "    </tr>\n",
       "    <tr>\n",
       "      <th>4</th>\n",
       "      <td>630</td>\n",
       "      <td>オズの魔法使</td>\n",
       "      <td>12,14,10751</td>\n",
       "      <td>1954-12-25</td>\n",
       "      <td>51.605</td>\n",
       "      <td>7.6</td>\n",
       "      <td>4176</td>\n",
       "      <td>カンザスの農場でおじさん夫婦と一緒に暮らす少女ドロシーは、ある日、竜巻に家ごと上空に巻き上げ...</td>\n",
       "    </tr>\n",
       "    <tr>\n",
       "      <th>...</th>\n",
       "      <td>...</td>\n",
       "      <td>...</td>\n",
       "      <td>...</td>\n",
       "      <td>...</td>\n",
       "      <td>...</td>\n",
       "      <td>...</td>\n",
       "      <td>...</td>\n",
       "      <td>...</td>\n",
       "    </tr>\n",
       "    <tr>\n",
       "      <th>5240</th>\n",
       "      <td>744392</td>\n",
       "      <td>架空OL日記</td>\n",
       "      <td>35</td>\n",
       "      <td>2020-02-28</td>\n",
       "      <td>0.600</td>\n",
       "      <td>6.5</td>\n",
       "      <td>2</td>\n",
       "      <td>お笑い芸人のバカリズムが主演や脚本を務め、2017年に放送された連続ドラマの劇場版。原作は、...</td>\n",
       "    </tr>\n",
       "    <tr>\n",
       "      <th>5241</th>\n",
       "      <td>718498</td>\n",
       "      <td>あのこは貴族</td>\n",
       "      <td>18</td>\n",
       "      <td>2021-02-26</td>\n",
       "      <td>0.600</td>\n",
       "      <td>0.0</td>\n",
       "      <td>0</td>\n",
       "      <td>都会の異なる環境を生きる2人の女性が、恋愛や結婚だけではない人生を切り拓く姿を描くシスターフ...</td>\n",
       "    </tr>\n",
       "    <tr>\n",
       "      <th>5242</th>\n",
       "      <td>704933</td>\n",
       "      <td>仮面病棟</td>\n",
       "      <td>80,53</td>\n",
       "      <td>2020-03-06</td>\n",
       "      <td>0.717</td>\n",
       "      <td>6.7</td>\n",
       "      <td>3</td>\n",
       "      <td>医師の速水(坂口健太郎)は、一日だけの当直医として元精神科病院に出向く。だがピエロの仮面をか...</td>\n",
       "    </tr>\n",
       "    <tr>\n",
       "      <th>5243</th>\n",
       "      <td>695376</td>\n",
       "      <td>水曜日が消えた</td>\n",
       "      <td>9648</td>\n",
       "      <td>2020-05-15</td>\n",
       "      <td>1.400</td>\n",
       "      <td>6.0</td>\n",
       "      <td>1</td>\n",
       "      <td>幼少期の交通事故が原因で、曜日ごとに7人の人格が入れ替わる青年は、思考や性格はバラバラだが、...</td>\n",
       "    </tr>\n",
       "    <tr>\n",
       "      <th>5244</th>\n",
       "      <td>675392</td>\n",
       "      <td>バジャのスタジオ ～バジャのみた海～</td>\n",
       "      <td>16,10751,14</td>\n",
       "      <td>2020-02-21</td>\n",
       "      <td>0.600</td>\n",
       "      <td>7.0</td>\n",
       "      <td>1</td>\n",
       "      <td>夢にあふれるアニメーションを作っている「KOHATAアニメスタジオ」。ここで働く人たちに育て...</td>\n",
       "    </tr>\n",
       "  </tbody>\n",
       "</table>\n",
       "<p>5245 rows × 8 columns</p>\n",
       "</div>"
      ],
      "text/plain": [
       "          id  ...                                           overview\n",
       "0     364897  ...  2月。月閃女学館の雪泉と夜桜は雪中の実践修行をし、残りの3人は部屋でダラダラしていると豪華な...\n",
       "1     190147  ...  江戸の裏町でひっそりと暮らす姉弟。弟はある女をめぐり傷害事件を起こしてしまう。一方姉は借金返...\n",
       "2        143  ...  第1次大戦がはじまってまもない、ドイツのある町。群衆の歓声に送られて、戦場へ向かう大部隊が進...\n",
       "3       3063  ...  財政難のフリードニア共和国は、富豪夫人の援助を受けるため、彼女の愛人を宰相に就任させる。それ...\n",
       "4        630  ...  カンザスの農場でおじさん夫婦と一緒に暮らす少女ドロシーは、ある日、竜巻に家ごと上空に巻き上げ...\n",
       "...      ...  ...                                                ...\n",
       "5240  744392  ...  お笑い芸人のバカリズムが主演や脚本を務め、2017年に放送された連続ドラマの劇場版。原作は、...\n",
       "5241  718498  ...  都会の異なる環境を生きる2人の女性が、恋愛や結婚だけではない人生を切り拓く姿を描くシスターフ...\n",
       "5242  704933  ...  医師の速水(坂口健太郎)は、一日だけの当直医として元精神科病院に出向く。だがピエロの仮面をか...\n",
       "5243  695376  ...  幼少期の交通事故が原因で、曜日ごとに7人の人格が入れ替わる青年は、思考や性格はバラバラだが、...\n",
       "5244  675392  ...  夢にあふれるアニメーションを作っている「KOHATAアニメスタジオ」。ここで働く人たちに育て...\n",
       "\n",
       "[5245 rows x 8 columns]"
      ]
     },
     "execution_count": 1,
     "metadata": {
      "tags": []
     },
     "output_type": "execute_result"
    }
   ],
   "source": [
    "import pandas as pd\n",
    "import numpy as np\n",
    "import matplotlib.pyplot as plt\n",
    "%matplotlib inline\n",
    "import seaborn as sns\n",
    "\n",
    "data_path = 'df'\n",
    "\n",
    "df = pd.read_csv(f'{data_path}/tmdb_movies.csv')\n",
    "df"
   ]
  },
  {
   "cell_type": "code",
   "execution_count": 2,
   "metadata": {
    "colab": {
     "base_uri": "https://localhost:8080/"
    },
    "id": "Vx32TYpfg2hS",
    "outputId": "2e392122-bd42-4e31-ce1b-01085f38d396"
   },
   "outputs": [
    {
     "data": {
      "text/plain": [
       "[12,\n",
       " 14,\n",
       " 16,\n",
       " 18,\n",
       " 27,\n",
       " 28,\n",
       " 35,\n",
       " 36,\n",
       " 37,\n",
       " 53,\n",
       " 80,\n",
       " 99,\n",
       " 878,\n",
       " 9648,\n",
       " 10402,\n",
       " 10749,\n",
       " 10751,\n",
       " 10752,\n",
       " 10770]"
      ]
     },
     "execution_count": 2,
     "metadata": {
      "tags": []
     },
     "output_type": "execute_result"
    }
   ],
   "source": [
    "def count_genre_kind(x):\n",
    "  return list(map(int, x.split(',')))\n",
    "\n",
    "\n",
    "genres = list(set(sum(df['genres'].map(count_genre_kind).tolist(), [])))\n",
    "genres.sort()\n",
    "genres"
   ]
  },
  {
   "cell_type": "code",
   "execution_count": 3,
   "metadata": {
    "colab": {
     "base_uri": "https://localhost:8080/",
     "height": 1000
    },
    "id": "ySHc7ucDhCbQ",
    "outputId": "42bde43d-adc0-48c0-900a-c57ddb9e6d76"
   },
   "outputs": [
    {
     "data": {
      "text/html": [
       "<div>\n",
       "<style scoped>\n",
       "    .dataframe tbody tr th:only-of-type {\n",
       "        vertical-align: middle;\n",
       "    }\n",
       "\n",
       "    .dataframe tbody tr th {\n",
       "        vertical-align: top;\n",
       "    }\n",
       "\n",
       "    .dataframe thead th {\n",
       "        text-align: right;\n",
       "    }\n",
       "</style>\n",
       "<table border=\"1\" class=\"dataframe\">\n",
       "  <thead>\n",
       "    <tr style=\"text-align: right;\">\n",
       "      <th></th>\n",
       "      <th>id</th>\n",
       "      <th>title</th>\n",
       "      <th>genres</th>\n",
       "      <th>release_date</th>\n",
       "      <th>popularity</th>\n",
       "      <th>vote_average</th>\n",
       "      <th>vote_count</th>\n",
       "      <th>overview</th>\n",
       "      <th>genre_12</th>\n",
       "      <th>genre_14</th>\n",
       "      <th>genre_16</th>\n",
       "      <th>genre_18</th>\n",
       "      <th>genre_27</th>\n",
       "      <th>genre_28</th>\n",
       "      <th>genre_35</th>\n",
       "      <th>genre_36</th>\n",
       "      <th>genre_37</th>\n",
       "      <th>genre_53</th>\n",
       "      <th>genre_80</th>\n",
       "      <th>genre_99</th>\n",
       "      <th>genre_878</th>\n",
       "      <th>genre_9648</th>\n",
       "      <th>genre_10402</th>\n",
       "      <th>genre_10749</th>\n",
       "      <th>genre_10751</th>\n",
       "      <th>genre_10752</th>\n",
       "      <th>genre_10770</th>\n",
       "    </tr>\n",
       "  </thead>\n",
       "  <tbody>\n",
       "    <tr>\n",
       "      <th>0</th>\n",
       "      <td>364897</td>\n",
       "      <td>閃乱カグラESTIVAL VERSUS -水着だらけの前夜祭-</td>\n",
       "      <td>28,35,16</td>\n",
       "      <td>2015-04-24</td>\n",
       "      <td>1.301</td>\n",
       "      <td>10.0</td>\n",
       "      <td>1</td>\n",
       "      <td>2月。月閃女学館の雪泉と夜桜は雪中の実践修行をし、残りの3人は部屋でダラダラしていると豪華な...</td>\n",
       "      <td>0</td>\n",
       "      <td>0</td>\n",
       "      <td>1</td>\n",
       "      <td>0</td>\n",
       "      <td>0</td>\n",
       "      <td>1</td>\n",
       "      <td>1</td>\n",
       "      <td>0</td>\n",
       "      <td>0</td>\n",
       "      <td>0</td>\n",
       "      <td>0</td>\n",
       "      <td>0</td>\n",
       "      <td>0</td>\n",
       "      <td>0</td>\n",
       "      <td>0</td>\n",
       "      <td>0</td>\n",
       "      <td>0</td>\n",
       "      <td>0</td>\n",
       "      <td>0</td>\n",
       "    </tr>\n",
       "    <tr>\n",
       "      <th>1</th>\n",
       "      <td>190147</td>\n",
       "      <td>十字路</td>\n",
       "      <td>18</td>\n",
       "      <td>1928-05-11</td>\n",
       "      <td>0.989</td>\n",
       "      <td>7.2</td>\n",
       "      <td>9</td>\n",
       "      <td>江戸の裏町でひっそりと暮らす姉弟。弟はある女をめぐり傷害事件を起こしてしまう。一方姉は借金返...</td>\n",
       "      <td>0</td>\n",
       "      <td>0</td>\n",
       "      <td>0</td>\n",
       "      <td>1</td>\n",
       "      <td>0</td>\n",
       "      <td>0</td>\n",
       "      <td>0</td>\n",
       "      <td>0</td>\n",
       "      <td>0</td>\n",
       "      <td>0</td>\n",
       "      <td>0</td>\n",
       "      <td>0</td>\n",
       "      <td>0</td>\n",
       "      <td>0</td>\n",
       "      <td>0</td>\n",
       "      <td>0</td>\n",
       "      <td>0</td>\n",
       "      <td>0</td>\n",
       "      <td>0</td>\n",
       "    </tr>\n",
       "    <tr>\n",
       "      <th>2</th>\n",
       "      <td>143</td>\n",
       "      <td>西部戦線異状なし</td>\n",
       "      <td>18,10752</td>\n",
       "      <td>1930-10-24</td>\n",
       "      <td>11.206</td>\n",
       "      <td>7.8</td>\n",
       "      <td>457</td>\n",
       "      <td>第1次大戦がはじまってまもない、ドイツのある町。群衆の歓声に送られて、戦場へ向かう大部隊が進...</td>\n",
       "      <td>0</td>\n",
       "      <td>0</td>\n",
       "      <td>0</td>\n",
       "      <td>1</td>\n",
       "      <td>0</td>\n",
       "      <td>0</td>\n",
       "      <td>0</td>\n",
       "      <td>0</td>\n",
       "      <td>0</td>\n",
       "      <td>0</td>\n",
       "      <td>0</td>\n",
       "      <td>0</td>\n",
       "      <td>0</td>\n",
       "      <td>0</td>\n",
       "      <td>0</td>\n",
       "      <td>0</td>\n",
       "      <td>0</td>\n",
       "      <td>1</td>\n",
       "      <td>0</td>\n",
       "    </tr>\n",
       "    <tr>\n",
       "      <th>3</th>\n",
       "      <td>3063</td>\n",
       "      <td>我輩はカモである</td>\n",
       "      <td>35,10752</td>\n",
       "      <td>1934-01-27</td>\n",
       "      <td>7.993</td>\n",
       "      <td>7.4</td>\n",
       "      <td>511</td>\n",
       "      <td>財政難のフリードニア共和国は、富豪夫人の援助を受けるため、彼女の愛人を宰相に就任させる。それ...</td>\n",
       "      <td>0</td>\n",
       "      <td>0</td>\n",
       "      <td>0</td>\n",
       "      <td>0</td>\n",
       "      <td>0</td>\n",
       "      <td>0</td>\n",
       "      <td>1</td>\n",
       "      <td>0</td>\n",
       "      <td>0</td>\n",
       "      <td>0</td>\n",
       "      <td>0</td>\n",
       "      <td>0</td>\n",
       "      <td>0</td>\n",
       "      <td>0</td>\n",
       "      <td>0</td>\n",
       "      <td>0</td>\n",
       "      <td>0</td>\n",
       "      <td>1</td>\n",
       "      <td>0</td>\n",
       "    </tr>\n",
       "    <tr>\n",
       "      <th>4</th>\n",
       "      <td>630</td>\n",
       "      <td>オズの魔法使</td>\n",
       "      <td>12,14,10751</td>\n",
       "      <td>1954-12-25</td>\n",
       "      <td>51.605</td>\n",
       "      <td>7.6</td>\n",
       "      <td>4176</td>\n",
       "      <td>カンザスの農場でおじさん夫婦と一緒に暮らす少女ドロシーは、ある日、竜巻に家ごと上空に巻き上げ...</td>\n",
       "      <td>1</td>\n",
       "      <td>1</td>\n",
       "      <td>0</td>\n",
       "      <td>0</td>\n",
       "      <td>0</td>\n",
       "      <td>0</td>\n",
       "      <td>0</td>\n",
       "      <td>0</td>\n",
       "      <td>0</td>\n",
       "      <td>0</td>\n",
       "      <td>0</td>\n",
       "      <td>0</td>\n",
       "      <td>0</td>\n",
       "      <td>0</td>\n",
       "      <td>0</td>\n",
       "      <td>0</td>\n",
       "      <td>1</td>\n",
       "      <td>0</td>\n",
       "      <td>0</td>\n",
       "    </tr>\n",
       "  </tbody>\n",
       "</table>\n",
       "</div>"
      ],
      "text/plain": [
       "       id                            title  ... genre_10752 genre_10770\n",
       "0  364897  閃乱カグラESTIVAL VERSUS -水着だらけの前夜祭-  ...           0           0\n",
       "1  190147                              十字路  ...           0           0\n",
       "2     143                         西部戦線異状なし  ...           1           0\n",
       "3    3063                         我輩はカモである  ...           1           0\n",
       "4     630                           オズの魔法使  ...           0           0\n",
       "\n",
       "[5 rows x 27 columns]"
      ]
     },
     "execution_count": 3,
     "metadata": {
      "tags": []
     },
     "output_type": "execute_result"
    }
   ],
   "source": [
    "def get_genre_list(x):\n",
    "  x_l = list(map(int, x.split(',')))\n",
    "  genre_label = [0 for i in range(len(genres))]\n",
    "  for xl in x_l:\n",
    "    for idx, genre in enumerate(genres):\n",
    "      if xl == genre:\n",
    "        genre_label[idx] = 1\n",
    "\n",
    "  return genre_label\n",
    "\n",
    "genre_labels = np.array(df['genres'].map(get_genre_list).tolist()).T.tolist()\n",
    "for idx, genre in enumerate(genres):\n",
    "  df[f'genre_{genre}'] = genre_labels[idx]\n",
    "\n",
    "df.head()"
   ]
  },
  {
   "cell_type": "markdown",
   "metadata": {
    "id": "IAxypO2lrnTO"
   },
   "source": [
    "## マルチクラス分類"
   ]
  },
  {
   "cell_type": "markdown",
   "metadata": {
    "id": "MPAeV1UgrpmS"
   },
   "source": [
    "### 前処理"
   ]
  },
  {
   "cell_type": "code",
   "execution_count": 4,
   "metadata": {
    "colab": {
     "base_uri": "https://localhost:8080/",
     "height": 289
    },
    "id": "8rTjbyeZrIy6",
    "outputId": "157596ee-c0c1-4178-e083-a0ca49f57f00"
   },
   "outputs": [
    {
     "data": {
      "text/html": [
       "<div>\n",
       "<style scoped>\n",
       "    .dataframe tbody tr th:only-of-type {\n",
       "        vertical-align: middle;\n",
       "    }\n",
       "\n",
       "    .dataframe tbody tr th {\n",
       "        vertical-align: top;\n",
       "    }\n",
       "\n",
       "    .dataframe thead th {\n",
       "        text-align: right;\n",
       "    }\n",
       "</style>\n",
       "<table border=\"1\" class=\"dataframe\">\n",
       "  <thead>\n",
       "    <tr style=\"text-align: right;\">\n",
       "      <th></th>\n",
       "      <th>title</th>\n",
       "      <th>genres</th>\n",
       "      <th>overview</th>\n",
       "    </tr>\n",
       "  </thead>\n",
       "  <tbody>\n",
       "    <tr>\n",
       "      <th>0</th>\n",
       "      <td>閃乱カグラESTIVAL VERSUS -水着だらけの前夜祭-</td>\n",
       "      <td>28,35,16</td>\n",
       "      <td>2月。月閃女学館の雪泉と夜桜は雪中の実践修行をし、残りの3人は部屋でダラダラしていると豪華な...</td>\n",
       "    </tr>\n",
       "    <tr>\n",
       "      <th>1</th>\n",
       "      <td>十字路</td>\n",
       "      <td>18</td>\n",
       "      <td>江戸の裏町でひっそりと暮らす姉弟。弟はある女をめぐり傷害事件を起こしてしまう。一方姉は借金返...</td>\n",
       "    </tr>\n",
       "    <tr>\n",
       "      <th>2</th>\n",
       "      <td>西部戦線異状なし</td>\n",
       "      <td>18,10752</td>\n",
       "      <td>第1次大戦がはじまってまもない、ドイツのある町。群衆の歓声に送られて、戦場へ向かう大部隊が進...</td>\n",
       "    </tr>\n",
       "    <tr>\n",
       "      <th>3</th>\n",
       "      <td>我輩はカモである</td>\n",
       "      <td>35,10752</td>\n",
       "      <td>財政難のフリードニア共和国は、富豪夫人の援助を受けるため、彼女の愛人を宰相に就任させる。それ...</td>\n",
       "    </tr>\n",
       "    <tr>\n",
       "      <th>4</th>\n",
       "      <td>オズの魔法使</td>\n",
       "      <td>12,14,10751</td>\n",
       "      <td>カンザスの農場でおじさん夫婦と一緒に暮らす少女ドロシーは、ある日、竜巻に家ごと上空に巻き上げ...</td>\n",
       "    </tr>\n",
       "  </tbody>\n",
       "</table>\n",
       "</div>"
      ],
      "text/plain": [
       "                             title  ...                                           overview\n",
       "0  閃乱カグラESTIVAL VERSUS -水着だらけの前夜祭-  ...  2月。月閃女学館の雪泉と夜桜は雪中の実践修行をし、残りの3人は部屋でダラダラしていると豪華な...\n",
       "1                              十字路  ...  江戸の裏町でひっそりと暮らす姉弟。弟はある女をめぐり傷害事件を起こしてしまう。一方姉は借金返...\n",
       "2                         西部戦線異状なし  ...  第1次大戦がはじまってまもない、ドイツのある町。群衆の歓声に送られて、戦場へ向かう大部隊が進...\n",
       "3                         我輩はカモである  ...  財政難のフリードニア共和国は、富豪夫人の援助を受けるため、彼女の愛人を宰相に就任させる。それ...\n",
       "4                           オズの魔法使  ...  カンザスの農場でおじさん夫婦と一緒に暮らす少女ドロシーは、ある日、竜巻に家ごと上空に巻き上げ...\n",
       "\n",
       "[5 rows x 3 columns]"
      ]
     },
     "execution_count": 4,
     "metadata": {
      "tags": []
     },
     "output_type": "execute_result"
    }
   ],
   "source": [
    "# マルチクラス用のdfを違うオブジェクトで生成し、必要な列のみ抽出\n",
    "mclass_df = df.copy()[['title', 'genres', 'overview']]\n",
    "mclass_df.head()"
   ]
  },
  {
   "cell_type": "code",
   "execution_count": 5,
   "metadata": {
    "colab": {
     "base_uri": "https://localhost:8080/",
     "height": 204
    },
    "id": "Qgyg-K60sblp",
    "outputId": "7c7a87a9-7a6f-40d6-e91c-90d406b6ab0e"
   },
   "outputs": [
    {
     "data": {
      "text/html": [
       "<div>\n",
       "<style scoped>\n",
       "    .dataframe tbody tr th:only-of-type {\n",
       "        vertical-align: middle;\n",
       "    }\n",
       "\n",
       "    .dataframe tbody tr th {\n",
       "        vertical-align: top;\n",
       "    }\n",
       "\n",
       "    .dataframe thead th {\n",
       "        text-align: right;\n",
       "    }\n",
       "</style>\n",
       "<table border=\"1\" class=\"dataframe\">\n",
       "  <thead>\n",
       "    <tr style=\"text-align: right;\">\n",
       "      <th></th>\n",
       "      <th>TITLE</th>\n",
       "      <th>OVERVIEW</th>\n",
       "      <th>TARGET</th>\n",
       "    </tr>\n",
       "  </thead>\n",
       "  <tbody>\n",
       "    <tr>\n",
       "      <th>0</th>\n",
       "      <td>閃乱カグラESTIVAL VERSUS -水着だらけの前夜祭-</td>\n",
       "      <td>2月。月閃女学館の雪泉と夜桜は雪中の実践修行をし、残りの3人は部屋でダラダラしていると豪華な...</td>\n",
       "      <td>28</td>\n",
       "    </tr>\n",
       "    <tr>\n",
       "      <th>1</th>\n",
       "      <td>十字路</td>\n",
       "      <td>江戸の裏町でひっそりと暮らす姉弟。弟はある女をめぐり傷害事件を起こしてしまう。一方姉は借金返...</td>\n",
       "      <td>18</td>\n",
       "    </tr>\n",
       "    <tr>\n",
       "      <th>2</th>\n",
       "      <td>西部戦線異状なし</td>\n",
       "      <td>第1次大戦がはじまってまもない、ドイツのある町。群衆の歓声に送られて、戦場へ向かう大部隊が進...</td>\n",
       "      <td>18</td>\n",
       "    </tr>\n",
       "    <tr>\n",
       "      <th>3</th>\n",
       "      <td>我輩はカモである</td>\n",
       "      <td>財政難のフリードニア共和国は、富豪夫人の援助を受けるため、彼女の愛人を宰相に就任させる。それ...</td>\n",
       "      <td>35</td>\n",
       "    </tr>\n",
       "    <tr>\n",
       "      <th>4</th>\n",
       "      <td>オズの魔法使</td>\n",
       "      <td>カンザスの農場でおじさん夫婦と一緒に暮らす少女ドロシーは、ある日、竜巻に家ごと上空に巻き上げ...</td>\n",
       "      <td>12</td>\n",
       "    </tr>\n",
       "  </tbody>\n",
       "</table>\n",
       "</div>"
      ],
      "text/plain": [
       "                             TITLE  ... TARGET\n",
       "0  閃乱カグラESTIVAL VERSUS -水着だらけの前夜祭-  ...     28\n",
       "1                              十字路  ...     18\n",
       "2                         西部戦線異状なし  ...     18\n",
       "3                         我輩はカモである  ...     35\n",
       "4                           オズの魔法使  ...     12\n",
       "\n",
       "[5 rows x 3 columns]"
      ]
     },
     "execution_count": 5,
     "metadata": {
      "tags": []
     },
     "output_type": "execute_result"
    }
   ],
   "source": [
    "# genresの先頭を予測対象とする\n",
    "def set_target(x):\n",
    "  return int(x.split(',')[0])\n",
    "\n",
    "# ジャンルの予測対象をセット\n",
    "mclass_df['target'] = mclass_df['genres'].map(set_target)\n",
    "# 必要な情報のみにそぎ落とし、全てのカラムを大文字化\n",
    "mclass_df = mclass_df[['title', 'overview', 'target']].rename(columns=str.upper)\n",
    "mclass_df.head()"
   ]
  },
  {
   "cell_type": "code",
   "execution_count": 6,
   "metadata": {
    "id": "lZW-8ljzt-Wt"
   },
   "outputs": [],
   "source": [
    "import re\n",
    "\n",
    "# テキストの前処理\n",
    "def preprocessing(text):\n",
    "  # 全角 => 半角\n",
    "  text = text.translate(str.maketrans({chr(0xFF01 + i): chr(0x21 + i) for i in range(94)}))\n",
    "  # 英語大文字を小文字化\n",
    "  text = text.lower()\n",
    "  # 削除する文字列\n",
    "  remove_list = ['\\n', '　', ' ']\n",
    "  for rem_word in remove_list:\n",
    "    text = text.replace(rem_word, '')\n",
    "  # 数字列を0に置換\n",
    "  text = re.sub('[0-9]+', '0', text)\n",
    "\n",
    "  return text"
   ]
  },
  {
   "cell_type": "code",
   "execution_count": 7,
   "metadata": {
    "colab": {
     "base_uri": "https://localhost:8080/",
     "height": 204
    },
    "id": "02cB1vbsvp2T",
    "outputId": "1b6b4e2e-cc39-416f-82c9-6a54e1d0a69a"
   },
   "outputs": [
    {
     "data": {
      "text/html": [
       "<div>\n",
       "<style scoped>\n",
       "    .dataframe tbody tr th:only-of-type {\n",
       "        vertical-align: middle;\n",
       "    }\n",
       "\n",
       "    .dataframe tbody tr th {\n",
       "        vertical-align: top;\n",
       "    }\n",
       "\n",
       "    .dataframe thead th {\n",
       "        text-align: right;\n",
       "    }\n",
       "</style>\n",
       "<table border=\"1\" class=\"dataframe\">\n",
       "  <thead>\n",
       "    <tr style=\"text-align: right;\">\n",
       "      <th></th>\n",
       "      <th>TITLE</th>\n",
       "      <th>OVERVIEW</th>\n",
       "      <th>TARGET</th>\n",
       "    </tr>\n",
       "  </thead>\n",
       "  <tbody>\n",
       "    <tr>\n",
       "      <th>0</th>\n",
       "      <td>閃乱カグラESTIVAL VERSUS -水着だらけの前夜祭-</td>\n",
       "      <td>0月。月閃女学館の雪泉と夜桜は雪中の実践修行をし、残りの0人は部屋でダラダラしていると豪華な...</td>\n",
       "      <td>28</td>\n",
       "    </tr>\n",
       "    <tr>\n",
       "      <th>1</th>\n",
       "      <td>十字路</td>\n",
       "      <td>江戸の裏町でひっそりと暮らす姉弟。弟はある女をめぐり傷害事件を起こしてしまう。一方姉は借金返...</td>\n",
       "      <td>18</td>\n",
       "    </tr>\n",
       "    <tr>\n",
       "      <th>2</th>\n",
       "      <td>西部戦線異状なし</td>\n",
       "      <td>第0次大戦がはじまってまもない、ドイツのある町。群衆の歓声に送られて、戦場へ向かう大部隊が進...</td>\n",
       "      <td>18</td>\n",
       "    </tr>\n",
       "    <tr>\n",
       "      <th>3</th>\n",
       "      <td>我輩はカモである</td>\n",
       "      <td>財政難のフリードニア共和国は、富豪夫人の援助を受けるため、彼女の愛人を宰相に就任させる。それ...</td>\n",
       "      <td>35</td>\n",
       "    </tr>\n",
       "    <tr>\n",
       "      <th>4</th>\n",
       "      <td>オズの魔法使</td>\n",
       "      <td>カンザスの農場でおじさん夫婦と一緒に暮らす少女ドロシーは、ある日、竜巻に家ごと上空に巻き上げ...</td>\n",
       "      <td>12</td>\n",
       "    </tr>\n",
       "  </tbody>\n",
       "</table>\n",
       "</div>"
      ],
      "text/plain": [
       "                             TITLE  ... TARGET\n",
       "0  閃乱カグラESTIVAL VERSUS -水着だらけの前夜祭-  ...     28\n",
       "1                              十字路  ...     18\n",
       "2                         西部戦線異状なし  ...     18\n",
       "3                         我輩はカモである  ...     35\n",
       "4                           オズの魔法使  ...     12\n",
       "\n",
       "[5 rows x 3 columns]"
      ]
     },
     "execution_count": 7,
     "metadata": {
      "tags": []
     },
     "output_type": "execute_result"
    }
   ],
   "source": [
    "mclass_df['OVERVIEW'] += mclass_df['TITLE']\n",
    "mclass_df['OVERVIEW'] = mclass_df['OVERVIEW'].map(preprocessing)\n",
    "mclass_df.head()"
   ]
  },
  {
   "cell_type": "markdown",
   "metadata": {
    "id": "-uN_UnLqxJ-l"
   },
   "source": [
    "### Mecabインストール"
   ]
  },
  {
   "cell_type": "code",
   "execution_count": null,
   "metadata": {
    "id": "H6fkRquvxGXc"
   },
   "outputs": [],
   "source": [
    "!apt install aptitude\n",
    "!aptitude install mecab libmecab-dev mecab-ipadic-utf8 git make curl xz-utils file -y\n",
    "!pip install mecab-python3==0.7\n",
    "\n",
    "!git clone --depth 1 https://github.com/neologd/mecab-ipadic-neologd.git\n",
    "!echo yes | mecab-ipadic-neologd/bin/install-mecab-ipadic-neologd -n\n",
    "\n",
    "!sed -e \"s!/var/lib/mecab/dic/debian!/usr/lib/x86_64-linux-gnu/mecab/dic/mecab-ipadic-neologd!g\" /etc/mecabrc &gt; /etc/mecabrc.new\n",
    "!cp /etc/mecabrc /etc/mecabrc.org\n",
    "!cp /etc/mecabrc.new /etc/mecabrc"
   ]
  },
  {
   "cell_type": "markdown",
   "metadata": {
    "id": "tsB-KEY_xqDG"
   },
   "source": [
    "### 分かち書き"
   ]
  },
  {
   "cell_type": "code",
   "execution_count": 9,
   "metadata": {
    "id": "EMDmoPVXxNNq"
   },
   "outputs": [],
   "source": [
    "import MeCab\n",
    "\n",
    "def tokenize(text, target_pos=list(('名詞', '形容詞', '形容動詞', '動詞', '副詞'))):\n",
    "  tokens = []\n",
    "  mecab = MeCab.Tagger ('-d /usr/lib/x86_64-linux-gnu/mecab/dic/mecab-ipadic-neologd')\n",
    "  mecab.parse('') #文字列がGCされるのを防ぐ\n",
    "  node = mecab.parseToNode(text)\n",
    "  while node:\n",
    "    #単語を取得\n",
    "    word = node.surface\n",
    "    #品詞を取得\n",
    "    pos = node.feature.split(',')[0]\n",
    "    # 名詞の場合のみ抽出\n",
    "    if pos in target_pos:\n",
    "      tokens.append(word)\n",
    "    #次の単語に進める\n",
    "    node = node.next\n",
    "  return tokens"
   ]
  },
  {
   "cell_type": "code",
   "execution_count": 74,
   "metadata": {
    "colab": {
     "base_uri": "https://localhost:8080/"
    },
    "id": "pRPNG8O1xvnp",
    "outputId": "76fea66d-2a1d-4511-f8c0-deb057e3977f"
   },
   "outputs": [
    {
     "data": {
      "text/plain": [
       "['隣', '気', 'なる', '髪', '短い', '子']"
      ]
     },
     "execution_count": 74,
     "metadata": {
      "tags": []
     },
     "output_type": "execute_result"
    }
   ],
   "source": [
    "# 分かち書きテスト\n",
    "#tokenize('あの隣の気になる髪の短い子')"
   ]
  },
  {
   "cell_type": "code",
   "execution_count": 10,
   "metadata": {
    "colab": {
     "base_uri": "https://localhost:8080/",
     "height": 289
    },
    "id": "I40OJGLRx1HQ",
    "outputId": "e0899e1f-0639-46a0-c72f-fc1a7bfa03e5"
   },
   "outputs": [
    {
     "data": {
      "text/html": [
       "<div>\n",
       "<style scoped>\n",
       "    .dataframe tbody tr th:only-of-type {\n",
       "        vertical-align: middle;\n",
       "    }\n",
       "\n",
       "    .dataframe tbody tr th {\n",
       "        vertical-align: top;\n",
       "    }\n",
       "\n",
       "    .dataframe thead th {\n",
       "        text-align: right;\n",
       "    }\n",
       "</style>\n",
       "<table border=\"1\" class=\"dataframe\">\n",
       "  <thead>\n",
       "    <tr style=\"text-align: right;\">\n",
       "      <th></th>\n",
       "      <th>TITLE</th>\n",
       "      <th>OVERVIEW</th>\n",
       "      <th>TARGET</th>\n",
       "      <th>OVERVIEW_WAKATI</th>\n",
       "    </tr>\n",
       "  </thead>\n",
       "  <tbody>\n",
       "    <tr>\n",
       "      <th>0</th>\n",
       "      <td>閃乱カグラESTIVAL VERSUS -水着だらけの前夜祭-</td>\n",
       "      <td>0月。月閃女学館の雪泉と夜桜は雪中の実践修行をし、残りの0人は部屋でダラダラしていると豪華な...</td>\n",
       "      <td>28</td>\n",
       "      <td>0 月 月 閃 女 学 館 雪 泉 夜桜 雪 中 実践 修行 し 残り 0 人 部屋 ダラダ...</td>\n",
       "    </tr>\n",
       "    <tr>\n",
       "      <th>1</th>\n",
       "      <td>十字路</td>\n",
       "      <td>江戸の裏町でひっそりと暮らす姉弟。弟はある女をめぐり傷害事件を起こしてしまう。一方姉は借金返...</td>\n",
       "      <td>18</td>\n",
       "      <td>江戸 裏町 ひっそり 暮らす 姉弟 弟 ある 女 めぐり 傷害事件 起こし しまう 姉 借金...</td>\n",
       "    </tr>\n",
       "    <tr>\n",
       "      <th>2</th>\n",
       "      <td>西部戦線異状なし</td>\n",
       "      <td>第0次大戦がはじまってまもない、ドイツのある町。群衆の歓声に送られて、戦場へ向かう大部隊が進...</td>\n",
       "      <td>18</td>\n",
       "      <td>0 次 大戦 はじ てま ない ドイツ ある 町 群衆 歓声 送ら れ 戦場 向かう 部隊 ...</td>\n",
       "    </tr>\n",
       "    <tr>\n",
       "      <th>3</th>\n",
       "      <td>我輩はカモである</td>\n",
       "      <td>財政難のフリードニア共和国は、富豪夫人の援助を受けるため、彼女の愛人を宰相に就任させる。それ...</td>\n",
       "      <td>35</td>\n",
       "      <td>財政難 フリードニア 共和国 富豪 夫人 援助 受ける ため 彼女 愛人 宰相 就任 さ せ...</td>\n",
       "    </tr>\n",
       "    <tr>\n",
       "      <th>4</th>\n",
       "      <td>オズの魔法使</td>\n",
       "      <td>カンザスの農場でおじさん夫婦と一緒に暮らす少女ドロシーは、ある日、竜巻に家ごと上空に巻き上げ...</td>\n",
       "      <td>12</td>\n",
       "      <td>カンザス 農場 おじさん 夫婦 一緒 暮らす 少女 ドロシー ある日 竜巻 家 ごと 上空 ...</td>\n",
       "    </tr>\n",
       "  </tbody>\n",
       "</table>\n",
       "</div>"
      ],
      "text/plain": [
       "                             TITLE  ...                                    OVERVIEW_WAKATI\n",
       "0  閃乱カグラESTIVAL VERSUS -水着だらけの前夜祭-  ...  0 月 月 閃 女 学 館 雪 泉 夜桜 雪 中 実践 修行 し 残り 0 人 部屋 ダラダ...\n",
       "1                              十字路  ...  江戸 裏町 ひっそり 暮らす 姉弟 弟 ある 女 めぐり 傷害事件 起こし しまう 姉 借金...\n",
       "2                         西部戦線異状なし  ...  0 次 大戦 はじ てま ない ドイツ ある 町 群衆 歓声 送ら れ 戦場 向かう 部隊 ...\n",
       "3                         我輩はカモである  ...  財政難 フリードニア 共和国 富豪 夫人 援助 受ける ため 彼女 愛人 宰相 就任 さ せ...\n",
       "4                           オズの魔法使  ...  カンザス 農場 おじさん 夫婦 一緒 暮らす 少女 ドロシー ある日 竜巻 家 ごと 上空 ...\n",
       "\n",
       "[5 rows x 4 columns]"
      ]
     },
     "execution_count": 10,
     "metadata": {
      "tags": []
     },
     "output_type": "execute_result"
    }
   ],
   "source": [
    "mclass_df['OVERVIEW_WAKATI'] = mclass_df['OVERVIEW'].map(lambda x: ' '.join(tokenize(x)))\n",
    "mclass_df.head()"
   ]
  },
  {
   "cell_type": "markdown",
   "metadata": {
    "id": "JF0hMWcLzoRd"
   },
   "source": [
    "### 目的変数の作成"
   ]
  },
  {
   "cell_type": "code",
   "execution_count": 11,
   "metadata": {
    "colab": {
     "base_uri": "https://localhost:8080/"
    },
    "id": "AYwGS64ey5DO",
    "outputId": "39fb2062-8049-4f56-8271-8dab4f7fc297"
   },
   "outputs": [
    {
     "data": {
      "text/plain": [
       "array([  28,   18,   18, ...,   80, 9648,   16])"
      ]
     },
     "execution_count": 11,
     "metadata": {
      "tags": []
     },
     "output_type": "execute_result"
    }
   ],
   "source": [
    "Y = np.array(mclass_df['TARGET'])\n",
    "Y"
   ]
  },
  {
   "cell_type": "markdown",
   "metadata": {
    "id": "B4Zz9pg705SB"
   },
   "source": [
    "### 単語埋め込みのためのベクトライザー作成やロード"
   ]
  },
  {
   "cell_type": "code",
   "execution_count": 12,
   "metadata": {
    "id": "TkVKBbGE2WXA"
   },
   "outputs": [],
   "source": [
    "import string\n",
    "\n",
    "def transform_w2v(text, vec):\n",
    "  vec_size = vec['映画'].shape[0]\n",
    "  table = str.maketrans(string.punctuation, ' '*len(string.punctuation))\n",
    "  words = text.translate(table).split()  # 記号をスペースに置換後、スペースで分割してリスト化\n",
    "  vecs = [vec[word] for word in words if word in vec]  # 1語ずつベクトル化\n",
    "\n",
    "  if len(vecs) != 0:\n",
    "    # 各単語の平均ベクトルを出力\n",
    "    return np.array(sum(vecs) / len(vecs))\n",
    "  else:\n",
    "    # 単語が全てvecになかったら、0ベクトルを出力\n",
    "    return np.array(np.zeros(vec_size))"
   ]
  },
  {
   "cell_type": "markdown",
   "metadata": {
    "id": "EqYh62rS0978"
   },
   "source": [
    "#### Word2Vec（独自学習）"
   ]
  },
  {
   "cell_type": "code",
   "execution_count": 13,
   "metadata": {
    "colab": {
     "base_uri": "https://localhost:8080/",
     "height": 419
    },
    "id": "wgJXDe2c00LN",
    "outputId": "fc68596f-4561-449a-8897-6568b691612c"
   },
   "outputs": [
    {
     "data": {
      "text/html": [
       "<div>\n",
       "<style scoped>\n",
       "    .dataframe tbody tr th:only-of-type {\n",
       "        vertical-align: middle;\n",
       "    }\n",
       "\n",
       "    .dataframe tbody tr th {\n",
       "        vertical-align: top;\n",
       "    }\n",
       "\n",
       "    .dataframe thead th {\n",
       "        text-align: right;\n",
       "    }\n",
       "</style>\n",
       "<table border=\"1\" class=\"dataframe\">\n",
       "  <thead>\n",
       "    <tr style=\"text-align: right;\">\n",
       "      <th></th>\n",
       "      <th>OVERVIEW_WAKATI</th>\n",
       "    </tr>\n",
       "  </thead>\n",
       "  <tbody>\n",
       "    <tr>\n",
       "      <th>0</th>\n",
       "      <td>0 月 月 閃 女 学 館 雪 泉 夜桜 雪 中 実践 修行 し 残り 0 人 部屋 ダラダ...</td>\n",
       "    </tr>\n",
       "    <tr>\n",
       "      <th>1</th>\n",
       "      <td>江戸 裏町 ひっそり 暮らす 姉弟 弟 ある 女 めぐり 傷害事件 起こし しまう 姉 借金...</td>\n",
       "    </tr>\n",
       "    <tr>\n",
       "      <th>2</th>\n",
       "      <td>0 次 大戦 はじ てま ない ドイツ ある 町 群衆 歓声 送ら れ 戦場 向かう 部隊 ...</td>\n",
       "    </tr>\n",
       "    <tr>\n",
       "      <th>3</th>\n",
       "      <td>財政難 フリードニア 共和国 富豪 夫人 援助 受ける ため 彼女 愛人 宰相 就任 さ せ...</td>\n",
       "    </tr>\n",
       "    <tr>\n",
       "      <th>4</th>\n",
       "      <td>カンザス 農場 おじさん 夫婦 一緒 暮らす 少女 ドロシー ある日 竜巻 家 ごと 上空 ...</td>\n",
       "    </tr>\n",
       "    <tr>\n",
       "      <th>...</th>\n",
       "      <td>...</td>\n",
       "    </tr>\n",
       "    <tr>\n",
       "      <th>5240</th>\n",
       "      <td>お笑い芸人 バカリズム 主演 脚本 務め 0 年 放送 さ れ 連続ドラマ 劇場版 原作 バ...</td>\n",
       "    </tr>\n",
       "    <tr>\n",
       "      <th>5241</th>\n",
       "      <td>都会 異なる 環境 生きる 0 人 女性 恋愛 結婚 ない 人生 切り 拓く 姿 描く シス...</td>\n",
       "    </tr>\n",
       "    <tr>\n",
       "      <th>5242</th>\n",
       "      <td>医師 速水 坂口健太郎 一日 当直医 精神科病院 出向く ピエロ 仮面 かぶっ 凶悪犯 突然...</td>\n",
       "    </tr>\n",
       "    <tr>\n",
       "      <th>5243</th>\n",
       "      <td>幼少期 交通事故 原因 曜日 ごと 0 人 人格 入れ替わる 青年 思考 性格 バラバラ 曜...</td>\n",
       "    </tr>\n",
       "    <tr>\n",
       "      <th>5244</th>\n",
       "      <td>夢 あふれる アニメーション 作っ いる kohata アニメ スタジオ ここ 働く 人たち...</td>\n",
       "    </tr>\n",
       "  </tbody>\n",
       "</table>\n",
       "<p>5245 rows × 1 columns</p>\n",
       "</div>"
      ],
      "text/plain": [
       "                                        OVERVIEW_WAKATI\n",
       "0     0 月 月 閃 女 学 館 雪 泉 夜桜 雪 中 実践 修行 し 残り 0 人 部屋 ダラダ...\n",
       "1     江戸 裏町 ひっそり 暮らす 姉弟 弟 ある 女 めぐり 傷害事件 起こし しまう 姉 借金...\n",
       "2     0 次 大戦 はじ てま ない ドイツ ある 町 群衆 歓声 送ら れ 戦場 向かう 部隊 ...\n",
       "3     財政難 フリードニア 共和国 富豪 夫人 援助 受ける ため 彼女 愛人 宰相 就任 さ せ...\n",
       "4     カンザス 農場 おじさん 夫婦 一緒 暮らす 少女 ドロシー ある日 竜巻 家 ごと 上空 ...\n",
       "...                                                 ...\n",
       "5240  お笑い芸人 バカリズム 主演 脚本 務め 0 年 放送 さ れ 連続ドラマ 劇場版 原作 バ...\n",
       "5241  都会 異なる 環境 生きる 0 人 女性 恋愛 結婚 ない 人生 切り 拓く 姿 描く シス...\n",
       "5242  医師 速水 坂口健太郎 一日 当直医 精神科病院 出向く ピエロ 仮面 かぶっ 凶悪犯 突然...\n",
       "5243  幼少期 交通事故 原因 曜日 ごと 0 人 人格 入れ替わる 青年 思考 性格 バラバラ 曜...\n",
       "5244  夢 あふれる アニメーション 作っ いる kohata アニメ スタジオ ここ 働く 人たち...\n",
       "\n",
       "[5245 rows x 1 columns]"
      ]
     },
     "execution_count": 13,
     "metadata": {
      "tags": []
     },
     "output_type": "execute_result"
    }
   ],
   "source": [
    "wakati = mclass_df[['OVERVIEW_WAKATI']]\n",
    "wakati.to_csv('wakati.csv', sep='\\n', header=True, index=False)\n",
    "wakati"
   ]
  },
  {
   "cell_type": "code",
   "execution_count": null,
   "metadata": {
    "id": "v5FYK6yT1G-x"
   },
   "outputs": [],
   "source": [
    "from gensim.models import word2vec\n",
    "import logging\n",
    "\n",
    "vec_size = 300\n",
    "logging.basicConfig(format='%(asctime)s : %(levelname)s : %(message)s', level=logging.INFO)\n",
    "sentence_data = word2vec.LineSentence('wakati.csv')\n",
    "vectorizer = word2vec.Word2Vec(sentence_data,\n",
    "                         sg=1,            # Skip-gram\n",
    "                         size=vec_size,   # 次元数\n",
    "                         min_count=5,     # min_count回未満の単語を破棄\n",
    "                         window=3,        # 文脈の最大単語数\n",
    "                         hs=0,            # 階層ソフトマックス(ネガティブサンプリングするなら0)\n",
    "                         negative=5,      # ネガティブサンプリング\n",
    "                         iter=100         # Epoch数\n",
    "                         )"
   ]
  },
  {
   "cell_type": "code",
   "execution_count": 15,
   "metadata": {
    "colab": {
     "base_uri": "https://localhost:8080/"
    },
    "id": "SfBh_bt91QgK",
    "outputId": "41425100-6ac4-47e7-d4d3-f29b7844d272"
   },
   "outputs": [
    {
     "name": "stderr",
     "output_type": "stream",
     "text": [
      "/usr/local/lib/python3.7/dist-packages/ipykernel_launcher.py:1: DeprecationWarning: Call to deprecated `most_similar` (Method will be removed in 4.0.0, use self.wv.most_similar() instead).\n",
      "  \"\"\"Entry point for launching an IPython kernel.\n",
      "2021-07-12 13:44:35,709 : INFO : precomputing L2-norms of word weight vectors\n"
     ]
    },
    {
     "data": {
      "text/plain": [
       "[('初出演', 0.3618312180042267),\n",
       " ('興行', 0.3447723984718323),\n",
       " ('オムニバス', 0.335512638092041),\n",
       " ('劇中', 0.32575273513793945),\n",
       " ('ゲゲゲの鬼太郎', 0.3159177899360657),\n",
       " ('dx', 0.3144538402557373),\n",
       " ('サイレント', 0.31314191222190857),\n",
       " ('異なっ', 0.31186050176620483),\n",
       " ('シャンティ', 0.30939188599586487),\n",
       " ('製作会社', 0.30789369344711304)]"
      ]
     },
     "execution_count": 15,
     "metadata": {
      "tags": []
     },
     "output_type": "execute_result"
    }
   ],
   "source": [
    "vectorizer.most_similar('映画')"
   ]
  },
  {
   "cell_type": "code",
   "execution_count": 16,
   "metadata": {
    "colab": {
     "base_uri": "https://localhost:8080/"
    },
    "id": "Vawrmk9A1-Zh",
    "outputId": "c3ad00ff-7698-4490-d847-9a334bdeaeff"
   },
   "outputs": [
    {
     "name": "stderr",
     "output_type": "stream",
     "text": [
      "/usr/local/lib/python3.7/dist-packages/ipykernel_launcher.py:1: DeprecationWarning: Call to deprecated `__getitem__` (Method will be removed in 4.0.0, use self.wv.__getitem__() instead).\n",
      "  \"\"\"Entry point for launching an IPython kernel.\n"
     ]
    },
    {
     "data": {
      "text/plain": [
       "300"
      ]
     },
     "execution_count": 16,
     "metadata": {
      "tags": []
     },
     "output_type": "execute_result"
    }
   ],
   "source": [
    "vectorizer['映画'].shape[0]"
   ]
  },
  {
   "cell_type": "markdown",
   "metadata": {
    "id": "t2RJMJCoToGL"
   },
   "source": [
    "#### Word2Vec（ChiVe）"
   ]
  },
  {
   "cell_type": "code",
   "execution_count": 17,
   "metadata": {
    "colab": {
     "base_uri": "https://localhost:8080/"
    },
    "id": "ZBGhbpoqT_SJ",
    "outputId": "33093b87-6af8-4f4c-c2d6-931b2bc7705f"
   },
   "outputs": [
    {
     "name": "stdout",
     "output_type": "stream",
     "text": [
      "chive-1.2-mc90_gensim/\n",
      "chive-1.2-mc90_gensim/chive-1.2-mc90.kv\n",
      "chive-1.2-mc90_gensim/chive-1.2-mc90.kv.vectors.npy\n",
      "chive-1.2-mc90_gensim/LICENSE\n",
      "chive-1.2-mc90_gensim/README.md\n"
     ]
    },
    {
     "name": "stderr",
     "output_type": "stream",
     "text": [
      "2021-07-12 13:45:24,025 : INFO : loading Word2VecKeyedVectors object from chive-1.2-mc90_gensim/chive-1.2-mc90.kv\n",
      "2021-07-12 13:45:26,113 : INFO : loading vectors from chive-1.2-mc90_gensim/chive-1.2-mc90.kv.vectors.npy with mmap=None\n",
      "2021-07-12 13:45:26,349 : INFO : setting ignored attribute vectors_norm to None\n",
      "2021-07-12 13:45:26,353 : INFO : loaded chive-1.2-mc90_gensim/chive-1.2-mc90.kv\n"
     ]
    }
   ],
   "source": [
    "import gensim\n",
    "import urllib.request\n",
    "import sys\n",
    "\n",
    "#ダウンロード\n",
    "url = \"https://sudachi.s3-ap-northeast-1.amazonaws.com/chive/chive-1.2-mc90_gensim.tar.gz\"  #ファイルのURLを指定\n",
    "urllib.request.urlretrieve(url,\"chive.tar.gz\")\n",
    "#解凍\n",
    "!tar -zxvf chive.tar.gz\n",
    "\n",
    "vectorizer_chive = gensim.models.KeyedVectors.load(\"chive-1.2-mc90_gensim/chive-1.2-mc90.kv\")"
   ]
  },
  {
   "cell_type": "code",
   "execution_count": 18,
   "metadata": {
    "colab": {
     "base_uri": "https://localhost:8080/"
    },
    "id": "TOdGmOIRUXS4",
    "outputId": "b79a3f79-a6a2-4514-e0af-4872c5a117ad"
   },
   "outputs": [
    {
     "name": "stderr",
     "output_type": "stream",
     "text": [
      "2021-07-12 13:46:10,365 : INFO : precomputing L2-norms of word weight vectors\n"
     ]
    },
    {
     "data": {
      "text/plain": [
       "[('邦画', 0.7711033821105957),\n",
       " ('予告編', 0.7660966515541077),\n",
       " ('主演', 0.7257440090179443),\n",
       " ('ハリウッド', 0.7001019716262817),\n",
       " ('映画館', 0.6935902237892151),\n",
       " ('映画界', 0.689943253993988),\n",
       " ('劇映画', 0.6886698007583618),\n",
       " ('話題作', 0.684718132019043),\n",
       " ('映画化', 0.681873083114624),\n",
       " ('上映', 0.6801760196685791)]"
      ]
     },
     "execution_count": 18,
     "metadata": {
      "tags": []
     },
     "output_type": "execute_result"
    }
   ],
   "source": [
    "vectorizer_chive.most_similar('映画')"
   ]
  },
  {
   "cell_type": "code",
   "execution_count": 19,
   "metadata": {
    "colab": {
     "base_uri": "https://localhost:8080/"
    },
    "id": "kJhOViTcUdpr",
    "outputId": "bd5516b9-ce53-49fd-abdc-19d1c33fd1c8"
   },
   "outputs": [
    {
     "data": {
      "text/plain": [
       "300"
      ]
     },
     "execution_count": 19,
     "metadata": {
      "tags": []
     },
     "output_type": "execute_result"
    }
   ],
   "source": [
    "vectorizer_chive['映画'].shape[0]"
   ]
  },
  {
   "cell_type": "markdown",
   "metadata": {
    "id": "x6r3mzLVWAzA"
   },
   "source": [
    "#### TF-IDF（独自学習）"
   ]
  },
  {
   "cell_type": "code",
   "execution_count": 177,
   "metadata": {
    "colab": {
     "base_uri": "https://localhost:8080/"
    },
    "id": "mO6-usQEWE7w",
    "outputId": "a95d71a3-b985-46d8-cf06-d6d93db21379"
   },
   "outputs": [
    {
     "data": {
      "text/plain": [
       "(5245, 306313)"
      ]
     },
     "execution_count": 177,
     "metadata": {
      "tags": []
     },
     "output_type": "execute_result"
    }
   ],
   "source": [
    "from sklearn.feature_extraction.text import TfidfVectorizer\n",
    "\n",
    "vectorizer_tfidf = TfidfVectorizer(tokenizer=tokenize,\n",
    "                                   ngram_range=(1, 1),\n",
    "                                   min_df=5)\n",
    "vectors = vectorizer_tfidf.fit_transform(mclass_df['OVERVIEW'])\n",
    "vectors.shape"
   ]
  },
  {
   "cell_type": "markdown",
   "metadata": {
    "id": "dvKhpMqVSpMK"
   },
   "source": [
    "### 説明変数の作成"
   ]
  },
  {
   "cell_type": "code",
   "execution_count": 20,
   "metadata": {
    "colab": {
     "base_uri": "https://localhost:8080/"
    },
    "id": "IrircwLP2qBa",
    "outputId": "99edb64b-c4a1-446c-c094-e07b2508d7fd"
   },
   "outputs": [
    {
     "name": "stderr",
     "output_type": "stream",
     "text": [
      "/usr/local/lib/python3.7/dist-packages/ipykernel_launcher.py:4: DeprecationWarning: Call to deprecated `__getitem__` (Method will be removed in 4.0.0, use self.wv.__getitem__() instead).\n",
      "  after removing the cwd from sys.path.\n",
      "/usr/local/lib/python3.7/dist-packages/ipykernel_launcher.py:7: DeprecationWarning: Call to deprecated `__contains__` (Method will be removed in 4.0.0, use self.wv.__contains__() instead).\n",
      "  import sys\n",
      "/usr/local/lib/python3.7/dist-packages/ipykernel_launcher.py:7: DeprecationWarning: Call to deprecated `__getitem__` (Method will be removed in 4.0.0, use self.wv.__getitem__() instead).\n",
      "  import sys\n"
     ]
    },
    {
     "name": "stdout",
     "output_type": "stream",
     "text": [
      "Word2Vec（独自学習）: (5245, 300)\n",
      "Word2Vec（ChiVe）: (5245, 300)\n"
     ]
    }
   ],
   "source": [
    "X = np.array([transform_w2v(text, vectorizer) for text in mclass_df['OVERVIEW_WAKATI']])\n",
    "X_chive = np.array([transform_w2v(text, vectorizer_chive) for text in mclass_df['OVERVIEW_WAKATI']])\n",
    "\n",
    "print('Word2Vec（独自学習）:', X.shape)\n",
    "print('Word2Vec（ChiVe）:', X_chive.shape)"
   ]
  },
  {
   "cell_type": "markdown",
   "metadata": {
    "id": "4OEihmaF7o3R"
   },
   "source": [
    "### 学習・検証・評価に分割"
   ]
  },
  {
   "cell_type": "code",
   "execution_count": 22,
   "metadata": {
    "colab": {
     "base_uri": "https://localhost:8080/"
    },
    "id": "RCgK3uSL7CEo",
    "outputId": "29126e7e-a346-498f-daca-3a559fd14fb7"
   },
   "outputs": [
    {
     "name": "stdout",
     "output_type": "stream",
     "text": [
      "==================== 学習データ ====================\n",
      "X: (4196, 300)\n",
      "X_chive: (4196, 300)\n",
      "Y: (4196,)\n",
      "==================== 検証データ ====================\n",
      "X: (524, 300)\n",
      "X_chive: (524, 300)\n",
      "Y: (524,)\n",
      "==================== 評価データ ====================\n",
      "X: (525, 300)\n",
      "X_chive: (525, 300)\n",
      "Y: (525,)\n"
     ]
    }
   ],
   "source": [
    "from sklearn.model_selection import train_test_split\n",
    "\n",
    "# 独自学習のWord2Vec\n",
    "X_train, X_valid_test, y_train, y_valid_test = train_test_split(X, Y, train_size=0.8, random_state=144)\n",
    "X_valid, X_test, y_valid, y_test = train_test_split(X_valid_test, y_valid_test, train_size=0.5, random_state=144)\n",
    "# ChiVe\n",
    "X_train_chive, X_valid_test_chive = train_test_split(X_chive, train_size=0.8, random_state=144)\n",
    "X_valid_chive, X_test_chive = train_test_split(X_valid_test_chive, train_size=0.5, random_state=144)\n",
    "\n",
    "print(f'{\"=\"*20} 学習データ {\"=\"*20}')\n",
    "print('X:', X_train.shape)\n",
    "print('X_chive:', X_train_chive.shape)\n",
    "print('Y:', y_train.shape)\n",
    "print(f'{\"=\"*20} 検証データ {\"=\"*20}')\n",
    "print('X:', X_valid.shape)\n",
    "print('X_chive:', X_valid_chive.shape)\n",
    "print('Y:', y_valid.shape)\n",
    "print(f'{\"=\"*20} 評価データ {\"=\"*20}')\n",
    "print('X:', X_test.shape)\n",
    "print('X_chive:', X_test_chive.shape)\n",
    "print('Y:', y_test.shape)"
   ]
  },
  {
   "cell_type": "markdown",
   "metadata": {
    "id": "WC1YfwTwAEzU"
   },
   "source": [
    "### 学習・予測・精度評価"
   ]
  },
  {
   "cell_type": "code",
   "execution_count": 34,
   "metadata": {
    "id": "-6tPsqgmDihg"
   },
   "outputs": [],
   "source": [
    "def print_true_pred(y_true, y_pred, text, limited_num=20):\n",
    "  print(f'{\"=\"*36} {text} {\"=\"*36}')\n",
    "  print('検証正解：', y_true[:limited_num])\n",
    "  print('検証予測：', y_pred[:limited_num])"
   ]
  },
  {
   "cell_type": "markdown",
   "metadata": {
    "id": "AwtMDxGkAZaR"
   },
   "source": [
    "#### Random Forest Classifier"
   ]
  },
  {
   "cell_type": "code",
   "execution_count": 35,
   "metadata": {
    "colab": {
     "base_uri": "https://localhost:8080/"
    },
    "id": "FnNq6X3N-Uem",
    "outputId": "b9a5dcfd-88e6-4459-a442-03e75fe65784"
   },
   "outputs": [
    {
     "name": "stdout",
     "output_type": "stream",
     "text": [
      "==================================== 検証（独自Word2Vec） ====================================\n",
      "検証正解： [   27    28    80    16    16    28    53    12    27    16 10752    18\n",
      "    28    28    35    27    16    18    12    27]\n",
      "検証予測： [18 28 18 18 18 18 28 28 28 18 18 18 28 16 18 28 18 18 28 18]\n",
      "==================================== 評価（独自Word2Vec） ====================================\n",
      "検証正解： [   35    16    28    16    35    35    35    16    18 10749    80    14\n",
      "    18    12    80    16    16    35    18 10749]\n",
      "検証予測： [18 16 28 28 28 28 18 16 18 18 28 16 18 18 18 18 16 18 18 18]\n",
      "==================================== 検証（ChiVe） ====================================\n",
      "検証正解： [   27    28    80    16    16    28    53    12    27    16 10752    18\n",
      "    28    28    35    27    16    18    12    27]\n",
      "検証予測： [18 28 16 18 16 18 28 16 18 18 18 18 28 28 35 28 35 18 18 18]\n",
      "==================================== 検証（ChiVe） ====================================\n",
      "検証正解： [   27    28    80    16    16    28    53    12    27    16 10752    18\n",
      "    28    28    35    27    16    18    12    27]\n",
      "検証予測： [18 16 28 16 18 18 35 28 18 18 28 28 18 28 18 18 16 28 18 18]\n"
     ]
    }
   ],
   "source": [
    "from sklearn.ensemble import RandomForestClassifier as classifier\n",
    "\n",
    "# モデル定義\n",
    "clf = classifier(random_state=144)\n",
    "clf_chive = classifier(random_state=144)\n",
    "# 学習\n",
    "clf.fit(X_train, y_train)\n",
    "clf_chive.fit(X_train_chive, y_train)\n",
    "# 予測\n",
    "predict_vy = clf.predict(X_valid)\n",
    "predict_y = clf.predict(X_test)\n",
    "predict_vy_chive = clf_chive.predict(X_valid_chive)\n",
    "predict_y_chive = clf_chive.predict(X_test_chive)\n",
    "# 予測確率\n",
    "predict_vy_prob = clf.predict_proba(X_valid)\n",
    "predict_y_prob = clf.predict_proba(X_test)\n",
    "predict_vy_prob_chive = clf_chive.predict_proba(X_valid_chive)\n",
    "predict_y_prob_chive = clf_chive.predict_proba(X_test_chive)\n",
    "\n",
    "# 中身\n",
    "print_true_pred(y_valid, predict_vy, '検証（独自Word2Vec）')\n",
    "print_true_pred(y_test, predict_y, '評価（独自Word2Vec）')\n",
    "print_true_pred(y_valid, predict_vy_chive, '検証（ChiVe）')\n",
    "print_true_pred(y_valid, predict_y_chive, '検証（ChiVe）')"
   ]
  },
  {
   "cell_type": "code",
   "execution_count": 36,
   "metadata": {
    "colab": {
     "base_uri": "https://localhost:8080/"
    },
    "id": "vZKRjmpbBKnT",
    "outputId": "5ad781c4-2817-4865-98d4-a65acd0eec30"
   },
   "outputs": [
    {
     "name": "stdout",
     "output_type": "stream",
     "text": [
      "検証正解率： 0.3969465648854962\n",
      "評価正解率： 0.43238095238095237\n",
      "検証正解率_chive： 0.4217557251908397\n",
      "評価正解率_chive： 0.44952380952380955\n"
     ]
    }
   ],
   "source": [
    "# 単純な正解率\n",
    "print('検証正解率：', np.sum(predict_vy == y_valid) / y_valid.size)\n",
    "print('評価正解率：', np.sum(predict_y == y_test) / y_test.size)\n",
    "print('検証正解率_chive：', np.sum(predict_vy_chive == y_valid) / y_valid.size)\n",
    "print('評価正解率_chive：', np.sum(predict_y_chive == y_test) / y_test.size)"
   ]
  },
  {
   "cell_type": "code",
   "execution_count": 40,
   "metadata": {
    "colab": {
     "base_uri": "https://localhost:8080/",
     "height": 435
    },
    "id": "kcXDSgR2F9Rf",
    "outputId": "61b2f8b0-501f-45f0-b171-6f0e2edc4079"
   },
   "outputs": [
    {
     "data": {
      "text/plain": [
       "<matplotlib.axes._subplots.AxesSubplot at 0x7f04acac5990>"
      ]
     },
     "execution_count": 40,
     "metadata": {
      "tags": []
     },
     "output_type": "execute_result"
    },
    {
     "data": {
      "image/png": "[encoded data removed]",
      "text/plain": [
       "<Figure size 1440x504 with 2 Axes>"
      ]
     },
     "metadata": {
      "needs_background": "light",
      "tags": []
     },
     "output_type": "display_data"
    }
   ],
   "source": [
    "# DF化\n",
    "## valid\n",
    "pred_df = pd.DataFrame({'data': predict_vy, 'type': 'pred'})\n",
    "true_df = pd.DataFrame({'data': y_valid, 'type': 'true'})\n",
    "valid_df = pd.concat([true_df, pred_df]).reset_index(drop=True)\n",
    "## test\n",
    "pred_df = pd.DataFrame({'data': predict_y, 'type': 'pred'})\n",
    "true_df = pd.DataFrame({'data': y_test, 'type': 'true'})\n",
    "test_df = pd.concat([true_df, pred_df]).reset_index(drop=True)\n",
    "# 予測データのヒストグラム\n",
    "fig, (ax1, ax2) = plt.subplots(1, 2, figsize=(20, 7))\n",
    "sns.countplot(data=valid_df, x='data', hue='type', ax=ax1)\n",
    "sns.countplot(data=test_df, x='data', hue='type', ax=ax2)"
   ]
  },
  {
   "cell_type": "code",
   "execution_count": 41,
   "metadata": {
    "colab": {
     "base_uri": "https://localhost:8080/",
     "height": 435
    },
    "id": "htnia1XwGsgw",
    "outputId": "8a542ec6-58fa-4160-f14c-ce5b051c5d51"
   },
   "outputs": [
    {
     "data": {
      "text/plain": [
       "<matplotlib.axes._subplots.AxesSubplot at 0x7f04c62e8190>"
      ]
     },
     "execution_count": 41,
     "metadata": {
      "tags": []
     },
     "output_type": "execute_result"
    },
    {
     "data": {
      "image/png": "[encoded data removed]",
      "text/plain": [
       "<Figure size 1440x504 with 2 Axes>"
      ]
     },
     "metadata": {
      "needs_background": "light",
      "tags": []
     },
     "output_type": "display_data"
    }
   ],
   "source": [
    "# DF化（ChiVe）\n",
    "## valid\n",
    "pred_df = pd.DataFrame({'data': predict_vy_chive, 'type': 'pred'})\n",
    "true_df = pd.DataFrame({'data': y_valid, 'type': 'true'})\n",
    "valid_df = pd.concat([true_df, pred_df]).reset_index(drop=True)\n",
    "## test\n",
    "pred_df = pd.DataFrame({'data': predict_y_chive, 'type': 'pred'})\n",
    "true_df = pd.DataFrame({'data': y_test, 'type': 'true'})\n",
    "test_df = pd.concat([true_df, pred_df]).reset_index(drop=True)\n",
    "# 予測データのヒストグラム\n",
    "fig, (ax1, ax2) = plt.subplots(1, 2, figsize=(20, 7))\n",
    "sns.countplot(data=valid_df, x='data', hue='type', ax=ax1)\n",
    "sns.countplot(data=test_df, x='data', hue='type', ax=ax2)"
   ]
  },
  {
   "cell_type": "code",
   "execution_count": 27,
   "metadata": {
    "colab": {
     "base_uri": "https://localhost:8080/"
    },
    "id": "njO3JGLuBjD6",
    "outputId": "42af9ec1-80c7-4614-f184-001ad0d9d69c"
   },
   "outputs": [
    {
     "name": "stdout",
     "output_type": "stream",
     "text": [
      "              precision    recall  f1-score   support\n",
      "\n",
      "          12       0.00      0.00      0.00        23\n",
      "          14       0.00      0.00      0.00        10\n",
      "          16       0.41      0.28      0.33        87\n",
      "          18       0.44      0.86      0.58       131\n",
      "          27       0.00      0.00      0.00        22\n",
      "          28       0.42      0.80      0.55        96\n",
      "          35       0.52      0.20      0.29        64\n",
      "          36       0.00      0.00      0.00         1\n",
      "          37       0.00      0.00      0.00         2\n",
      "          53       0.00      0.00      0.00        16\n",
      "          80       0.00      0.00      0.00         6\n",
      "          99       0.00      0.00      0.00         7\n",
      "         878       0.00      0.00      0.00        19\n",
      "        9648       0.00      0.00      0.00         6\n",
      "       10402       0.00      0.00      0.00         5\n",
      "       10749       0.00      0.00      0.00        18\n",
      "       10751       0.00      0.00      0.00         9\n",
      "       10752       0.00      0.00      0.00         3\n",
      "\n",
      "    accuracy                           0.43       525\n",
      "   macro avg       0.10      0.12      0.10       525\n",
      "weighted avg       0.32      0.43      0.34       525\n",
      "\n"
     ]
    },
    {
     "name": "stderr",
     "output_type": "stream",
     "text": [
      "/usr/local/lib/python3.7/dist-packages/sklearn/metrics/_classification.py:1272: UndefinedMetricWarning: Precision and F-score are ill-defined and being set to 0.0 in labels with no predicted samples. Use `zero_division` parameter to control this behavior.\n",
      "  _warn_prf(average, modifier, msg_start, len(result))\n"
     ]
    }
   ],
   "source": [
    "from sklearn.metrics import classification_report\n",
    "\n",
    "# 様々な精度結果\n",
    "print(classification_report(y_test, predict_y))"
   ]
  },
  {
   "cell_type": "code",
   "execution_count": 28,
   "metadata": {
    "colab": {
     "base_uri": "https://localhost:8080/"
    },
    "id": "NId6jIbQByD9",
    "outputId": "d184af1e-3d5a-448f-83ba-b3146f6fc4d0"
   },
   "outputs": [
    {
     "name": "stdout",
     "output_type": "stream",
     "text": [
      "              precision    recall  f1-score   support\n",
      "\n",
      "          12       0.00      0.00      0.00        23\n",
      "          14       0.00      0.00      0.00        10\n",
      "          16       0.45      0.43      0.44        87\n",
      "          18       0.46      0.86      0.60       131\n",
      "          27       1.00      0.05      0.09        22\n",
      "          28       0.45      0.77      0.57        96\n",
      "          35       0.37      0.17      0.23        64\n",
      "          36       0.00      0.00      0.00         1\n",
      "          37       0.00      0.00      0.00         2\n",
      "          53       0.00      0.00      0.00        16\n",
      "          80       0.00      0.00      0.00         6\n",
      "          99       0.00      0.00      0.00         7\n",
      "         878       0.00      0.00      0.00        19\n",
      "        9648       0.00      0.00      0.00         6\n",
      "       10402       0.00      0.00      0.00         5\n",
      "       10749       0.00      0.00      0.00        18\n",
      "       10751       0.00      0.00      0.00         9\n",
      "       10752       0.00      0.00      0.00         3\n",
      "\n",
      "    accuracy                           0.45       525\n",
      "   macro avg       0.15      0.13      0.11       525\n",
      "weighted avg       0.36      0.45      0.36       525\n",
      "\n"
     ]
    },
    {
     "name": "stderr",
     "output_type": "stream",
     "text": [
      "/usr/local/lib/python3.7/dist-packages/sklearn/metrics/_classification.py:1272: UndefinedMetricWarning: Precision and F-score are ill-defined and being set to 0.0 in labels with no predicted samples. Use `zero_division` parameter to control this behavior.\n",
      "  _warn_prf(average, modifier, msg_start, len(result))\n"
     ]
    }
   ],
   "source": [
    "print(classification_report(y_test, predict_y_chive))"
   ]
  },
  {
   "cell_type": "markdown",
   "metadata": {
    "id": "X6qFVvNlHFuz"
   },
   "source": [
    "#### Naive Bayes"
   ]
  },
  {
   "cell_type": "code",
   "execution_count": 49,
   "metadata": {
    "colab": {
     "base_uri": "https://localhost:8080/",
     "height": 1000
    },
    "id": "N_bxh4rWCCLw",
    "outputId": "d75343ee-1e08-4162-a505-4600ed2afeca"
   },
   "outputs": [
    {
     "name": "stdout",
     "output_type": "stream",
     "text": [
      "検証True: 195\n",
      "検証False: 329\n",
      "検証正解率: 0.37213740458015265\n",
      "テストTrue: 214\n",
      "テストFalse: 311\n",
      "テスト正解率: 0.4076190476190476\n",
      "              precision    recall  f1-score   support\n",
      "\n",
      "          12       0.00      0.00      0.00        23\n",
      "          14       0.00      0.00      0.00        10\n",
      "          16       0.69      0.13      0.21        87\n",
      "          18       0.37      0.95      0.53       131\n",
      "          27       0.00      0.00      0.00        22\n",
      "          28       0.46      0.79      0.58        96\n",
      "          35       1.00      0.03      0.06        64\n",
      "          36       0.00      0.00      0.00         1\n",
      "          37       0.00      0.00      0.00         2\n",
      "          53       0.00      0.00      0.00        16\n",
      "          80       0.00      0.00      0.00         6\n",
      "          99       0.00      0.00      0.00         7\n",
      "         878       0.00      0.00      0.00        19\n",
      "        9648       0.00      0.00      0.00         6\n",
      "       10402       0.00      0.00      0.00         5\n",
      "       10749       0.00      0.00      0.00        18\n",
      "       10751       0.00      0.00      0.00         9\n",
      "       10752       0.00      0.00      0.00         3\n",
      "\n",
      "    accuracy                           0.41       525\n",
      "   macro avg       0.14      0.11      0.08       525\n",
      "weighted avg       0.41      0.41      0.28       525\n",
      "\n",
      "検証正解： [   27    28    80    16    16    28    53    12    27    16 10752    18\n",
      "    28    28    35    27    16    18    12    27]\n",
      "検証予測： [18 28 18 18 18 18 28 28 18 18 18 18 28 28 16 18 18 18 18 18]\n",
      "test正解： [   35    16    28    16    35    35    35    16    18 10749    80    14\n",
      "    18    12    80    16    16    35    18 10749]\n",
      "test予測： [18 16 28 18 18 18 18 28 18 18 18 18 18 18 18 18 16 18 18 18]\n"
     ]
    },
    {
     "name": "stderr",
     "output_type": "stream",
     "text": [
      "/usr/local/lib/python3.7/dist-packages/sklearn/metrics/_classification.py:1272: UndefinedMetricWarning: Precision and F-score are ill-defined and being set to 0.0 in labels with no predicted samples. Use `zero_division` parameter to control this behavior.\n",
      "  _warn_prf(average, modifier, msg_start, len(result))\n"
     ]
    },
    {
     "data": {
      "image/png": "[encoded data removed]",
      "text/plain": [
       "<Figure size 1440x504 with 2 Axes>"
      ]
     },
     "metadata": {
      "needs_background": "light",
      "tags": []
     },
     "output_type": "display_data"
    }
   ],
   "source": [
    "from sklearn.naive_bayes import MultinomialNB\n",
    "from sklearn import preprocessing\n",
    "\n",
    "clf = MultinomialNB(alpha=.01)\n",
    "mm = preprocessing.MinMaxScaler()\n",
    "try:\n",
    "  X_train_mm = mm.fit_transform(X_train)\n",
    "except:\n",
    "  X_train_mm = X_train\n",
    "try:\n",
    "  X_valid_mm = mm.transform(X_valid)\n",
    "except:\n",
    "  X_valid_mm = X_valid\n",
    "try:\n",
    "  X_test_mm = mm.transform(X_test)\n",
    "except:\n",
    "  X_test_mm = X_test\n",
    "learn_pred_accuracy(clf, X_train_mm, y_train, X_valid_mm, y_valid, X_test_mm, y_test)"
   ]
  },
  {
   "cell_type": "code",
   "execution_count": 47,
   "metadata": {
    "id": "-gGxvV91HVsc"
   },
   "outputs": [],
   "source": [
    "def learn_pred_accuracy(clf, train_x, train_y, valid_x, valid_y, test_x, test_y):\n",
    "  # 学習\n",
    "  clf.fit(train_x, train_y)\n",
    "  # 予測\n",
    "  predict_vy = clf.predict(valid_x)\n",
    "  predict_y = clf.predict(test_x)\n",
    "  # 正解率\n",
    "  print('検証True:', np.count_nonzero(predict_vy == valid_y))\n",
    "  print('検証False:', np.count_nonzero(predict_vy != valid_y))\n",
    "  print('検証正解率:', np.count_nonzero(predict_vy == valid_y) / len(valid_y))\n",
    "  print('テストTrue:', np.count_nonzero(predict_y == test_y))\n",
    "  print('テストFalse:', np.count_nonzero(predict_y != test_y))\n",
    "  print('テスト正解率:', np.count_nonzero(predict_y == test_y) / len(test_y))\n",
    "  # 様々な精度結果\n",
    "  print(classification_report(test_y, predict_y))\n",
    "  # 正解と予測データ\n",
    "  print('検証正解：', valid_y[:20])\n",
    "  print('検証予測：', predict_vy[:20])\n",
    "  print('test正解：', test_y[:20])\n",
    "  print('test予測：', predict_y[:20])\n",
    "  # DF化\n",
    "  ## valid\n",
    "  pred_df = pd.DataFrame({'data': predict_vy, 'type': 'pred'})\n",
    "  true_df = pd.DataFrame({'data': valid_y, 'type': 'true'})\n",
    "  valid_df = pd.concat([true_df, pred_df]).reset_index(drop=True)\n",
    "  ## test\n",
    "  pred_df = pd.DataFrame({'data': predict_y, 'type': 'pred'})\n",
    "  true_df = pd.DataFrame({'data': test_y, 'type': 'true'})\n",
    "  test_df = pd.concat([true_df, pred_df]).reset_index(drop=True)\n",
    "  # 予測データのヒストグラム\n",
    "  fig, (ax1, ax2) = plt.subplots(1, 2, figsize=(20, 7))\n",
    "  sns.countplot(data=valid_df, x='data', hue='type', ax=ax1)\n",
    "  sns.countplot(data=test_df, x='data', hue='type', ax=ax2)"
   ]
  },
  {
   "cell_type": "markdown",
   "metadata": {
    "id": "ygNgSCFKJGJ_"
   },
   "source": [
    "#### XGB"
   ]
  },
  {
   "cell_type": "code",
   "execution_count": 63,
   "metadata": {
    "colab": {
     "base_uri": "https://localhost:8080/",
     "height": 600
    },
    "id": "FzZa1Z9vHhe4",
    "outputId": "1cad163c-583e-49ad-9fc5-cce0f68e568a"
   },
   "outputs": [
    {
     "ename": "XGBoostError",
     "evalue": "ignored",
     "output_type": "error",
     "traceback": [
      "\u001b[0;31m---------------------------------------------------------------------------\u001b[0m",
      "\u001b[0;31mXGBoostError\u001b[0m                              Traceback (most recent call last)",
      "\u001b[0;32m<ipython-input-63-aa5cd06034dd>\u001b[0m in \u001b[0;36m<module>\u001b[0;34m()\u001b[0m\n\u001b[1;32m     65\u001b[0m   \"\"\"\n\u001b[1;32m     66\u001b[0m \u001b[0;34m\u001b[0m\u001b[0m\n\u001b[0;32m---> 67\u001b[0;31m \u001b[0mpredict_by_xgb\u001b[0m\u001b[0;34m(\u001b[0m\u001b[0;34m)\u001b[0m\u001b[0;34m\u001b[0m\u001b[0;34m\u001b[0m\u001b[0m\n\u001b[0m",
      "\u001b[0;32m<ipython-input-63-aa5cd06034dd>\u001b[0m in \u001b[0;36mpredict_by_xgb\u001b[0;34m()\u001b[0m\n\u001b[1;32m     26\u001b[0m                     \u001b[0mnum_round\u001b[0m\u001b[0;34m,\u001b[0m\u001b[0;34m\u001b[0m\u001b[0;34m\u001b[0m\u001b[0m\n\u001b[1;32m     27\u001b[0m                     \u001b[0mevals\u001b[0m\u001b[0;34m=\u001b[0m\u001b[0mwatchlist\u001b[0m\u001b[0;34m,\u001b[0m\u001b[0;34m\u001b[0m\u001b[0;34m\u001b[0m\u001b[0m\n\u001b[0;32m---> 28\u001b[0;31m                     \u001b[0mearly_stopping_rounds\u001b[0m\u001b[0;34m=\u001b[0m\u001b[0mes_round\u001b[0m\u001b[0;34m\u001b[0m\u001b[0;34m\u001b[0m\u001b[0m\n\u001b[0m\u001b[1;32m     29\u001b[0m                     )\n\u001b[1;32m     30\u001b[0m   \u001b[0;31m# 予測\u001b[0m\u001b[0;34m\u001b[0m\u001b[0;34m\u001b[0m\u001b[0;34m\u001b[0m\u001b[0m\n",
      "\u001b[0;32m/usr/local/lib/python3.7/dist-packages/xgboost/training.py\u001b[0m in \u001b[0;36mtrain\u001b[0;34m(params, dtrain, num_boost_round, evals, obj, feval, maximize, early_stopping_rounds, evals_result, verbose_eval, xgb_model, callbacks, learning_rates)\u001b[0m\n\u001b[1;32m    214\u001b[0m                            \u001b[0mevals\u001b[0m\u001b[0;34m=\u001b[0m\u001b[0mevals\u001b[0m\u001b[0;34m,\u001b[0m\u001b[0;34m\u001b[0m\u001b[0;34m\u001b[0m\u001b[0m\n\u001b[1;32m    215\u001b[0m                            \u001b[0mobj\u001b[0m\u001b[0;34m=\u001b[0m\u001b[0mobj\u001b[0m\u001b[0;34m,\u001b[0m \u001b[0mfeval\u001b[0m\u001b[0;34m=\u001b[0m\u001b[0mfeval\u001b[0m\u001b[0;34m,\u001b[0m\u001b[0;34m\u001b[0m\u001b[0;34m\u001b[0m\u001b[0m\n\u001b[0;32m--> 216\u001b[0;31m                            xgb_model=xgb_model, callbacks=callbacks)\n\u001b[0m\u001b[1;32m    217\u001b[0m \u001b[0;34m\u001b[0m\u001b[0m\n\u001b[1;32m    218\u001b[0m \u001b[0;34m\u001b[0m\u001b[0m\n",
      "\u001b[0;32m/usr/local/lib/python3.7/dist-packages/xgboost/training.py\u001b[0m in \u001b[0;36m_train_internal\u001b[0;34m(params, dtrain, num_boost_round, evals, obj, feval, xgb_model, callbacks)\u001b[0m\n\u001b[1;32m     72\u001b[0m         \u001b[0;31m# Skip the first update if it is a recovery step.\u001b[0m\u001b[0;34m\u001b[0m\u001b[0;34m\u001b[0m\u001b[0;34m\u001b[0m\u001b[0m\n\u001b[1;32m     73\u001b[0m         \u001b[0;32mif\u001b[0m \u001b[0mversion\u001b[0m \u001b[0;34m%\u001b[0m \u001b[0;36m2\u001b[0m \u001b[0;34m==\u001b[0m \u001b[0;36m0\u001b[0m\u001b[0;34m:\u001b[0m\u001b[0;34m\u001b[0m\u001b[0;34m\u001b[0m\u001b[0m\n\u001b[0;32m---> 74\u001b[0;31m             \u001b[0mbst\u001b[0m\u001b[0;34m.\u001b[0m\u001b[0mupdate\u001b[0m\u001b[0;34m(\u001b[0m\u001b[0mdtrain\u001b[0m\u001b[0;34m,\u001b[0m \u001b[0mi\u001b[0m\u001b[0;34m,\u001b[0m \u001b[0mobj\u001b[0m\u001b[0;34m)\u001b[0m\u001b[0;34m\u001b[0m\u001b[0;34m\u001b[0m\u001b[0m\n\u001b[0m\u001b[1;32m     75\u001b[0m             \u001b[0mbst\u001b[0m\u001b[0;34m.\u001b[0m\u001b[0msave_rabit_checkpoint\u001b[0m\u001b[0;34m(\u001b[0m\u001b[0;34m)\u001b[0m\u001b[0;34m\u001b[0m\u001b[0;34m\u001b[0m\u001b[0m\n\u001b[1;32m     76\u001b[0m             \u001b[0mversion\u001b[0m \u001b[0;34m+=\u001b[0m \u001b[0;36m1\u001b[0m\u001b[0;34m\u001b[0m\u001b[0;34m\u001b[0m\u001b[0m\n",
      "\u001b[0;32m/usr/local/lib/python3.7/dist-packages/xgboost/core.py\u001b[0m in \u001b[0;36mupdate\u001b[0;34m(self, dtrain, iteration, fobj)\u001b[0m\n\u001b[1;32m   1107\u001b[0m         \u001b[0;32mif\u001b[0m \u001b[0mfobj\u001b[0m \u001b[0;32mis\u001b[0m \u001b[0;32mNone\u001b[0m\u001b[0;34m:\u001b[0m\u001b[0;34m\u001b[0m\u001b[0;34m\u001b[0m\u001b[0m\n\u001b[1;32m   1108\u001b[0m             _check_call(_LIB.XGBoosterUpdateOneIter(self.handle, ctypes.c_int(iteration),\n\u001b[0;32m-> 1109\u001b[0;31m                                                     dtrain.handle))\n\u001b[0m\u001b[1;32m   1110\u001b[0m         \u001b[0;32melse\u001b[0m\u001b[0;34m:\u001b[0m\u001b[0;34m\u001b[0m\u001b[0;34m\u001b[0m\u001b[0m\n\u001b[1;32m   1111\u001b[0m             \u001b[0mpred\u001b[0m \u001b[0;34m=\u001b[0m \u001b[0mself\u001b[0m\u001b[0;34m.\u001b[0m\u001b[0mpredict\u001b[0m\u001b[0;34m(\u001b[0m\u001b[0mdtrain\u001b[0m\u001b[0;34m)\u001b[0m\u001b[0;34m\u001b[0m\u001b[0;34m\u001b[0m\u001b[0m\n",
      "\u001b[0;32m/usr/local/lib/python3.7/dist-packages/xgboost/core.py\u001b[0m in \u001b[0;36m_check_call\u001b[0;34m(ret)\u001b[0m\n\u001b[1;32m    174\u001b[0m     \"\"\"\n\u001b[1;32m    175\u001b[0m     \u001b[0;32mif\u001b[0m \u001b[0mret\u001b[0m \u001b[0;34m!=\u001b[0m \u001b[0;36m0\u001b[0m\u001b[0;34m:\u001b[0m\u001b[0;34m\u001b[0m\u001b[0;34m\u001b[0m\u001b[0m\n\u001b[0;32m--> 176\u001b[0;31m         \u001b[0;32mraise\u001b[0m \u001b[0mXGBoostError\u001b[0m\u001b[0;34m(\u001b[0m\u001b[0mpy_str\u001b[0m\u001b[0;34m(\u001b[0m\u001b[0m_LIB\u001b[0m\u001b[0;34m.\u001b[0m\u001b[0mXGBGetLastError\u001b[0m\u001b[0;34m(\u001b[0m\u001b[0;34m)\u001b[0m\u001b[0;34m)\u001b[0m\u001b[0;34m)\u001b[0m\u001b[0;34m\u001b[0m\u001b[0;34m\u001b[0m\u001b[0m\n\u001b[0m\u001b[1;32m    177\u001b[0m \u001b[0;34m\u001b[0m\u001b[0m\n\u001b[1;32m    178\u001b[0m \u001b[0;34m\u001b[0m\u001b[0m\n",
      "\u001b[0;31mXGBoostError\u001b[0m: [14:49:54] /workspace/src/objective/multiclass_obj.cu:110: SoftmaxMultiClassObj: label must be in [0, num_class).\nStack trace:\n  [bt] (0) /usr/local/lib/python3.7/dist-packages/xgboost/./lib/libxgboost.so(dmlc::LogMessageFatal::~LogMessageFatal()+0x24) [0x7f049a206cb4]\n  [bt] (1) /usr/local/lib/python3.7/dist-packages/xgboost/./lib/libxgboost.so(xgboost::obj::SoftmaxMultiClassObj::GetGradient(xgboost::HostDeviceVector<float> const&, xgboost::MetaInfo const&, int, xgboost::HostDeviceVector<xgboost::detail::GradientPairInternal<float> >*)+0xa26) [0x7f049a400846]\n  [bt] (2) /usr/local/lib/python3.7/dist-packages/xgboost/./lib/libxgboost.so(xgboost::LearnerImpl::UpdateOneIter(int, xgboost::DMatrix*)+0x345) [0x7f049a2a0505]\n  [bt] (3) /usr/local/lib/python3.7/dist-packages/xgboost/./lib/libxgboost.so(XGBoosterUpdateOneIter+0x35) [0x7f049a203aa5]\n  [bt] (4) /usr/lib/x86_64-linux-gnu/libffi.so.6(ffi_call_unix64+0x4c) [0x7f04fcf1bdae]\n  [bt] (5) /usr/lib/x86_64-linux-gnu/libffi.so.6(ffi_call+0x22f) [0x7f04fcf1b71f]\n  [bt] (6) /usr/lib/python3.7/lib-dynload/_ctypes.cpython-37m-x86_64-linux-gnu.so(_ctypes_callproc+0x28c) [0x7f04fd12f5bc]\n  [bt] (7) /usr/lib/python3.7/lib-dynload/_ctypes.cpython-37m-x86_64-linux-gnu.so(+0x109e3) [0x7f04fd12e9e3]\n  [bt] (8) /usr/bin/python3(_PyObject_FastCallKeywords+0x92) [0x557a00bb9462]\n\n"
     ]
    }
   ],
   "source": [
    "import xgboost as xgb\n",
    "from sklearn.metrics import mean_squared_error\n",
    "\n",
    "def predict_by_xgb():\n",
    "  # DMatrixに変換\n",
    "  dtrain = xgb.DMatrix(X_train, label=y_train)\n",
    "  dvalid = xgb.DMatrix(X_valid, label=y_valid)\n",
    "  dtest = xgb.DMatrix(X_test, label=y_test)\n",
    "\n",
    "  # ハイパーパラメータの設定\n",
    "  params = {'objective': 'multi:softmax',\n",
    "            'silent': 1,\n",
    "            'random_state': 144,\n",
    "            'eval_metric': 'auc',\n",
    "            'num_class': len(genres)}\n",
    "  # 学習回数\n",
    "  num_round = 500\n",
    "  # アーリーストッピング\n",
    "  es_round = 50\n",
    "\n",
    "  # 訓練データはdtrain、評価用のテストデータはdvalidで設定\n",
    "  watchlist = [(dtrain, 'train'), (dvalid, 'eval')]\n",
    "  # 学習\n",
    "  xgb_model = xgb.train(params,\n",
    "                    dtrain,\n",
    "                    num_round,\n",
    "                    evals=watchlist,\n",
    "                    early_stopping_rounds=es_round\n",
    "                    )\n",
    "  # 予測\n",
    "  y_pred_vali = xgb_model.predict(dvalid, ntree_limit = xgb_model.best_ntree_limit)\n",
    "  y_pred_test = xgb_model.predict(dtest, ntree_limit = xgb_model.best_ntree_limit)\n",
    "\n",
    "  # 正解データ\n",
    "  valid_true = np.array(y_valid)\n",
    "  test_true = np.array(y_test)\n",
    "  # 結果出力\n",
    "  print(f'{\"=\"*36} XGB Classifier {\"=\"*36}')\n",
    "  print('検証用')\n",
    "  print('予測：', y_pred_vali)\n",
    "  print('正解：', valid_true)\n",
    "  print('評価用')\n",
    "  print('予測：', y_pred_test)\n",
    "  print('正解：', test_true)\n",
    "  print(f'valid_RMSE: {np.sqrt(mean_squared_error(valid_true, y_pred_vali)):.4f}')\n",
    "  print(f'test_RMSE: {np.sqrt(mean_squared_error(test_true, y_pred_test)):.4f}')\n",
    "  \n",
    "  # 正規化を戻して、実際のアクティビティカウント値を出力\n",
    "  ## 予測データを戻す\n",
    "  \"\"\"\n",
    "  y_pred_vali = norm2real(y_pred_vali)\n",
    "  y_pred_test = norm2real(y_pred_test)\n",
    "  ## 正解データを戻す\n",
    "  valid_true = np.array(y_valid_real)\n",
    "  test_true = np.array(y_test_real)\n",
    "  print(f'{\"=\"*18} real data RMSE {\"=\"*18}')\n",
    "  print('検証用')\n",
    "  print('予測：', y_pred_vali)\n",
    "  print('正解：', valid_true)\n",
    "  print('評価用')\n",
    "  print('予測：', y_pred_test)\n",
    "  print('正解：', test_true)\n",
    "  print(f'valid_RMSE: {np.sqrt(mean_squared_error(valid_true, y_pred_vali)):.4f}')\n",
    "  print(f'test_RMSE: {np.sqrt(mean_squared_error(test_true, y_pred_test)):.4f}')\n",
    "  \"\"\"\n",
    "\n",
    "predict_by_xgb()"
   ]
  },
  {
   "cell_type": "code",
   "execution_count": 64,
   "metadata": {
    "colab": {
     "base_uri": "https://localhost:8080/",
     "height": 1000
    },
    "id": "TXpcflZQLmdM",
    "outputId": "2563ae2d-b250-4cd3-d725-8cabbe1a4c11"
   },
   "outputs": [
    {
     "name": "stdout",
     "output_type": "stream",
     "text": [
      "検証True: 230\n",
      "検証False: 294\n",
      "検証正解率: 0.4389312977099237\n",
      "テストTrue: 232\n",
      "テストFalse: 293\n",
      "テスト正解率: 0.4419047619047619\n",
      "              precision    recall  f1-score   support\n",
      "\n",
      "          12       0.00      0.00      0.00        23\n",
      "          14       0.00      0.00      0.00        10\n",
      "          16       0.50      0.46      0.48        87\n",
      "          18       0.45      0.70      0.55       131\n",
      "          27       0.45      0.23      0.30        22\n",
      "          28       0.46      0.72      0.56        96\n",
      "          35       0.35      0.36      0.36        64\n",
      "          36       0.00      0.00      0.00         1\n",
      "          37       0.00      0.00      0.00         2\n",
      "          53       0.00      0.00      0.00        16\n",
      "          80       0.00      0.00      0.00         6\n",
      "          99       0.50      0.14      0.22         7\n",
      "         878       0.20      0.05      0.08        19\n",
      "        9648       0.00      0.00      0.00         6\n",
      "       10402       0.00      0.00      0.00         5\n",
      "       10749       0.50      0.06      0.10        18\n",
      "       10751       0.00      0.00      0.00         9\n",
      "       10752       0.00      0.00      0.00         3\n",
      "\n",
      "    accuracy                           0.44       525\n",
      "   macro avg       0.19      0.15      0.15       525\n",
      "weighted avg       0.37      0.44      0.38       525\n",
      "\n",
      "検証正解： [   27    28    80    16    16    28    53    12    27    16 10752    18\n",
      "    28    28    35    27    16    18    12    27]\n",
      "検証予測： [18 28 28 18 16 18 28 16 28 18 18 18 28 28 16 18 16 18 18 18]\n",
      "test正解： [   35    16    28    16    35    35    35    16    18 10749    80    14\n",
      "    18    12    80    16    16    35    18 10749]\n",
      "test予測： [18 16 28 18 18 28 35 28 18 35 28 16 18 18 18 16 16 18 18 18]\n"
     ]
    },
    {
     "name": "stderr",
     "output_type": "stream",
     "text": [
      "/usr/local/lib/python3.7/dist-packages/sklearn/metrics/_classification.py:1272: UndefinedMetricWarning: Precision and F-score are ill-defined and being set to 0.0 in labels with no predicted samples. Use `zero_division` parameter to control this behavior.\n",
      "  _warn_prf(average, modifier, msg_start, len(result))\n"
     ]
    },
    {
     "data": {
      "image/png": "[encoded data removed]",
      "text/plain": [
       "<Figure size 1440x504 with 2 Axes>"
      ]
     },
     "metadata": {
      "needs_background": "light",
      "tags": []
     },
     "output_type": "display_data"
    }
   ],
   "source": [
    "from xgboost import XGBClassifier\n",
    "\n",
    "clf = XGBClassifier(random_state=144, objective='binary:logistic')\n",
    "learn_pred_accuracy(clf, X_train, y_train, X_valid, np.array(y_valid), X_test, np.array(y_test))"
   ]
  },
  {
   "cell_type": "markdown",
   "metadata": {
    "id": "xeNyLtgnNTRT"
   },
   "source": [
    "#### LSTM（Keras）"
   ]
  },
  {
   "cell_type": "code",
   "execution_count": 70,
   "metadata": {
    "colab": {
     "base_uri": "https://localhost:8080/",
     "height": 1000
    },
    "id": "5KvDSSgwMnZ0",
    "outputId": "72a50991-2e40-4eb2-9706-8430c2fdd3dd"
   },
   "outputs": [
    {
     "name": "stderr",
     "output_type": "stream",
     "text": [
      "/usr/local/lib/python3.7/dist-packages/tensorflow/python/keras/optimizer_v2/optimizer_v2.py:375: UserWarning: The `lr` argument is deprecated, use `learning_rate` instead.\n",
      "  \"The `lr` argument is deprecated, use `learning_rate` instead.\")\n"
     ]
    },
    {
     "name": "stdout",
     "output_type": "stream",
     "text": [
      "Model: \"sequential_3\"\n",
      "_________________________________________________________________\n",
      "Layer (type)                 Output Shape              Param #   \n",
      "=================================================================\n",
      "lstm_3 (LSTM)                (None, 256)               264192    \n",
      "_________________________________________________________________\n",
      "dense_3 (Dense)              (None, 1)                 257       \n",
      "=================================================================\n",
      "Total params: 264,449\n",
      "Trainable params: 264,449\n",
      "Non-trainable params: 0\n",
      "_________________________________________________________________\n",
      "Epoch 1/100\n",
      "5/5 [==============================] - 81s 14s/step - loss: nan - val_loss: nan\n",
      "Epoch 2/100\n",
      "5/5 [==============================] - 69s 13s/step - loss: nan - val_loss: nan\n",
      "Epoch 3/100\n",
      "5/5 [==============================] - 67s 13s/step - loss: nan - val_loss: nan\n",
      "Epoch 4/100\n",
      "5/5 [==============================] - 67s 13s/step - loss: nan - val_loss: nan\n",
      "Epoch 5/100\n",
      "5/5 [==============================] - 68s 13s/step - loss: nan - val_loss: nan\n",
      "Epoch 6/100\n",
      "5/5 [==============================] - 67s 13s/step - loss: nan - val_loss: nan\n",
      "Epoch 7/100\n",
      "5/5 [==============================] - 69s 13s/step - loss: nan - val_loss: nan\n",
      "Epoch 8/100\n",
      "5/5 [==============================] - 68s 13s/step - loss: nan - val_loss: nan\n",
      "Epoch 9/100\n",
      "5/5 [==============================] - 70s 13s/step - loss: nan - val_loss: nan\n",
      "Epoch 10/100\n",
      "5/5 [==============================] - 73s 13s/step - loss: nan - val_loss: nan\n",
      "Epoch 11/100\n",
      "5/5 [==============================] - 69s 13s/step - loss: nan - val_loss: nan\n",
      "Epoch 12/100\n",
      "5/5 [==============================] - 72s 14s/step - loss: nan - val_loss: nan\n",
      "Epoch 13/100\n",
      "5/5 [==============================] - 70s 13s/step - loss: nan - val_loss: nan\n",
      "Epoch 14/100\n",
      "5/5 [==============================] - 68s 13s/step - loss: nan - val_loss: nan\n",
      "Epoch 15/100\n",
      "5/5 [==============================] - 69s 13s/step - loss: nan - val_loss: nan\n",
      "Epoch 16/100\n",
      "5/5 [==============================] - 69s 13s/step - loss: nan - val_loss: nan\n",
      "Epoch 17/100\n",
      "5/5 [==============================] - 68s 13s/step - loss: nan - val_loss: nan\n",
      "Epoch 18/100\n",
      "5/5 [==============================] - 75s 15s/step - loss: nan - val_loss: nan\n",
      "Epoch 19/100\n",
      "5/5 [==============================] - 73s 14s/step - loss: nan - val_loss: nan\n",
      "Epoch 20/100\n",
      "5/5 [==============================] - 74s 14s/step - loss: nan - val_loss: nan\n",
      "Epoch 21/100\n",
      "5/5 [==============================] - 74s 14s/step - loss: nan - val_loss: nan\n",
      "Epoch 22/100\n",
      "2/5 [===========>..................] - ETA: 51s - loss: nan "
     ]
    },
    {
     "ename": "KeyboardInterrupt",
     "evalue": "ignored",
     "output_type": "error",
     "traceback": [
      "\u001b[0;31m---------------------------------------------------------------------------\u001b[0m",
      "\u001b[0;31mKeyboardInterrupt\u001b[0m                         Traceback (most recent call last)",
      "\u001b[0;32m<ipython-input-70-c0d8c374874a>\u001b[0m in \u001b[0;36m<module>\u001b[0;34m()\u001b[0m\n\u001b[1;32m     96\u001b[0m   \u001b[0mprint\u001b[0m\u001b[0;34m(\u001b[0m\u001b[0;34mf'test_RMSE: {test_rmse:.4f}'\u001b[0m\u001b[0;34m)\u001b[0m\u001b[0;34m\u001b[0m\u001b[0;34m\u001b[0m\u001b[0m\n\u001b[1;32m     97\u001b[0m \u001b[0;34m\u001b[0m\u001b[0m\n\u001b[0;32m---> 98\u001b[0;31m \u001b[0mrun_lstm\u001b[0m\u001b[0;34m(\u001b[0m\u001b[0mnhu\u001b[0m\u001b[0;34m=\u001b[0m\u001b[0;36m256\u001b[0m\u001b[0;34m,\u001b[0m \u001b[0mbs\u001b[0m\u001b[0;34m=\u001b[0m\u001b[0;36m1024\u001b[0m\u001b[0;34m,\u001b[0m \u001b[0mlr\u001b[0m\u001b[0;34m=\u001b[0m\u001b[0;36m0.0001\u001b[0m\u001b[0;34m)\u001b[0m\u001b[0;34m\u001b[0m\u001b[0;34m\u001b[0m\u001b[0m\n\u001b[0m",
      "\u001b[0;32m<ipython-input-70-c0d8c374874a>\u001b[0m in \u001b[0;36mrun_lstm\u001b[0;34m(nhu, bs, lr)\u001b[0m\n\u001b[1;32m     55\u001b[0m       \u001b[0mbatch_size\u001b[0m\u001b[0;34m=\u001b[0m\u001b[0mbatch_size\u001b[0m\u001b[0;34m,\u001b[0m\u001b[0;34m\u001b[0m\u001b[0;34m\u001b[0m\u001b[0m\n\u001b[1;32m     56\u001b[0m       \u001b[0mepochs\u001b[0m\u001b[0;34m=\u001b[0m\u001b[0mnum_of_training_epochs\u001b[0m\u001b[0;34m,\u001b[0m\u001b[0;34m\u001b[0m\u001b[0;34m\u001b[0m\u001b[0m\n\u001b[0;32m---> 57\u001b[0;31m       \u001b[0mvalidation_data\u001b[0m\u001b[0;34m=\u001b[0m\u001b[0;34m(\u001b[0m\u001b[0mX_valid_np\u001b[0m\u001b[0;34m,\u001b[0m \u001b[0mvalid_true\u001b[0m\u001b[0;34m)\u001b[0m\u001b[0;34m\u001b[0m\u001b[0;34m\u001b[0m\u001b[0m\n\u001b[0m\u001b[1;32m     58\u001b[0m       \u001b[0;31m#validation_split=0.1,\u001b[0m\u001b[0;34m\u001b[0m\u001b[0;34m\u001b[0m\u001b[0;34m\u001b[0m\u001b[0m\n\u001b[1;32m     59\u001b[0m       \u001b[0;31m#callbacks=[early_stopping]\u001b[0m\u001b[0;34m\u001b[0m\u001b[0;34m\u001b[0m\u001b[0;34m\u001b[0m\u001b[0m\n",
      "\u001b[0;32m/usr/local/lib/python3.7/dist-packages/keras/engine/training.py\u001b[0m in \u001b[0;36mfit\u001b[0;34m(self, x, y, batch_size, epochs, verbose, callbacks, validation_split, validation_data, shuffle, class_weight, sample_weight, initial_epoch, steps_per_epoch, validation_steps, validation_batch_size, validation_freq, max_queue_size, workers, use_multiprocessing)\u001b[0m\n\u001b[1;32m   1156\u001b[0m                 _r=1):\n\u001b[1;32m   1157\u001b[0m               \u001b[0mcallbacks\u001b[0m\u001b[0;34m.\u001b[0m\u001b[0mon_train_batch_begin\u001b[0m\u001b[0;34m(\u001b[0m\u001b[0mstep\u001b[0m\u001b[0;34m)\u001b[0m\u001b[0;34m\u001b[0m\u001b[0;34m\u001b[0m\u001b[0m\n\u001b[0;32m-> 1158\u001b[0;31m               \u001b[0mtmp_logs\u001b[0m \u001b[0;34m=\u001b[0m \u001b[0mself\u001b[0m\u001b[0;34m.\u001b[0m\u001b[0mtrain_function\u001b[0m\u001b[0;34m(\u001b[0m\u001b[0miterator\u001b[0m\u001b[0;34m)\u001b[0m\u001b[0;34m\u001b[0m\u001b[0;34m\u001b[0m\u001b[0m\n\u001b[0m\u001b[1;32m   1159\u001b[0m               \u001b[0;32mif\u001b[0m \u001b[0mdata_handler\u001b[0m\u001b[0;34m.\u001b[0m\u001b[0mshould_sync\u001b[0m\u001b[0;34m:\u001b[0m\u001b[0;34m\u001b[0m\u001b[0;34m\u001b[0m\u001b[0m\n\u001b[1;32m   1160\u001b[0m                 \u001b[0mcontext\u001b[0m\u001b[0;34m.\u001b[0m\u001b[0masync_wait\u001b[0m\u001b[0;34m(\u001b[0m\u001b[0;34m)\u001b[0m\u001b[0;34m\u001b[0m\u001b[0;34m\u001b[0m\u001b[0m\n",
      "\u001b[0;32m/usr/local/lib/python3.7/dist-packages/tensorflow/python/eager/def_function.py\u001b[0m in \u001b[0;36m__call__\u001b[0;34m(self, *args, **kwds)\u001b[0m\n\u001b[1;32m    887\u001b[0m \u001b[0;34m\u001b[0m\u001b[0m\n\u001b[1;32m    888\u001b[0m       \u001b[0;32mwith\u001b[0m \u001b[0mOptionalXlaContext\u001b[0m\u001b[0;34m(\u001b[0m\u001b[0mself\u001b[0m\u001b[0;34m.\u001b[0m\u001b[0m_jit_compile\u001b[0m\u001b[0;34m)\u001b[0m\u001b[0;34m:\u001b[0m\u001b[0;34m\u001b[0m\u001b[0;34m\u001b[0m\u001b[0m\n\u001b[0;32m--> 889\u001b[0;31m         \u001b[0mresult\u001b[0m \u001b[0;34m=\u001b[0m \u001b[0mself\u001b[0m\u001b[0;34m.\u001b[0m\u001b[0m_call\u001b[0m\u001b[0;34m(\u001b[0m\u001b[0;34m*\u001b[0m\u001b[0margs\u001b[0m\u001b[0;34m,\u001b[0m \u001b[0;34m**\u001b[0m\u001b[0mkwds\u001b[0m\u001b[0;34m)\u001b[0m\u001b[0;34m\u001b[0m\u001b[0;34m\u001b[0m\u001b[0m\n\u001b[0m\u001b[1;32m    890\u001b[0m \u001b[0;34m\u001b[0m\u001b[0m\n\u001b[1;32m    891\u001b[0m       \u001b[0mnew_tracing_count\u001b[0m \u001b[0;34m=\u001b[0m \u001b[0mself\u001b[0m\u001b[0;34m.\u001b[0m\u001b[0mexperimental_get_tracing_count\u001b[0m\u001b[0;34m(\u001b[0m\u001b[0;34m)\u001b[0m\u001b[0;34m\u001b[0m\u001b[0;34m\u001b[0m\u001b[0m\n",
      "\u001b[0;32m/usr/local/lib/python3.7/dist-packages/tensorflow/python/eager/def_function.py\u001b[0m in \u001b[0;36m_call\u001b[0;34m(self, *args, **kwds)\u001b[0m\n\u001b[1;32m    915\u001b[0m       \u001b[0;31m# In this case we have created variables on the first call, so we run the\u001b[0m\u001b[0;34m\u001b[0m\u001b[0;34m\u001b[0m\u001b[0;34m\u001b[0m\u001b[0m\n\u001b[1;32m    916\u001b[0m       \u001b[0;31m# defunned version which is guaranteed to never create variables.\u001b[0m\u001b[0;34m\u001b[0m\u001b[0;34m\u001b[0m\u001b[0;34m\u001b[0m\u001b[0m\n\u001b[0;32m--> 917\u001b[0;31m       \u001b[0;32mreturn\u001b[0m \u001b[0mself\u001b[0m\u001b[0;34m.\u001b[0m\u001b[0m_stateless_fn\u001b[0m\u001b[0;34m(\u001b[0m\u001b[0;34m*\u001b[0m\u001b[0margs\u001b[0m\u001b[0;34m,\u001b[0m \u001b[0;34m**\u001b[0m\u001b[0mkwds\u001b[0m\u001b[0;34m)\u001b[0m  \u001b[0;31m# pylint: disable=not-callable\u001b[0m\u001b[0;34m\u001b[0m\u001b[0;34m\u001b[0m\u001b[0m\n\u001b[0m\u001b[1;32m    918\u001b[0m     \u001b[0;32melif\u001b[0m \u001b[0mself\u001b[0m\u001b[0;34m.\u001b[0m\u001b[0m_stateful_fn\u001b[0m \u001b[0;32mis\u001b[0m \u001b[0;32mnot\u001b[0m \u001b[0;32mNone\u001b[0m\u001b[0;34m:\u001b[0m\u001b[0;34m\u001b[0m\u001b[0;34m\u001b[0m\u001b[0m\n\u001b[1;32m    919\u001b[0m       \u001b[0;31m# Release the lock early so that multiple threads can perform the call\u001b[0m\u001b[0;34m\u001b[0m\u001b[0;34m\u001b[0m\u001b[0;34m\u001b[0m\u001b[0m\n",
      "\u001b[0;32m/usr/local/lib/python3.7/dist-packages/tensorflow/python/eager/function.py\u001b[0m in \u001b[0;36m__call__\u001b[0;34m(self, *args, **kwargs)\u001b[0m\n\u001b[1;32m   3022\u001b[0m        filtered_flat_args) = self._maybe_define_function(args, kwargs)\n\u001b[1;32m   3023\u001b[0m     return graph_function._call_flat(\n\u001b[0;32m-> 3024\u001b[0;31m         filtered_flat_args, captured_inputs=graph_function.captured_inputs)  # pylint: disable=protected-access\n\u001b[0m\u001b[1;32m   3025\u001b[0m \u001b[0;34m\u001b[0m\u001b[0m\n\u001b[1;32m   3026\u001b[0m   \u001b[0;34m@\u001b[0m\u001b[0mproperty\u001b[0m\u001b[0;34m\u001b[0m\u001b[0;34m\u001b[0m\u001b[0m\n",
      "\u001b[0;32m/usr/local/lib/python3.7/dist-packages/tensorflow/python/eager/function.py\u001b[0m in \u001b[0;36m_call_flat\u001b[0;34m(self, args, captured_inputs, cancellation_manager)\u001b[0m\n\u001b[1;32m   1959\u001b[0m       \u001b[0;31m# No tape is watching; skip to running the function.\u001b[0m\u001b[0;34m\u001b[0m\u001b[0;34m\u001b[0m\u001b[0;34m\u001b[0m\u001b[0m\n\u001b[1;32m   1960\u001b[0m       return self._build_call_outputs(self._inference_function.call(\n\u001b[0;32m-> 1961\u001b[0;31m           ctx, args, cancellation_manager=cancellation_manager))\n\u001b[0m\u001b[1;32m   1962\u001b[0m     forward_backward = self._select_forward_and_backward_functions(\n\u001b[1;32m   1963\u001b[0m         \u001b[0margs\u001b[0m\u001b[0;34m,\u001b[0m\u001b[0;34m\u001b[0m\u001b[0;34m\u001b[0m\u001b[0m\n",
      "\u001b[0;32m/usr/local/lib/python3.7/dist-packages/tensorflow/python/eager/function.py\u001b[0m in \u001b[0;36mcall\u001b[0;34m(self, ctx, args, cancellation_manager)\u001b[0m\n\u001b[1;32m    594\u001b[0m               \u001b[0minputs\u001b[0m\u001b[0;34m=\u001b[0m\u001b[0margs\u001b[0m\u001b[0;34m,\u001b[0m\u001b[0;34m\u001b[0m\u001b[0;34m\u001b[0m\u001b[0m\n\u001b[1;32m    595\u001b[0m               \u001b[0mattrs\u001b[0m\u001b[0;34m=\u001b[0m\u001b[0mattrs\u001b[0m\u001b[0;34m,\u001b[0m\u001b[0;34m\u001b[0m\u001b[0;34m\u001b[0m\u001b[0m\n\u001b[0;32m--> 596\u001b[0;31m               ctx=ctx)\n\u001b[0m\u001b[1;32m    597\u001b[0m         \u001b[0;32melse\u001b[0m\u001b[0;34m:\u001b[0m\u001b[0;34m\u001b[0m\u001b[0;34m\u001b[0m\u001b[0m\n\u001b[1;32m    598\u001b[0m           outputs = execute.execute_with_cancellation(\n",
      "\u001b[0;32m/usr/local/lib/python3.7/dist-packages/tensorflow/python/eager/execute.py\u001b[0m in \u001b[0;36mquick_execute\u001b[0;34m(op_name, num_outputs, inputs, attrs, ctx, name)\u001b[0m\n\u001b[1;32m     58\u001b[0m     \u001b[0mctx\u001b[0m\u001b[0;34m.\u001b[0m\u001b[0mensure_initialized\u001b[0m\u001b[0;34m(\u001b[0m\u001b[0;34m)\u001b[0m\u001b[0;34m\u001b[0m\u001b[0;34m\u001b[0m\u001b[0m\n\u001b[1;32m     59\u001b[0m     tensors = pywrap_tfe.TFE_Py_Execute(ctx._handle, device_name, op_name,\n\u001b[0;32m---> 60\u001b[0;31m                                         inputs, attrs, num_outputs)\n\u001b[0m\u001b[1;32m     61\u001b[0m   \u001b[0;32mexcept\u001b[0m \u001b[0mcore\u001b[0m\u001b[0;34m.\u001b[0m\u001b[0m_NotOkStatusException\u001b[0m \u001b[0;32mas\u001b[0m \u001b[0me\u001b[0m\u001b[0;34m:\u001b[0m\u001b[0;34m\u001b[0m\u001b[0;34m\u001b[0m\u001b[0m\n\u001b[1;32m     62\u001b[0m     \u001b[0;32mif\u001b[0m \u001b[0mname\u001b[0m \u001b[0;32mis\u001b[0m \u001b[0;32mnot\u001b[0m \u001b[0;32mNone\u001b[0m\u001b[0;34m:\u001b[0m\u001b[0;34m\u001b[0m\u001b[0;34m\u001b[0m\u001b[0m\n",
      "\u001b[0;31mKeyboardInterrupt\u001b[0m: "
     ]
    }
   ],
   "source": [
    "import tensorflow as tf\n",
    "from keras.models import Sequential\n",
    "from keras.layers.core import Dense\n",
    "from keras.layers.recurrent import LSTM\n",
    "from keras.optimizers import Adam\n",
    "from keras.callbacks import EarlyStopping\n",
    "\n",
    "# データを整形\n",
    "def format_training_data(nb_of_samples, sequence_len):\n",
    "    # 学習データを整形\n",
    "    X = np.array(X_train)\n",
    "    # 正解データを整形\n",
    "    t = np.array(y_train)\n",
    "    # LSTMに与える入力のため、(サンプル, 時刻, 特徴量の次元) の3次元にする\n",
    "    return X.reshape((nb_of_samples, sequence_len, 1)), t\n",
    "\n",
    "def run_lstm(nhu=256, bs=2, lr=0.0001):\n",
    "  input_dim = 1                             # 入力データの次元数\n",
    "  output_dim = 1                            # 出力データの次元数\n",
    "  num_hidden_units = nhu                    # 隠れ層のユニット数\n",
    "  len_sequence = X_train.shape[1]           # 時系列の長さ\n",
    "  batch_size = bs                           # ミニバッチサイズ\n",
    "  num_of_training_epochs = 100              # 学習エポック数\n",
    "  learning_rate = lr                        # 学習率\n",
    "  num_training_samples = X_train.shape[0]   # 学習データのサンプル数\n",
    "\n",
    "  X, t = format_training_data(num_training_samples, len_sequence)\n",
    "\n",
    "  # モデル構築\n",
    "  model = Sequential()\n",
    "  model.add(LSTM(\n",
    "      num_hidden_units,\n",
    "      input_shape=(len_sequence, input_dim),\n",
    "      return_sequences=False))\n",
    "  model.add(Dense(output_dim))\n",
    "  model.compile(loss='categorical_crossentropy', optimizer=Adam(lr=learning_rate))\n",
    "  model.summary()\n",
    "\n",
    "  # アーリーストッピング\n",
    "  #early_stopping = EarlyStopping(monitor='val_loss', mode='auto', patience=50)\n",
    "\n",
    "  # データの整形\n",
    "  ## (サンプル, 時刻, 特徴量の次元) の3次元の入力を与える\n",
    "  X_valid_np = np.array(X_valid)\n",
    "  X_test_np = np.array(X_test)\n",
    "  X_valid_np = X_valid_np.reshape((X_valid_np.shape[0], X_valid_np.shape[1], 1))\n",
    "  X_test_np = X_test_np.reshape((X_test_np.shape[0], X_test_np.shape[1], 1))\n",
    "  ## 正解データ\n",
    "  valid_true = np.array(y_valid)\n",
    "  test_true = np.array(y_test)\n",
    "\n",
    "  # 学習\n",
    "  model.fit(\n",
    "      X, t,\n",
    "      batch_size=batch_size,\n",
    "      epochs=num_of_training_epochs,\n",
    "      validation_data=(X_valid_np, valid_true)\n",
    "      #validation_split=0.1,\n",
    "      #callbacks=[early_stopping]\n",
    "  )\n",
    "\n",
    "  # 予測\n",
    "  ## 検証用\n",
    "  y_pred_vali = np.ravel(model.predict(X_valid_np))\n",
    "  ## 評価用\n",
    "  y_pred_test = np.ravel(model.predict(X_test_np))\n",
    "\n",
    "  # 結果出力\n",
    "  print(f'{\"=\"*36} LSTM {\"=\"*36}')\n",
    "  print('検証用')\n",
    "  print('予測：', y_pred_vali)\n",
    "  print('正解：', valid_true)\n",
    "  print('評価用')\n",
    "  print('予測：', y_pred_test)\n",
    "  print('正解：', test_true)\n",
    "  print(f'valid_RMSE: {np.sqrt(mean_squared_error(valid_true, y_pred_vali)):.4f}')\n",
    "  print(f'test_RMSE: {np.sqrt(mean_squared_error(test_true, y_pred_test)):.4f}')\n",
    "\n",
    "  # 正規化を戻して、実際のアクティビティカウント値を出力\n",
    "  ## 予測データを戻す\n",
    "  y_pred_vali = norm2real(y_pred_vali)\n",
    "  y_pred_test = norm2real(y_pred_test)\n",
    "  ## 正解データを戻す\n",
    "  valid_true = np.array(y_valid_real)\n",
    "  test_true = np.array(y_test_real)\n",
    "  print(f'{\"=\"*18} real data RMSE {\"=\"*18}')\n",
    "  print('検証用')\n",
    "  print('予測：', y_pred_vali)\n",
    "  print('正解：', valid_true)\n",
    "  print('評価用')\n",
    "  print('予測：', y_pred_test)\n",
    "  print('正解：', test_true)\n",
    "  valid_rmse = np.sqrt(mean_squared_error(valid_true, y_pred_vali))\n",
    "  test_rmse = np.sqrt(mean_squared_error(test_true, y_pred_test))\n",
    "  print(f'valid_RMSE: {valid_rmse:.4f}')\n",
    "  print(f'test_RMSE: {test_rmse:.4f}')\n",
    "\n",
    "run_lstm(nhu=256, bs=1024, lr=0.0001)"
   ]
  },
  {
   "cell_type": "code",
   "execution_count": 68,
   "metadata": {
    "colab": {
     "base_uri": "https://localhost:8080/"
    },
    "id": "JfoIvfOZNvQI",
    "outputId": "93216d00-54ba-4385-ffee-313638fef803"
   },
   "outputs": [
    {
     "data": {
      "text/plain": [
       "(4196, 300)"
      ]
     },
     "execution_count": 68,
     "metadata": {
      "tags": []
     },
     "output_type": "execute_result"
    }
   ],
   "source": [
    "X_train.shape"
   ]
  },
  {
   "cell_type": "code",
   "execution_count": null,
   "metadata": {
    "id": "gTioHRzqORMF"
   },
   "outputs": [],
   "source": []
  }
 ],
 "metadata": {
  "colab": {
   "collapsed_sections": [],
   "name": "tmdb_multi-label-classification.ipynb",
   "provenance": [],
   "toc_visible": true
  },
  "kernelspec": {
   "display_name": "Python 3 (ipykernel)",
   "language": "python",
   "name": "python3"
  },
  "language_info": {
   "codemirror_mode": {
    "name": "ipython",
    "version": 3
   },
   "file_extension": ".py",
   "mimetype": "text/x-python",
   "name": "python",
   "nbconvert_exporter": "python",
   "pygments_lexer": "ipython3",
   "version": "3.9.5"
  }
 },
 "nbformat": 4,
 "nbformat_minor": 1
}
