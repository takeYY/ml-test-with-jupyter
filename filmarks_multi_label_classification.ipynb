{
 "cells": [
  {
   "cell_type": "markdown",
   "metadata": {
    "id": "nzeDU6YO6_LF"
   },
   "source": [
    "## データ準備とNaNレコードの削除"
   ]
  },
  {
   "cell_type": "code",
   "execution_count": 1,
   "metadata": {
    "colab": {
     "base_uri": "https://localhost:8080/",
     "height": 1000
    },
    "id": "T35DvpE_wRO6",
    "outputId": "93b582ef-6f86-42f1-d779-9e343f1e2674"
   },
   "outputs": [
    {
     "data": {
      "text/html": [
       "<div>\n",
       "<style scoped>\n",
       "    .dataframe tbody tr th:only-of-type {\n",
       "        vertical-align: middle;\n",
       "    }\n",
       "\n",
       "    .dataframe tbody tr th {\n",
       "        vertical-align: top;\n",
       "    }\n",
       "\n",
       "    .dataframe thead th {\n",
       "        text-align: right;\n",
       "    }\n",
       "</style>\n",
       "<table border=\"1\" class=\"dataframe\">\n",
       "  <thead>\n",
       "    <tr style=\"text-align: right;\">\n",
       "      <th></th>\n",
       "      <th>tmdb_id</th>\n",
       "      <th>filmarks_id</th>\n",
       "      <th>title</th>\n",
       "      <th>tmdb_overview</th>\n",
       "      <th>filmarks_overview</th>\n",
       "      <th>genre_name1</th>\n",
       "      <th>genre_id1</th>\n",
       "      <th>genre_name2</th>\n",
       "      <th>genre_id2</th>\n",
       "      <th>genre_name3</th>\n",
       "      <th>genre_id3</th>\n",
       "    </tr>\n",
       "  </thead>\n",
       "  <tbody>\n",
       "    <tr>\n",
       "      <th>0</th>\n",
       "      <td>278</td>\n",
       "      <td>19119</td>\n",
       "      <td>ショーシャンクの空に</td>\n",
       "      <td>妻とその愛人を射殺したかどでショーシャンク刑務所送りとなった銀行家アンディ。初めは戸惑ってい...</td>\n",
       "      <td>\"スティーヴン・キングの中編小説「刑務所のリタ・ヘイワース」をフランク・ダラボン監督が映画化...</td>\n",
       "      <td>ドラマ</td>\n",
       "      <td>8</td>\n",
       "      <td>NaN</td>\n",
       "      <td>0</td>\n",
       "      <td>NaN</td>\n",
       "      <td>0</td>\n",
       "    </tr>\n",
       "    <tr>\n",
       "      <th>1</th>\n",
       "      <td>238</td>\n",
       "      <td>12825</td>\n",
       "      <td>ゴッドファーザー</td>\n",
       "      <td>シシリーからアメリカに移住し、一代で財を成したドン・コルレオーネ。三男のマイケルはひとり堅気...</td>\n",
       "      <td>\"アメリカで絶大な権力を握るコルレオーネ・ファミリーが崩壊の危機に立たされる様を描いた作品。...</td>\n",
       "      <td>アクション</td>\n",
       "      <td>5</td>\n",
       "      <td>クライム</td>\n",
       "      <td>896</td>\n",
       "      <td>ギャング・マフィア</td>\n",
       "      <td>902</td>\n",
       "    </tr>\n",
       "    <tr>\n",
       "      <th>2</th>\n",
       "      <td>424</td>\n",
       "      <td>14275</td>\n",
       "      <td>シンドラーのリスト</td>\n",
       "      <td>1939年、ポーランド南部の都市クラクフにドイツ軍が侵攻した。ドイツ人実業家のオスカー・シン...</td>\n",
       "      <td>\"ナチスによるユダヤ人大虐殺のさなか、1,100人以上のユダヤ人の命を救った、謎めいた男オス...</td>\n",
       "      <td>ドラマ</td>\n",
       "      <td>8</td>\n",
       "      <td>歴史</td>\n",
       "      <td>893</td>\n",
       "      <td>伝記</td>\n",
       "      <td>899</td>\n",
       "    </tr>\n",
       "    <tr>\n",
       "      <th>3</th>\n",
       "      <td>372058</td>\n",
       "      <td>65931</td>\n",
       "      <td>君の名は。</td>\n",
       "      <td>1,000年に1度のすい星来訪が、1か月後に迫る日本。山々に囲まれた田舎町に住む女子高生の三...</td>\n",
       "      <td>\"千年ぶりとなる彗星の来訪を一か月後に控えた日本。山深い田舎町に暮らす女子高校生・三葉は憂鬱...</td>\n",
       "      <td>恋愛</td>\n",
       "      <td>25</td>\n",
       "      <td>アニメ</td>\n",
       "      <td>61</td>\n",
       "      <td>NaN</td>\n",
       "      <td>0</td>\n",
       "    </tr>\n",
       "    <tr>\n",
       "      <th>4</th>\n",
       "      <td>240</td>\n",
       "      <td>38145</td>\n",
       "      <td>ゴッドファーザー PART II</td>\n",
       "      <td>亡き父のあとを継ぎドンとなったマイケルの苦悩と復讐を、父ビトーの少年時代からやがて一大ファミ...</td>\n",
       "      <td>\"コルレオーネ・ファミリーは本拠地をニューヨークからラスベガスに近いタホー湖畔へ移っていた。...</td>\n",
       "      <td>アクション</td>\n",
       "      <td>5</td>\n",
       "      <td>ドラマ</td>\n",
       "      <td>8</td>\n",
       "      <td>ギャング・マフィア</td>\n",
       "      <td>902</td>\n",
       "    </tr>\n",
       "    <tr>\n",
       "      <th>...</th>\n",
       "      <td>...</td>\n",
       "      <td>...</td>\n",
       "      <td>...</td>\n",
       "      <td>...</td>\n",
       "      <td>...</td>\n",
       "      <td>...</td>\n",
       "      <td>...</td>\n",
       "      <td>...</td>\n",
       "      <td>...</td>\n",
       "      <td>...</td>\n",
       "      <td>...</td>\n",
       "    </tr>\n",
       "    <tr>\n",
       "      <th>2807</th>\n",
       "      <td>9708</td>\n",
       "      <td>31250</td>\n",
       "      <td>ウィッカーマン</td>\n",
       "      <td>カリフォルニアの交通警察官エドワード・メイラスは、勤務中に遭遇した身元不明の親娘が犠牲となる...</td>\n",
       "      <td>NaN</td>\n",
       "      <td>サスペンス</td>\n",
       "      <td>2</td>\n",
       "      <td>NaN</td>\n",
       "      <td>0</td>\n",
       "      <td>NaN</td>\n",
       "      <td>0</td>\n",
       "    </tr>\n",
       "    <tr>\n",
       "      <th>2808</th>\n",
       "      <td>218043</td>\n",
       "      <td>59404</td>\n",
       "      <td>レフト・ビハインド</td>\n",
       "      <td>その日突然、数百万を超す人間が姿を消した。世界中でライフラインが機能を停止、地上は未曾有の混...</td>\n",
       "      <td>\"何の前触れもなく、世界各国で数百万もの人間が消失するという異常な事態が発生。各種通信網やエ...</td>\n",
       "      <td>サスペンス</td>\n",
       "      <td>2</td>\n",
       "      <td>パニック</td>\n",
       "      <td>891</td>\n",
       "      <td>NaN</td>\n",
       "      <td>0</td>\n",
       "    </tr>\n",
       "    <tr>\n",
       "      <th>2809</th>\n",
       "      <td>10214</td>\n",
       "      <td>17888</td>\n",
       "      <td>マスク2</td>\n",
       "      <td>アニメ製作会社に勤めるティムは、妻と平凡な生活を送っていた。ところがある日、愛犬が緑色の奇妙...</td>\n",
       "      <td>\"アニメ会社に勤めるティムは、妻のトーニャと平穏に暮らしていた。 そんなある日、愛犬オーティ...</td>\n",
       "      <td>コメディ</td>\n",
       "      <td>20</td>\n",
       "      <td>NaN</td>\n",
       "      <td>0</td>\n",
       "      <td>NaN</td>\n",
       "      <td>0</td>\n",
       "    </tr>\n",
       "    <tr>\n",
       "      <th>2810</th>\n",
       "      <td>7278</td>\n",
       "      <td>15443</td>\n",
       "      <td>ほぼ300＜スリーハンドレッド＞</td>\n",
       "      <td>NaN</td>\n",
       "      <td>NaN</td>\n",
       "      <td>コメディ</td>\n",
       "      <td>20</td>\n",
       "      <td>NaN</td>\n",
       "      <td>0</td>\n",
       "      <td>NaN</td>\n",
       "      <td>0</td>\n",
       "    </tr>\n",
       "    <tr>\n",
       "      <th>2811</th>\n",
       "      <td>5491</td>\n",
       "      <td>22032</td>\n",
       "      <td>バトルフィールド・アース</td>\n",
       "      <td>ジョン・トラヴォルタ主演、カルト的人気を誇るSF超大作。舞台は西暦3000年。異星人に支配さ...</td>\n",
       "      <td>NaN</td>\n",
       "      <td>アクション</td>\n",
       "      <td>5</td>\n",
       "      <td>NaN</td>\n",
       "      <td>0</td>\n",
       "      <td>NaN</td>\n",
       "      <td>0</td>\n",
       "    </tr>\n",
       "  </tbody>\n",
       "</table>\n",
       "<p>2812 rows × 11 columns</p>\n",
       "</div>"
      ],
      "text/plain": [
       "      tmdb_id  filmarks_id             title  ... genre_id2 genre_name3 genre_id3\n",
       "0         278        19119        ショーシャンクの空に  ...         0         NaN         0\n",
       "1         238        12825          ゴッドファーザー  ...       896   ギャング・マフィア       902\n",
       "2         424        14275         シンドラーのリスト  ...       893          伝記       899\n",
       "3      372058        65931             君の名は。  ...        61         NaN         0\n",
       "4         240        38145  ゴッドファーザー PART II  ...         8   ギャング・マフィア       902\n",
       "...       ...          ...               ...  ...       ...         ...       ...\n",
       "2807     9708        31250           ウィッカーマン  ...         0         NaN         0\n",
       "2808   218043        59404         レフト・ビハインド  ...       891         NaN         0\n",
       "2809    10214        17888              マスク2  ...         0         NaN         0\n",
       "2810     7278        15443  ほぼ300＜スリーハンドレッド＞  ...         0         NaN         0\n",
       "2811     5491        22032      バトルフィールド・アース  ...         0         NaN         0\n",
       "\n",
       "[2812 rows x 11 columns]"
      ]
     },
     "execution_count": 1,
     "metadata": {
      "tags": []
     },
     "output_type": "execute_result"
    }
   ],
   "source": [
    "import pandas as pd\n",
    "import numpy as np\n",
    "\n",
    "df_dir = 'input_df'\n",
    "\n",
    "split_list = [0, 1000, 2000, 3000, 4000, 5663]\n",
    "\n",
    "df = pd.DataFrame({'id': [0]})\n",
    "for idx, sl in enumerate(split_list):\n",
    "  if idx == 0:\n",
    "    continue\n",
    "  \n",
    "  tmp_df = pd.read_csv(f'{df_dir}/movies_{split_list[idx-1]}_{sl}.csv')\n",
    "  if idx == 1:\n",
    "    df = tmp_df\n",
    "  else:\n",
    "    df = pd.concat([df, tmp_df]).reset_index(drop=True)\n",
    "\n",
    "df"
   ]
  },
  {
   "cell_type": "code",
   "execution_count": 2,
   "metadata": {
    "colab": {
     "base_uri": "https://localhost:8080/"
    },
    "id": "j4FKsjo1xI0q",
    "outputId": "d5316411-31de-4ca2-c20f-448dd8a51777"
   },
   "outputs": [
    {
     "name": "stdout",
     "output_type": "stream",
     "text": [
      "<class 'pandas.core.frame.DataFrame'>\n",
      "RangeIndex: 2812 entries, 0 to 2811\n",
      "Data columns (total 11 columns):\n",
      " #   Column             Non-Null Count  Dtype \n",
      "---  ------             --------------  ----- \n",
      " 0   tmdb_id            2812 non-null   int64 \n",
      " 1   filmarks_id        2812 non-null   int64 \n",
      " 2   title              2812 non-null   object\n",
      " 3   tmdb_overview      2225 non-null   object\n",
      " 4   filmarks_overview  1193 non-null   object\n",
      " 5   genre_name1        2812 non-null   object\n",
      " 6   genre_id1          2812 non-null   int64 \n",
      " 7   genre_name2        1213 non-null   object\n",
      " 8   genre_id2          2812 non-null   int64 \n",
      " 9   genre_name3        349 non-null    object\n",
      " 10  genre_id3          2812 non-null   int64 \n",
      "dtypes: int64(5), object(6)\n",
      "memory usage: 241.8+ KB\n"
     ]
    }
   ],
   "source": [
    "df.info()"
   ]
  },
  {
   "cell_type": "code",
   "execution_count": 3,
   "metadata": {
    "colab": {
     "base_uri": "https://localhost:8080/",
     "height": 830
    },
    "id": "lTR4_6FPzyzF",
    "outputId": "379cac68-7590-4b4f-b7bd-188d66263a61"
   },
   "outputs": [
    {
     "data": {
      "text/html": [
       "<div>\n",
       "<style scoped>\n",
       "    .dataframe tbody tr th:only-of-type {\n",
       "        vertical-align: middle;\n",
       "    }\n",
       "\n",
       "    .dataframe tbody tr th {\n",
       "        vertical-align: top;\n",
       "    }\n",
       "\n",
       "    .dataframe thead th {\n",
       "        text-align: right;\n",
       "    }\n",
       "</style>\n",
       "<table border=\"1\" class=\"dataframe\">\n",
       "  <thead>\n",
       "    <tr style=\"text-align: right;\">\n",
       "      <th></th>\n",
       "      <th>tmdb_id</th>\n",
       "      <th>filmarks_id</th>\n",
       "      <th>title</th>\n",
       "      <th>tmdb_overview</th>\n",
       "      <th>filmarks_overview</th>\n",
       "      <th>genre_name1</th>\n",
       "      <th>genre_id1</th>\n",
       "      <th>genre_name2</th>\n",
       "      <th>genre_id2</th>\n",
       "      <th>genre_name3</th>\n",
       "      <th>genre_id3</th>\n",
       "    </tr>\n",
       "  </thead>\n",
       "  <tbody>\n",
       "    <tr>\n",
       "      <th>19</th>\n",
       "      <td>522924</td>\n",
       "      <td>81734</td>\n",
       "      <td>エンツォ レーサーになりたかった犬とある家族の物語</td>\n",
       "      <td>NaN</td>\n",
       "      <td>NaN</td>\n",
       "      <td>ドラマ</td>\n",
       "      <td>8</td>\n",
       "      <td>NaN</td>\n",
       "      <td>0</td>\n",
       "      <td>NaN</td>\n",
       "      <td>0</td>\n",
       "    </tr>\n",
       "    <tr>\n",
       "      <th>25</th>\n",
       "      <td>537061</td>\n",
       "      <td>89827</td>\n",
       "      <td>Steven Universe: The Movie</td>\n",
       "      <td>NaN</td>\n",
       "      <td>NaN</td>\n",
       "      <td>アニメ</td>\n",
       "      <td>61</td>\n",
       "      <td>NaN</td>\n",
       "      <td>0</td>\n",
       "      <td>NaN</td>\n",
       "      <td>0</td>\n",
       "    </tr>\n",
       "    <tr>\n",
       "      <th>31</th>\n",
       "      <td>599</td>\n",
       "      <td>11983</td>\n",
       "      <td>サンセット大通り</td>\n",
       "      <td>NaN</td>\n",
       "      <td>NaN</td>\n",
       "      <td>ドラマ</td>\n",
       "      <td>8</td>\n",
       "      <td>NaN</td>\n",
       "      <td>0</td>\n",
       "      <td>NaN</td>\n",
       "      <td>0</td>\n",
       "    </tr>\n",
       "    <tr>\n",
       "      <th>40</th>\n",
       "      <td>527641</td>\n",
       "      <td>81870</td>\n",
       "      <td>Five Feet Apart</td>\n",
       "      <td>NaN</td>\n",
       "      <td>NaN</td>\n",
       "      <td>恋愛</td>\n",
       "      <td>25</td>\n",
       "      <td>NaN</td>\n",
       "      <td>0</td>\n",
       "      <td>NaN</td>\n",
       "      <td>0</td>\n",
       "    </tr>\n",
       "    <tr>\n",
       "      <th>44</th>\n",
       "      <td>452522</td>\n",
       "      <td>12751</td>\n",
       "      <td>ツイン・ピークス</td>\n",
       "      <td>NaN</td>\n",
       "      <td>NaN</td>\n",
       "      <td>サスペンス</td>\n",
       "      <td>2</td>\n",
       "      <td>NaN</td>\n",
       "      <td>0</td>\n",
       "      <td>NaN</td>\n",
       "      <td>0</td>\n",
       "    </tr>\n",
       "    <tr>\n",
       "      <th>...</th>\n",
       "      <td>...</td>\n",
       "      <td>...</td>\n",
       "      <td>...</td>\n",
       "      <td>...</td>\n",
       "      <td>...</td>\n",
       "      <td>...</td>\n",
       "      <td>...</td>\n",
       "      <td>...</td>\n",
       "      <td>...</td>\n",
       "      <td>...</td>\n",
       "      <td>...</td>\n",
       "    </tr>\n",
       "    <tr>\n",
       "      <th>2795</th>\n",
       "      <td>10283</td>\n",
       "      <td>21100</td>\n",
       "      <td>13日の金曜日 PART8／ジェイソンN.Y.へ</td>\n",
       "      <td>NaN</td>\n",
       "      <td>NaN</td>\n",
       "      <td>ホラー</td>\n",
       "      <td>17</td>\n",
       "      <td>NaN</td>\n",
       "      <td>0</td>\n",
       "      <td>NaN</td>\n",
       "      <td>0</td>\n",
       "    </tr>\n",
       "    <tr>\n",
       "      <th>2800</th>\n",
       "      <td>10285</td>\n",
       "      <td>30955</td>\n",
       "      <td>13日の金曜日／ジェイソンの命日</td>\n",
       "      <td>NaN</td>\n",
       "      <td>NaN</td>\n",
       "      <td>ホラー</td>\n",
       "      <td>17</td>\n",
       "      <td>NaN</td>\n",
       "      <td>0</td>\n",
       "      <td>NaN</td>\n",
       "      <td>0</td>\n",
       "    </tr>\n",
       "    <tr>\n",
       "      <th>2805</th>\n",
       "      <td>11531</td>\n",
       "      <td>3597</td>\n",
       "      <td>ブレアウィッチ2</td>\n",
       "      <td>NaN</td>\n",
       "      <td>NaN</td>\n",
       "      <td>ホラー</td>\n",
       "      <td>17</td>\n",
       "      <td>NaN</td>\n",
       "      <td>0</td>\n",
       "      <td>NaN</td>\n",
       "      <td>0</td>\n",
       "    </tr>\n",
       "    <tr>\n",
       "      <th>2806</th>\n",
       "      <td>71880</td>\n",
       "      <td>5390</td>\n",
       "      <td>ジャックとジル</td>\n",
       "      <td>NaN</td>\n",
       "      <td>NaN</td>\n",
       "      <td>ドラマ</td>\n",
       "      <td>8</td>\n",
       "      <td>NaN</td>\n",
       "      <td>0</td>\n",
       "      <td>NaN</td>\n",
       "      <td>0</td>\n",
       "    </tr>\n",
       "    <tr>\n",
       "      <th>2810</th>\n",
       "      <td>7278</td>\n",
       "      <td>15443</td>\n",
       "      <td>ほぼ300＜スリーハンドレッド＞</td>\n",
       "      <td>NaN</td>\n",
       "      <td>NaN</td>\n",
       "      <td>コメディ</td>\n",
       "      <td>20</td>\n",
       "      <td>NaN</td>\n",
       "      <td>0</td>\n",
       "      <td>NaN</td>\n",
       "      <td>0</td>\n",
       "    </tr>\n",
       "  </tbody>\n",
       "</table>\n",
       "<p>422 rows × 11 columns</p>\n",
       "</div>"
      ],
      "text/plain": [
       "      tmdb_id  filmarks_id  ... genre_name3 genre_id3\n",
       "19     522924        81734  ...         NaN         0\n",
       "25     537061        89827  ...         NaN         0\n",
       "31        599        11983  ...         NaN         0\n",
       "40     527641        81870  ...         NaN         0\n",
       "44     452522        12751  ...         NaN         0\n",
       "...       ...          ...  ...         ...       ...\n",
       "2795    10283        21100  ...         NaN         0\n",
       "2800    10285        30955  ...         NaN         0\n",
       "2805    11531         3597  ...         NaN         0\n",
       "2806    71880         5390  ...         NaN         0\n",
       "2810     7278        15443  ...         NaN         0\n",
       "\n",
       "[422 rows x 11 columns]"
      ]
     },
     "execution_count": 3,
     "metadata": {
      "tags": []
     },
     "output_type": "execute_result"
    }
   ],
   "source": [
    "df.query(' tmdb_overview.isna() and filmarks_overview.isna() ', engine='python')"
   ]
  },
  {
   "cell_type": "code",
   "execution_count": 4,
   "metadata": {
    "colab": {
     "base_uri": "https://localhost:8080/",
     "height": 1000
    },
    "id": "Izhf5wBG1kL2",
    "outputId": "4168c568-bf46-48bf-da74-3afff085a067"
   },
   "outputs": [
    {
     "data": {
      "text/html": [
       "<div>\n",
       "<style scoped>\n",
       "    .dataframe tbody tr th:only-of-type {\n",
       "        vertical-align: middle;\n",
       "    }\n",
       "\n",
       "    .dataframe tbody tr th {\n",
       "        vertical-align: top;\n",
       "    }\n",
       "\n",
       "    .dataframe thead th {\n",
       "        text-align: right;\n",
       "    }\n",
       "</style>\n",
       "<table border=\"1\" class=\"dataframe\">\n",
       "  <thead>\n",
       "    <tr style=\"text-align: right;\">\n",
       "      <th></th>\n",
       "      <th>tmdb_id</th>\n",
       "      <th>filmarks_id</th>\n",
       "      <th>title</th>\n",
       "      <th>tmdb_overview</th>\n",
       "      <th>filmarks_overview</th>\n",
       "      <th>genre_name1</th>\n",
       "      <th>genre_id1</th>\n",
       "      <th>genre_name2</th>\n",
       "      <th>genre_id2</th>\n",
       "      <th>genre_name3</th>\n",
       "      <th>genre_id3</th>\n",
       "    </tr>\n",
       "  </thead>\n",
       "  <tbody>\n",
       "    <tr>\n",
       "      <th>0</th>\n",
       "      <td>278</td>\n",
       "      <td>19119</td>\n",
       "      <td>ショーシャンクの空に</td>\n",
       "      <td>妻とその愛人を射殺したかどでショーシャンク刑務所送りとなった銀行家アンディ。初めは戸惑ってい...</td>\n",
       "      <td>\"スティーヴン・キングの中編小説「刑務所のリタ・ヘイワース」をフランク・ダラボン監督が映画化...</td>\n",
       "      <td>ドラマ</td>\n",
       "      <td>8</td>\n",
       "      <td>NaN</td>\n",
       "      <td>0</td>\n",
       "      <td>NaN</td>\n",
       "      <td>0</td>\n",
       "    </tr>\n",
       "    <tr>\n",
       "      <th>1</th>\n",
       "      <td>238</td>\n",
       "      <td>12825</td>\n",
       "      <td>ゴッドファーザー</td>\n",
       "      <td>シシリーからアメリカに移住し、一代で財を成したドン・コルレオーネ。三男のマイケルはひとり堅気...</td>\n",
       "      <td>\"アメリカで絶大な権力を握るコルレオーネ・ファミリーが崩壊の危機に立たされる様を描いた作品。...</td>\n",
       "      <td>アクション</td>\n",
       "      <td>5</td>\n",
       "      <td>クライム</td>\n",
       "      <td>896</td>\n",
       "      <td>ギャング・マフィア</td>\n",
       "      <td>902</td>\n",
       "    </tr>\n",
       "    <tr>\n",
       "      <th>2</th>\n",
       "      <td>424</td>\n",
       "      <td>14275</td>\n",
       "      <td>シンドラーのリスト</td>\n",
       "      <td>1939年、ポーランド南部の都市クラクフにドイツ軍が侵攻した。ドイツ人実業家のオスカー・シン...</td>\n",
       "      <td>\"ナチスによるユダヤ人大虐殺のさなか、1,100人以上のユダヤ人の命を救った、謎めいた男オス...</td>\n",
       "      <td>ドラマ</td>\n",
       "      <td>8</td>\n",
       "      <td>歴史</td>\n",
       "      <td>893</td>\n",
       "      <td>伝記</td>\n",
       "      <td>899</td>\n",
       "    </tr>\n",
       "    <tr>\n",
       "      <th>3</th>\n",
       "      <td>372058</td>\n",
       "      <td>65931</td>\n",
       "      <td>君の名は。</td>\n",
       "      <td>1,000年に1度のすい星来訪が、1か月後に迫る日本。山々に囲まれた田舎町に住む女子高生の三...</td>\n",
       "      <td>\"千年ぶりとなる彗星の来訪を一か月後に控えた日本。山深い田舎町に暮らす女子高校生・三葉は憂鬱...</td>\n",
       "      <td>恋愛</td>\n",
       "      <td>25</td>\n",
       "      <td>アニメ</td>\n",
       "      <td>61</td>\n",
       "      <td>NaN</td>\n",
       "      <td>0</td>\n",
       "    </tr>\n",
       "    <tr>\n",
       "      <th>4</th>\n",
       "      <td>240</td>\n",
       "      <td>38145</td>\n",
       "      <td>ゴッドファーザー PART II</td>\n",
       "      <td>亡き父のあとを継ぎドンとなったマイケルの苦悩と復讐を、父ビトーの少年時代からやがて一大ファミ...</td>\n",
       "      <td>\"コルレオーネ・ファミリーは本拠地をニューヨークからラスベガスに近いタホー湖畔へ移っていた。...</td>\n",
       "      <td>アクション</td>\n",
       "      <td>5</td>\n",
       "      <td>ドラマ</td>\n",
       "      <td>8</td>\n",
       "      <td>ギャング・マフィア</td>\n",
       "      <td>902</td>\n",
       "    </tr>\n",
       "    <tr>\n",
       "      <th>...</th>\n",
       "      <td>...</td>\n",
       "      <td>...</td>\n",
       "      <td>...</td>\n",
       "      <td>...</td>\n",
       "      <td>...</td>\n",
       "      <td>...</td>\n",
       "      <td>...</td>\n",
       "      <td>...</td>\n",
       "      <td>...</td>\n",
       "      <td>...</td>\n",
       "      <td>...</td>\n",
       "    </tr>\n",
       "    <tr>\n",
       "      <th>2385</th>\n",
       "      <td>307663</td>\n",
       "      <td>61787</td>\n",
       "      <td>デッド・シティ2055</td>\n",
       "      <td>近未来。巨大企業を率いるジュリアンは、ヴァイスという富裕層に向けたリゾート施設を建造する。そ...</td>\n",
       "      <td>NaN</td>\n",
       "      <td>アクション</td>\n",
       "      <td>5</td>\n",
       "      <td>SF</td>\n",
       "      <td>42</td>\n",
       "      <td>NaN</td>\n",
       "      <td>0</td>\n",
       "    </tr>\n",
       "    <tr>\n",
       "      <th>2386</th>\n",
       "      <td>9708</td>\n",
       "      <td>31250</td>\n",
       "      <td>ウィッカーマン</td>\n",
       "      <td>カリフォルニアの交通警察官エドワード・メイラスは、勤務中に遭遇した身元不明の親娘が犠牲となる...</td>\n",
       "      <td>NaN</td>\n",
       "      <td>サスペンス</td>\n",
       "      <td>2</td>\n",
       "      <td>NaN</td>\n",
       "      <td>0</td>\n",
       "      <td>NaN</td>\n",
       "      <td>0</td>\n",
       "    </tr>\n",
       "    <tr>\n",
       "      <th>2387</th>\n",
       "      <td>218043</td>\n",
       "      <td>59404</td>\n",
       "      <td>レフト・ビハインド</td>\n",
       "      <td>その日突然、数百万を超す人間が姿を消した。世界中でライフラインが機能を停止、地上は未曾有の混...</td>\n",
       "      <td>\"何の前触れもなく、世界各国で数百万もの人間が消失するという異常な事態が発生。各種通信網やエ...</td>\n",
       "      <td>サスペンス</td>\n",
       "      <td>2</td>\n",
       "      <td>パニック</td>\n",
       "      <td>891</td>\n",
       "      <td>NaN</td>\n",
       "      <td>0</td>\n",
       "    </tr>\n",
       "    <tr>\n",
       "      <th>2388</th>\n",
       "      <td>10214</td>\n",
       "      <td>17888</td>\n",
       "      <td>マスク2</td>\n",
       "      <td>アニメ製作会社に勤めるティムは、妻と平凡な生活を送っていた。ところがある日、愛犬が緑色の奇妙...</td>\n",
       "      <td>\"アニメ会社に勤めるティムは、妻のトーニャと平穏に暮らしていた。 そんなある日、愛犬オーティ...</td>\n",
       "      <td>コメディ</td>\n",
       "      <td>20</td>\n",
       "      <td>NaN</td>\n",
       "      <td>0</td>\n",
       "      <td>NaN</td>\n",
       "      <td>0</td>\n",
       "    </tr>\n",
       "    <tr>\n",
       "      <th>2389</th>\n",
       "      <td>5491</td>\n",
       "      <td>22032</td>\n",
       "      <td>バトルフィールド・アース</td>\n",
       "      <td>ジョン・トラヴォルタ主演、カルト的人気を誇るSF超大作。舞台は西暦3000年。異星人に支配さ...</td>\n",
       "      <td>NaN</td>\n",
       "      <td>アクション</td>\n",
       "      <td>5</td>\n",
       "      <td>NaN</td>\n",
       "      <td>0</td>\n",
       "      <td>NaN</td>\n",
       "      <td>0</td>\n",
       "    </tr>\n",
       "  </tbody>\n",
       "</table>\n",
       "<p>2390 rows × 11 columns</p>\n",
       "</div>"
      ],
      "text/plain": [
       "      tmdb_id  filmarks_id             title  ... genre_id2 genre_name3 genre_id3\n",
       "0         278        19119        ショーシャンクの空に  ...         0         NaN         0\n",
       "1         238        12825          ゴッドファーザー  ...       896   ギャング・マフィア       902\n",
       "2         424        14275         シンドラーのリスト  ...       893          伝記       899\n",
       "3      372058        65931             君の名は。  ...        61         NaN         0\n",
       "4         240        38145  ゴッドファーザー PART II  ...         8   ギャング・マフィア       902\n",
       "...       ...          ...               ...  ...       ...         ...       ...\n",
       "2385   307663        61787       デッド・シティ2055  ...        42         NaN         0\n",
       "2386     9708        31250           ウィッカーマン  ...         0         NaN         0\n",
       "2387   218043        59404         レフト・ビハインド  ...       891         NaN         0\n",
       "2388    10214        17888              マスク2  ...         0         NaN         0\n",
       "2389     5491        22032      バトルフィールド・アース  ...         0         NaN         0\n",
       "\n",
       "[2390 rows x 11 columns]"
      ]
     },
     "execution_count": 4,
     "metadata": {
      "tags": []
     },
     "output_type": "execute_result"
    }
   ],
   "source": [
    "# TMDbとFilmarksのOverviewが共にNaNのレコード削除\n",
    "df = df.dropna(subset=['tmdb_overview', 'filmarks_overview'], how='all').reset_index(drop=True)\n",
    "df"
   ]
  },
  {
   "cell_type": "code",
   "execution_count": 5,
   "metadata": {
    "colab": {
     "base_uri": "https://localhost:8080/"
    },
    "id": "uqaxzsCc51Jl",
    "outputId": "1471e4a3-7954-486e-b930-0408d6f38f86"
   },
   "outputs": [
    {
     "name": "stdout",
     "output_type": "stream",
     "text": [
      "<class 'pandas.core.frame.DataFrame'>\n",
      "RangeIndex: 2390 entries, 0 to 2389\n",
      "Data columns (total 11 columns):\n",
      " #   Column             Non-Null Count  Dtype \n",
      "---  ------             --------------  ----- \n",
      " 0   tmdb_id            2390 non-null   int64 \n",
      " 1   filmarks_id        2390 non-null   int64 \n",
      " 2   title              2390 non-null   object\n",
      " 3   tmdb_overview      2225 non-null   object\n",
      " 4   filmarks_overview  1193 non-null   object\n",
      " 5   genre_name1        2390 non-null   object\n",
      " 6   genre_id1          2390 non-null   int64 \n",
      " 7   genre_name2        1118 non-null   object\n",
      " 8   genre_id2          2390 non-null   int64 \n",
      " 9   genre_name3        332 non-null    object\n",
      " 10  genre_id3          2390 non-null   int64 \n",
      "dtypes: int64(5), object(6)\n",
      "memory usage: 205.5+ KB\n"
     ]
    }
   ],
   "source": [
    "df.info()"
   ]
  },
  {
   "cell_type": "markdown",
   "metadata": {
    "id": "Nc_SQ85l-h6e"
   },
   "source": [
    "## データを眺める"
   ]
  },
  {
   "cell_type": "code",
   "execution_count": 6,
   "metadata": {
    "colab": {
     "base_uri": "https://localhost:8080/"
    },
    "id": "asZKCtfd-kva",
    "outputId": "76f61648-d2f3-44cf-ad6e-57312e0b9142"
   },
   "outputs": [
    {
     "name": "stdout",
     "output_type": "stream",
     "text": [
      "genre_name2==NaN: 1272, (0.532)\n",
      "genre_name3==NaN: 2058, (0.861)\n"
     ]
    }
   ],
   "source": [
    "### ジャンルの名前が NaN の数と割合\n",
    "print(f'genre_name2==NaN: {len(df.query(\" genre_name2.isna() \", engine=\"python\"))}, ({(len(df.query(\" genre_name2.isna() \", engine=\"python\")) / len(df)):.3f})')\n",
    "print(f'genre_name3==NaN: {len(df.query(\" genre_name3.isna() \", engine=\"python\"))}, ({(len(df.query(\" genre_name3.isna() \", engine=\"python\")) / len(df)):.3f})')"
   ]
  },
  {
   "cell_type": "code",
   "execution_count": 7,
   "metadata": {
    "colab": {
     "base_uri": "https://localhost:8080/"
    },
    "id": "ewimCZwBCWGz",
    "outputId": "cf66beb5-cf82-4626-c739-5050c572fc47"
   },
   "outputs": [
    {
     "data": {
      "text/plain": [
       "ドラマ            746\n",
       "アクション          589\n",
       "サスペンス          217\n",
       "コメディ           200\n",
       "ホラー            118\n",
       "ファミリー          115\n",
       "アドベンチャー・冒険     107\n",
       "アニメ             91\n",
       "恋愛              55\n",
       "SF              30\n",
       "ミステリー           25\n",
       "クライム            17\n",
       "ファンタジー          12\n",
       "音楽              10\n",
       "ドキュメンタリー        10\n",
       "スリラー             9\n",
       "パニック             8\n",
       "戦争               6\n",
       "時代劇              5\n",
       "青春               5\n",
       "ミュージカル           4\n",
       "歴史               4\n",
       "ショートフィルム・短編      3\n",
       "スポーツ             2\n",
       "西部劇              1\n",
       "伝記               1\n",
       "Name: genre_name1, dtype: int64"
      ]
     },
     "execution_count": 7,
     "metadata": {
      "tags": []
     },
     "output_type": "execute_result"
    }
   ],
   "source": [
    "### ラベル1の分布\n",
    "df['genre_name1'].value_counts()"
   ]
  },
  {
   "cell_type": "code",
   "execution_count": null,
   "metadata": {
    "colab": {
     "base_uri": "https://localhost:8080/"
    },
    "id": "k1X8gaNdGj6r",
    "outputId": "397b285f-e689-4721-8106-5b2bf1a6b5cd"
   },
   "outputs": [],
   "source": [
    "### グラフの日本語化\n",
    "!pip install japanize-matplotlib"
   ]
  },
  {
   "cell_type": "code",
   "execution_count": 9,
   "metadata": {
    "colab": {
     "base_uri": "https://localhost:8080/",
     "height": 763
    },
    "id": "nY7Q5csMFoV7",
    "outputId": "463f925b-e707-424e-f581-1e99b6c41c34"
   },
   "outputs": [
    {
     "data": {
      "text/plain": [
       "<matplotlib.axes._subplots.AxesSubplot at 0x7f11807b8a90>"
      ]
     },
     "execution_count": 9,
     "metadata": {
      "tags": []
     },
     "output_type": "execute_result"
    },
    {
     "data": {
      "image/png": "[encoded data removed]",
      "text/plain": [
       "<Figure size 1440x1080 with 1 Axes>"
      ]
     },
     "metadata": {
      "needs_background": "light",
      "tags": []
     },
     "output_type": "display_data"
    }
   ],
   "source": [
    "import matplotlib.pyplot as plt\n",
    "import japanize_matplotlib\n",
    "%matplotlib inline\n",
    "import seaborn as sns\n",
    "\n",
    "### プロット用にDF作成\n",
    "plot_df1 = df[['genre_name1']].rename(columns={'genre_name1': 'GENRE'})\n",
    "plot_df1['type'] = 'label_1'\n",
    "plot_df2 = df[['genre_name2']].rename(columns={'genre_name2': 'GENRE'})\n",
    "plot_df2['type'] = 'label_2'\n",
    "plot_df3 = df[['genre_name3']].rename(columns={'genre_name3': 'GENRE'})\n",
    "plot_df3['type'] = 'label_3'\n",
    "plot_df = pd.concat([plot_df1, plot_df2, plot_df3])\n",
    "\n",
    "### 予測データのヒストグラム\n",
    "fig, ax = plt.subplots(figsize=(20, 15))\n",
    "sns.countplot(data=plot_df, y='GENRE', hue='type', ax=ax)"
   ]
  },
  {
   "cell_type": "code",
   "execution_count": 10,
   "metadata": {
    "colab": {
     "base_uri": "https://localhost:8080/",
     "height": 52
    },
    "id": "4hHWozxNLGTL",
    "outputId": "174eb35e-c7ea-40c3-baee-92c4ee66ee5b"
   },
   "outputs": [
    {
     "data": {
      "application/vnd.google.colaboratory.intrinsic+json": {
       "type": "string"
      },
      "text/plain": [
       "'妻とその愛人を射殺したかどでショーシャンク刑務所送りとなった銀行家アンディ。初めは戸惑っていたが、やがて彼は自ら持つ不思議な魅力ですさんだ受刑者達の心を掴んでゆく。そして20年の歳月が流れた時、彼は冤罪を晴らす重要な証拠をつかむ。'"
      ]
     },
     "execution_count": 10,
     "metadata": {
      "tags": []
     },
     "output_type": "execute_result"
    }
   ],
   "source": [
    "df.at[0, 'tmdb_overview']"
   ]
  },
  {
   "cell_type": "code",
   "execution_count": 11,
   "metadata": {
    "colab": {
     "base_uri": "https://localhost:8080/",
     "height": 52
    },
    "id": "hjTyFv_dLTGe",
    "outputId": "f78f30db-5961-4c9c-c1df-6ea0ac290cb3"
   },
   "outputs": [
    {
     "data": {
      "application/vnd.google.colaboratory.intrinsic+json": {
       "type": "string"
      },
      "text/plain": [
       "'\"スティーヴン・キングの中編小説「刑務所のリタ・ヘイワース」をフランク・ダラボン監督が映画化。無実の罪で刑務所に収監されたアンディは、30年にも及ぶ刑務所生活にもめげず、強い意志で奇跡を起こす。\"'"
      ]
     },
     "execution_count": 11,
     "metadata": {
      "tags": []
     },
     "output_type": "execute_result"
    }
   ],
   "source": [
    "df.at[0, 'filmarks_overview']"
   ]
  },
  {
   "cell_type": "markdown",
   "metadata": {
    "id": "PmCDUizJ7aqP"
   },
   "source": [
    "## 前処理"
   ]
  },
  {
   "cell_type": "code",
   "execution_count": 12,
   "metadata": {
    "colab": {
     "base_uri": "https://localhost:8080/",
     "height": 1000
    },
    "id": "rVIu-v70MsOz",
    "outputId": "e14ab489-f71d-44cb-f839-fac01fee09df"
   },
   "outputs": [
    {
     "data": {
      "text/html": [
       "<div>\n",
       "<style scoped>\n",
       "    .dataframe tbody tr th:only-of-type {\n",
       "        vertical-align: middle;\n",
       "    }\n",
       "\n",
       "    .dataframe tbody tr th {\n",
       "        vertical-align: top;\n",
       "    }\n",
       "\n",
       "    .dataframe thead th {\n",
       "        text-align: right;\n",
       "    }\n",
       "</style>\n",
       "<table border=\"1\" class=\"dataframe\">\n",
       "  <thead>\n",
       "    <tr style=\"text-align: right;\">\n",
       "      <th></th>\n",
       "      <th>tmdb_id</th>\n",
       "      <th>filmarks_id</th>\n",
       "      <th>title</th>\n",
       "      <th>tmdb_overview</th>\n",
       "      <th>filmarks_overview</th>\n",
       "      <th>genre_name1</th>\n",
       "      <th>genre_id1</th>\n",
       "      <th>genre_name2</th>\n",
       "      <th>genre_id2</th>\n",
       "      <th>genre_name3</th>\n",
       "      <th>genre_id3</th>\n",
       "      <th>OVERVIEW</th>\n",
       "    </tr>\n",
       "  </thead>\n",
       "  <tbody>\n",
       "    <tr>\n",
       "      <th>0</th>\n",
       "      <td>278</td>\n",
       "      <td>19119</td>\n",
       "      <td>ショーシャンクの空に</td>\n",
       "      <td>妻とその愛人を射殺したかどでショーシャンク刑務所送りとなった銀行家アンディ。初めは戸惑ってい...</td>\n",
       "      <td>\"スティーヴン・キングの中編小説「刑務所のリタ・ヘイワース」をフランク・ダラボン監督が映画化...</td>\n",
       "      <td>ドラマ</td>\n",
       "      <td>8</td>\n",
       "      <td>NaN</td>\n",
       "      <td>0</td>\n",
       "      <td>NaN</td>\n",
       "      <td>0</td>\n",
       "      <td>妻とその愛人を射殺したかどでショーシャンク刑務所送りとなった銀行家アンディ。初めは戸惑ってい...</td>\n",
       "    </tr>\n",
       "    <tr>\n",
       "      <th>1</th>\n",
       "      <td>238</td>\n",
       "      <td>12825</td>\n",
       "      <td>ゴッドファーザー</td>\n",
       "      <td>シシリーからアメリカに移住し、一代で財を成したドン・コルレオーネ。三男のマイケルはひとり堅気...</td>\n",
       "      <td>\"アメリカで絶大な権力を握るコルレオーネ・ファミリーが崩壊の危機に立たされる様を描いた作品。...</td>\n",
       "      <td>アクション</td>\n",
       "      <td>5</td>\n",
       "      <td>クライム</td>\n",
       "      <td>896</td>\n",
       "      <td>ギャング・マフィア</td>\n",
       "      <td>902</td>\n",
       "      <td>シシリーからアメリカに移住し、一代で財を成したドン・コルレオーネ。三男のマイケルはひとり堅気...</td>\n",
       "    </tr>\n",
       "    <tr>\n",
       "      <th>2</th>\n",
       "      <td>424</td>\n",
       "      <td>14275</td>\n",
       "      <td>シンドラーのリスト</td>\n",
       "      <td>1939年、ポーランド南部の都市クラクフにドイツ軍が侵攻した。ドイツ人実業家のオスカー・シン...</td>\n",
       "      <td>\"ナチスによるユダヤ人大虐殺のさなか、1,100人以上のユダヤ人の命を救った、謎めいた男オス...</td>\n",
       "      <td>ドラマ</td>\n",
       "      <td>8</td>\n",
       "      <td>歴史</td>\n",
       "      <td>893</td>\n",
       "      <td>伝記</td>\n",
       "      <td>899</td>\n",
       "      <td>1939年、ポーランド南部の都市クラクフにドイツ軍が侵攻した。ドイツ人実業家のオスカー・シン...</td>\n",
       "    </tr>\n",
       "    <tr>\n",
       "      <th>3</th>\n",
       "      <td>372058</td>\n",
       "      <td>65931</td>\n",
       "      <td>君の名は。</td>\n",
       "      <td>1,000年に1度のすい星来訪が、1か月後に迫る日本。山々に囲まれた田舎町に住む女子高生の三...</td>\n",
       "      <td>\"千年ぶりとなる彗星の来訪を一か月後に控えた日本。山深い田舎町に暮らす女子高校生・三葉は憂鬱...</td>\n",
       "      <td>恋愛</td>\n",
       "      <td>25</td>\n",
       "      <td>アニメ</td>\n",
       "      <td>61</td>\n",
       "      <td>NaN</td>\n",
       "      <td>0</td>\n",
       "      <td>1,000年に1度のすい星来訪が、1か月後に迫る日本。山々に囲まれた田舎町に住む女子高生の三...</td>\n",
       "    </tr>\n",
       "    <tr>\n",
       "      <th>4</th>\n",
       "      <td>240</td>\n",
       "      <td>38145</td>\n",
       "      <td>ゴッドファーザー PART II</td>\n",
       "      <td>亡き父のあとを継ぎドンとなったマイケルの苦悩と復讐を、父ビトーの少年時代からやがて一大ファミ...</td>\n",
       "      <td>\"コルレオーネ・ファミリーは本拠地をニューヨークからラスベガスに近いタホー湖畔へ移っていた。...</td>\n",
       "      <td>アクション</td>\n",
       "      <td>5</td>\n",
       "      <td>ドラマ</td>\n",
       "      <td>8</td>\n",
       "      <td>ギャング・マフィア</td>\n",
       "      <td>902</td>\n",
       "      <td>亡き父のあとを継ぎドンとなったマイケルの苦悩と復讐を、父ビトーの少年時代からやがて一大ファミ...</td>\n",
       "    </tr>\n",
       "    <tr>\n",
       "      <th>...</th>\n",
       "      <td>...</td>\n",
       "      <td>...</td>\n",
       "      <td>...</td>\n",
       "      <td>...</td>\n",
       "      <td>...</td>\n",
       "      <td>...</td>\n",
       "      <td>...</td>\n",
       "      <td>...</td>\n",
       "      <td>...</td>\n",
       "      <td>...</td>\n",
       "      <td>...</td>\n",
       "      <td>...</td>\n",
       "    </tr>\n",
       "    <tr>\n",
       "      <th>2385</th>\n",
       "      <td>307663</td>\n",
       "      <td>61787</td>\n",
       "      <td>デッド・シティ2055</td>\n",
       "      <td>近未来。巨大企業を率いるジュリアンは、ヴァイスという富裕層に向けたリゾート施設を建造する。そ...</td>\n",
       "      <td>NaN</td>\n",
       "      <td>アクション</td>\n",
       "      <td>5</td>\n",
       "      <td>SF</td>\n",
       "      <td>42</td>\n",
       "      <td>NaN</td>\n",
       "      <td>0</td>\n",
       "      <td>近未来。巨大企業を率いるジュリアンは、ヴァイスという富裕層に向けたリゾート施設を建造する。そ...</td>\n",
       "    </tr>\n",
       "    <tr>\n",
       "      <th>2386</th>\n",
       "      <td>9708</td>\n",
       "      <td>31250</td>\n",
       "      <td>ウィッカーマン</td>\n",
       "      <td>カリフォルニアの交通警察官エドワード・メイラスは、勤務中に遭遇した身元不明の親娘が犠牲となる...</td>\n",
       "      <td>NaN</td>\n",
       "      <td>サスペンス</td>\n",
       "      <td>2</td>\n",
       "      <td>NaN</td>\n",
       "      <td>0</td>\n",
       "      <td>NaN</td>\n",
       "      <td>0</td>\n",
       "      <td>カリフォルニアの交通警察官エドワード・メイラスは、勤務中に遭遇した身元不明の親娘が犠牲となる...</td>\n",
       "    </tr>\n",
       "    <tr>\n",
       "      <th>2387</th>\n",
       "      <td>218043</td>\n",
       "      <td>59404</td>\n",
       "      <td>レフト・ビハインド</td>\n",
       "      <td>その日突然、数百万を超す人間が姿を消した。世界中でライフラインが機能を停止、地上は未曾有の混...</td>\n",
       "      <td>\"何の前触れもなく、世界各国で数百万もの人間が消失するという異常な事態が発生。各種通信網やエ...</td>\n",
       "      <td>サスペンス</td>\n",
       "      <td>2</td>\n",
       "      <td>パニック</td>\n",
       "      <td>891</td>\n",
       "      <td>NaN</td>\n",
       "      <td>0</td>\n",
       "      <td>その日突然、数百万を超す人間が姿を消した。世界中でライフラインが機能を停止、地上は未曾有の混...</td>\n",
       "    </tr>\n",
       "    <tr>\n",
       "      <th>2388</th>\n",
       "      <td>10214</td>\n",
       "      <td>17888</td>\n",
       "      <td>マスク2</td>\n",
       "      <td>アニメ製作会社に勤めるティムは、妻と平凡な生活を送っていた。ところがある日、愛犬が緑色の奇妙...</td>\n",
       "      <td>\"アニメ会社に勤めるティムは、妻のトーニャと平穏に暮らしていた。 そんなある日、愛犬オーティ...</td>\n",
       "      <td>コメディ</td>\n",
       "      <td>20</td>\n",
       "      <td>NaN</td>\n",
       "      <td>0</td>\n",
       "      <td>NaN</td>\n",
       "      <td>0</td>\n",
       "      <td>アニメ製作会社に勤めるティムは、妻と平凡な生活を送っていた。ところがある日、愛犬が緑色の奇妙...</td>\n",
       "    </tr>\n",
       "    <tr>\n",
       "      <th>2389</th>\n",
       "      <td>5491</td>\n",
       "      <td>22032</td>\n",
       "      <td>バトルフィールド・アース</td>\n",
       "      <td>ジョン・トラヴォルタ主演、カルト的人気を誇るSF超大作。舞台は西暦3000年。異星人に支配さ...</td>\n",
       "      <td>NaN</td>\n",
       "      <td>アクション</td>\n",
       "      <td>5</td>\n",
       "      <td>NaN</td>\n",
       "      <td>0</td>\n",
       "      <td>NaN</td>\n",
       "      <td>0</td>\n",
       "      <td>ジョン・トラヴォルタ主演、カルト的人気を誇るSF超大作。舞台は西暦3000年。異星人に支配さ...</td>\n",
       "    </tr>\n",
       "  </tbody>\n",
       "</table>\n",
       "<p>2390 rows × 12 columns</p>\n",
       "</div>"
      ],
      "text/plain": [
       "      tmdb_id  ...                                           OVERVIEW\n",
       "0         278  ...  妻とその愛人を射殺したかどでショーシャンク刑務所送りとなった銀行家アンディ。初めは戸惑ってい...\n",
       "1         238  ...  シシリーからアメリカに移住し、一代で財を成したドン・コルレオーネ。三男のマイケルはひとり堅気...\n",
       "2         424  ...  1939年、ポーランド南部の都市クラクフにドイツ軍が侵攻した。ドイツ人実業家のオスカー・シン...\n",
       "3      372058  ...  1,000年に1度のすい星来訪が、1か月後に迫る日本。山々に囲まれた田舎町に住む女子高生の三...\n",
       "4         240  ...  亡き父のあとを継ぎドンとなったマイケルの苦悩と復讐を、父ビトーの少年時代からやがて一大ファミ...\n",
       "...       ...  ...                                                ...\n",
       "2385   307663  ...  近未来。巨大企業を率いるジュリアンは、ヴァイスという富裕層に向けたリゾート施設を建造する。そ...\n",
       "2386     9708  ...  カリフォルニアの交通警察官エドワード・メイラスは、勤務中に遭遇した身元不明の親娘が犠牲となる...\n",
       "2387   218043  ...  その日突然、数百万を超す人間が姿を消した。世界中でライフラインが機能を停止、地上は未曾有の混...\n",
       "2388    10214  ...  アニメ製作会社に勤めるティムは、妻と平凡な生活を送っていた。ところがある日、愛犬が緑色の奇妙...\n",
       "2389     5491  ...  ジョン・トラヴォルタ主演、カルト的人気を誇るSF超大作。舞台は西暦3000年。異星人に支配さ...\n",
       "\n",
       "[2390 rows x 12 columns]"
      ]
     },
     "execution_count": 12,
     "metadata": {
      "tags": []
     },
     "output_type": "execute_result"
    }
   ],
   "source": [
    "df['OVERVIEW'] = df['tmdb_overview'].fillna('') + df['filmarks_overview'].fillna('')\n",
    "df"
   ]
  },
  {
   "cell_type": "code",
   "execution_count": 13,
   "metadata": {
    "colab": {
     "base_uri": "https://localhost:8080/",
     "height": 589
    },
    "id": "fnPX4OZ7NALb",
    "outputId": "e196fefd-02da-4632-97a0-f73a9ecdf2bf"
   },
   "outputs": [
    {
     "data": {
      "text/html": [
       "<div>\n",
       "<style scoped>\n",
       "    .dataframe tbody tr th:only-of-type {\n",
       "        vertical-align: middle;\n",
       "    }\n",
       "\n",
       "    .dataframe tbody tr th {\n",
       "        vertical-align: top;\n",
       "    }\n",
       "\n",
       "    .dataframe thead th {\n",
       "        text-align: right;\n",
       "    }\n",
       "</style>\n",
       "<table border=\"1\" class=\"dataframe\">\n",
       "  <thead>\n",
       "    <tr style=\"text-align: right;\">\n",
       "      <th></th>\n",
       "      <th>TITLE</th>\n",
       "      <th>OVERVIEW</th>\n",
       "      <th>GENRE_1</th>\n",
       "      <th>GENRE_2</th>\n",
       "      <th>GENRE_3</th>\n",
       "    </tr>\n",
       "  </thead>\n",
       "  <tbody>\n",
       "    <tr>\n",
       "      <th>0</th>\n",
       "      <td>ショーシャンクの空に</td>\n",
       "      <td>妻とその愛人を射殺したかどでショーシャンク刑務所送りとなった銀行家アンディ。初めは戸惑ってい...</td>\n",
       "      <td>8</td>\n",
       "      <td>0</td>\n",
       "      <td>0</td>\n",
       "    </tr>\n",
       "    <tr>\n",
       "      <th>1</th>\n",
       "      <td>ゴッドファーザー</td>\n",
       "      <td>シシリーからアメリカに移住し、一代で財を成したドン・コルレオーネ。三男のマイケルはひとり堅気...</td>\n",
       "      <td>5</td>\n",
       "      <td>896</td>\n",
       "      <td>902</td>\n",
       "    </tr>\n",
       "    <tr>\n",
       "      <th>2</th>\n",
       "      <td>シンドラーのリスト</td>\n",
       "      <td>1939年、ポーランド南部の都市クラクフにドイツ軍が侵攻した。ドイツ人実業家のオスカー・シン...</td>\n",
       "      <td>8</td>\n",
       "      <td>893</td>\n",
       "      <td>899</td>\n",
       "    </tr>\n",
       "    <tr>\n",
       "      <th>3</th>\n",
       "      <td>君の名は。</td>\n",
       "      <td>1,000年に1度のすい星来訪が、1か月後に迫る日本。山々に囲まれた田舎町に住む女子高生の三...</td>\n",
       "      <td>25</td>\n",
       "      <td>61</td>\n",
       "      <td>0</td>\n",
       "    </tr>\n",
       "    <tr>\n",
       "      <th>4</th>\n",
       "      <td>ゴッドファーザー PART II</td>\n",
       "      <td>亡き父のあとを継ぎドンとなったマイケルの苦悩と復讐を、父ビトーの少年時代からやがて一大ファミ...</td>\n",
       "      <td>5</td>\n",
       "      <td>8</td>\n",
       "      <td>902</td>\n",
       "    </tr>\n",
       "    <tr>\n",
       "      <th>...</th>\n",
       "      <td>...</td>\n",
       "      <td>...</td>\n",
       "      <td>...</td>\n",
       "      <td>...</td>\n",
       "      <td>...</td>\n",
       "    </tr>\n",
       "    <tr>\n",
       "      <th>2385</th>\n",
       "      <td>デッド・シティ2055</td>\n",
       "      <td>近未来。巨大企業を率いるジュリアンは、ヴァイスという富裕層に向けたリゾート施設を建造する。そ...</td>\n",
       "      <td>5</td>\n",
       "      <td>42</td>\n",
       "      <td>0</td>\n",
       "    </tr>\n",
       "    <tr>\n",
       "      <th>2386</th>\n",
       "      <td>ウィッカーマン</td>\n",
       "      <td>カリフォルニアの交通警察官エドワード・メイラスは、勤務中に遭遇した身元不明の親娘が犠牲となる...</td>\n",
       "      <td>2</td>\n",
       "      <td>0</td>\n",
       "      <td>0</td>\n",
       "    </tr>\n",
       "    <tr>\n",
       "      <th>2387</th>\n",
       "      <td>レフト・ビハインド</td>\n",
       "      <td>その日突然、数百万を超す人間が姿を消した。世界中でライフラインが機能を停止、地上は未曾有の混...</td>\n",
       "      <td>2</td>\n",
       "      <td>891</td>\n",
       "      <td>0</td>\n",
       "    </tr>\n",
       "    <tr>\n",
       "      <th>2388</th>\n",
       "      <td>マスク2</td>\n",
       "      <td>アニメ製作会社に勤めるティムは、妻と平凡な生活を送っていた。ところがある日、愛犬が緑色の奇妙...</td>\n",
       "      <td>20</td>\n",
       "      <td>0</td>\n",
       "      <td>0</td>\n",
       "    </tr>\n",
       "    <tr>\n",
       "      <th>2389</th>\n",
       "      <td>バトルフィールド・アース</td>\n",
       "      <td>ジョン・トラヴォルタ主演、カルト的人気を誇るSF超大作。舞台は西暦3000年。異星人に支配さ...</td>\n",
       "      <td>5</td>\n",
       "      <td>0</td>\n",
       "      <td>0</td>\n",
       "    </tr>\n",
       "  </tbody>\n",
       "</table>\n",
       "<p>2390 rows × 5 columns</p>\n",
       "</div>"
      ],
      "text/plain": [
       "                 TITLE  ... GENRE_3\n",
       "0           ショーシャンクの空に  ...       0\n",
       "1             ゴッドファーザー  ...     902\n",
       "2            シンドラーのリスト  ...     899\n",
       "3                君の名は。  ...       0\n",
       "4     ゴッドファーザー PART II  ...     902\n",
       "...                ...  ...     ...\n",
       "2385       デッド・シティ2055  ...       0\n",
       "2386           ウィッカーマン  ...       0\n",
       "2387         レフト・ビハインド  ...       0\n",
       "2388              マスク2  ...       0\n",
       "2389      バトルフィールド・アース  ...       0\n",
       "\n",
       "[2390 rows x 5 columns]"
      ]
     },
     "execution_count": 13,
     "metadata": {
      "tags": []
     },
     "output_type": "execute_result"
    }
   ],
   "source": [
    "### df を制限してdataに格納\n",
    "new_col_name = {'title': 'TITLE', 'genre_id1': 'GENRE_1', 'genre_id2': 'GENRE_2', 'genre_id3': 'GENRE_3'}\n",
    "\n",
    "data = df[['title', 'OVERVIEW', 'genre_id1', 'genre_id2', 'genre_id3']].rename(columns=new_col_name)\n",
    "data"
   ]
  },
  {
   "cell_type": "code",
   "execution_count": 14,
   "metadata": {
    "colab": {
     "base_uri": "https://localhost:8080/"
    },
    "id": "yY3EVX1vthp1",
    "outputId": "949f4bfc-1be7-4195-ad31-b686721a941c"
   },
   "outputs": [
    {
     "name": "stdout",
     "output_type": "stream",
     "text": [
      "{0: 0, 2: 1, 5: 2, 8: 3, 12: 4, 17: 5, 20: 6, 25: 7, 35: 8, 36: 9, 39: 10, 42: 11, 44: 12, 47: 13, 52: 14, 56: 15, 57: 16, 61: 17, 891: 18, 892: 19, 893: 20, 894: 21, 895: 22, 896: 23, 897: 24, 898: 25, 899: 26, 900: 27, 902: 28, 903: 29}\n"
     ]
    }
   ],
   "source": [
    "### GENREから固有のIDを設定\n",
    "#### GENRE 1-3をarrayに入れ、ユニークなGENREを取得\n",
    "genres = np.unique(np.concatenate([data['GENRE_1'].values, data['GENRE_2'].values, data['GENRE_3'].values]))\n",
    "\n",
    "genre2id = {}\n",
    "for idx, value in enumerate(genres):\n",
    "  genre2id[value] = idx\n",
    "\n",
    "print(genre2id)"
   ]
  },
  {
   "cell_type": "code",
   "execution_count": 15,
   "metadata": {
    "colab": {
     "base_uri": "https://localhost:8080/"
    },
    "id": "sdtHcrLPtnWU",
    "outputId": "08858323-a055-47b5-de60-e00797593a49"
   },
   "outputs": [
    {
     "data": {
      "text/plain": [
       "30"
      ]
     },
     "execution_count": 15,
     "metadata": {
      "tags": []
     },
     "output_type": "execute_result"
    }
   ],
   "source": [
    "len(genre2id)"
   ]
  },
  {
   "cell_type": "code",
   "execution_count": 16,
   "metadata": {
    "colab": {
     "base_uri": "https://localhost:8080/",
     "height": 589
    },
    "id": "PtMgVxkfuyVd",
    "outputId": "530060cc-1264-411c-9a63-7b11d788b64e"
   },
   "outputs": [
    {
     "data": {
      "text/html": [
       "<div>\n",
       "<style scoped>\n",
       "    .dataframe tbody tr th:only-of-type {\n",
       "        vertical-align: middle;\n",
       "    }\n",
       "\n",
       "    .dataframe tbody tr th {\n",
       "        vertical-align: top;\n",
       "    }\n",
       "\n",
       "    .dataframe thead th {\n",
       "        text-align: right;\n",
       "    }\n",
       "</style>\n",
       "<table border=\"1\" class=\"dataframe\">\n",
       "  <thead>\n",
       "    <tr style=\"text-align: right;\">\n",
       "      <th></th>\n",
       "      <th>TITLE</th>\n",
       "      <th>OVERVIEW</th>\n",
       "      <th>GENRE_ID1</th>\n",
       "      <th>GENRE_ID2</th>\n",
       "      <th>GENRE_ID3</th>\n",
       "    </tr>\n",
       "  </thead>\n",
       "  <tbody>\n",
       "    <tr>\n",
       "      <th>0</th>\n",
       "      <td>ショーシャンクの空に</td>\n",
       "      <td>妻とその愛人を射殺したかどでショーシャンク刑務所送りとなった銀行家アンディ。初めは戸惑ってい...</td>\n",
       "      <td>3</td>\n",
       "      <td>0</td>\n",
       "      <td>0</td>\n",
       "    </tr>\n",
       "    <tr>\n",
       "      <th>1</th>\n",
       "      <td>ゴッドファーザー</td>\n",
       "      <td>シシリーからアメリカに移住し、一代で財を成したドン・コルレオーネ。三男のマイケルはひとり堅気...</td>\n",
       "      <td>2</td>\n",
       "      <td>23</td>\n",
       "      <td>28</td>\n",
       "    </tr>\n",
       "    <tr>\n",
       "      <th>2</th>\n",
       "      <td>シンドラーのリスト</td>\n",
       "      <td>1939年、ポーランド南部の都市クラクフにドイツ軍が侵攻した。ドイツ人実業家のオスカー・シン...</td>\n",
       "      <td>3</td>\n",
       "      <td>20</td>\n",
       "      <td>26</td>\n",
       "    </tr>\n",
       "    <tr>\n",
       "      <th>3</th>\n",
       "      <td>君の名は。</td>\n",
       "      <td>1,000年に1度のすい星来訪が、1か月後に迫る日本。山々に囲まれた田舎町に住む女子高生の三...</td>\n",
       "      <td>7</td>\n",
       "      <td>17</td>\n",
       "      <td>0</td>\n",
       "    </tr>\n",
       "    <tr>\n",
       "      <th>4</th>\n",
       "      <td>ゴッドファーザー PART II</td>\n",
       "      <td>亡き父のあとを継ぎドンとなったマイケルの苦悩と復讐を、父ビトーの少年時代からやがて一大ファミ...</td>\n",
       "      <td>2</td>\n",
       "      <td>3</td>\n",
       "      <td>28</td>\n",
       "    </tr>\n",
       "    <tr>\n",
       "      <th>...</th>\n",
       "      <td>...</td>\n",
       "      <td>...</td>\n",
       "      <td>...</td>\n",
       "      <td>...</td>\n",
       "      <td>...</td>\n",
       "    </tr>\n",
       "    <tr>\n",
       "      <th>2385</th>\n",
       "      <td>デッド・シティ2055</td>\n",
       "      <td>近未来。巨大企業を率いるジュリアンは、ヴァイスという富裕層に向けたリゾート施設を建造する。そ...</td>\n",
       "      <td>2</td>\n",
       "      <td>11</td>\n",
       "      <td>0</td>\n",
       "    </tr>\n",
       "    <tr>\n",
       "      <th>2386</th>\n",
       "      <td>ウィッカーマン</td>\n",
       "      <td>カリフォルニアの交通警察官エドワード・メイラスは、勤務中に遭遇した身元不明の親娘が犠牲となる...</td>\n",
       "      <td>1</td>\n",
       "      <td>0</td>\n",
       "      <td>0</td>\n",
       "    </tr>\n",
       "    <tr>\n",
       "      <th>2387</th>\n",
       "      <td>レフト・ビハインド</td>\n",
       "      <td>その日突然、数百万を超す人間が姿を消した。世界中でライフラインが機能を停止、地上は未曾有の混...</td>\n",
       "      <td>1</td>\n",
       "      <td>18</td>\n",
       "      <td>0</td>\n",
       "    </tr>\n",
       "    <tr>\n",
       "      <th>2388</th>\n",
       "      <td>マスク2</td>\n",
       "      <td>アニメ製作会社に勤めるティムは、妻と平凡な生活を送っていた。ところがある日、愛犬が緑色の奇妙...</td>\n",
       "      <td>6</td>\n",
       "      <td>0</td>\n",
       "      <td>0</td>\n",
       "    </tr>\n",
       "    <tr>\n",
       "      <th>2389</th>\n",
       "      <td>バトルフィールド・アース</td>\n",
       "      <td>ジョン・トラヴォルタ主演、カルト的人気を誇るSF超大作。舞台は西暦3000年。異星人に支配さ...</td>\n",
       "      <td>2</td>\n",
       "      <td>0</td>\n",
       "      <td>0</td>\n",
       "    </tr>\n",
       "  </tbody>\n",
       "</table>\n",
       "<p>2390 rows × 5 columns</p>\n",
       "</div>"
      ],
      "text/plain": [
       "                 TITLE  ... GENRE_ID3\n",
       "0           ショーシャンクの空に  ...         0\n",
       "1             ゴッドファーザー  ...        28\n",
       "2            シンドラーのリスト  ...        26\n",
       "3                君の名は。  ...         0\n",
       "4     ゴッドファーザー PART II  ...        28\n",
       "...                ...  ...       ...\n",
       "2385       デッド・シティ2055  ...         0\n",
       "2386           ウィッカーマン  ...         0\n",
       "2387         レフト・ビハインド  ...         0\n",
       "2388              マスク2  ...         0\n",
       "2389      バトルフィールド・アース  ...         0\n",
       "\n",
       "[2390 rows x 5 columns]"
      ]
     },
     "execution_count": 16,
     "metadata": {
      "tags": []
     },
     "output_type": "execute_result"
    }
   ],
   "source": [
    "data['GENRE_ID1'] = data['GENRE_1'].map(genre2id)\n",
    "data['GENRE_ID2'] = data['GENRE_2'].map(genre2id)\n",
    "data['GENRE_ID3'] = data['GENRE_3'].map(genre2id)\n",
    "\n",
    "data = data[['TITLE', 'OVERVIEW', 'GENRE_ID1', 'GENRE_ID2', 'GENRE_ID3']]\n",
    "data"
   ]
  },
  {
   "cell_type": "code",
   "execution_count": 17,
   "metadata": {
    "id": "u2KNGdQDxNmX"
   },
   "outputs": [],
   "source": [
    "import re\n",
    "\n",
    "def preprocessing(text):\n",
    "  # 全角 => 半角\n",
    "  text = text.translate(str.maketrans({chr(0xFF01 + i): chr(0x21 + i) for i in range(94)}))\n",
    "  # 英語大文字を小文字化\n",
    "  text = text.lower()\n",
    "  # 削除する文字列\n",
    "  remove_list = ['\\n', '　', ' ']\n",
    "  for rem_word in remove_list:\n",
    "    text = text.replace(rem_word, '')\n",
    "  # 数字列を0に置換\n",
    "  text = re.sub('[0-9]+', '0', text)\n",
    "\n",
    "  return text"
   ]
  },
  {
   "cell_type": "code",
   "execution_count": 18,
   "metadata": {
    "colab": {
     "base_uri": "https://localhost:8080/",
     "height": 411
    },
    "id": "Mxm7pEiQyelA",
    "outputId": "726ebb64-0342-49f3-9332-1c4f872c2f14"
   },
   "outputs": [
    {
     "name": "stderr",
     "output_type": "stream",
     "text": [
      "/usr/local/lib/python3.7/dist-packages/ipykernel_launcher.py:1: SettingWithCopyWarning: \n",
      "A value is trying to be set on a copy of a slice from a DataFrame.\n",
      "Try using .loc[row_indexer,col_indexer] = value instead\n",
      "\n",
      "See the caveats in the documentation: https://pandas.pydata.org/pandas-docs/stable/user_guide/indexing.html#returning-a-view-versus-a-copy\n",
      "  \"\"\"Entry point for launching an IPython kernel.\n"
     ]
    },
    {
     "data": {
      "text/html": [
       "<div>\n",
       "<style scoped>\n",
       "    .dataframe tbody tr th:only-of-type {\n",
       "        vertical-align: middle;\n",
       "    }\n",
       "\n",
       "    .dataframe tbody tr th {\n",
       "        vertical-align: top;\n",
       "    }\n",
       "\n",
       "    .dataframe thead th {\n",
       "        text-align: right;\n",
       "    }\n",
       "</style>\n",
       "<table border=\"1\" class=\"dataframe\">\n",
       "  <thead>\n",
       "    <tr style=\"text-align: right;\">\n",
       "      <th></th>\n",
       "      <th>TITLE</th>\n",
       "      <th>OVERVIEW</th>\n",
       "      <th>GENRE_ID1</th>\n",
       "      <th>GENRE_ID2</th>\n",
       "      <th>GENRE_ID3</th>\n",
       "    </tr>\n",
       "  </thead>\n",
       "  <tbody>\n",
       "    <tr>\n",
       "      <th>0</th>\n",
       "      <td>ショーシャンクの空に</td>\n",
       "      <td>妻とその愛人を射殺したかどでショーシャンク刑務所送りとなった銀行家アンディ。初めは戸惑ってい...</td>\n",
       "      <td>3</td>\n",
       "      <td>0</td>\n",
       "      <td>0</td>\n",
       "    </tr>\n",
       "    <tr>\n",
       "      <th>1</th>\n",
       "      <td>ゴッドファーザー</td>\n",
       "      <td>シシリーからアメリカに移住し、一代で財を成したドン・コルレオーネ。三男のマイケルはひとり堅気...</td>\n",
       "      <td>2</td>\n",
       "      <td>23</td>\n",
       "      <td>28</td>\n",
       "    </tr>\n",
       "    <tr>\n",
       "      <th>2</th>\n",
       "      <td>シンドラーのリスト</td>\n",
       "      <td>0年、ポーランド南部の都市クラクフにドイツ軍が侵攻した。ドイツ人実業家のオスカー・シンドラー...</td>\n",
       "      <td>3</td>\n",
       "      <td>20</td>\n",
       "      <td>26</td>\n",
       "    </tr>\n",
       "    <tr>\n",
       "      <th>3</th>\n",
       "      <td>君の名は。</td>\n",
       "      <td>0,0年に0度のすい星来訪が、0か月後に迫る日本。山々に囲まれた田舎町に住む女子高生の三葉は...</td>\n",
       "      <td>7</td>\n",
       "      <td>17</td>\n",
       "      <td>0</td>\n",
       "    </tr>\n",
       "    <tr>\n",
       "      <th>4</th>\n",
       "      <td>ゴッドファーザー PART II</td>\n",
       "      <td>亡き父のあとを継ぎドンとなったマイケルの苦悩と復讐を、父ビトーの少年時代からやがて一大ファミ...</td>\n",
       "      <td>2</td>\n",
       "      <td>3</td>\n",
       "      <td>28</td>\n",
       "    </tr>\n",
       "  </tbody>\n",
       "</table>\n",
       "</div>"
      ],
      "text/plain": [
       "              TITLE  ... GENRE_ID3\n",
       "0        ショーシャンクの空に  ...         0\n",
       "1          ゴッドファーザー  ...        28\n",
       "2         シンドラーのリスト  ...        26\n",
       "3             君の名は。  ...         0\n",
       "4  ゴッドファーザー PART II  ...        28\n",
       "\n",
       "[5 rows x 5 columns]"
      ]
     },
     "execution_count": 18,
     "metadata": {
      "tags": []
     },
     "output_type": "execute_result"
    }
   ],
   "source": [
    "data['OVERVIEW'] = data['OVERVIEW'].map(preprocessing)\n",
    "data.head()"
   ]
  },
  {
   "cell_type": "markdown",
   "metadata": {
    "id": "1ovBI5wzzQeY"
   },
   "source": [
    "### MeCabインストール"
   ]
  },
  {
   "cell_type": "code",
   "execution_count": null,
   "metadata": {
    "colab": {
     "base_uri": "https://localhost:8080/"
    },
    "id": "c9d4RsE7ym0V",
    "outputId": "14294ac6-819a-4854-b871-7b5495522936"
   },
   "outputs": [],
   "source": [
    "!apt install aptitude\n",
    "!aptitude install mecab libmecab-dev mecab-ipadic-utf8 git make curl xz-utils file -y\n",
    "!pip install mecab-python3==0.7\n",
    "\n",
    "!git clone --depth 1 https://github.com/neologd/mecab-ipadic-neologd.git\n",
    "!echo yes | mecab-ipadic-neologd/bin/install-mecab-ipadic-neologd -n\n",
    "\n",
    "!sed -e \"s!/var/lib/mecab/dic/debian!/usr/lib/x86_64-linux-gnu/mecab/dic/mecab-ipadic-neologd!g\" /etc/mecabrc &gt; /etc/mecabrc.new\n",
    "!cp /etc/mecabrc /etc/mecabrc.org\n",
    "!cp /etc/mecabrc.new /etc/mecabrc"
   ]
  },
  {
   "cell_type": "markdown",
   "metadata": {
    "id": "3rXrVsTazZre"
   },
   "source": [
    "### 分かち書き"
   ]
  },
  {
   "cell_type": "code",
   "execution_count": 20,
   "metadata": {
    "id": "SmOvL-eOzTO4"
   },
   "outputs": [],
   "source": [
    "import MeCab\n",
    "\n",
    "def tokenize(text, target_pos=list(('名詞', '形容詞', '形容動詞', '動詞', '副詞'))):\n",
    "  tokens = []\n",
    "  mecab = MeCab.Tagger ('-d /usr/lib/x86_64-linux-gnu/mecab/dic/mecab-ipadic-neologd')\n",
    "  mecab.parse('') #文字列がGCされるのを防ぐ\n",
    "  node = mecab.parseToNode(text)\n",
    "  while node:\n",
    "    #単語を取得\n",
    "    word = node.surface\n",
    "    #品詞を取得\n",
    "    pos = node.feature.split(',')[0]\n",
    "    # 名詞の場合のみ抽出\n",
    "    if pos in target_pos:\n",
    "      tokens.append(word)\n",
    "    #次の単語に進める\n",
    "    node = node.next\n",
    "  return tokens"
   ]
  },
  {
   "cell_type": "code",
   "execution_count": 21,
   "metadata": {
    "colab": {
     "base_uri": "https://localhost:8080/"
    },
    "id": "VIAiA0ftz4pl",
    "outputId": "ef052234-1a1e-4d6b-e7e9-51281d7cb5a8"
   },
   "outputs": [
    {
     "name": "stderr",
     "output_type": "stream",
     "text": [
      "/usr/local/lib/python3.7/dist-packages/ipykernel_launcher.py:1: SettingWithCopyWarning: \n",
      "A value is trying to be set on a copy of a slice from a DataFrame.\n",
      "Try using .loc[row_indexer,col_indexer] = value instead\n",
      "\n",
      "See the caveats in the documentation: https://pandas.pydata.org/pandas-docs/stable/user_guide/indexing.html#returning-a-view-versus-a-copy\n",
      "  \"\"\"Entry point for launching an IPython kernel.\n"
     ]
    }
   ],
   "source": [
    "data['OVERVIEW_WAKATI'] = data['OVERVIEW'].map(lambda x: ' '.join(tokenize(x)))"
   ]
  },
  {
   "cell_type": "code",
   "execution_count": 22,
   "metadata": {
    "colab": {
     "base_uri": "https://localhost:8080/",
     "height": 357
    },
    "id": "8TNXJn-x0e2-",
    "outputId": "d22eee42-c63e-422f-cd91-c398e52da669"
   },
   "outputs": [
    {
     "data": {
      "text/html": [
       "<div>\n",
       "<style scoped>\n",
       "    .dataframe tbody tr th:only-of-type {\n",
       "        vertical-align: middle;\n",
       "    }\n",
       "\n",
       "    .dataframe tbody tr th {\n",
       "        vertical-align: top;\n",
       "    }\n",
       "\n",
       "    .dataframe thead th {\n",
       "        text-align: right;\n",
       "    }\n",
       "</style>\n",
       "<table border=\"1\" class=\"dataframe\">\n",
       "  <thead>\n",
       "    <tr style=\"text-align: right;\">\n",
       "      <th></th>\n",
       "      <th>TITLE</th>\n",
       "      <th>OVERVIEW</th>\n",
       "      <th>GENRE_ID1</th>\n",
       "      <th>GENRE_ID2</th>\n",
       "      <th>GENRE_ID3</th>\n",
       "      <th>OVERVIEW_WAKATI</th>\n",
       "    </tr>\n",
       "  </thead>\n",
       "  <tbody>\n",
       "    <tr>\n",
       "      <th>0</th>\n",
       "      <td>ショーシャンクの空に</td>\n",
       "      <td>妻とその愛人を射殺したかどでショーシャンク刑務所送りとなった銀行家アンディ。初めは戸惑ってい...</td>\n",
       "      <td>3</td>\n",
       "      <td>0</td>\n",
       "      <td>0</td>\n",
       "      <td>妻 愛人 射殺 し かど ショー シャンク 刑務所 送り なっ 銀行家 アンディ 初め 戸惑...</td>\n",
       "    </tr>\n",
       "    <tr>\n",
       "      <th>1</th>\n",
       "      <td>ゴッドファーザー</td>\n",
       "      <td>シシリーからアメリカに移住し、一代で財を成したドン・コルレオーネ。三男のマイケルはひとり堅気...</td>\n",
       "      <td>2</td>\n",
       "      <td>23</td>\n",
       "      <td>28</td>\n",
       "      <td>シシリー アメリカ 移住 し 一代 財 成し ドン コルレオーネ 三男 マイケル ひとり 堅...</td>\n",
       "    </tr>\n",
       "    <tr>\n",
       "      <th>2</th>\n",
       "      <td>シンドラーのリスト</td>\n",
       "      <td>0年、ポーランド南部の都市クラクフにドイツ軍が侵攻した。ドイツ人実業家のオスカー・シンドラー...</td>\n",
       "      <td>3</td>\n",
       "      <td>20</td>\n",
       "      <td>26</td>\n",
       "      <td>0 年 ポーランド 南部 都市 クラクフ ドイツ軍 侵攻 し ドイツ人 実業家 オスカー・シ...</td>\n",
       "    </tr>\n",
       "    <tr>\n",
       "      <th>3</th>\n",
       "      <td>君の名は。</td>\n",
       "      <td>0,0年に0度のすい星来訪が、0か月後に迫る日本。山々に囲まれた田舎町に住む女子高生の三葉は...</td>\n",
       "      <td>7</td>\n",
       "      <td>17</td>\n",
       "      <td>0</td>\n",
       "      <td>0 0 年 0度 すい星 来訪 0 か月 後 迫る 日本 山々 囲ま れ 田舎町 住む 女子...</td>\n",
       "    </tr>\n",
       "    <tr>\n",
       "      <th>4</th>\n",
       "      <td>ゴッドファーザー PART II</td>\n",
       "      <td>亡き父のあとを継ぎドンとなったマイケルの苦悩と復讐を、父ビトーの少年時代からやがて一大ファミ...</td>\n",
       "      <td>2</td>\n",
       "      <td>3</td>\n",
       "      <td>28</td>\n",
       "      <td>父 あと 継ぎ ドン なっ マイケル 苦悩 復讐 父 ビトー 少年時代 やがて 一大 ファミ...</td>\n",
       "    </tr>\n",
       "  </tbody>\n",
       "</table>\n",
       "</div>"
      ],
      "text/plain": [
       "              TITLE  ...                                    OVERVIEW_WAKATI\n",
       "0        ショーシャンクの空に  ...  妻 愛人 射殺 し かど ショー シャンク 刑務所 送り なっ 銀行家 アンディ 初め 戸惑...\n",
       "1          ゴッドファーザー  ...  シシリー アメリカ 移住 し 一代 財 成し ドン コルレオーネ 三男 マイケル ひとり 堅...\n",
       "2         シンドラーのリスト  ...  0 年 ポーランド 南部 都市 クラクフ ドイツ軍 侵攻 し ドイツ人 実業家 オスカー・シ...\n",
       "3             君の名は。  ...  0 0 年 0度 すい星 来訪 0 か月 後 迫る 日本 山々 囲ま れ 田舎町 住む 女子...\n",
       "4  ゴッドファーザー PART II  ...  父 あと 継ぎ ドン なっ マイケル 苦悩 復讐 父 ビトー 少年時代 やがて 一大 ファミ...\n",
       "\n",
       "[5 rows x 6 columns]"
      ]
     },
     "execution_count": 22,
     "metadata": {
      "tags": []
     },
     "output_type": "execute_result"
    }
   ],
   "source": [
    "data.head()"
   ]
  },
  {
   "cell_type": "markdown",
   "metadata": {
    "id": "lMF3tSRP24HS"
   },
   "source": [
    "## 目的変数の作成"
   ]
  },
  {
   "cell_type": "code",
   "execution_count": 23,
   "metadata": {
    "colab": {
     "base_uri": "https://localhost:8080/"
    },
    "id": "geq2iP7b0h_z",
    "outputId": "233c0a02-76f9-4023-d40f-76d51a0ed606"
   },
   "outputs": [
    {
     "data": {
      "text/plain": [
       "array([[ 3,  0,  0],\n",
       "       [ 2, 23, 28],\n",
       "       [ 3, 20, 26],\n",
       "       ...,\n",
       "       [ 1, 18,  0],\n",
       "       [ 6,  0,  0],\n",
       "       [ 2,  0,  0]])"
      ]
     },
     "execution_count": 23,
     "metadata": {
      "tags": []
     },
     "output_type": "execute_result"
    }
   ],
   "source": [
    "## マルチラベルに対応したモデルの場合\n",
    "from gensim import matutils\n",
    "\n",
    "Y = np.stack([data['GENRE_ID1'].values, data['GENRE_ID2'].values, data['GENRE_ID3'].values]).T\n",
    "Y"
   ]
  },
  {
   "cell_type": "code",
   "execution_count": 24,
   "metadata": {
    "colab": {
     "base_uri": "https://localhost:8080/"
    },
    "id": "XmlQWsAAyIxR",
    "outputId": "b9cb1ffc-05e0-4828-d57a-866e2d23fe32"
   },
   "outputs": [
    {
     "name": "stderr",
     "output_type": "stream",
     "text": [
      "/usr/local/lib/python3.7/dist-packages/ipykernel_launcher.py:2: SettingWithCopyWarning: \n",
      "A value is trying to be set on a copy of a slice from a DataFrame.\n",
      "Try using .loc[row_indexer,col_indexer] = value instead\n",
      "\n",
      "See the caveats in the documentation: https://pandas.pydata.org/pandas-docs/stable/user_guide/indexing.html#returning-a-view-versus-a-copy\n",
      "  \n",
      "/usr/local/lib/python3.7/dist-packages/ipykernel_launcher.py:3: SettingWithCopyWarning: \n",
      "A value is trying to be set on a copy of a slice from a DataFrame.\n",
      "Try using .loc[row_indexer,col_indexer] = value instead\n",
      "\n",
      "See the caveats in the documentation: https://pandas.pydata.org/pandas-docs/stable/user_guide/indexing.html#returning-a-view-versus-a-copy\n",
      "  This is separate from the ipykernel package so we can avoid doing imports until\n",
      "/usr/local/lib/python3.7/dist-packages/ipykernel_launcher.py:4: SettingWithCopyWarning: \n",
      "A value is trying to be set on a copy of a slice from a DataFrame.\n",
      "Try using .loc[row_indexer,col_indexer] = value instead\n",
      "\n",
      "See the caveats in the documentation: https://pandas.pydata.org/pandas-docs/stable/user_guide/indexing.html#returning-a-view-versus-a-copy\n",
      "  after removing the cwd from sys.path.\n"
     ]
    },
    {
     "data": {
      "text/plain": [
       "[array([1, 0, 0, ..., 1, 1, 1]),\n",
       " array([0, 0, 0, ..., 1, 0, 0]),\n",
       " array([0, 1, 0, ..., 0, 0, 1]),\n",
       " array([1, 0, 1, ..., 0, 0, 0]),\n",
       " array([0, 0, 0, ..., 0, 0, 0]),\n",
       " array([0, 0, 0, ..., 0, 0, 0]),\n",
       " array([0, 0, 0, ..., 0, 1, 0]),\n",
       " array([0, 0, 0, ..., 0, 0, 0]),\n",
       " array([0, 0, 0, ..., 0, 0, 0]),\n",
       " array([0, 0, 0, ..., 0, 0, 0]),\n",
       " array([0, 0, 0, ..., 0, 0, 0]),\n",
       " array([0, 0, 0, ..., 0, 0, 0]),\n",
       " array([0, 0, 0, ..., 0, 0, 0]),\n",
       " array([0, 0, 0, ..., 0, 0, 0]),\n",
       " array([0, 0, 0, ..., 0, 0, 0]),\n",
       " array([0, 0, 0, ..., 0, 0, 0]),\n",
       " array([0, 0, 0, ..., 0, 0, 0]),\n",
       " array([0, 0, 0, ..., 0, 0, 0]),\n",
       " array([0, 0, 0, ..., 1, 0, 0]),\n",
       " array([0, 0, 0, ..., 0, 0, 0]),\n",
       " array([0, 0, 1, ..., 0, 0, 0]),\n",
       " array([0, 0, 0, ..., 0, 0, 0]),\n",
       " array([0, 0, 0, ..., 0, 0, 0]),\n",
       " array([0, 1, 0, ..., 0, 0, 0]),\n",
       " array([0, 0, 0, ..., 0, 0, 0]),\n",
       " array([0, 0, 0, ..., 0, 0, 0]),\n",
       " array([0, 0, 1, ..., 0, 0, 0]),\n",
       " array([0, 0, 0, ..., 0, 0, 0]),\n",
       " array([0, 1, 0, ..., 0, 0, 0]),\n",
       " array([0, 0, 0, ..., 0, 0, 0])]"
      ]
     },
     "execution_count": 24,
     "metadata": {
      "tags": []
     },
     "output_type": "execute_result"
    }
   ],
   "source": [
    "## マルチラベルに対応したモデルでない場合、Y_listを作成\n",
    "data['GENRE_ID1'] = pd.Categorical(data['GENRE_ID1'], categories=set(genre2id.values()))\n",
    "data['GENRE_ID2'] = pd.Categorical(data['GENRE_ID2'], categories=set(genre2id.values()))\n",
    "data['GENRE_ID3'] = pd.Categorical(data['GENRE_ID3'], categories=set(genre2id.values()))\n",
    "\n",
    "def dummies_genres(data_frame):\n",
    "  for i in range(len(genre2id)):\n",
    "    sum_genre_id = data_frame[f'GENRE_ID1_{i}'] + data_frame[f'GENRE_ID2_{i}'] + data_frame[f'GENRE_ID3_{i}']\n",
    "    data_frame = data_frame.drop([f'GENRE_ID1_{i}', f'GENRE_ID2_{i}', f'GENRE_ID3_{i}'], axis=1)\n",
    "    data_frame[f'GENRE_ID_{i}'] = sum_genre_id.map(lambda x: x if x < 2 else 1)\n",
    "  return data_frame\n",
    "\n",
    "genre_dummied_df = dummies_genres(pd.get_dummies(data, columns=['GENRE_ID1', 'GENRE_ID2', 'GENRE_ID3']))\n",
    "\n",
    "Y_list = []\n",
    "for idx in range(len(genre2id)):\n",
    "  Y_i = np.array(genre_dummied_df[f'GENRE_ID_{idx}'])\n",
    "  Y_list.append(Y_i)\n",
    "\n",
    "Y_list"
   ]
  },
  {
   "cell_type": "markdown",
   "metadata": {
    "id": "a-9hyPvs39RJ"
   },
   "source": [
    "## 説明変数の作成"
   ]
  },
  {
   "cell_type": "code",
   "execution_count": 25,
   "metadata": {
    "colab": {
     "base_uri": "https://localhost:8080/",
     "height": 419
    },
    "id": "0Z5D2mbY3UvY",
    "outputId": "0640acd9-9c6b-4791-ab12-4940187e2801"
   },
   "outputs": [
    {
     "data": {
      "text/html": [
       "<div>\n",
       "<style scoped>\n",
       "    .dataframe tbody tr th:only-of-type {\n",
       "        vertical-align: middle;\n",
       "    }\n",
       "\n",
       "    .dataframe tbody tr th {\n",
       "        vertical-align: top;\n",
       "    }\n",
       "\n",
       "    .dataframe thead th {\n",
       "        text-align: right;\n",
       "    }\n",
       "</style>\n",
       "<table border=\"1\" class=\"dataframe\">\n",
       "  <thead>\n",
       "    <tr style=\"text-align: right;\">\n",
       "      <th></th>\n",
       "      <th>OVERVIEW_WAKATI</th>\n",
       "    </tr>\n",
       "  </thead>\n",
       "  <tbody>\n",
       "    <tr>\n",
       "      <th>0</th>\n",
       "      <td>妻 愛人 射殺 し かど ショー シャンク 刑務所 送り なっ 銀行家 アンディ 初め 戸惑...</td>\n",
       "    </tr>\n",
       "    <tr>\n",
       "      <th>1</th>\n",
       "      <td>シシリー アメリカ 移住 し 一代 財 成し ドン コルレオーネ 三男 マイケル ひとり 堅...</td>\n",
       "    </tr>\n",
       "    <tr>\n",
       "      <th>2</th>\n",
       "      <td>0 年 ポーランド 南部 都市 クラクフ ドイツ軍 侵攻 し ドイツ人 実業家 オスカー・シ...</td>\n",
       "    </tr>\n",
       "    <tr>\n",
       "      <th>3</th>\n",
       "      <td>0 0 年 0度 すい星 来訪 0 か月 後 迫る 日本 山々 囲ま れ 田舎町 住む 女子...</td>\n",
       "    </tr>\n",
       "    <tr>\n",
       "      <th>4</th>\n",
       "      <td>父 あと 継ぎ ドン なっ マイケル 苦悩 復讐 父 ビトー 少年時代 やがて 一大 ファミ...</td>\n",
       "    </tr>\n",
       "    <tr>\n",
       "      <th>...</th>\n",
       "      <td>...</td>\n",
       "    </tr>\n",
       "    <tr>\n",
       "      <th>2385</th>\n",
       "      <td>近未来 巨大企業 率いる ジュリアン ヴァイス 富裕層 向け リゾート施設 建造 する そこ...</td>\n",
       "    </tr>\n",
       "    <tr>\n",
       "      <th>2386</th>\n",
       "      <td>カリフォルニア 交通 警察官 エドワード・メイラス 勤務 中 遭遇 し 身元 不明 娘 犠牲...</td>\n",
       "    </tr>\n",
       "    <tr>\n",
       "      <th>2387</th>\n",
       "      <td>日 突然 数 百万 超す 人間 姿 消し 世界中 ライフライン 機能 停止 地上 未曾有 混...</td>\n",
       "    </tr>\n",
       "    <tr>\n",
       "      <th>2388</th>\n",
       "      <td>アニメ製作会社 勤める ティム 妻 平凡 生活 送っ い ある日 愛犬 緑色 奇妙 マスク ...</td>\n",
       "    </tr>\n",
       "    <tr>\n",
       "      <th>2389</th>\n",
       "      <td>ジョン・トラヴォルタ 主演 カルト 的 人気 誇る sf 大作 舞台 西暦 0 年 星人 支...</td>\n",
       "    </tr>\n",
       "  </tbody>\n",
       "</table>\n",
       "<p>2390 rows × 1 columns</p>\n",
       "</div>"
      ],
      "text/plain": [
       "                                        OVERVIEW_WAKATI\n",
       "0     妻 愛人 射殺 し かど ショー シャンク 刑務所 送り なっ 銀行家 アンディ 初め 戸惑...\n",
       "1     シシリー アメリカ 移住 し 一代 財 成し ドン コルレオーネ 三男 マイケル ひとり 堅...\n",
       "2     0 年 ポーランド 南部 都市 クラクフ ドイツ軍 侵攻 し ドイツ人 実業家 オスカー・シ...\n",
       "3     0 0 年 0度 すい星 来訪 0 か月 後 迫る 日本 山々 囲ま れ 田舎町 住む 女子...\n",
       "4     父 あと 継ぎ ドン なっ マイケル 苦悩 復讐 父 ビトー 少年時代 やがて 一大 ファミ...\n",
       "...                                                 ...\n",
       "2385  近未来 巨大企業 率いる ジュリアン ヴァイス 富裕層 向け リゾート施設 建造 する そこ...\n",
       "2386  カリフォルニア 交通 警察官 エドワード・メイラス 勤務 中 遭遇 し 身元 不明 娘 犠牲...\n",
       "2387  日 突然 数 百万 超す 人間 姿 消し 世界中 ライフライン 機能 停止 地上 未曾有 混...\n",
       "2388  アニメ製作会社 勤める ティム 妻 平凡 生活 送っ い ある日 愛犬 緑色 奇妙 マスク ...\n",
       "2389  ジョン・トラヴォルタ 主演 カルト 的 人気 誇る sf 大作 舞台 西暦 0 年 星人 支...\n",
       "\n",
       "[2390 rows x 1 columns]"
      ]
     },
     "execution_count": 25,
     "metadata": {
      "tags": []
     },
     "output_type": "execute_result"
    }
   ],
   "source": [
    "wakati = data[['OVERVIEW_WAKATI']]\n",
    "wakati.to_csv('wakati.csv', sep='\\n', header=True, index=False)\n",
    "wakati"
   ]
  },
  {
   "cell_type": "code",
   "execution_count": null,
   "metadata": {
    "colab": {
     "base_uri": "https://localhost:8080/"
    },
    "id": "hgpCjTuW4OsZ",
    "outputId": "6c3a6d32-d474-49d5-f219-4f4bb6599db5"
   },
   "outputs": [],
   "source": [
    "from gensim.models import word2vec\n",
    "import logging\n",
    "\n",
    "vec_size = 300\n",
    "logging.basicConfig(format='%(asctime)s : %(levelname)s : %(message)s', level=logging.INFO)\n",
    "sentence_data = word2vec.LineSentence('wakati.csv')\n",
    "vectorizer = word2vec.Word2Vec(sentence_data,\n",
    "                         sg=1,            # Skip-gram\n",
    "                         size=vec_size,   # 次元数\n",
    "                         min_count=5,     # min_count回未満の単語を破棄\n",
    "                         window=3,        # 文脈の最大単語数\n",
    "                         hs=0,            # 階層ソフトマックス(ネガティブサンプリングするなら0)\n",
    "                         negative=5,      # ネガティブサンプリング\n",
    "                         iter=100         # Epoch数\n",
    "                         )"
   ]
  },
  {
   "cell_type": "code",
   "execution_count": null,
   "metadata": {
    "colab": {
     "base_uri": "https://localhost:8080/"
    },
    "id": "qe8YvSgL4dCJ",
    "outputId": "f34c78a3-24a7-4db6-d08a-aa7fa550f9b0"
   },
   "outputs": [],
   "source": [
    "vectorizer.most_similar('映画')"
   ]
  },
  {
   "cell_type": "code",
   "execution_count": 28,
   "metadata": {
    "id": "YB_Vkfz0458A"
   },
   "outputs": [],
   "source": [
    "import string\n",
    "import torch\n",
    "import numpy as np\n",
    "\n",
    "def transform_w2v(text):\n",
    "  table = str.maketrans(string.punctuation, ' '*len(string.punctuation))\n",
    "  words = text.translate(table).split()  # 記号をスペースに置換後、スペースで分割してリスト化\n",
    "  vec = [vectorizer[word] for word in words if word in vectorizer]  # 1語ずつベクトル化\n",
    "\n",
    "  if len(vec) != 0:\n",
    "    return torch.tensor(sum(vec) / len(vec))\n",
    "  else:\n",
    "    return torch.tensor(np.zeros(vec_size))"
   ]
  },
  {
   "cell_type": "code",
   "execution_count": 29,
   "metadata": {
    "colab": {
     "base_uri": "https://localhost:8080/"
    },
    "id": "zuUe4epJ5iN5",
    "outputId": "6034cd85-4ef3-4760-fd0c-5e9c085b8ff3"
   },
   "outputs": [
    {
     "name": "stderr",
     "output_type": "stream",
     "text": [
      "/usr/local/lib/python3.7/dist-packages/ipykernel_launcher.py:8: DeprecationWarning: Call to deprecated `__contains__` (Method will be removed in 4.0.0, use self.wv.__contains__() instead).\n",
      "  \n",
      "/usr/local/lib/python3.7/dist-packages/ipykernel_launcher.py:8: DeprecationWarning: Call to deprecated `__getitem__` (Method will be removed in 4.0.0, use self.wv.__getitem__() instead).\n",
      "  \n"
     ]
    },
    {
     "name": "stdout",
     "output_type": "stream",
     "text": [
      "torch.Size([2390, 300])\n",
      "tensor([[ 0.2231, -0.1877, -0.3665,  ...,  0.0323, -0.2222,  0.0237],\n",
      "        [ 0.1561, -0.1481, -0.3463,  ..., -0.0684, -0.3024,  0.0913],\n",
      "        [ 0.1064, -0.0386, -0.3701,  ..., -0.0379, -0.3401,  0.1732],\n",
      "        ...,\n",
      "        [ 0.0899, -0.0043, -0.3170,  ..., -0.0890, -0.2938,  0.0528],\n",
      "        [ 0.0055, -0.0413, -0.6006,  ..., -0.0674, -0.3729,  0.0144],\n",
      "        [ 0.1893, -0.0909, -0.4038,  ..., -0.0602, -0.4123, -0.0039]])\n"
     ]
    }
   ],
   "source": [
    "# 特徴ベクトルの作成\n",
    "X = torch.stack([transform_w2v(text) for text in data['OVERVIEW_WAKATI']])\n",
    "\n",
    "print(X.size())\n",
    "print(X)"
   ]
  },
  {
   "cell_type": "markdown",
   "metadata": {
    "id": "P2l1jfYh6TE1"
   },
   "source": [
    "## 学習、検証、評価データに分割"
   ]
  },
  {
   "cell_type": "code",
   "execution_count": 30,
   "metadata": {
    "colab": {
     "base_uri": "https://localhost:8080/"
    },
    "id": "72hL--wi5-AL",
    "outputId": "080669dc-0290-4431-c31c-6eaaa67b51b0"
   },
   "outputs": [
    {
     "name": "stdout",
     "output_type": "stream",
     "text": [
      "==================== 学習データ ====================\n",
      "X: torch.Size([1912, 300])\n",
      "Y: (1912, 3)\n",
      "==================== 検証データ ====================\n",
      "X: torch.Size([239, 300])\n",
      "Y: (239, 3)\n",
      "==================== 評価データ ====================\n",
      "X: torch.Size([239, 300])\n",
      "Y: (239, 3)\n"
     ]
    }
   ],
   "source": [
    "### マルチラベルに対応したモデルの場合\n",
    "from sklearn.model_selection import train_test_split\n",
    "\n",
    "X_train, X_valid_test, y_train, y_valid_test = train_test_split(X, Y, train_size=0.8, random_state=144)\n",
    "X_valid, X_test, y_valid, y_test = train_test_split(X_valid_test, y_valid_test, train_size=0.5, random_state=144)\n",
    "\n",
    "print(f'{\"=\"*20} 学習データ {\"=\"*20}')\n",
    "print('X:', X_train.size())\n",
    "print('Y:', y_train.shape)\n",
    "print(f'{\"=\"*20} 検証データ {\"=\"*20}')\n",
    "print('X:', X_valid.size())\n",
    "print('Y:', y_valid.shape)\n",
    "print(f'{\"=\"*20} 評価データ {\"=\"*20}')\n",
    "print('X:', X_test.size())\n",
    "print('Y:', y_test.shape)"
   ]
  },
  {
   "cell_type": "markdown",
   "metadata": {
    "id": "2DoPZY0M8KrH"
   },
   "source": [
    "## 学習、予測、精度評価"
   ]
  },
  {
   "cell_type": "markdown",
   "metadata": {
    "id": "j0zouGtBrfau"
   },
   "source": [
    "### マルチラベルに対応していないモデルの精度評価を行う際に使用"
   ]
  },
  {
   "cell_type": "code",
   "execution_count": 37,
   "metadata": {
    "id": "5FsKuulirdqg"
   },
   "outputs": [],
   "source": [
    "def proba2label(predict_probs):\n",
    "  predict_labels = []\n",
    "  for probs in predict_probs:\n",
    "    labels = np.array([ 1 if np.round(prob, 4) in np.round(np.sort(probs)[:3], 4) and prob < (sum(probs) / len(probs) - threshold) else 0 for prob in probs])\n",
    "    predict_labels.append(labels)\n",
    "  return predict_labels\n",
    "\n",
    "threshold = 0.075\n",
    "def get_proba2label_dict():\n",
    "  ## 予測確率と正解データをレコードごとにリスト化\n",
    "  ### 予測確率\n",
    "  predict_vy_probs = np.array([ probs.T[0] for probs in predict_vy_prob_list ]).T\n",
    "  predict_y_probs = np.array([ probs.T[0] for probs in predict_y_prob_list ]).T\n",
    "  ### 正解データ\n",
    "  y_valid_true = np.array(y_valid_list).T\n",
    "  y_test_true = np.array(y_test_list).T\n",
    "  ## 予測確率からラベル付け（閾値 = 平均確率 - 0.075）\n",
    "  predict_vy_labels = proba2label(predict_vy_probs)\n",
    "  predict_y_labels = proba2label(predict_y_probs)\n",
    "\n",
    "  ## ラベル付けしたリスト、正解データ、予測確率を辞書型で返す\n",
    "  return dict(predict_vy_labels=predict_vy_labels, predict_y_labels=predict_y_labels,\n",
    "              y_valid_true=y_valid_true, y_test_true=y_test_true,\n",
    "              predict_vy_probs=predict_vy_probs, predict_y_probs=predict_y_probs)"
   ]
  },
  {
   "cell_type": "markdown",
   "metadata": {
    "id": "NDScGzRq8P2v"
   },
   "source": [
    "### Random Forest Classifier"
   ]
  },
  {
   "cell_type": "code",
   "execution_count": 32,
   "metadata": {
    "id": "SQ2Ayni_7coO"
   },
   "outputs": [],
   "source": [
    "from sklearn.ensemble import RandomForestClassifier as classifier\n",
    "\n",
    "# モデル定義\n",
    "clf = classifier(random_state=144)\n",
    "# 学習\n",
    "clf.fit(X_train, y_train)\n",
    "# 予測\n",
    "predict_vy = clf.predict(X_valid)\n",
    "predict_y = clf.predict(X_test)\n",
    "# 予測確率\n",
    "predict_vy_prob = clf.predict_proba(X_valid)\n",
    "predict_y_prob = clf.predict_proba(X_test)"
   ]
  },
  {
   "cell_type": "code",
   "execution_count": 33,
   "metadata": {
    "colab": {
     "base_uri": "https://localhost:8080/"
    },
    "id": "Nkqe9ZZ_9lyI",
    "outputId": "c8b3bdd9-7053-4dad-8cbd-b3bc64148da7"
   },
   "outputs": [
    {
     "name": "stdout",
     "output_type": "stream",
     "text": [
      "検証正解率： 0.6122733612273361\n",
      "評価正解率： 0.6304044630404463\n"
     ]
    }
   ],
   "source": [
    "# 単純な正解率\n",
    "print('検証正解率：', np.sum(predict_vy == y_valid) / y_valid.size)\n",
    "print('評価正解率：', np.sum(predict_y == y_test) / y_test.size)"
   ]
  },
  {
   "cell_type": "code",
   "execution_count": 34,
   "metadata": {
    "colab": {
     "base_uri": "https://localhost:8080/",
     "height": 499
    },
    "id": "eNHmQf4V-q5V",
    "outputId": "a77ffa8a-0e97-446c-af99-b198b7d3dba9"
   },
   "outputs": [
    {
     "data": {
      "text/plain": [
       "<matplotlib.axes._subplots.AxesSubplot at 0x7f1115729b50>"
      ]
     },
     "execution_count": 34,
     "metadata": {
      "tags": []
     },
     "output_type": "execute_result"
    },
    {
     "data": {
      "image/png": "[encoded data removed]",
      "text/plain": [
       "<Figure size 1080x576 with 1 Axes>"
      ]
     },
     "metadata": {
      "needs_background": "light",
      "tags": []
     },
     "output_type": "display_data"
    }
   ],
   "source": [
    "# 予測確率\n",
    "fig, ax = plt.subplots(figsize=(15, 8))\n",
    "sns.barplot(x=np.unique(data['GENRE_ID1'].values), y=predict_vy_prob[0][0], ax=ax)"
   ]
  },
  {
   "cell_type": "markdown",
   "metadata": {
    "id": "sgxd92gOtPDY"
   },
   "source": [
    "### Naive Bayes"
   ]
  },
  {
   "cell_type": "code",
   "execution_count": 35,
   "metadata": {
    "colab": {
     "base_uri": "https://localhost:8080/"
    },
    "id": "Wh844Y4SBqW1",
    "outputId": "27ef92ff-8c46-4d04-96f2-c15e5c4e5ce7"
   },
   "outputs": [
    {
     "name": "stdout",
     "output_type": "stream",
     "text": [
      "0番目\n",
      "検証正解率： 0.8451882845188284\n",
      "評価正解率： 0.8619246861924686\n",
      "================================================================================================================================================\n",
      "1番目\n",
      "検証正解率： 0.9121338912133892\n",
      "評価正解率： 0.891213389121339\n",
      "================================================================================================================================================\n",
      "2番目\n",
      "検証正解率： 0.7615062761506276\n",
      "評価正解率： 0.694560669456067\n",
      "================================================================================================================================================\n",
      "3番目\n",
      "検証正解率： 0.6652719665271967\n",
      "評価正解率： 0.7112970711297071\n",
      "================================================================================================================================================\n",
      "4番目\n",
      "検証正解率： 0.99581589958159\n",
      "評価正解率： 0.9916317991631799\n",
      "================================================================================================================================================\n",
      "5番目\n",
      "検証正解率： 0.9205020920502092\n",
      "評価正解率： 0.9456066945606695\n",
      "================================================================================================================================================\n",
      "6番目\n",
      "検証正解率： 0.8702928870292888\n",
      "評価正解率： 0.9246861924686193\n",
      "================================================================================================================================================\n",
      "7番目\n",
      "検証正解率： 0.9037656903765691\n",
      "評価正解率： 0.9372384937238494\n",
      "================================================================================================================================================\n",
      "8番目\n",
      "検証正解率： 0.9790794979079498\n",
      "評価正解率： 0.9832635983263598\n",
      "================================================================================================================================================\n",
      "9番目\n",
      "検証正解率： 0.9916317991631799\n",
      "評価正解率： 0.99581589958159\n",
      "================================================================================================================================================\n",
      "10番目\n",
      "検証正解率： 0.9246861924686193\n",
      "評価正解率： 0.9330543933054394\n",
      "================================================================================================================================================\n",
      "11番目\n",
      "検証正解率： 0.9246861924686193\n",
      "評価正解率： 0.9288702928870293\n",
      "================================================================================================================================================\n",
      "12番目\n",
      "検証正解率： 0.9874476987447699\n",
      "評価正解率： 0.9874476987447699\n",
      "================================================================================================================================================\n",
      "13番目\n",
      "検証正解率： 0.99581589958159\n",
      "評価正解率： 1.0\n",
      "================================================================================================================================================\n",
      "14番目\n",
      "検証正解率： 1.0\n",
      "評価正解率： 0.99581589958159\n",
      "================================================================================================================================================\n",
      "15番目\n",
      "検証正解率： 0.9790794979079498\n",
      "評価正解率： 0.9414225941422594\n",
      "================================================================================================================================================\n",
      "16番目\n",
      "検証正解率： 0.9205020920502092\n",
      "評価正解率： 0.9163179916317992\n",
      "================================================================================================================================================\n",
      "17番目\n",
      "検証正解率： 0.899581589958159\n",
      "評価正解率： 0.8786610878661087\n",
      "================================================================================================================================================\n",
      "18番目\n",
      "検証正解率： 0.9916317991631799\n",
      "評価正解率： 0.9748953974895398\n",
      "================================================================================================================================================\n",
      "19番目\n",
      "検証正解率： 0.9497907949790795\n",
      "評価正解率： 0.9790794979079498\n",
      "================================================================================================================================================\n",
      "20番目\n",
      "検証正解率： 0.9790794979079498\n",
      "評価正解率： 0.9874476987447699\n",
      "================================================================================================================================================\n",
      "21番目\n",
      "検証正解率： 0.9748953974895398\n",
      "評価正解率： 0.9832635983263598\n",
      "================================================================================================================================================\n",
      "22番目\n",
      "検証正解率： 0.9916317991631799\n",
      "評価正解率： 0.9832635983263598\n",
      "================================================================================================================================================\n",
      "23番目\n",
      "検証正解率： 0.9623430962343096\n",
      "評価正解率： 0.9497907949790795\n",
      "================================================================================================================================================\n",
      "24番目\n",
      "検証正解率： 1.0\n",
      "評価正解率： 0.99581589958159\n",
      "================================================================================================================================================\n",
      "25番目\n",
      "検証正解率： 0.99581589958159\n",
      "評価正解率： 1.0\n",
      "================================================================================================================================================\n",
      "26番目\n",
      "検証正解率： 0.9539748953974896\n",
      "評価正解率： 0.9623430962343096\n",
      "================================================================================================================================================\n",
      "27番目\n",
      "検証正解率： 1.0\n",
      "評価正解率： 1.0\n",
      "================================================================================================================================================\n",
      "28番目\n",
      "検証正解率： 0.9916317991631799\n",
      "評価正解率： 0.9874476987447699\n",
      "================================================================================================================================================\n",
      "29番目\n",
      "検証正解率： 0.9539748953974896\n",
      "評価正解率： 0.9832635983263598\n",
      "================================================================================================================================================\n"
     ]
    }
   ],
   "source": [
    "import numpy as np\n",
    "from sklearn.naive_bayes import MultinomialNB\n",
    "from sklearn.metrics import classification_report\n",
    "from sklearn import preprocessing\n",
    "\n",
    "## 前準備\n",
    "mm = preprocessing.MinMaxScaler()\n",
    "try:\n",
    "  X_train_mm = mm.fit_transform(X_train)\n",
    "except:\n",
    "  X_train_mm = X_train\n",
    "try:\n",
    "  X_valid_mm = mm.transform(X_valid)\n",
    "except:\n",
    "  X_valid_mm = X_valid\n",
    "try:\n",
    "  X_test_mm = mm.transform(X_test)\n",
    "except:\n",
    "  X_test_mm = X_test\n",
    "\n",
    "## モデル定義と学習をY_list分実行\n",
    "predict_vy_prob_list = []\n",
    "predict_y_prob_list = []\n",
    "y_valid_list = []\n",
    "y_test_list = []\n",
    "for idx, Y_i in enumerate(Y_list):\n",
    "  ### 説明変数（Y_i）を学習、検証、評価に分割\n",
    "  ## 説明変数を分割\n",
    "  y_train, y_valid_test = train_test_split(Y_i, train_size=0.8, random_state=144)\n",
    "  y_valid, y_test = train_test_split(y_valid_test, train_size=0.5, random_state=144)\n",
    "  y_valid_list.append(y_valid)\n",
    "  y_test_list.append(y_test)\n",
    "  ### モデル定義\n",
    "  clf = MultinomialNB(alpha=.01)\n",
    "  ### 学習\n",
    "  clf.fit(X_train_mm, y_train)\n",
    "  ### 予測\n",
    "  predict_vy_prob = clf.predict_proba(X_valid_mm)\n",
    "  predict_y_prob = clf.predict_proba(X_test_mm)\n",
    "  ### 予測確率をリストに追加\n",
    "  predict_vy_prob_list.append(predict_vy_prob)\n",
    "  predict_y_prob_list.append(predict_y_prob)\n",
    "  ### 簡単な予測精度\n",
    "  print(f'{idx}番目')\n",
    "  print('検証正解率：', sum(np.array( [ 0 if 0.5 <= prob else 1 for prob in predict_vy_prob.T[0] ] ) == y_valid) / y_valid.size)\n",
    "  print('評価正解率：', sum(np.array( [ 0 if 0.5 <= prob else 1 for prob in predict_y_prob.T[0] ] ) == y_test) / y_test.size)\n",
    "  print('='*144)\n"
   ]
  },
  {
   "cell_type": "code",
   "execution_count": 38,
   "metadata": {
    "colab": {
     "base_uri": "https://localhost:8080/"
    },
    "id": "MAMV8szVFSkC",
    "outputId": "d315a187-4545-4648-e7bb-a11792d52c58"
   },
   "outputs": [
    {
     "name": "stdout",
     "output_type": "stream",
     "text": [
      "検証の正解率 0.9203626220362622\n",
      "評価の正解率 0.9251046025104602\n"
     ]
    }
   ],
   "source": [
    "result = get_proba2label_dict()\n",
    "\n",
    "print('検証の正解率', np.sum(result['predict_vy_labels'] == result['y_valid_true']) / result['y_valid_true'].size)\n",
    "print('評価の正解率', np.sum(result['predict_y_labels'] == result['y_test_true']) / result['y_test_true'].size)"
   ]
  },
  {
   "cell_type": "markdown",
   "metadata": {
    "id": "-KT0s1NGrthP"
   },
   "source": [
    "### Decision Tree Classifier"
   ]
  },
  {
   "cell_type": "code",
   "execution_count": 39,
   "metadata": {
    "colab": {
     "base_uri": "https://localhost:8080/"
    },
    "id": "6ybDWcDvq8ig",
    "outputId": "489a68d9-e676-41dc-9814-67474d2a21b1"
   },
   "outputs": [
    {
     "name": "stdout",
     "output_type": "stream",
     "text": [
      "0番目\n",
      "検証正解率： 0.7405857740585774\n",
      "評価正解率： 0.7196652719665272\n",
      "================================================================================================================================================\n",
      "1番目\n",
      "検証正解率： 0.8158995815899581\n",
      "評価正解率： 0.803347280334728\n",
      "================================================================================================================================================\n",
      "2番目\n",
      "検証正解率： 0.7405857740585774\n",
      "評価正解率： 0.7112970711297071\n",
      "================================================================================================================================================\n",
      "3番目\n",
      "検証正解率： 0.6192468619246861\n",
      "評価正解率： 0.6317991631799164\n",
      "================================================================================================================================================\n",
      "4番目\n",
      "検証正解率： 0.99581589958159\n",
      "評価正解率： 0.9790794979079498\n",
      "================================================================================================================================================\n",
      "5番目\n",
      "検証正解率： 0.8702928870292888\n",
      "評価正解率： 0.8368200836820083\n",
      "================================================================================================================================================\n",
      "6番目\n",
      "検証正解率： 0.7322175732217573\n",
      "評価正解率： 0.7866108786610879\n",
      "================================================================================================================================================\n",
      "7番目\n",
      "検証正解率： 0.8451882845188284\n",
      "評価正解率： 0.8661087866108786\n",
      "================================================================================================================================================\n",
      "8番目\n",
      "検証正解率： 0.9581589958158996\n",
      "評価正解率： 0.9623430962343096\n",
      "================================================================================================================================================\n",
      "9番目\n",
      "検証正解率： 0.9790794979079498\n",
      "評価正解率： 0.9832635983263598\n",
      "================================================================================================================================================\n",
      "10番目\n",
      "検証正解率： 0.8284518828451883\n",
      "評価正解率： 0.8158995815899581\n",
      "================================================================================================================================================\n",
      "11番目\n",
      "検証正解率： 0.8661087866108786\n",
      "評価正解率： 0.8661087866108786\n",
      "================================================================================================================================================\n",
      "12番目\n",
      "検証正解率： 0.9790794979079498\n",
      "評価正解率： 0.9623430962343096\n",
      "================================================================================================================================================\n",
      "13番目\n",
      "検証正解率： 0.9874476987447699\n",
      "評価正解率： 0.9916317991631799\n",
      "================================================================================================================================================\n",
      "14番目\n",
      "検証正解率： 0.9665271966527197\n",
      "評価正解率： 0.9748953974895398\n",
      "================================================================================================================================================\n",
      "15番目\n",
      "検証正解率： 0.9121338912133892\n",
      "評価正解率： 0.8744769874476988\n",
      "================================================================================================================================================\n",
      "16番目\n",
      "検証正解率： 0.8870292887029289\n",
      "評価正解率： 0.8493723849372385\n",
      "================================================================================================================================================\n",
      "17番目\n",
      "検証正解率： 0.8284518828451883\n",
      "評価正解率： 0.8451882845188284\n",
      "================================================================================================================================================\n",
      "18番目\n",
      "検証正解率： 0.9707112970711297\n",
      "評価正解率： 0.9456066945606695\n",
      "================================================================================================================================================\n",
      "19番目\n",
      "検証正解率： 0.9414225941422594\n",
      "評価正解率： 0.9456066945606695\n",
      "================================================================================================================================================\n",
      "20番目\n",
      "検証正解率： 0.9623430962343096\n",
      "評価正解率： 0.9874476987447699\n",
      "================================================================================================================================================\n",
      "21番目\n",
      "検証正解率： 0.9414225941422594\n",
      "評価正解率： 0.9665271966527197\n",
      "================================================================================================================================================\n",
      "22番目\n",
      "検証正解率： 0.9748953974895398\n",
      "評価正解率： 0.9790794979079498\n",
      "================================================================================================================================================\n",
      "23番目\n",
      "検証正解率： 0.9163179916317992\n",
      "評価正解率： 0.8786610878661087\n",
      "================================================================================================================================================\n",
      "24番目\n",
      "検証正解率： 0.99581589958159\n",
      "評価正解率： 0.9916317991631799\n",
      "================================================================================================================================================\n",
      "25番目\n",
      "検証正解率： 0.9874476987447699\n",
      "評価正解率： 1.0\n",
      "================================================================================================================================================\n",
      "26番目\n",
      "検証正解率： 0.891213389121339\n",
      "評価正解率： 0.899581589958159\n",
      "================================================================================================================================================\n",
      "27番目\n",
      "検証正解率： 1.0\n",
      "評価正解率： 0.99581589958159\n",
      "================================================================================================================================================\n",
      "28番目\n",
      "検証正解率： 0.9790794979079498\n",
      "評価正解率： 0.9707112970711297\n",
      "================================================================================================================================================\n",
      "29番目\n",
      "検証正解率： 0.9037656903765691\n",
      "評価正解率： 0.9288702928870293\n",
      "================================================================================================================================================\n"
     ]
    }
   ],
   "source": [
    "from sklearn.tree import DecisionTreeClassifier\n",
    "\n",
    "## モデル定義と学習をY_list分実行\n",
    "predict_vy_prob_list = []\n",
    "predict_y_prob_list = []\n",
    "y_valid_list = []\n",
    "y_test_list = []\n",
    "for idx, Y_i in enumerate(Y_list):\n",
    "  ### 説明変数（Y_i）を学習、検証、評価に分割\n",
    "  ## 説明変数を分割\n",
    "  y_train, y_valid_test = train_test_split(Y_i, train_size=0.8, random_state=144)\n",
    "  y_valid, y_test = train_test_split(y_valid_test, train_size=0.5, random_state=144)\n",
    "  y_valid_list.append(y_valid)\n",
    "  y_test_list.append(y_test)\n",
    "  ### モデル定義\n",
    "  clf = DecisionTreeClassifier(random_state=144)\n",
    "  ### 学習\n",
    "  clf.fit(X_train, y_train)\n",
    "  ### 予測\n",
    "  predict_vy_prob = clf.predict_proba(X_valid)\n",
    "  predict_y_prob = clf.predict_proba(X_test)\n",
    "  ### 予測確率をリストに追加\n",
    "  predict_vy_prob_list.append(predict_vy_prob)\n",
    "  predict_y_prob_list.append(predict_y_prob)\n",
    "  ### 簡単な予測精度\n",
    "  print(f'{idx}番目')\n",
    "  print('検証正解率：', sum(np.array( [ 0 if 0.5 <= prob else 1 for prob in predict_vy_prob.T[0] ] ) == y_valid) / y_valid.size)\n",
    "  print('評価正解率：', sum(np.array( [ 0 if 0.5 <= prob else 1 for prob in predict_y_prob.T[0] ] ) == y_test) / y_test.size)\n",
    "  print('='*144)\n"
   ]
  },
  {
   "cell_type": "code",
   "execution_count": 40,
   "metadata": {
    "colab": {
     "base_uri": "https://localhost:8080/"
    },
    "id": "IzVd13cysFz3",
    "outputId": "6c318dae-0f5e-47f7-fb04-f3f1fdfa6c2b"
   },
   "outputs": [
    {
     "name": "stdout",
     "output_type": "stream",
     "text": [
      "検証の正解率 0.900557880055788\n",
      "評価の正解率 0.898326359832636\n"
     ]
    }
   ],
   "source": [
    "result = get_proba2label_dict()\n",
    "\n",
    "print('検証の正解率', np.sum(result['predict_vy_labels'] == result['y_valid_true']) / result['y_valid_true'].size)\n",
    "print('評価の正解率', np.sum(result['predict_y_labels'] == result['y_test_true']) / result['y_test_true'].size)"
   ]
  },
  {
   "cell_type": "markdown",
   "metadata": {
    "id": "fP09bdPJsetx"
   },
   "source": [
    "### XGBoost"
   ]
  },
  {
   "cell_type": "code",
   "execution_count": 41,
   "metadata": {
    "colab": {
     "base_uri": "https://localhost:8080/"
    },
    "id": "wH1KuSPlsaUH",
    "outputId": "b679cf50-b724-485d-d03e-d39baccf0fc8"
   },
   "outputs": [
    {
     "name": "stdout",
     "output_type": "stream",
     "text": [
      "0番目\n",
      "検証正解率： 0.8451882845188284\n",
      "評価正解率： 0.8619246861924686\n",
      "================================================================================================================================================\n",
      "1番目\n",
      "検証正解率： 0.9121338912133892\n",
      "評価正解率： 0.891213389121339\n",
      "================================================================================================================================================\n",
      "2番目\n",
      "検証正解率： 0.8326359832635983\n",
      "評価正解率： 0.7824267782426778\n",
      "================================================================================================================================================\n",
      "3番目\n",
      "検証正解率： 0.7112970711297071\n",
      "評価正解率： 0.7866108786610879\n",
      "================================================================================================================================================\n",
      "4番目\n",
      "検証正解率： 0.99581589958159\n",
      "評価正解率： 0.9916317991631799\n",
      "================================================================================================================================================\n",
      "5番目\n",
      "検証正解率： 0.9246861924686193\n",
      "評価正解率： 0.9497907949790795\n",
      "================================================================================================================================================\n",
      "6番目\n",
      "検証正解率： 0.8661087866108786\n",
      "評価正解率： 0.9246861924686193\n",
      "================================================================================================================================================\n",
      "7番目\n",
      "検証正解率： 0.9121338912133892\n",
      "評価正解率： 0.9414225941422594\n",
      "================================================================================================================================================\n",
      "8番目\n",
      "検証正解率： 0.9790794979079498\n",
      "評価正解率： 0.9832635983263598\n",
      "================================================================================================================================================\n",
      "9番目\n",
      "検証正解率： 0.9916317991631799\n",
      "評価正解率： 0.99581589958159\n",
      "================================================================================================================================================\n",
      "10番目\n",
      "検証正解率： 0.9372384937238494\n",
      "評価正解率： 0.9205020920502092\n",
      "================================================================================================================================================\n",
      "11番目\n",
      "検証正解率： 0.9372384937238494\n",
      "評価正解率： 0.9372384937238494\n",
      "================================================================================================================================================\n",
      "12番目\n",
      "検証正解率： 0.9874476987447699\n",
      "評価正解率： 0.9916317991631799\n",
      "================================================================================================================================================\n",
      "13番目\n",
      "検証正解率： 0.99581589958159\n",
      "評価正解率： 1.0\n",
      "================================================================================================================================================\n",
      "14番目\n",
      "検証正解率： 1.0\n",
      "評価正解率： 0.99581589958159\n",
      "================================================================================================================================================\n",
      "15番目\n",
      "検証正解率： 0.9790794979079498\n",
      "評価正解率： 0.9414225941422594\n",
      "================================================================================================================================================\n",
      "16番目\n",
      "検証正解率： 0.9205020920502092\n",
      "評価正解率： 0.9456066945606695\n",
      "================================================================================================================================================\n",
      "17番目\n",
      "検証正解率： 0.9246861924686193\n",
      "評価正解率： 0.9163179916317992\n",
      "================================================================================================================================================\n",
      "18番目\n",
      "検証正解率： 0.9916317991631799\n",
      "評価正解率： 0.9748953974895398\n",
      "================================================================================================================================================\n",
      "19番目\n",
      "検証正解率： 0.9497907949790795\n",
      "評価正解率： 0.9790794979079498\n",
      "================================================================================================================================================\n",
      "20番目\n",
      "検証正解率： 0.9790794979079498\n",
      "評価正解率： 0.9874476987447699\n",
      "================================================================================================================================================\n",
      "21番目\n",
      "検証正解率： 0.9748953974895398\n",
      "評価正解率： 0.9832635983263598\n",
      "================================================================================================================================================\n",
      "22番目\n",
      "検証正解率： 0.99581589958159\n",
      "評価正解率： 0.9874476987447699\n",
      "================================================================================================================================================\n",
      "23番目\n",
      "検証正解率： 0.9665271966527197\n",
      "評価正解率： 0.9497907949790795\n",
      "================================================================================================================================================\n",
      "24番目\n",
      "検証正解率： 1.0\n",
      "評価正解率： 0.99581589958159\n",
      "================================================================================================================================================\n",
      "25番目\n",
      "検証正解率： 0.99581589958159\n",
      "評価正解率： 1.0\n",
      "================================================================================================================================================\n",
      "26番目\n",
      "検証正解率： 0.9539748953974896\n",
      "評価正解率： 0.9623430962343096\n",
      "================================================================================================================================================\n",
      "27番目\n",
      "検証正解率： 1.0\n",
      "評価正解率： 1.0\n",
      "================================================================================================================================================\n",
      "28番目\n",
      "検証正解率： 0.9916317991631799\n",
      "評価正解率： 0.9874476987447699\n",
      "================================================================================================================================================\n",
      "29番目\n",
      "検証正解率： 0.9539748953974896\n",
      "評価正解率： 0.9832635983263598\n",
      "================================================================================================================================================\n"
     ]
    }
   ],
   "source": [
    "from xgboost import XGBClassifier\n",
    "\n",
    "## モデル定義と学習をY_list分実行\n",
    "predict_vy_prob_list = []\n",
    "predict_y_prob_list = []\n",
    "y_valid_list = []\n",
    "y_test_list = []\n",
    "for idx, Y_i in enumerate(Y_list):\n",
    "  ### 説明変数（Y_i）を学習、検証、評価に分割\n",
    "  ## 説明変数を分割\n",
    "  y_train, y_valid_test = train_test_split(Y_i, train_size=0.8, random_state=144)\n",
    "  y_valid, y_test = train_test_split(y_valid_test, train_size=0.5, random_state=144)\n",
    "  y_valid_list.append(y_valid)\n",
    "  y_test_list.append(y_test)\n",
    "  ### モデル定義\n",
    "  clf = XGBClassifier(random_state=144)\n",
    "  ### 学習\n",
    "  clf.fit(X_train, y_train)\n",
    "  ### 予測\n",
    "  predict_vy_prob = clf.predict_proba(X_valid)\n",
    "  predict_y_prob = clf.predict_proba(X_test)\n",
    "  ### 予測確率をリストに追加\n",
    "  predict_vy_prob_list.append(predict_vy_prob)\n",
    "  predict_y_prob_list.append(predict_y_prob)\n",
    "  ### 簡単な予測精度\n",
    "  print(f'{idx}番目')\n",
    "  print('検証正解率：', sum(np.array( [ 0 if 0.5 <= prob else 1 for prob in predict_vy_prob.T[0] ] ) == y_valid) / y_valid.size)\n",
    "  print('評価正解率：', sum(np.array( [ 0 if 0.5 <= prob else 1 for prob in predict_y_prob.T[0] ] ) == y_test) / y_test.size)\n",
    "  print('='*144)\n"
   ]
  },
  {
   "cell_type": "code",
   "execution_count": 42,
   "metadata": {
    "colab": {
     "base_uri": "https://localhost:8080/"
    },
    "id": "1UC2SbC8tFZ_",
    "outputId": "4026a779-0084-438f-da37-8477890d7b77"
   },
   "outputs": [
    {
     "name": "stdout",
     "output_type": "stream",
     "text": [
      "検証の正解率 0.9347280334728033\n",
      "評価の正解率 0.9405857740585774\n"
     ]
    }
   ],
   "source": [
    "result = get_proba2label_dict()\n",
    "\n",
    "print('検証の正解率', np.sum(result['predict_vy_labels'] == result['y_valid_true']) / result['y_valid_true'].size)\n",
    "print('評価の正解率', np.sum(result['predict_y_labels'] == result['y_test_true']) / result['y_test_true'].size)"
   ]
  },
  {
   "cell_type": "markdown",
   "metadata": {
    "id": "N7hY7EcatndQ"
   },
   "source": [
    "### ロジスティック回帰"
   ]
  },
  {
   "cell_type": "code",
   "execution_count": 43,
   "metadata": {
    "colab": {
     "base_uri": "https://localhost:8080/"
    },
    "id": "wdEcc1HqthUe",
    "outputId": "9af24353-dae7-4573-eeb7-df9d4d4161ff"
   },
   "outputs": [
    {
     "name": "stdout",
     "output_type": "stream",
     "text": [
      "0番目\n",
      "検証正解率： 0.8451882845188284\n",
      "評価正解率： 0.8451882845188284\n",
      "================================================================================================================================================\n",
      "1番目\n",
      "検証正解率： 0.9037656903765691\n",
      "評価正解率： 0.8828451882845189\n",
      "================================================================================================================================================\n",
      "2番目\n",
      "検証正解率： 0.8451882845188284\n",
      "評価正解率： 0.7866108786610879\n",
      "================================================================================================================================================\n",
      "3番目\n",
      "検証正解率： 0.7489539748953975\n",
      "評価正解率： 0.7907949790794979\n",
      "================================================================================================================================================\n",
      "4番目\n",
      "検証正解率： 0.99581589958159\n",
      "評価正解率： 0.9916317991631799\n",
      "================================================================================================================================================\n",
      "5番目\n",
      "検証正解率： 0.9414225941422594\n",
      "評価正解率： 0.9456066945606695\n",
      "================================================================================================================================================\n",
      "6番目\n",
      "検証正解率： 0.8577405857740585\n",
      "評価正解率： 0.9037656903765691\n",
      "================================================================================================================================================\n",
      "7番目\n",
      "検証正解率： 0.9163179916317992\n",
      "評価正解率： 0.9330543933054394\n",
      "================================================================================================================================================\n",
      "8番目\n",
      "検証正解率： 0.9707112970711297\n",
      "評価正解率： 0.9832635983263598\n",
      "================================================================================================================================================\n",
      "9番目\n",
      "検証正解率： 0.9916317991631799\n",
      "評価正解率： 0.9916317991631799\n",
      "================================================================================================================================================\n",
      "10番目\n",
      "検証正解率： 0.9288702928870293\n",
      "評価正解率： 0.9163179916317992\n",
      "================================================================================================================================================\n",
      "11番目\n",
      "検証正解率： 0.9372384937238494\n",
      "評価正解率： 0.9372384937238494\n",
      "================================================================================================================================================\n",
      "12番目\n",
      "検証正解率： 0.9832635983263598\n",
      "評価正解率： 0.9916317991631799\n",
      "================================================================================================================================================\n",
      "13番目\n",
      "検証正解率： 0.99581589958159\n",
      "評価正解率： 1.0\n",
      "================================================================================================================================================\n",
      "14番目\n",
      "検証正解率： 1.0\n",
      "評価正解率： 0.99581589958159\n",
      "================================================================================================================================================\n",
      "15番目\n",
      "検証正解率： 0.9790794979079498\n",
      "評価正解率： 0.9414225941422594\n",
      "================================================================================================================================================\n",
      "16番目\n",
      "検証正解率： 0.9246861924686193\n",
      "評価正解率： 0.9372384937238494\n",
      "================================================================================================================================================\n",
      "17番目\n",
      "検証正解率： 0.9246861924686193\n",
      "評価正解率： 0.9330543933054394\n",
      "================================================================================================================================================\n",
      "18番目\n",
      "検証正解率： 0.9916317991631799\n",
      "評価正解率： 0.9748953974895398\n",
      "================================================================================================================================================\n",
      "19番目\n",
      "検証正解率： 0.9497907949790795\n",
      "評価正解率： 0.9790794979079498\n",
      "================================================================================================================================================\n",
      "20番目\n",
      "検証正解率： 0.9790794979079498\n",
      "評価正解率： 0.9874476987447699\n",
      "================================================================================================================================================\n",
      "21番目\n",
      "検証正解率： 0.9748953974895398\n",
      "評価正解率： 0.9832635983263598\n",
      "================================================================================================================================================\n",
      "22番目\n",
      "検証正解率： 0.9916317991631799\n",
      "評価正解率： 0.9832635983263598\n",
      "================================================================================================================================================\n",
      "23番目\n",
      "検証正解率： 0.9539748953974896\n",
      "評価正解率： 0.9497907949790795\n",
      "================================================================================================================================================\n",
      "24番目\n",
      "検証正解率： 1.0\n",
      "評価正解率： 0.99581589958159\n",
      "================================================================================================================================================\n",
      "25番目\n",
      "検証正解率： 0.99581589958159\n",
      "評価正解率： 1.0\n",
      "================================================================================================================================================\n",
      "26番目\n",
      "検証正解率： 0.9539748953974896\n",
      "評価正解率： 0.9665271966527197\n",
      "================================================================================================================================================\n",
      "27番目\n",
      "検証正解率： 1.0\n",
      "評価正解率： 1.0\n",
      "================================================================================================================================================\n",
      "28番目\n",
      "検証正解率： 0.9916317991631799\n",
      "評価正解率： 0.9874476987447699\n",
      "================================================================================================================================================\n",
      "29番目\n",
      "検証正解率： 0.9581589958158996\n",
      "評価正解率： 0.9832635983263598\n",
      "================================================================================================================================================\n"
     ]
    }
   ],
   "source": [
    "from sklearn.linear_model import LogisticRegression\n",
    "\n",
    "## 前準備\n",
    "mm = preprocessing.MinMaxScaler()\n",
    "try:\n",
    "  X_train_mm = mm.fit_transform(X_train)\n",
    "except:\n",
    "  X_train_mm = X_train\n",
    "try:\n",
    "  X_valid_mm = mm.transform(X_valid)\n",
    "except:\n",
    "  X_valid_mm = X_valid\n",
    "try:\n",
    "  X_test_mm = mm.transform(X_test)\n",
    "except:\n",
    "  X_test_mm = X_test\n",
    "## モデル定義と学習をY_list分実行\n",
    "predict_vy_prob_list = []\n",
    "predict_y_prob_list = []\n",
    "y_valid_list = []\n",
    "y_test_list = []\n",
    "for idx, Y_i in enumerate(Y_list):\n",
    "  ### 説明変数（Y_i）を学習、検証、評価に分割\n",
    "  ## 説明変数を分割\n",
    "  y_train, y_valid_test = train_test_split(Y_i, train_size=0.8, random_state=144)\n",
    "  y_valid, y_test = train_test_split(y_valid_test, train_size=0.5, random_state=144)\n",
    "  y_valid_list.append(y_valid)\n",
    "  y_test_list.append(y_test)\n",
    "  ### モデル定義\n",
    "  clf = LogisticRegression(random_state=144, max_iter=144000)\n",
    "  ### 学習\n",
    "  clf.fit(X_train_mm, y_train)\n",
    "  ### 予測\n",
    "  predict_vy_prob = clf.predict_proba(X_valid_mm)\n",
    "  predict_y_prob = clf.predict_proba(X_test_mm)\n",
    "  ### 予測確率をリストに追加\n",
    "  predict_vy_prob_list.append(predict_vy_prob)\n",
    "  predict_y_prob_list.append(predict_y_prob)\n",
    "  ### 簡単な予測精度\n",
    "  print(f'{idx}番目')\n",
    "  print('検証正解率：', sum(np.array( [ 0 if 0.5 <= prob else 1 for prob in predict_vy_prob.T[0] ] ) == y_valid) / y_valid.size)\n",
    "  print('評価正解率：', sum(np.array( [ 0 if 0.5 <= prob else 1 for prob in predict_y_prob.T[0] ] ) == y_test) / y_test.size)\n",
    "  print('='*144)\n"
   ]
  },
  {
   "cell_type": "code",
   "execution_count": 44,
   "metadata": {
    "colab": {
     "base_uri": "https://localhost:8080/"
    },
    "id": "_SeEk71gty3D",
    "outputId": "b74ca8f4-af9a-4742-9b7c-86a4e37a2f03"
   },
   "outputs": [
    {
     "name": "stdout",
     "output_type": "stream",
     "text": [
      "検証の正解率 0.9344490934449093\n",
      "評価の正解率 0.9415620641562065\n"
     ]
    }
   ],
   "source": [
    "result = get_proba2label_dict()\n",
    "\n",
    "print('検証の正解率', np.sum(result['predict_vy_labels'] == result['y_valid_true']) / result['y_valid_true'].size)\n",
    "print('評価の正解率', np.sum(result['predict_y_labels'] == result['y_test_true']) / result['y_test_true'].size)"
   ]
  },
  {
   "cell_type": "markdown",
   "metadata": {
    "id": "L8dsJYKkuWl2"
   },
   "source": [
    "### LSTM"
   ]
  },
  {
   "cell_type": "code",
   "execution_count": 45,
   "metadata": {
    "id": "5psqhVp_uG4F"
   },
   "outputs": [],
   "source": [
    "import torch\n",
    "import torch.nn as nn\n",
    "\n",
    "# nn.Moduleを継承して新しいクラスを作成\n",
    "class LSTMClassifier(nn.Module):\n",
    "  # モデルで使う各ネットワークをコンストラクタで定義\n",
    "  def __init__(self, embedding_dim, hidden_dim, vocab_size, tagset_size):\n",
    "    # 親クラスのコンストラクタ\n",
    "    super(LSTMClassifier, self).__init__()\n",
    "    # 隠れ層の次元数\n",
    "    self.hidden_dim = hidden_dim\n",
    "    # インプットの単語をベクトル化\n",
    "    self.word_embeddings = nn.Embedding(vocab_size, embedding_dim)\n",
    "    # LSTMの隠れ層\n",
    "    self.lstm = nn.LSTM(embedding_dim, hidden_dim)\n",
    "    # LSTMの出力を受け取って全結合してsoftmaxに食わせるための１層のネットワーク\n",
    "    self.hidden2tag = nn.Linear(hidden_dim, tagset_size)\n",
    "    # softmaxのLog版、dim=0で列、dim=1で行方向を確率変換\n",
    "    self.softmax = nn.LogSoftmax(dim=1)\n",
    "\n",
    "  # 順伝播処理\n",
    "  def forward(self, sentence):\n",
    "    # 文章内の各単語をベクトル化して出力、2次元のtensor\n",
    "    embeds = self.word_embeddings(sentence)\n",
    "    # 2次元tensorをLSTMに食わせられる様にviewで３次元tensorにした上でLSTMへ\n",
    "    # 上記で説明した様にmany to oneのタスクを解きたいので、第二戻り値だけ使用\n",
    "    _, lstm_out = self.lstm(embeds.view(len(sentence), 1, -1))\n",
    "    # lstm_out[0]は３次元tensorになってしまっているので2次元に調整して全結合\n",
    "    tag_space = self.hidden2tag(lstm_out[0].view(-1, self.hidden_dim))\n",
    "    # softmaxに食わせて、確率として表現\n",
    "    tag_scores = self.softmax(tag_space)\n",
    "    return tag_scores"
   ]
  },
  {
   "cell_type": "code",
   "execution_count": null,
   "metadata": {
    "colab": {
     "base_uri": "https://localhost:8080/"
    },
    "id": "RBdK4fFrugV1",
    "outputId": "0ebc1c16-868f-4fda-d37e-550a182fa1f3"
   },
   "outputs": [
    {
     "name": "stdout",
     "output_type": "stream",
     "text": [
      "epoch 0 \t loss 4696.8838012218475\n",
      "epoch 1 \t loss 4034.5350971221924\n",
      "epoch 2 \t loss 3926.8520582020283\n",
      "epoch 3 \t loss 3826.5700471550226\n",
      "epoch 4 \t loss 3716.477127581835\n",
      "epoch 5 \t loss 3587.20763322711\n",
      "epoch 6 \t loss 3428.9578347057104\n",
      "epoch 7 \t loss 3231.716862127185\n",
      "epoch 8 \t loss 2983.3618524689227\n",
      "epoch 9 \t loss 2667.8201960790902\n",
      "epoch 10 \t loss 2273.473399356706\n",
      "epoch 11 \t loss 1820.4224072113575\n",
      "epoch 12 \t loss 1372.0512883919\n",
      "epoch 13 \t loss 951.064349785509\n",
      "epoch 14 \t loss 826.6562333784295\n",
      "epoch 15 \t loss 538.3017630319787\n",
      "epoch 16 \t loss 344.31743014522795\n",
      "epoch 17 \t loss 235.82511616436727\n",
      "epoch 18 \t loss 170.79286409487477\n",
      "epoch 19 \t loss 129.3067372402542\n",
      "epoch 20 \t loss 101.14116161108325\n",
      "epoch 21 \t loss 81.38928679925456\n",
      "epoch 22 \t loss 66.65068830837701\n",
      "epoch 23 \t loss 55.311043395331765\n",
      "epoch 24 \t loss 46.41826237620042\n",
      "epoch 25 \t loss 39.30905233482941\n",
      "epoch 26 \t loss 33.58421373068219\n",
      "epoch 27 \t loss 28.945562731382623\n",
      "epoch 28 \t loss 25.168818506120907\n",
      "epoch 29 \t loss 22.136366644489186\n",
      "epoch 30 \t loss 19.58414823156977\n",
      "epoch 31 \t loss 17.369572338578998\n",
      "epoch 32 \t loss 15.543238072004996\n",
      "epoch 33 \t loss 14.038280474788884\n",
      "epoch 34 \t loss 12.769751790961848\n",
      "epoch 35 \t loss 11.718949459598619\n",
      "epoch 36 \t loss 10.760940697372511\n",
      "epoch 37 \t loss 9.885954133023198\n",
      "epoch 38 \t loss 9.15958710723018\n",
      "epoch 39 \t loss 8.527563996713646\n",
      "epoch 40 \t loss 7.97165607534518\n",
      "epoch 41 \t loss 7.47681314430352\n",
      "epoch 42 \t loss 7.035471967743703\n",
      "epoch 43 \t loss 6.638071697914235\n",
      "epoch 44 \t loss 6.281209188806578\n",
      "epoch 45 \t loss 5.95606243087353\n",
      "epoch 46 \t loss 5.663213932266203\n",
      "epoch 47 \t loss 5.391529170609495\n",
      "epoch 48 \t loss 5.146371459997326\n",
      "epoch 49 \t loss 4.917658341581799\n",
      "epoch 50 \t loss 4.709915807228825\n",
      "epoch 51 \t loss 4.51491130774555\n",
      "epoch 52 \t loss 4.336937361014961\n",
      "epoch 53 \t loss 4.168795269722963\n",
      "epoch 54 \t loss 4.01476152893575\n",
      "epoch 55 \t loss 3.8685327169323926\n",
      "epoch 56 \t loss 3.734076088010582\n",
      "epoch 57 \t loss 3.605760984621533\n",
      "epoch 58 \t loss 3.487458877745169\n",
      "epoch 59 \t loss 3.374115950328374\n",
      "epoch 60 \t loss 3.269300545496556\n",
      "epoch 61 \t loss 3.1684854051323725\n",
      "epoch 62 \t loss 3.0750268657147544\n",
      "epoch 63 \t loss 2.984839334320732\n",
      "epoch 64 \t loss 2.901035330186346\n",
      "epoch 65 \t loss 2.819923330542366\n"
     ]
    }
   ],
   "source": [
    "import torch.optim as optim\n",
    "\n",
    "# 単語ID辞書を作成する\n",
    "word2index = {}\n",
    "for body in data['OVERVIEW']:\n",
    "  wakati = tokenize(body)\n",
    "  for word in wakati:\n",
    "    if word in word2index: continue\n",
    "    word2index[word] = len(word2index)\n",
    "\n",
    "# trainとtestに分割\n",
    "traindata, testdata = train_test_split(data, train_size=0.8)\n",
    "# 単語のベクトル次元数\n",
    "EMBEDDING_DIM = 100\n",
    "# 隠れ層の次元数\n",
    "HIDDEN_DIM = 128\n",
    "# データ全体の単語数\n",
    "VOCAB_SIZE = len(word2index)\n",
    "# 分類先のカテゴリの数\n",
    "TAG_SIZE = len(genre2id)\n",
    "# モデル宣言\n",
    "model = LSTMClassifier(EMBEDDING_DIM, HIDDEN_DIM, VOCAB_SIZE, TAG_SIZE)\n",
    "# 損失関数はNLLLoss()を使用、LogSoftmaxを使う際に使用\n",
    "loss_function = nn.NLLLoss()\n",
    "# 最適化の手法はSGD、lossの減りに時間かかるが一旦はこれを使う\n",
    "optimizer = optim.SGD(model.parameters(), lr=0.01)\n",
    "\n",
    "# 文章を単語IDの系列データに変換\n",
    "# PyTorchのLSTMのインプットになるデータなので、もちろんtensor型で\n",
    "def sentence2index(sentence):\n",
    "  wakati = tokenize(sentence)\n",
    "  return torch.tensor([word2index.get(w, 0) for w in wakati], dtype=torch.long)\n",
    "\n",
    "# 各エポックの合計loss値を格納する\n",
    "losses = []\n",
    "# 100ループ回してみる。（バッチ化とかGPU使ってないので結構時間かかる...）\n",
    "for epoch in range(100):\n",
    "    all_loss = 0\n",
    "    for overview, genre in zip(traindata['OVERVIEW'], traindata['GENRE_ID1']):\n",
    "        # モデルが持ってる勾配の情報をリセット\n",
    "        model.zero_grad()\n",
    "        # 文章を単語IDの系列に変換（modelに食わせられる形に変換）\n",
    "        inputs = sentence2index(overview)\n",
    "        # 順伝播の結果を受け取る\n",
    "        out = model(inputs)\n",
    "        # 正解カテゴリをテンソル化\n",
    "        #answer = category2tensor(cat)\n",
    "        answer = torch.tensor([ genre ], dtype=torch.long)\n",
    "        # 正解とのlossを計算\n",
    "        loss = loss_function(out, answer)\n",
    "        # 勾配をセット\n",
    "        loss.backward()\n",
    "        # 逆伝播でパラメータ更新\n",
    "        optimizer.step()\n",
    "        # lossを集計\n",
    "        all_loss += loss.item()\n",
    "    losses.append(all_loss)\n",
    "    print('epoch', epoch, '\\t' , 'loss', all_loss)\n",
    "print('done.')"
   ]
  },
  {
   "cell_type": "code",
   "execution_count": null,
   "metadata": {
    "id": "usytKytq7IsI"
   },
   "outputs": [],
   "source": [
    "plt.plot(losses)"
   ]
  },
  {
   "cell_type": "code",
   "execution_count": null,
   "metadata": {
    "id": "9fON3W4dQRO7"
   },
   "outputs": [],
   "source": [
    "# テストデータの母数計算\n",
    "test_num = len(testdata)\n",
    "# 正解の件数\n",
    "a = 0\n",
    "# 勾配自動計算OFF\n",
    "with torch.no_grad():\n",
    "    for overview, genre in zip(testdata['OVERVIEW'], testdata['GENRE_ID1']):\n",
    "        # テストデータの予測\n",
    "        inputs = sentence2index(overview)\n",
    "        out = model(inputs)\n",
    "\n",
    "        # outの一番大きい要素を予測結果をする\n",
    "        _, predict = torch.max(out, 1)\n",
    "\n",
    "        answer = torch.tensor([ genre ], dtype=torch.long)\n",
    "        if predict == answer:\n",
    "            a += 1\n",
    "print(\"predict : \", a / test_num)"
   ]
  },
  {
   "cell_type": "code",
   "execution_count": null,
   "metadata": {
    "id": "MRTL4ohnQlVP"
   },
   "outputs": [],
   "source": [
    "X_train.view(len(X_train), 2, -1).shape"
   ]
  },
  {
   "cell_type": "code",
   "execution_count": null,
   "metadata": {
    "id": "RyazAezuRuIZ"
   },
   "outputs": [],
   "source": []
  }
 ],
 "metadata": {
  "colab": {
   "collapsed_sections": [],
   "name": "filmarks_multi-label_classification.ipynb",
   "provenance": [],
   "toc_visible": true
  },
  "kernelspec": {
   "display_name": "Python 3 (ipykernel)",
   "language": "python",
   "name": "python3"
  },
  "language_info": {
   "codemirror_mode": {
    "name": "ipython",
    "version": 3
   },
   "file_extension": ".py",
   "mimetype": "text/x-python",
   "name": "python",
   "nbconvert_exporter": "python",
   "pygments_lexer": "ipython3",
   "version": "3.9.5"
  }
 },
 "nbformat": 4,
 "nbformat_minor": 1
}
