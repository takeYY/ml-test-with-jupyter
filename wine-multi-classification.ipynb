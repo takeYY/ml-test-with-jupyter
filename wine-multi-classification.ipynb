{
 "cells": [
  {
   "cell_type": "code",
   "execution_count": null,
   "id": "fce4b780",
   "metadata": {
    "scrolled": true
   },
   "outputs": [],
   "source": [
    "!pip install keras\n",
    "!pip install tensorflow"
   ]
  },
  {
   "cell_type": "code",
   "execution_count": 2,
   "id": "7a7b8bce",
   "metadata": {},
   "outputs": [
    {
     "data": {
      "text/html": [
       "<div>\n",
       "<style scoped>\n",
       "    .dataframe tbody tr th:only-of-type {\n",
       "        vertical-align: middle;\n",
       "    }\n",
       "\n",
       "    .dataframe tbody tr th {\n",
       "        vertical-align: top;\n",
       "    }\n",
       "\n",
       "    .dataframe thead th {\n",
       "        text-align: right;\n",
       "    }\n",
       "</style>\n",
       "<table border=\"1\" class=\"dataframe\">\n",
       "  <thead>\n",
       "    <tr style=\"text-align: right;\">\n",
       "      <th></th>\n",
       "      <th>alcohol</th>\n",
       "      <th>malic_acid</th>\n",
       "      <th>ash</th>\n",
       "      <th>alcalinity_of_ash</th>\n",
       "      <th>magnesium</th>\n",
       "      <th>total_phenols</th>\n",
       "      <th>flavanoids</th>\n",
       "      <th>nonflavanoid_phenols</th>\n",
       "      <th>proanthocyanins</th>\n",
       "      <th>color_intensity</th>\n",
       "      <th>hue</th>\n",
       "      <th>od280/od315_of_diluted_wines</th>\n",
       "      <th>proline</th>\n",
       "      <th>target</th>\n",
       "    </tr>\n",
       "  </thead>\n",
       "  <tbody>\n",
       "    <tr>\n",
       "      <th>0</th>\n",
       "      <td>14.23</td>\n",
       "      <td>1.71</td>\n",
       "      <td>2.43</td>\n",
       "      <td>15.6</td>\n",
       "      <td>127.0</td>\n",
       "      <td>2.80</td>\n",
       "      <td>3.06</td>\n",
       "      <td>0.28</td>\n",
       "      <td>2.29</td>\n",
       "      <td>5.64</td>\n",
       "      <td>1.04</td>\n",
       "      <td>3.92</td>\n",
       "      <td>1065.0</td>\n",
       "      <td>0</td>\n",
       "    </tr>\n",
       "    <tr>\n",
       "      <th>20</th>\n",
       "      <td>14.06</td>\n",
       "      <td>1.63</td>\n",
       "      <td>2.28</td>\n",
       "      <td>16.0</td>\n",
       "      <td>126.0</td>\n",
       "      <td>3.00</td>\n",
       "      <td>3.17</td>\n",
       "      <td>0.24</td>\n",
       "      <td>2.10</td>\n",
       "      <td>5.65</td>\n",
       "      <td>1.09</td>\n",
       "      <td>3.71</td>\n",
       "      <td>780.0</td>\n",
       "      <td>0</td>\n",
       "    </tr>\n",
       "    <tr>\n",
       "      <th>40</th>\n",
       "      <td>13.56</td>\n",
       "      <td>1.71</td>\n",
       "      <td>2.31</td>\n",
       "      <td>16.2</td>\n",
       "      <td>117.0</td>\n",
       "      <td>3.15</td>\n",
       "      <td>3.29</td>\n",
       "      <td>0.34</td>\n",
       "      <td>2.34</td>\n",
       "      <td>6.13</td>\n",
       "      <td>0.95</td>\n",
       "      <td>3.38</td>\n",
       "      <td>795.0</td>\n",
       "      <td>0</td>\n",
       "    </tr>\n",
       "    <tr>\n",
       "      <th>60</th>\n",
       "      <td>12.33</td>\n",
       "      <td>1.10</td>\n",
       "      <td>2.28</td>\n",
       "      <td>16.0</td>\n",
       "      <td>101.0</td>\n",
       "      <td>2.05</td>\n",
       "      <td>1.09</td>\n",
       "      <td>0.63</td>\n",
       "      <td>0.41</td>\n",
       "      <td>3.27</td>\n",
       "      <td>1.25</td>\n",
       "      <td>1.67</td>\n",
       "      <td>680.0</td>\n",
       "      <td>1</td>\n",
       "    </tr>\n",
       "    <tr>\n",
       "      <th>80</th>\n",
       "      <td>12.00</td>\n",
       "      <td>0.92</td>\n",
       "      <td>2.00</td>\n",
       "      <td>19.0</td>\n",
       "      <td>86.0</td>\n",
       "      <td>2.42</td>\n",
       "      <td>2.26</td>\n",
       "      <td>0.30</td>\n",
       "      <td>1.43</td>\n",
       "      <td>2.50</td>\n",
       "      <td>1.38</td>\n",
       "      <td>3.12</td>\n",
       "      <td>278.0</td>\n",
       "      <td>1</td>\n",
       "    </tr>\n",
       "    <tr>\n",
       "      <th>100</th>\n",
       "      <td>12.08</td>\n",
       "      <td>2.08</td>\n",
       "      <td>1.70</td>\n",
       "      <td>17.5</td>\n",
       "      <td>97.0</td>\n",
       "      <td>2.23</td>\n",
       "      <td>2.17</td>\n",
       "      <td>0.26</td>\n",
       "      <td>1.40</td>\n",
       "      <td>3.30</td>\n",
       "      <td>1.27</td>\n",
       "      <td>2.96</td>\n",
       "      <td>710.0</td>\n",
       "      <td>1</td>\n",
       "    </tr>\n",
       "    <tr>\n",
       "      <th>120</th>\n",
       "      <td>11.45</td>\n",
       "      <td>2.40</td>\n",
       "      <td>2.42</td>\n",
       "      <td>20.0</td>\n",
       "      <td>96.0</td>\n",
       "      <td>2.90</td>\n",
       "      <td>2.79</td>\n",
       "      <td>0.32</td>\n",
       "      <td>1.83</td>\n",
       "      <td>3.25</td>\n",
       "      <td>0.80</td>\n",
       "      <td>3.39</td>\n",
       "      <td>625.0</td>\n",
       "      <td>1</td>\n",
       "    </tr>\n",
       "    <tr>\n",
       "      <th>140</th>\n",
       "      <td>12.93</td>\n",
       "      <td>2.81</td>\n",
       "      <td>2.70</td>\n",
       "      <td>21.0</td>\n",
       "      <td>96.0</td>\n",
       "      <td>1.54</td>\n",
       "      <td>0.50</td>\n",
       "      <td>0.53</td>\n",
       "      <td>0.75</td>\n",
       "      <td>4.60</td>\n",
       "      <td>0.77</td>\n",
       "      <td>2.31</td>\n",
       "      <td>600.0</td>\n",
       "      <td>2</td>\n",
       "    </tr>\n",
       "    <tr>\n",
       "      <th>160</th>\n",
       "      <td>12.36</td>\n",
       "      <td>3.83</td>\n",
       "      <td>2.38</td>\n",
       "      <td>21.0</td>\n",
       "      <td>88.0</td>\n",
       "      <td>2.30</td>\n",
       "      <td>0.92</td>\n",
       "      <td>0.50</td>\n",
       "      <td>1.04</td>\n",
       "      <td>7.65</td>\n",
       "      <td>0.56</td>\n",
       "      <td>1.58</td>\n",
       "      <td>520.0</td>\n",
       "      <td>2</td>\n",
       "    </tr>\n",
       "  </tbody>\n",
       "</table>\n",
       "</div>"
      ],
      "text/plain": [
       "     alcohol  malic_acid   ash  alcalinity_of_ash  magnesium  total_phenols  \\\n",
       "0      14.23        1.71  2.43               15.6      127.0           2.80   \n",
       "20     14.06        1.63  2.28               16.0      126.0           3.00   \n",
       "40     13.56        1.71  2.31               16.2      117.0           3.15   \n",
       "60     12.33        1.10  2.28               16.0      101.0           2.05   \n",
       "80     12.00        0.92  2.00               19.0       86.0           2.42   \n",
       "100    12.08        2.08  1.70               17.5       97.0           2.23   \n",
       "120    11.45        2.40  2.42               20.0       96.0           2.90   \n",
       "140    12.93        2.81  2.70               21.0       96.0           1.54   \n",
       "160    12.36        3.83  2.38               21.0       88.0           2.30   \n",
       "\n",
       "     flavanoids  nonflavanoid_phenols  proanthocyanins  color_intensity   hue  \\\n",
       "0          3.06                  0.28             2.29             5.64  1.04   \n",
       "20         3.17                  0.24             2.10             5.65  1.09   \n",
       "40         3.29                  0.34             2.34             6.13  0.95   \n",
       "60         1.09                  0.63             0.41             3.27  1.25   \n",
       "80         2.26                  0.30             1.43             2.50  1.38   \n",
       "100        2.17                  0.26             1.40             3.30  1.27   \n",
       "120        2.79                  0.32             1.83             3.25  0.80   \n",
       "140        0.50                  0.53             0.75             4.60  0.77   \n",
       "160        0.92                  0.50             1.04             7.65  0.56   \n",
       "\n",
       "     od280/od315_of_diluted_wines  proline  target  \n",
       "0                            3.92   1065.0       0  \n",
       "20                           3.71    780.0       0  \n",
       "40                           3.38    795.0       0  \n",
       "60                           1.67    680.0       1  \n",
       "80                           3.12    278.0       1  \n",
       "100                          2.96    710.0       1  \n",
       "120                          3.39    625.0       1  \n",
       "140                          2.31    600.0       2  \n",
       "160                          1.58    520.0       2  "
      ]
     },
     "execution_count": 2,
     "metadata": {},
     "output_type": "execute_result"
    }
   ],
   "source": [
    "import pandas as pd\n",
    "import numpy as np\n",
    "from sklearn import datasets\n",
    "from keras.utils import np_utils\n",
    "\n",
    "wine = datasets.load_wine()\n",
    "\n",
    "df = pd.DataFrame(wine.data, columns=wine.feature_names)\n",
    "df['target'] = wine.target\n",
    "df[::20]"
   ]
  },
  {
   "cell_type": "code",
   "execution_count": 3,
   "id": "1f922197",
   "metadata": {},
   "outputs": [],
   "source": [
    "# 必要なデータを抽出\n",
    "X = df.drop(['target'], axis=1)\n",
    "Y = df['target']"
   ]
  },
  {
   "cell_type": "code",
   "execution_count": 4,
   "id": "418e37d5",
   "metadata": {},
   "outputs": [],
   "source": [
    "# dfをarrayに変換\n",
    "X_array = np.array(X)\n",
    "Y_array = np.array(Y)"
   ]
  },
  {
   "cell_type": "code",
   "execution_count": 5,
   "id": "ab424e2e",
   "metadata": {},
   "outputs": [],
   "source": [
    "# [0, 1, 2]を多クラスに分ける（0なら[1, 0, 0], 1なら[0, 1, 0], ...）\n",
    "Y_array = np_utils.to_categorical(Y_array)"
   ]
  },
  {
   "cell_type": "code",
   "execution_count": 6,
   "id": "ff0f8a11",
   "metadata": {},
   "outputs": [
    {
     "data": {
      "text/plain": [
       "array([[1., 0., 0.],\n",
       "       [1., 0., 0.],\n",
       "       [1., 0., 0.],\n",
       "       [0., 1., 0.],\n",
       "       [0., 1., 0.],\n",
       "       [0., 1., 0.],\n",
       "       [0., 1., 0.],\n",
       "       [0., 0., 1.],\n",
       "       [0., 0., 1.]], dtype=float32)"
      ]
     },
     "execution_count": 6,
     "metadata": {},
     "output_type": "execute_result"
    }
   ],
   "source": [
    "Y_array[::20]"
   ]
  },
  {
   "cell_type": "code",
   "execution_count": 7,
   "id": "01f0274f",
   "metadata": {},
   "outputs": [
    {
     "data": {
      "text/plain": [
       "(142, 36, 142, 36)"
      ]
     },
     "execution_count": 7,
     "metadata": {},
     "output_type": "execute_result"
    }
   ],
   "source": [
    "from sklearn.model_selection import train_test_split\n",
    "\n",
    "# 学習データと検証データに分ける\n",
    "train_x, test_x, train_y, test_y = train_test_split(X_array, Y_array, train_size=0.8, test_size=0.2, random_state=144)\n",
    "len(train_x), len(test_x), len(train_y), len(test_y) # サイズ表示"
   ]
  },
  {
   "cell_type": "markdown",
   "id": "ebc3051c",
   "metadata": {},
   "source": [
    "## Sequential Model"
   ]
  },
  {
   "cell_type": "code",
   "execution_count": 8,
   "id": "4ccb1738",
   "metadata": {},
   "outputs": [
    {
     "name": "stdout",
     "output_type": "stream",
     "text": [
      "Epoch 1/100\n",
      "15/15 [==============================] - 14s 2ms/step - loss: 14412.0906\n",
      "Epoch 2/100\n",
      "15/15 [==============================] - 0s 3ms/step - loss: 20321.6794\n",
      "Epoch 3/100\n",
      "15/15 [==============================] - 0s 3ms/step - loss: 29209.0529\n",
      "Epoch 4/100\n",
      "15/15 [==============================] - 0s 3ms/step - loss: 17791.1550\n",
      "Epoch 5/100\n",
      "15/15 [==============================] - 0s 2ms/step - loss: 13242.4053\n",
      "Epoch 6/100\n",
      "15/15 [==============================] - 0s 2ms/step - loss: 16024.6640\n",
      "Epoch 7/100\n",
      "15/15 [==============================] - 0s 2ms/step - loss: 22094.3163\n",
      "Epoch 8/100\n",
      "15/15 [==============================] - 0s 3ms/step - loss: 17506.9810\n",
      "Epoch 9/100\n",
      "15/15 [==============================] - 0s 3ms/step - loss: 13149.4514\n",
      "Epoch 10/100\n",
      "15/15 [==============================] - ETA: 0s - loss: 7678.39 - 0s 2ms/step - loss: 8751.7852\n",
      "Epoch 11/100\n",
      "15/15 [==============================] - 0s 2ms/step - loss: 12617.2024\n",
      "Epoch 12/100\n",
      "15/15 [==============================] - 0s 3ms/step - loss: 16094.3773\n",
      "Epoch 13/100\n",
      "15/15 [==============================] - 0s 3ms/step - loss: 12091.5018\n",
      "Epoch 14/100\n",
      "15/15 [==============================] - 0s 3ms/step - loss: 17576.2389\n",
      "Epoch 15/100\n",
      "15/15 [==============================] - 0s 3ms/step - loss: 8158.6444\n",
      "Epoch 16/100\n",
      "15/15 [==============================] - 0s 4ms/step - loss: 8556.3757\n",
      "Epoch 17/100\n",
      "15/15 [==============================] - 0s 2ms/step - loss: 8785.9178\n",
      "Epoch 18/100\n",
      "15/15 [==============================] - 0s 3ms/step - loss: 5437.7326\n",
      "Epoch 19/100\n",
      "15/15 [==============================] - 0s 2ms/step - loss: 13551.7219\n",
      "Epoch 20/100\n",
      "15/15 [==============================] - 0s 3ms/step - loss: 9118.9778\n",
      "Epoch 21/100\n",
      "15/15 [==============================] - 0s 2ms/step - loss: 7834.3004\n",
      "Epoch 22/100\n",
      "15/15 [==============================] - 0s 2ms/step - loss: 7539.5277\n",
      "Epoch 23/100\n",
      "15/15 [==============================] - 0s 3ms/step - loss: 6856.7755\n",
      "Epoch 24/100\n",
      "15/15 [==============================] - 0s 3ms/step - loss: 6109.5461\n",
      "Epoch 25/100\n",
      "15/15 [==============================] - 0s 3ms/step - loss: 7603.8039\n",
      "Epoch 26/100\n",
      "15/15 [==============================] - 0s 3ms/step - loss: 6458.5083\n",
      "Epoch 27/100\n",
      "15/15 [==============================] - 0s 3ms/step - loss: 23844.1276\n",
      "Epoch 28/100\n",
      "15/15 [==============================] - 0s 4ms/step - loss: 8269.4673\n",
      "Epoch 29/100\n",
      "15/15 [==============================] - 0s 3ms/step - loss: 11654.5753\n",
      "Epoch 30/100\n",
      "15/15 [==============================] - 0s 3ms/step - loss: 9769.3278\n",
      "Epoch 31/100\n",
      "15/15 [==============================] - 0s 3ms/step - loss: 8518.3769\n",
      "Epoch 32/100\n",
      "15/15 [==============================] - 0s 5ms/step - loss: 6764.4389\n",
      "Epoch 33/100\n",
      "15/15 [==============================] - 0s 3ms/step - loss: 7571.8555\n",
      "Epoch 34/100\n",
      "15/15 [==============================] - 0s 4ms/step - loss: 3448.0255\n",
      "Epoch 35/100\n",
      "15/15 [==============================] - 0s 3ms/step - loss: 5902.1919\n",
      "Epoch 36/100\n",
      "15/15 [==============================] - 0s 4ms/step - loss: 15503.5981\n",
      "Epoch 37/100\n",
      "15/15 [==============================] - 0s 3ms/step - loss: 11416.1300\n",
      "Epoch 38/100\n",
      "15/15 [==============================] - 0s 3ms/step - loss: 4493.3711\n",
      "Epoch 39/100\n",
      "15/15 [==============================] - 0s 2ms/step - loss: 12440.0595\n",
      "Epoch 40/100\n",
      "15/15 [==============================] - 0s 3ms/step - loss: 9480.0687\n",
      "Epoch 41/100\n",
      "15/15 [==============================] - 0s 2ms/step - loss: 6667.4405\n",
      "Epoch 42/100\n",
      "15/15 [==============================] - 0s 3ms/step - loss: 5555.8066\n",
      "Epoch 43/100\n",
      "15/15 [==============================] - 0s 3ms/step - loss: 12761.3988\n",
      "Epoch 44/100\n",
      "15/15 [==============================] - 0s 3ms/step - loss: 9968.7377\n",
      "Epoch 45/100\n",
      "15/15 [==============================] - 0s 3ms/step - loss: 8213.4949\n",
      "Epoch 46/100\n",
      "15/15 [==============================] - 0s 3ms/step - loss: 11227.2879\n",
      "Epoch 47/100\n",
      "15/15 [==============================] - 0s 2ms/step - loss: 7072.9666\n",
      "Epoch 48/100\n",
      "15/15 [==============================] - 0s 3ms/step - loss: 5770.1490\n",
      "Epoch 49/100\n",
      "15/15 [==============================] - 0s 2ms/step - loss: 5972.8534\n",
      "Epoch 50/100\n",
      "15/15 [==============================] - 0s 3ms/step - loss: 7347.1821\n",
      "Epoch 51/100\n",
      "15/15 [==============================] - 0s 2ms/step - loss: 6722.8348\n",
      "Epoch 52/100\n",
      "15/15 [==============================] - 0s 2ms/step - loss: 5117.0334\n",
      "Epoch 53/100\n",
      "15/15 [==============================] - 0s 3ms/step - loss: 6838.4466\n",
      "Epoch 54/100\n",
      "15/15 [==============================] - 0s 4ms/step - loss: 7699.3029\n",
      "Epoch 55/100\n",
      "15/15 [==============================] - 0s 3ms/step - loss: 9168.9474\n",
      "Epoch 56/100\n",
      "15/15 [==============================] - 0s 3ms/step - loss: 11299.9105\n",
      "Epoch 57/100\n",
      "15/15 [==============================] - 0s 3ms/step - loss: 18272.9764\n",
      "Epoch 58/100\n",
      "15/15 [==============================] - 0s 3ms/step - loss: 7916.8012\n",
      "Epoch 59/100\n",
      "15/15 [==============================] - 0s 2ms/step - loss: 4024.0475\n",
      "Epoch 60/100\n",
      "15/15 [==============================] - 0s 2ms/step - loss: 15103.0961\n",
      "Epoch 61/100\n",
      "15/15 [==============================] - 0s 2ms/step - loss: 4717.4700\n",
      "Epoch 62/100\n",
      "15/15 [==============================] - 0s 3ms/step - loss: 5391.2389\n",
      "Epoch 63/100\n",
      "15/15 [==============================] - 0s 2ms/step - loss: 8185.3072\n",
      "Epoch 64/100\n",
      "15/15 [==============================] - 0s 3ms/step - loss: 6395.5259\n",
      "Epoch 65/100\n",
      "15/15 [==============================] - 0s 3ms/step - loss: 4374.9679\n",
      "Epoch 66/100\n",
      "15/15 [==============================] - 0s 2ms/step - loss: 4767.5180\n",
      "Epoch 67/100\n",
      "15/15 [==============================] - 0s 2ms/step - loss: 13710.3531\n",
      "Epoch 68/100\n",
      "15/15 [==============================] - 0s 3ms/step - loss: 4323.3968\n",
      "Epoch 69/100\n",
      "15/15 [==============================] - 0s 3ms/step - loss: 11293.5318\n",
      "Epoch 70/100\n",
      "15/15 [==============================] - 0s 3ms/step - loss: 6474.3816\n",
      "Epoch 71/100\n",
      "15/15 [==============================] - 0s 2ms/step - loss: 4942.1598\n",
      "Epoch 72/100\n",
      "15/15 [==============================] - 0s 2ms/step - loss: 8001.8565\n",
      "Epoch 73/100\n",
      "15/15 [==============================] - 0s 3ms/step - loss: 5834.9755\n",
      "Epoch 74/100\n",
      "15/15 [==============================] - 0s 3ms/step - loss: 7612.8179\n",
      "Epoch 75/100\n",
      "15/15 [==============================] - 0s 2ms/step - loss: 6562.7030\n",
      "Epoch 76/100\n",
      "15/15 [==============================] - 0s 3ms/step - loss: 4262.4418\n",
      "Epoch 77/100\n",
      "15/15 [==============================] - 0s 3ms/step - loss: 9722.8785\n",
      "Epoch 78/100\n",
      "15/15 [==============================] - 0s 3ms/step - loss: 6921.6604\n",
      "Epoch 79/100\n",
      "15/15 [==============================] - 0s 3ms/step - loss: 15236.5248\n",
      "Epoch 80/100\n",
      "15/15 [==============================] - 0s 3ms/step - loss: 3659.7406\n",
      "Epoch 81/100\n",
      "15/15 [==============================] - 0s 4ms/step - loss: 10436.8183\n",
      "Epoch 82/100\n",
      "15/15 [==============================] - 0s 2ms/step - loss: 5271.6026\n",
      "Epoch 83/100\n",
      "15/15 [==============================] - 0s 2ms/step - loss: 2990.6992\n",
      "Epoch 84/100\n",
      "15/15 [==============================] - 0s 2ms/step - loss: 6660.9635\n",
      "Epoch 85/100\n",
      "15/15 [==============================] - 0s 3ms/step - loss: 9018.8823\n",
      "Epoch 86/100\n",
      "15/15 [==============================] - 0s 2ms/step - loss: 8940.7369\n",
      "Epoch 87/100\n",
      "15/15 [==============================] - 0s 2ms/step - loss: 2890.4694\n",
      "Epoch 88/100\n",
      "15/15 [==============================] - 0s 3ms/step - loss: 10366.7293\n",
      "Epoch 89/100\n",
      "15/15 [==============================] - 0s 2ms/step - loss: 5359.6181\n",
      "Epoch 90/100\n",
      "15/15 [==============================] - 0s 2ms/step - loss: 9238.2896\n",
      "Epoch 91/100\n",
      "15/15 [==============================] - 0s 3ms/step - loss: 4885.4145\n",
      "Epoch 92/100\n",
      "15/15 [==============================] - 0s 3ms/step - loss: 9028.4953\n",
      "Epoch 93/100\n",
      "15/15 [==============================] - 0s 3ms/step - loss: 3927.3749\n",
      "Epoch 94/100\n",
      "15/15 [==============================] - 0s 2ms/step - loss: 9925.0783\n",
      "Epoch 95/100\n",
      "15/15 [==============================] - 0s 2ms/step - loss: 5611.2997\n",
      "Epoch 96/100\n",
      "15/15 [==============================] - 0s 3ms/step - loss: 5966.7201\n",
      "Epoch 97/100\n",
      "15/15 [==============================] - 0s 3ms/step - loss: 4779.3833\n"
     ]
    },
    {
     "name": "stdout",
     "output_type": "stream",
     "text": [
      "Epoch 98/100\n",
      "15/15 [==============================] - 0s 3ms/step - loss: 5264.5920\n",
      "Epoch 99/100\n",
      "15/15 [==============================] - 0s 2ms/step - loss: 14031.4123\n",
      "Epoch 100/100\n",
      "15/15 [==============================] - 0s 2ms/step - loss: 4794.7815\n"
     ]
    },
    {
     "data": {
      "text/plain": [
       "<keras.callbacks.History at 0x7f60dc434700>"
      ]
     },
     "execution_count": 8,
     "metadata": {},
     "output_type": "execute_result"
    }
   ],
   "source": [
    "from keras.models import Sequential\n",
    "from keras.layers import Dense, Activation\n",
    "from keras.optimizers import SGD\n",
    "\n",
    "model = Sequential()\n",
    "model.add(Dense(input_dim=13, units=3)) # 入力が13種の特徴、3つに分離\n",
    "model.add(Activation('softmax'))\n",
    "model.compile(loss='categorical_crossentropy', optimizer=SGD(learning_rate=0.1))\n",
    "model.fit(train_x, train_y, epochs=100, batch_size=10) # エポック100, ミニバッチ 10"
   ]
  },
  {
   "cell_type": "code",
   "execution_count": 9,
   "id": "727dfeea",
   "metadata": {},
   "outputs": [
    {
     "data": {
      "text/plain": [
       "array([2, 1, 0, 1, 0, 1, 2, 1, 0, 0, 2, 0, 2, 1, 0, 2, 1, 1, 2, 1, 1, 2,\n",
       "       0, 1, 2, 1, 1, 2, 0, 2, 0, 1, 1, 2, 1, 2])"
      ]
     },
     "execution_count": 9,
     "metadata": {},
     "output_type": "execute_result"
    }
   ],
   "source": [
    "_, predict_y = np.where(0 < (model.predict(test_x, batch_size=10) > 0.5).astype('int32'))\n",
    "predict_y"
   ]
  },
  {
   "cell_type": "code",
   "execution_count": 10,
   "id": "33f60e91",
   "metadata": {},
   "outputs": [
    {
     "name": "stdout",
     "output_type": "stream",
     "text": [
      "[1 1 0 0 0 1 2 2 1 0 0 0 2 2 1 2 1 1 2 2 1 1 0 1 2 1 1 1 0 1 0 1 1 2 1 1]\n"
     ]
    }
   ],
   "source": [
    "# 正解データの取得\n",
    "_, Y_index = np.where(test_y > 0)\n",
    "print(Y_index)"
   ]
  },
  {
   "cell_type": "code",
   "execution_count": 11,
   "id": "5f462559",
   "metadata": {},
   "outputs": [
    {
     "name": "stdout",
     "output_type": "stream",
     "text": [
      "True: 24\n",
      "False: 12\n"
     ]
    }
   ],
   "source": [
    "print('True:', np.count_nonzero(predict_y == Y_index))\n",
    "print('False:', np.count_nonzero(predict_y != Y_index))"
   ]
  },
  {
   "cell_type": "code",
   "execution_count": 12,
   "id": "0d1f4612",
   "metadata": {},
   "outputs": [
    {
     "name": "stdout",
     "output_type": "stream",
     "text": [
      "              precision    recall  f1-score   support\n",
      "\n",
      "           0       0.78      0.78      0.78         9\n",
      "           1       0.73      0.61      0.67        18\n",
      "           2       0.50      0.67      0.57         9\n",
      "\n",
      "    accuracy                           0.67        36\n",
      "   macro avg       0.67      0.69      0.67        36\n",
      "weighted avg       0.69      0.67      0.67        36\n",
      "\n"
     ]
    }
   ],
   "source": [
    "from sklearn.metrics import classification_report\n",
    "\n",
    "print(classification_report(Y_index, predict_y))"
   ]
  },
  {
   "cell_type": "markdown",
   "id": "f65d1fcc",
   "metadata": {},
   "source": [
    "## Random Forest Model"
   ]
  },
  {
   "cell_type": "code",
   "execution_count": 13,
   "id": "d162bb37",
   "metadata": {},
   "outputs": [
    {
     "data": {
      "text/plain": [
       "DecisionTreeClassifier(random_state=144)"
      ]
     },
     "execution_count": 13,
     "metadata": {},
     "output_type": "execute_result"
    }
   ],
   "source": [
    "from sklearn.tree import DecisionTreeClassifier\n",
    "\n",
    "clf = DecisionTreeClassifier(random_state=144)\n",
    "clf.fit(train_x, train_y)"
   ]
  },
  {
   "cell_type": "code",
   "execution_count": 14,
   "id": "76e23fa7",
   "metadata": {},
   "outputs": [
    {
     "data": {
      "text/plain": [
       "array([1, 1, 0, 0, 0, 1, 2, 2, 1, 0, 0, 0, 2, 2, 0, 2, 2, 2, 2, 2, 1, 1,\n",
       "       0, 1, 2, 1, 1, 1, 0, 1, 0, 2, 1, 2, 1, 1])"
      ]
     },
     "execution_count": 14,
     "metadata": {},
     "output_type": "execute_result"
    }
   ],
   "source": [
    "# 予測結果\n",
    "_, predict_y = np.where(0 < clf.predict(test_x))\n",
    "predict_y"
   ]
  },
  {
   "cell_type": "code",
   "execution_count": 15,
   "id": "8507a988",
   "metadata": {},
   "outputs": [
    {
     "name": "stdout",
     "output_type": "stream",
     "text": [
      "[1 1 0 0 0 1 2 2 1 0 0 0 2 2 1 2 1 1 2 2 1 1 0 1 2 1 1 1 0 1 0 1 1 2 1 1]\n"
     ]
    }
   ],
   "source": [
    "# 正解データの取得\n",
    "_, Y_index = np.where(test_y > 0)\n",
    "print(Y_index)"
   ]
  },
  {
   "cell_type": "code",
   "execution_count": 16,
   "id": "c7c71e57",
   "metadata": {},
   "outputs": [
    {
     "name": "stdout",
     "output_type": "stream",
     "text": [
      "True: 32\n",
      "False: 4\n"
     ]
    }
   ],
   "source": [
    "print('True:', np.count_nonzero(predict_y == Y_index))\n",
    "print('False:', np.count_nonzero(predict_y != Y_index))"
   ]
  },
  {
   "cell_type": "code",
   "execution_count": 17,
   "id": "0d665980",
   "metadata": {},
   "outputs": [
    {
     "name": "stdout",
     "output_type": "stream",
     "text": [
      "              precision    recall  f1-score   support\n",
      "\n",
      "           0       0.90      1.00      0.95         9\n",
      "           1       1.00      0.78      0.88        18\n",
      "           2       0.75      1.00      0.86         9\n",
      "\n",
      "    accuracy                           0.89        36\n",
      "   macro avg       0.88      0.93      0.89        36\n",
      "weighted avg       0.91      0.89      0.89        36\n",
      "\n"
     ]
    }
   ],
   "source": [
    "from sklearn.metrics import classification_report\n",
    "\n",
    "print(classification_report(Y_index, predict_y))"
   ]
  },
  {
   "cell_type": "code",
   "execution_count": null,
   "id": "ff5e1dd8",
   "metadata": {},
   "outputs": [],
   "source": []
  }
 ],
 "metadata": {
  "kernelspec": {
   "display_name": "Python 3",
   "language": "python",
   "name": "python3"
  },
  "language_info": {
   "codemirror_mode": {
    "name": "ipython",
    "version": 3
   },
   "file_extension": ".py",
   "mimetype": "text/x-python",
   "name": "python",
   "nbconvert_exporter": "python",
   "pygments_lexer": "ipython3",
   "version": "3.8.8"
  }
 },
 "nbformat": 4,
 "nbformat_minor": 5
}
