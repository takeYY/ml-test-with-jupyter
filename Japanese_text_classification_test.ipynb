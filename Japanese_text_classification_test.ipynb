{
  "nbformat": 4,
  "nbformat_minor": 0,
  "metadata": {
    "colab": {
      "name": "Japanese_text_classification_test.ipynb",
      "provenance": [],
      "collapsed_sections": [
        "4jyC7SvpgB5V"
      ],
      "toc_visible": true
    },
    "kernelspec": {
      "name": "python3",
      "display_name": "Python 3"
    },
    "language_info": {
      "name": "python"
    }
  },
  "cells": [
    {
      "cell_type": "markdown",
      "metadata": {
        "id": "pSub-SJlf-Mo"
      },
      "source": [
        "## Mecab インストール"
      ]
    },
    {
      "cell_type": "code",
      "metadata": {
        "id": "qUSXDxSHgA3J"
      },
      "source": [
        "!apt install aptitude\n",
        "!aptitude install mecab libmecab-dev mecab-ipadic-utf8 git make curl xz-utils file -y\n",
        "!pip install mecab-python3==0.7\n",
        "\n",
        "!git clone --depth 1 https://github.com/neologd/mecab-ipadic-neologd.git\n",
        "!echo yes | mecab-ipadic-neologd/bin/install-mecab-ipadic-neologd -n\n",
        "\n",
        "!sed -e \"s!/var/lib/mecab/dic/debian!/usr/lib/x86_64-linux-gnu/mecab/dic/mecab-ipadic-neologd!g\" /etc/mecabrc &gt; /etc/mecabrc.new\n",
        "!cp /etc/mecabrc /etc/mecabrc.org\n",
        "!cp /etc/mecabrc.new /etc/mecabrc"
      ],
      "execution_count": null,
      "outputs": []
    },
    {
      "cell_type": "markdown",
      "metadata": {
        "id": "4jyC7SvpgB5V"
      },
      "source": [
        "## データ準備"
      ]
    },
    {
      "cell_type": "code",
      "metadata": {
        "id": "2dDoucHhQG1C"
      },
      "source": [
        "### SummaRuNNer: A Recurrent Neural Network Based Sequence Model for Extractive Summarization of Documents\n",
        "doc0 = \"\"\"\n",
        "本研究では、Recurrent Neural Network（RNN）ベースのシーケンスモデルであるSummaRuNNerを発表し、最先端の技術よりも優れた、あるいは同等の性能を達成することを示した。==\n",
        "私たちのモデルは、情報量、重要性、新しさなどの抽象的な特徴に基づいて予測を視覚化できるため、非常に解釈しやすいという利点もあります。==\n",
        "もう一つの新しい貢献は、抽出モデルの抽象化学習で、人間が生成した参考文献の要約だけで学習することができ、文レベルの抽出ラベルを必要としません。==\n",
        "文書の要約は、情報検索や自然言語理解に多くの応用がある重要な問題である。==\n",
        "要約技術は主に抽出型と抽象型の2つに分類されます。==\n",
        "抽出型の手法は、文書の中から注目すべきスニペット、センテンス、またはパッセージを選択することを目的とし、抽象型の要約手法は、文書の中の情報内容を簡潔に言い換えることを目的としています。==\n",
        "文書の要約に関する文献の大部分は、抽出型の要約に費やされている。==\n",
        "従来の抽出型要約の手法は、大きく分けて、欲張りなアプローチ（例：(Carbonell and Goldstein 1998)）、グラフベースのアプローチ（例：(Radev and Erkan 2004)）、制約最適化ベースのアプローチ（例：(McDonald 2007)）に分類される。==\n",
        "近年、ニューラルネットワークを利用した抽出型の要約手法が注目されています。==\n",
        "例えば、(Kageback et al. 2014)は、再帰的オートエンコーダー(Socher et al. 2011)を採用して文書を要約し、Opinosisデータセット(Ganesan, Zhai, and Han 2010)で最高の性能を発揮しました。==\n",
        "Yin and Pei 2015）は、畳み込みニューラルネットワーク（CNN）を適用して、文章を連続ベクトル空間に投影し、「威信」と「多様性」に基づいてコストを最小化することで文章を選択し、マルチドキュメント抽出型要約のタスクに適用した。==\n",
        "もう1つの関連研究は、CNNを使ったクエリに焦点を当てたマルチドキュメントの要約の問題に取り組んでいる(Cao et al. 2016)で、ここではドキュメントを表現するために文表現に対する重み付き和プーリングを使用している。==\n",
        "重みは、クエリに基づく文の表現に対する注意から学習されます。==\n",
        "最近では、テキスト用の強力な生成ニューラルモデルが登場したこともあり（Bahdanau, Cho, and Bengio 2014）、抽象化技術も普及しつつあります。==\n",
        "例えば、(Rush, Chopra, and Weston 2015)は、文を短い見出しに抽象的に要約するための注意フィードフォワードネットワークを提案した。==\n",
        "彼らの研究をさらに発展させた(Nallapati, Zhou, and Xiang 2016)は、リカレントニューラルネットワークベースのエンコーダ・デコーダモデルのセットを提案しています。このモデルは、語彙力のない単語の処理や、文中の単語の構文的特徴のモデル化など、要約のさまざまな側面に焦点を当てています。==\n",
        "また、後続の研究(Nallapati et al. 2016)では、CNN/DailyMailコーパスを用いて、大規模文書を複数文の要約にまとめる抽象化技術を提案しています。==\n",
        "抽象化技術が登場したにもかかわらず、抽出技術は、複雑さやコストが少なく、文法的・意味的に正しい要約を生成することができるため、依然として魅力的です。==\n",
        "ごく最近の研究では、ChengとLapata（2016）が、抽出的な単一文書の要約のためのアテンション・エンコーダ・デコーダを提案し、CNN/Daily Mailコーパスに適用した。==\n",
        "(Cheng and Lapata 2016)と同様に、我々の研究もニューラルネットワークを用いた単一文書のセンテンス抽出型要約のみに焦点を当てています。我々の実験には、(Nallapati et al. 2016)と(Cheng and Lapata 2016)が使用したのと同じコーパスを使用していますが、これはその大きなサイズが我々のような数千個のパラメータを持つ深層ニューラルネットワークの学習に魅力的だからです。==\n",
        "我々の主な貢献は以下の通りである。(a) シンプルなリカレントネットワークベースのシーケンス分類器であるSummaRuNNerを提案し、抽出型要約のための最新モデルを凌駕またはマッチさせる。==\n",
        "SummaRuNNerは、最先端の性能に加えて、非常に解釈しやすいという利点があります。==\n",
        "分類層の項が明確に分かれているため（式6参照）、各文の分類に関わる様々な要因を解明することができます。==\n",
        "これを図2に示します。ここでは、検証セットの代表的な文書と、その最終的な分類を担当した各抽象的特徴の正規化スコアを表示しています。==\n",
        "このような視覚化は、システムが行った決定をエンドユーザーに説明する際に特に有効です。==\n",
        "また，Daily MailコーパスとDUCコーパスからいくつかの例文を表示し，SummaRuNNerが選んだ文を強調して，表5の金色の要約と比較した．==\n",
        "これらの例は、SummaRuNNerがドキュメントのキーポイントを特定する上で適度に良い仕事をすることを定性的に示しています。==\n",
        "本研究では、直感的な可視化が可能な抽出型文書要約のための非常に解釈可能なニューラルシーケンスモデルを提案し、最先端の深層学習モデルよりも優れた性能を発揮する、あるいは同等の性能を発揮することを示します。==\n",
        "また、学習時にラベルを抽出する必要をなくすために、新しい抽象的な学習メカニズムを提案していますが、このアプローチは、ほとんどのデータセットにおいて、私たちの抽出的な学習に比べて、まだ2、3のルージュポイントしかありません。==\n",
        "今後は、抽出的アプローチと抽象的アプローチの組み合わせをさらに検討していく予定です。==\n",
        "単純なアプローチとしては、抽象的なトレーニングを用いて抽出モデルを事前にトレーニングすることが考えられます。==\n",
        "さらに、抽出部の予測値が抽象部で消費される確率的な中間ユニットを形成するような、抽出・抽象の合同モデルの構築を計画しています。==\n",
        "\"\"\""
      ],
      "execution_count": null,
      "outputs": []
    },
    {
      "cell_type": "code",
      "metadata": {
        "id": "P6KLdFRKRzmn"
      },
      "source": [
        "### Salience Estimation via Variational Auto-Encoders for Multi-Document Summarization\n",
        "doc1 = \"\"\"\n",
        "本研究では、マルチドキュメントサマリゼーション（MDS）のための新しい教師なし文サリエンスフレームワークを提案する。このフレームワークは、潜在的意味モデリングとサリエンス推定の2つのコンポーネントに分けられる。==\n",
        "潜在的意味モデリングでは、観測された文とそれに対応する潜在的意味表現を記述するために、Variational Auto-Encoders (VAEs) と呼ばれるニューラル生成モデルを採用する。==\n",
        "また、潜在変数の事後推論には、ニューラル変分推論を用いる。==\n",
        "本研究では、潜在的意味空間と観測された項ベクトル空間の再構成を共同で考慮する、教師なしデータ再構成フレームワークを提案する。==\n",
        "これは、潜在的な意味空間と観測された用語のベクトル空間の再構成を共同で行うものであり、これら2つの異なる補完的なベクトル空間から文のサリエンスを捉えることができる。==\n",
        "その後，VAEsに基づく潜在的意味モデルを文の重要度推定コンポーネントに統合し，マルチタスク学習によるバックプロパゲーションによってフレームワーク全体を共同で学習することができる。==\n",
        "ベンチマークデータであるDUCとTACを用いた実験の結果、本研究のフレームワークは、最先端のモデルよりも優れた性能を達成した。==\n",
        "マルチドキュメントサマリゼーション（MDS）は、異なるソースからのドキュメントセットでイベントを記述するトピックに対して、簡潔でよくまとまったサマリを自動的に生成することを目的としており、広く研究されています。==\n",
        "(Goldstein et al. 2000; Erkan and Radev 2004; Wan, Yang, and Xiao 2007; Nenkova and McKeown 2012; Min, Chew, and Tan 2012; Bing et al. 2015)。==\n",
        "Summarizationアプローチは、抽出ベースの手法と抽象化ベースの手法の2つのクラスに分類されます。==\n",
        "どちらのクラスでも、パフォーマンスを向上させるためには、サリエンス推定が重要な役割を果たします。==\n",
        "ラベリングされたMDSデータセットのスケーラビリティの制約を考慮して、いくつかの作品では、教師なしのデータ再構成法を採用してサリエンス推定を行い、同等の結果を得ています（He et al 2012; Liu, Yu, and Deng 2015; Yao, Wan, and Xiao 2015; Li et al 2015; Ren et al 2016; Song et al 2017）。==\n",
        "これらの作品を調査した結果、主にBag-of-Words (BoWs) ベクトルを文の表現と再構成損失関数に使用していることがわかりました。==\n",
        "一方、いくつかの研究成果（Le and Mikolov 2014; Kim 2014）では、文や文書のセマンティクスをモデル化する際に、分散表現がBoWを上回ることが実証されています。==\n",
        "本論文では、BoWsベクトルを使用する代わりに、MDSタスクのために文の潜在的なセマンティクスをモデル化するための分散表現を探ります。==\n",
        "我々は、観測された文と潜在的な意味ベクトルを記述するために、確率的な生成モデルに基づいたフレームワークを提案する。==\n",
        "一連の文書で構成されるトピック（イベント）が与えられたとき、各文をモデル化するための分散潜在的意味ベクトルを生成的フレームワークで構築し、各文は観測されていない潜在的意味空間から生成されます。==\n",
        "もう一つの特徴は、生成過程において、潜在的な意味ベクトル上の分布を近似するために、入力テキストを条件としたニューラルネットワークを採用していることです。==\n",
        "Markov Chain Monte Carlo（MCMC）サンプリングとVariational Inference（VI）は、生成モデルで使用される最も一般的な手法です（Jordan et al 1999; Wainwright and Jordan 2008; Blei, Kucukelbir, and McAuliffe 2016）。==\n",
        "しかし、連続的な潜在変数やニューラルネットワークベースの生成モデリングのために、限界尤度の積分の一部は難解です。==\n",
        "平均場アルゴリズム（Xing, Jordan, and Russell 2002）のような標準的な変分推論法は使用できません。==\n",
        "さらに、MCMCベースのサンプリング手法は、大規模な機械学習タスクに拡張するには遅すぎます。==\n",
        "最近では、複雑な生成モデリングフレームワークに関連する推論問題を扱うことができる Variational Autoencoders (VAEs) (Kingma and Welling 2014; Rezende, Mohamed, and Wierstra 2014) や Generative Adversarial Networks (GANs) (Goodfellow et al. 2014; Radford, Metz, and Chintala 2015) が提案されている。==\n",
        "私たちの研究では、生成モデルの基本的な枠組みとしてVAEを採用しています。==\n",
        "実際、いくつかの作品（Miao, Yu, and Blunsom 2015; Chung et al. 2015）では、VAEが一般的なリカレントニューラルネットワーク（RNN）やコンボリューショナルニューラルネットワーク（CNN）よりも高レベルの意味表現を生成する能力が高いことが実証されています。==\n",
        "MDSにおける文の重要度推定問題を解決するために、我々は潜在的意味空間と観測された用語ベクトル空間を共同で再構成する教師なしデータ再構成フレームワークを提案する。==\n",
        "データ再構成の基本的な考え方は、各原文は、他のいくつかの代表的な文の線形結合を用いて再構成できるというものです。==\n",
        "これらの代表的な文章は、「何が起こったか」、「損害」、「対策」など、事象に込められた様々な側面を捉えることができます。==\n",
        "アスペクト文を表現するためのベクトルを、アスペクト・ベクトルと名付けます。==\n",
        "そして、アスペクト・ベクトルを用いて、再構成の際にサルーン推定を行うことができます。==\n",
        "生成モデルとデータ再構築プロセスの精神に基づいて、いくつかの潜在的なアスペクト・ベクトルを設計し、それらを使って元の潜在的な意味空間全体を再構築します。==\n",
        "このようなアイデアと並行して、元の観測された用語ベクトル空間を再構築するために使用されるいくつかのアスペクト用語ベクトルも設計します。==\n",
        "その後、VAEsに基づく潜在的意味モデルを文の重要度推定コンポーネントに統合し、マルチタスク学習によるバックプロパゲーションによってフレームワーク全体を共同で学習することができます。==\n",
        "文の重要度を推定した後、フレーズの結合に基づく統一的な最適化フレームワークを採用し、最終的な要約を生成します。==\n",
        "我々の貢献は以下の通りです。(1)文の潜在的意味モデル化を行うためのVAEベースの生成モデルを提案する。==\n",
        "私たちの知る限りでは、要約関連のタスクにVAEを使用することを検討している他の研究はありません。==\n",
        "(2) 本フレームワークでは、潜在的な意味空間と観測された入力項のベクトル空間を共同で考慮することで、これらの異なる補完的な空間からより豊かな情報を引き出すことができる、ということです。==\n",
        "(3)VAEsベースの生成モデルとサリエンス推定コンポーネントを統一されたフレームワークに統合し、バックプロパゲーションを用いたマルチタスク学習で同時に学習できるようにした。==\n",
        "(4) ベンチマークデータセットであるDUCとTACでの実験結果は、本フレームワークが最先端のモデルよりも優れた性能を達成することを示している。==\n",
        "私たちのフレームワークの性能を過去の手法と比較するためには、まず、彼らのシステムが作成したサマリーを入手すること（または、彼らのコードを入手して自分たちでサマリーを作成すること）が優先されます。==\n",
        "そして、同じオプションでROUGE評価を行います。==\n",
        "我々のシステムを、いくつかの要約のベースラインや既存の教師なしの手法と比較した。==\n",
        "ランダムベースラインは、各トピックの文章をランダムに選択します。==\n",
        "Lead baseline (Wasson 1998) は、ニュースを時系列にランク付けし、先頭のセンテンスを1つずつ抽出します。==\n",
        "また、スパースコーディングに基づく他の3つの教師なしの既存手法、すなわちDSDR（He et al 2012）、MDS-Sparse（Liu, Yu, and Deng 2015）、RA-MDS（Li et al 2015）も比較しています。==\n",
        "ABSPhrase (Bing et al. 2015) は、フレーズベースの最適化フレームワークを用いて、重み付けされた用語の頻度をサリエンスの推定値として、抽象的なサマリーを生成します。==\n",
        "さらに、SpOpt(Yao, Wan, and Xiao 2015)も論文の中で良い結果を提示しているが、彼らのシステムを忠実に再現するように再構築することは困難であることを言及しておきたい。==\n",
        "表1および表2に示すように，本システムはすべてのROUGE指標において最良の結果を達成した．==\n",
        "VAEによる潜在的なセマンティックモデリングと共同でのセマンティック空間の再構築により、MDSの性能が大幅に向上することが実証されました。==\n",
        "VAEs-Zeroも同等の性能を達成していることは注目に値します。==\n",
        "VAEs-Aには及ばないものの、既存のほとんどの手法よりも優れています。==\n",
        "そのため、VAEに基づく潜在的なセマンティックモデリングは、MDSのパフォーマンスを向上させることができます。==\n",
        "これらの教師なしモデルの他に、我々の知る限りでは、Wang et al (2013)で発表された方法がDUC 2007で最高のパフォーマンスを達成しました。==\n",
        "その理由は、文章圧縮モデルと文書要約モデルの学習に、教師あり学習のフレームワークを使用しているからです。==\n",
        "評価では、教師あり学習に基づく2つの文選択法を提供しています。Support Vector Regression (SVR)とLambdaMARTです。==\n",
        "SVRはRouge-2で0.095、Rouge-SU4で0.147を得ています。==\n",
        "LambdaMARTは、0.123と0.156を得ています。==\n",
        "教師なしの我々のフレームワークは、SVRよりも優れており、LambdaMARTと比較しても同様の結果を得ることができました。==\n",
        "データセットTAC 2011において、上記のベースラインの他に、我々のフレームワークをいくつかのトップシステムと比較した。PKUTM (Li et al. 2011) は，文のスコアリングと選択に manifoldranking を採用しているが，表3に示すように，我々の性能は PKUTM よりも優れている．==\n",
        "PKUTMがドメイン知識の提供にWikipediaコーパスを使用したことは注目に値します。==\n",
        "SWING（Min, Chew, and Tan 2012）という手法は、TAC 2011のシステムの中で最も優れたものです。==\n",
        "しかし、我々の結果はSWINGには及ばない。==\n",
        "その理由は、SWINGがカテゴリー別の特徴量を使い、TAC2010データのカテゴリー情報を用いて、特徴量の重みを教師付きで学習しているからである。==\n",
        "これらの機能は、要約のためのより良いカテゴリー別のコンテンツを選択するのに役立ちます。==\n",
        "対照的に、我々のモデルは教師なしで、TAC 2010を一般的なパラメータチューニングの目的でのみ使用しています。==\n",
        "我々は、SzとSxがイベントの異なる側面を表すことに言及している。==\n",
        "このアイデアを検証するために、TAC2011で「Pet Food Recall」というトピックを取り上げ、各アスペクトからいくつかのキーワードを抽出します。==\n",
        "アスペクト-1は「Nutro、購入、ダース、ドロップ、60、タイミング、プロテイン、研究」、アスペクト-2は「Sarah、Tuite、ソース、プロテイン、Food、and、Drug Administration」、アスペクト-3は「食品、会社、リコール、ペット、メニュー、猫、製品、フード、犬」という言葉を含んでいます。==\n",
        "これは、私たちのフレームワークがトピックの主要な側面を捉えることができることを示しています。==\n",
        "さらに、Sxの大きさが、単語のサリエンス情報を表すこともわかりました。==\n",
        "TAC2011から3つのトピックを選びます。\"アーミッシュ・シューティング」、「四川大地震」、「ペットフード・リコール」。==\n",
        "各トピックについて，表4に示すように，辞書の用語をsalience scoreに従ってソートし，上位10個の用語を抽出する。==\n",
        "上位10位までの用語には、各トピックの最も重要な情報が含まれていることがわかります。==\n",
        "アーミッシュ・シューティング」というトピックでは、ゴールデン・サマリーの一文に注目です。\"On October 2, 2006, a gunman, Charles Roberts, entered an Amish school near Lancaster, PA, and took the children hostage, killed five girls and wounded other children before suicide himself.\" トップ10の用語が主要なセマンティクスを捉えることができるのは明らかです。==\n",
        "我々は、新しい教師なしのマルチドキュメントサマリゼーション（MDS）フレームワークを提案する。==\n",
        "まず、VAEsベースの生成モデルを用いて、文を用語ベクトル空間から潜在的意味空間にマッピングします。==\n",
        "そして、潜在的な意味空間と観測された用語ベクトル空間を、アスペクトに関連するベクトルを用いて共同で再構成することで、教師なしのデータ再構成モデルを提案し、サリエンス推定を行う。==\n",
        "ベンチマークデータセットであるDUCとTACでの実験結果は、我々のフレームワークが最先端のモデルよりも優れた性能を達成していることを示している。==\n",
        "\"\"\""
      ],
      "execution_count": null,
      "outputs": []
    },
    {
      "cell_type": "code",
      "metadata": {
        "id": "Bhv65YjmoT3m"
      },
      "source": [
        "### A Graph Based Approach on Extractive Summarization\n",
        "doc2 = \"\"\"\n",
        "情報技術とインターネットの出現により、世界は毎秒数テラバイトの情報を生み出しています。==\n",
        "過去10年の間に、ある事件をほぼ瞬時に報告するオンラインニュースフィードがいくつも登場しています。==\n",
        "このため、コンテンツを減らし、要約と呼ばれる必要なものだけをユーザーに提示することが切実に求められています。==\n",
        "本稿では、グラフ理論に基づく抽出的要約化手法を提案する。==\n",
        "この手法では、文書全体をグラフ化した後、infomapクラスタリングを用いて最も情報量の多い文章を見つけることで、文書全体の代表的な要約や要約を作成しようとする。==\n",
        "要約システムは、フルサイズの記事を縮小して、関連する情報とともにその文章の主要なアイデアや中心的なアイデアを伝える流暢で簡潔な要約を作成するために機能します。==\n",
        "要約とは、1つ以上のテキストから生成され、元のテキストに含まれる情報のかなりの部分を含み、元のテキストの半分以下の長さのテキストのことです。==\n",
        "システムは、段落長の要約を生成します。==\n",
        "自動文書要約は、Luhnの研究[18]にまでさかのぼる。==\n",
        "原文から重要な概念を抽出し、中間表現を構築するために、多くの手法[16][22][8]が提案されてきた。==\n",
        "初期の手法[5][10]は、主に統計的な性質を持つもので、文書内の最も重要な概念を決定するために単語の頻度に焦点を当てていました。==\n",
        "このような統計的アプローチの反対の極端な方法は、原文の真の「意味理解」を試みることです。==\n",
        "深い意味分析の使用は、質の高い要約を作成するための最良の機会を提供します。==\n",
        "このようなアプローチの問題点は、詳細な意味表現が作成されなければならず、ドメイン固有の知識ベースが利用可能でなければならないことです。==\n",
        "本論文では、いくつかの種類の要約技術があるが、抽出的要約技術についてのみ論じている。==\n",
        "抽出的要約器は基本的に3つの比較的独立したフェーズで動作する。==\n",
        "すべての要約器は、最初にテキストの中間的な表現を生成するように動作する。==\n",
        "生の入力は、ストップワード、すなわち、頻繁に使用される記事、接続詞、接続詞を除去するために前処理されます。==\n",
        "頻繁に使用される冠詞、接続詞、前置詞などを除去します。==\n",
        "場合によっては、句読点も削除されます。==\n",
        "残りの部分から、しばしば「用語頻度」や「逆文書頻度」、あるいはその両方が発見され、キーと値のペアとして保存されます。==\n",
        "これらのメトリクスは、文書内の情報の核心を理解し、特定の方法で処理するのに役立ちます。==\n",
        "次に、中間表現に基づいて文章に重みが割り当てられます。==\n",
        "最終段階では、貪欲なアプローチで最も高いスコアの文章が選択されます。==\n",
        "これらの段階については、後続のセクションで徹底的に説明する。==\n",
        "この方法は、BBCニュースのフィードで生成されたニュース記事に対して徹底的に検証しています。==\n",
        "処理にはNLTKライブラリ[4]とPython 2.7[2]のBeautifulSoupライブラリを使用しています。==\n",
        "本論文では、抽出的要約を実現するための新しいグラフベースのアプローチを提示することを試みた。==\n",
        "文から名前のついた実体を削除することで、文のペアごとの類似度測定値に偏りがなくなり、重要な単語が強調されるようになる。==\n",
        "この処理は、ニュース記事を対象にして評価すると、興味深い結果が得られる。==\n",
        "将来的には、名詞-原音分離を改良して、より良い結果が得られるようにしたいと考えています。==\n",
        "また、Infomap のクラスタリングアルゴリズムの代わりに、グラフベースのクラスタリングアルゴリズムやその他のクラスタリングアルゴリズムを適用することも可能であり、将来的には比較検討を行う予定である。==\n",
        "\"\"\""
      ],
      "execution_count": null,
      "outputs": []
    },
    {
      "cell_type": "code",
      "metadata": {
        "id": "ALZKWeA8ql1f"
      },
      "source": [
        "### LexRank: Graph-based Lexical Centrality as Salience in Text Summarization\n",
        "doc3 = \"\"\"\n",
        "自然言語処理におけるテキスト単位の相対的重要度を計算するための確率的グラフベースの手法を紹介する。==\n",
        "本手法は、テキスト要約(TS)の問題に対してテストを行う。==\n",
        "抽出的TSは、文書または文書の集合の中で最も重要な文を識別するために、文のサリエンスの概念に依存している。==\n",
        "サリエンスは通常、特定の重要な単語の存在、またはセントロイド疑似文との類似性の観点から定義される。==\n",
        "我々は、文のグラフ表現における固有ベクトル中心性の概念に基づいて文の重要度を計算するための新しいアプローチ、LexRankを考えている。==\n",
        "このモデルでは、文のグラフ表現の隣接行列として、文内余弦類似度に基づく接続性行列を用いる。==\n",
        "本システムは、LexRankをベースにしており、最近のDUC2004の評価では、1つ以上のタスクで1位を獲得した。==\n",
        "この論文では、我々のアプローチの詳細な分析を行い、以前のDUC評価のデータを含むより大きなデータセットに適用した。==\n",
        "また、類似度グラフを用いて中心性を計算する方法をいくつか紹介する。==\n",
        "その結果、ほとんどの場合において、学位ベースの手法（LexRankを含む）がセントロイドベースの手法とDUCに参加している他のシステムの両方を凌駕していることがわかった。==\n",
        "さらに，閾値付きLexRank法は，連続LexRankを含む他の度ベースの手法よりも優れていることがわかった．==\n",
        "また、我々のアプローチは、文書の不完全な局所的クラスタリングに起因するデータ中のノイズに対して非常に鈍感であることを示す。==\n",
        "近年、自然言語処理(NLP)は非常に堅固な数学的基盤へと移行しています。==\n",
        "NLPにおける多くの問題、例えば、構文解析(Collins, 1997)、語義曖昧性解消(Yarowsky, 1995)、自動言い換え(Barzilay & Lee, 2003)などは、ロバストな統計的手法の導入によって大きな恩恵を受けてきました。==\n",
        "最近では、ロバストなグラフベースのNLP手法も注目されており、例えば、単語クラスタリング(Brew & im Walde, 2002)や前置詞句添付(Toutanova, Manning, & Ng, 2004)などが挙げられる。==\n",
        "この論文では、NLPにおけるグラフベースの手法をさらに一歩進めていく。==\n",
        "文ベースのグラフ上でのランダムウォークがテキストの要約にどのように役立つかを議論する。==\n",
        "また、同様の手法が、名前付き実体分類、前置詞句の添付、テキスト分類（例：スパム認識）などの他のNLPタスクにどのように適用できるかについても簡単に議論する。==\n",
        "テキスト要約は、ユーザにとって有用な情報を提供する、与えられたテキストの圧縮版を自動的に作成するプロセスです。==\n",
        "要約の情報内容は、ユーザのニーズに依存する。==\n",
        "トピック指向の要約は、ユーザの興味のあるトピックに焦点を当て、指定されたトピックに関連するテキスト内の情報を抽出する。==\n",
        "一方、一般的な要約は、原文の一般的なトピック構成を維持したまま、できるだけ多くの情報内容をカバーしようとする。==\n",
        "本論文では、同じだが特定されていないトピックに関する複数の文書の要約を生成することを目的とした、複数文書の抽出的汎用要約に焦点を当てている。==\n",
        "抽出的要約は、元の文書に含まれる文章のサブセットを選択して要約を生成する。==\n",
        "これは、テキスト内の情報が言い換えられる抽象的要約とは対照的です。==\n",
        "人間によって生成される要約は一般的に抽出的ではありませんが、今日の要約研究のほとんどは抽出的要約に関するものです。==\n",
        "純粋に抽出的な要約は、自動抽象化された要約と比較して、より良い結果が得られることが多い。==\n",
        "これは、意味表現、推論、自然言語生成などの抽象的要約の問題が、文の抽出のようなデータ駆動型のアプローチに比べて比較的難しいという事実に起因している。==\n",
        "実際、真に抽象的な要約は、今日では成熟した段階には至っていない。==\n",
        "既存の抽象的要約器は、多くの場合、抽出的前処理コンポーネントに依存している。==\n",
        "抽出器の出力は、テキストの要約を生成するためにカットアンドペースト、または圧縮されます(Witbrock & Mittal, 1999; Jing, 2002; Knight & Marcu, 2000)。==\n",
        "SUMMONS (Radev & McKeown, 1998)は、複数のソースから情報を抽出・結合し、この情報を言語生成コンポーネントに渡して最終的な要約を生成する複数文書要約器の一例である。==\n",
        "抽出的要約に関する初期の研究は、テキスト内の文の位置、それらが含む単語の全体的な頻度、または文の重要性を示すいくつかのキーフレーズのような文の単純なヒューリスティックな特徴に基づいています(Baxendale, 1958; Edmundson, 1969; Luhn, 1958)。==\n",
        "文中の単語の重要性を評価するために一般的に使用されている尺度は、逆文書度数（idf）であり、式（Sparck-Jones, 1972）で定義されています。==\n",
        "ここで、N はコレクションに含まれる文書の総数であり、 $n_i$ は単語 i が出現する文書の数です。==\n",
        "例えば、ほぼすべての文書に出現する可能性のある単語（例えば、記事 \"a \"や \"the\"）は、idf値がゼロに近いのに対し、まれな単語（例えば、医学用語や固有名詞）は、一般的に高いidf値を持っています。==\n",
        "より高度な技術では、単語の同義語やアナフォラ解決を用いて、文と文の関係や談話構造を考慮することもある(Mani & Bloedorn, 1997; Barzilay & Elhadad, 1999)。==\n",
        "また、より多くの特徴が提案され、より多くの訓練データが利用可能になったため、研究者は機械学習を要約に統合しようとしてきた(Kupiec, Pedersen, & Chen, 1995; Lin, 1999; Osborne, 2002; Daum е III & Marcu, 2004)。==\n",
        "本論文では、クラスタ内の各文の中心性を評価し、最も重要な文を抽出して要約に含めることを目的としている。==\n",
        "本論文では、複数文書の要約において、文の語彙的特性の観点から中心性を測定する「語彙的中心性の原理」の定義方法について検討する。==\n",
        "第2節では、文の中心性を判定する方法としてよく知られているセントロイドベースの要約法を紹介し、次に、文の中心性を判定する3つの新しい尺度を紹介する。==\n",
        "第2節では，文の中心性を判定する方法としてよく知られているセントロイドベースの要約法を紹介した後，ソーシャルネットワークにおける「プレステージ」の概念にヒントを得て，Degree，閾値付きLexRank，連続的LexRankの3つの新しい尺度を紹介する。==\n",
        "我々は、文書クラスタのグラフ表現を提案し、頂点は文を表し、辺は文のペア間の類似関係の観点から定義する。==\n",
        "この表現により、グラフ上で定義されたいくつかの中心性ヒューリスティックを利用することができる。==\n",
        "我々は、特徴ベースの汎用要約ツールキットMEADを用いて、我々の新しい手法をセントロイドベースの要約と比較し、我々の新しい特徴がほとんどの場合でセントロイドよりも優れていることを示した。==\n",
        "実験のためのテストデータは、2003年と2004年に行われた文書理解会議(DUC)の要約評価から得られたものであり、他の最新の要約システムや人間の性能と比較することができる。==\n",
        "\"\"\""
      ],
      "execution_count": null,
      "outputs": []
    },
    {
      "cell_type": "markdown",
      "metadata": {
        "id": "S8eQK3ORxGTR"
      },
      "source": [
        "## テキストの前処理"
      ]
    },
    {
      "cell_type": "code",
      "metadata": {
        "id": "T9hzJ0K_SBFH"
      },
      "source": [
        "import re\n",
        "import string\n",
        "\n",
        "# 不要なテキストの削除（前処理）\n",
        "def preprocessing(text):\n",
        "  # 全角 => 半角\n",
        "  text = text.translate(str.maketrans({chr(0xFF01 + i): chr(0x21 + i) for i in range(94)}))\n",
        "  # 不要な単語の除去\n",
        "  text = text.replace('==', '')\n",
        "  # 記号をスペースで置換し、小文字化\n",
        "  #table = str.maketrans(string.punctuation, ' '*len(string.punctuation))\n",
        "  #text = text.translate(table).lower()\n",
        "  # 数字列を0に置換\n",
        "  text = re.sub('[0-9]+', '0', text)\n",
        "  return text\n",
        "\n",
        "doc0_splt = [s for s in preprocessing(doc0).split(\"\\n\") if s]\n",
        "doc1_splt = [s for s in preprocessing(doc1).split(\"\\n\") if s]\n",
        "doc2_splt = [s for s in preprocessing(doc2).split(\"\\n\") if s]\n",
        "doc3_splt = [s for s in preprocessing(doc3).split(\"\\n\") if s]"
      ],
      "execution_count": null,
      "outputs": []
    },
    {
      "cell_type": "markdown",
      "metadata": {
        "id": "YLHwcEPSgJoO"
      },
      "source": [
        "## DataFrame化"
      ]
    },
    {
      "cell_type": "code",
      "metadata": {
        "colab": {
          "base_uri": "https://localhost:8080/",
          "height": 419
        },
        "id": "rBJRmk_8SRai",
        "outputId": "4520cca5-c59a-4eb5-c21e-3d83717c5097"
      },
      "source": [
        "import pandas as pd\n",
        "import numpy as np\n",
        "\n",
        "doc0_df = pd.DataFrame({'text': doc0_splt, 'target': 0})\n",
        "doc1_df = pd.DataFrame({'text': doc1_splt, 'target': 1})\n",
        "doc2_df = pd.DataFrame({'text': doc2_splt, 'target': 2})\n",
        "doc3_df = pd.DataFrame({'text': doc3_splt, 'target': 3})\n",
        "\n",
        "df = pd.concat([doc0_df, doc1_df, doc2_df, doc3_df]).sample(frac=1).reset_index(drop=True)\n",
        "df"
      ],
      "execution_count": null,
      "outputs": [
        {
          "output_type": "execute_result",
          "data": {
            "text/html": [
              "<div>\n",
              "<style scoped>\n",
              "    .dataframe tbody tr th:only-of-type {\n",
              "        vertical-align: middle;\n",
              "    }\n",
              "\n",
              "    .dataframe tbody tr th {\n",
              "        vertical-align: top;\n",
              "    }\n",
              "\n",
              "    .dataframe thead th {\n",
              "        text-align: right;\n",
              "    }\n",
              "</style>\n",
              "<table border=\"1\" class=\"dataframe\">\n",
              "  <thead>\n",
              "    <tr style=\"text-align: right;\">\n",
              "      <th></th>\n",
              "      <th>text</th>\n",
              "      <th>target</th>\n",
              "    </tr>\n",
              "  </thead>\n",
              "  <tbody>\n",
              "    <tr>\n",
              "      <th>0</th>\n",
              "      <td>これらの例は、SummaRuNNerがドキュメントのキーポイントを特定する上で適度に良い仕事...</td>\n",
              "      <td>0</td>\n",
              "    </tr>\n",
              "    <tr>\n",
              "      <th>1</th>\n",
              "      <td>もう一つの新しい貢献は、抽出モデルの抽象化学習で、人間が生成した参考文献の要約だけで学習する...</td>\n",
              "      <td>0</td>\n",
              "    </tr>\n",
              "    <tr>\n",
              "      <th>2</th>\n",
              "      <td>ごく最近の研究では、ChengとLapata(0)が、抽出的な単一文書の要約のためのアテンシ...</td>\n",
              "      <td>0</td>\n",
              "    </tr>\n",
              "    <tr>\n",
              "      <th>3</th>\n",
              "      <td>また、Infomap のクラスタリングアルゴリズムの代わりに、グラフベースのクラスタリングア...</td>\n",
              "      <td>2</td>\n",
              "    </tr>\n",
              "    <tr>\n",
              "      <th>4</th>\n",
              "      <td>情報技術とインターネットの出現により、世界は毎秒数テラバイトの情報を生み出しています。</td>\n",
              "      <td>2</td>\n",
              "    </tr>\n",
              "    <tr>\n",
              "      <th>...</th>\n",
              "      <td>...</td>\n",
              "      <td>...</td>\n",
              "    </tr>\n",
              "    <tr>\n",
              "      <th>183</th>\n",
              "      <td>私たちの研究では、生成モデルの基本的な枠組みとしてVAEを採用しています。</td>\n",
              "      <td>1</td>\n",
              "    </tr>\n",
              "    <tr>\n",
              "      <th>184</th>\n",
              "      <td>評価では、教師あり学習に基づく0つの文選択法を提供しています。Support Vector ...</td>\n",
              "      <td>1</td>\n",
              "    </tr>\n",
              "    <tr>\n",
              "      <th>185</th>\n",
              "      <td>ランダムベースラインは、各トピックの文章をランダムに選択します。</td>\n",
              "      <td>1</td>\n",
              "    </tr>\n",
              "    <tr>\n",
              "      <th>186</th>\n",
              "      <td>本研究では、潜在的意味空間と観測された項ベクトル空間の再構成を共同で考慮する、教師なしデータ...</td>\n",
              "      <td>1</td>\n",
              "    </tr>\n",
              "    <tr>\n",
              "      <th>187</th>\n",
              "      <td>ベンチマークデータセットであるDUCとTACでの実験結果は、我々のフレームワークが最先端のモ...</td>\n",
              "      <td>1</td>\n",
              "    </tr>\n",
              "  </tbody>\n",
              "</table>\n",
              "<p>188 rows × 2 columns</p>\n",
              "</div>"
            ],
            "text/plain": [
              "                                                  text  target\n",
              "0    これらの例は、SummaRuNNerがドキュメントのキーポイントを特定する上で適度に良い仕事...       0\n",
              "1    もう一つの新しい貢献は、抽出モデルの抽象化学習で、人間が生成した参考文献の要約だけで学習する...       0\n",
              "2    ごく最近の研究では、ChengとLapata(0)が、抽出的な単一文書の要約のためのアテンシ...       0\n",
              "3    また、Infomap のクラスタリングアルゴリズムの代わりに、グラフベースのクラスタリングア...       2\n",
              "4          情報技術とインターネットの出現により、世界は毎秒数テラバイトの情報を生み出しています。       2\n",
              "..                                                 ...     ...\n",
              "183              私たちの研究では、生成モデルの基本的な枠組みとしてVAEを採用しています。       1\n",
              "184  評価では、教師あり学習に基づく0つの文選択法を提供しています。Support Vector ...       1\n",
              "185                   ランダムベースラインは、各トピックの文章をランダムに選択します。       1\n",
              "186  本研究では、潜在的意味空間と観測された項ベクトル空間の再構成を共同で考慮する、教師なしデータ...       1\n",
              "187  ベンチマークデータセットであるDUCとTACでの実験結果は、我々のフレームワークが最先端のモ...       1\n",
              "\n",
              "[188 rows x 2 columns]"
            ]
          },
          "metadata": {
            "tags": []
          },
          "execution_count": 23
        }
      ]
    },
    {
      "cell_type": "markdown",
      "metadata": {
        "id": "qOkaEKBEvZKI"
      },
      "source": [
        "## データを眺める"
      ]
    },
    {
      "cell_type": "code",
      "metadata": {
        "id": "TAtiNv0xvat9"
      },
      "source": [
        "import matplotlib.pyplot as plt\n",
        "%matplotlib inline"
      ],
      "execution_count": null,
      "outputs": []
    },
    {
      "cell_type": "code",
      "metadata": {
        "colab": {
          "base_uri": "https://localhost:8080/",
          "height": 315
        },
        "id": "PblOodW0veAB",
        "outputId": "73c2ffc0-f0ed-4ab5-d6c9-b76ee942823b"
      },
      "source": [
        "df.hist()"
      ],
      "execution_count": null,
      "outputs": [
        {
          "output_type": "execute_result",
          "data": {
            "text/plain": [
              "array([[<matplotlib.axes._subplots.AxesSubplot object at 0x7f2667136ad0>]],\n",
              "      dtype=object)"
            ]
          },
          "metadata": {
            "tags": []
          },
          "execution_count": 9
        },
        {
          "output_type": "display_data",
          "data": {
            "image/png": "[encoded data removed]",
            "text/plain": [
              "<Figure size 432x288 with 1 Axes>"
            ]
          },
          "metadata": {
            "tags": [],
            "needs_background": "light"
          }
        }
      ]
    },
    {
      "cell_type": "markdown",
      "metadata": {
        "id": "t-eYwbSdbAdY"
      },
      "source": [
        "## Tokenize"
      ]
    },
    {
      "cell_type": "code",
      "metadata": {
        "id": "55ys5WF3a_ap"
      },
      "source": [
        "import MeCab\n",
        "\n",
        "def tokenize(text, target_pos=['名詞', '形容詞', '形容動詞', '動詞', '副詞']):\n",
        "  tokens = []\n",
        "  mecab = MeCab.Tagger ('-d /usr/lib/x86_64-linux-gnu/mecab/dic/mecab-ipadic-neologd')\n",
        "  mecab.parse('') #文字列がGCされるのを防ぐ\n",
        "  node = mecab.parseToNode(text)\n",
        "  while node:\n",
        "    #単語を取得\n",
        "    word = node.surface\n",
        "    #品詞を取得\n",
        "    pos = node.feature.split(\",\")[0]\n",
        "    # 名詞の場合のみ抽出\n",
        "    if pos in target_pos:\n",
        "      tokens.append(word)\n",
        "    #次の単語に進める\n",
        "    node = node.next\n",
        "  return tokens"
      ],
      "execution_count": null,
      "outputs": []
    },
    {
      "cell_type": "markdown",
      "metadata": {
        "id": "CiBKPPN7OwHQ"
      },
      "source": [
        "## 分かち書き"
      ]
    },
    {
      "cell_type": "code",
      "metadata": {
        "colab": {
          "base_uri": "https://localhost:8080/",
          "height": 555
        },
        "id": "veQhHbPtPJMo",
        "outputId": "e98e6bd3-36f1-451f-b2ca-a7778584bf60"
      },
      "source": [
        "df['text_wakati'] = df['text'].map(lambda x: ' '.join(tokenize(x)))\n",
        "df"
      ],
      "execution_count": null,
      "outputs": [
        {
          "output_type": "execute_result",
          "data": {
            "text/html": [
              "<div>\n",
              "<style scoped>\n",
              "    .dataframe tbody tr th:only-of-type {\n",
              "        vertical-align: middle;\n",
              "    }\n",
              "\n",
              "    .dataframe tbody tr th {\n",
              "        vertical-align: top;\n",
              "    }\n",
              "\n",
              "    .dataframe thead th {\n",
              "        text-align: right;\n",
              "    }\n",
              "</style>\n",
              "<table border=\"1\" class=\"dataframe\">\n",
              "  <thead>\n",
              "    <tr style=\"text-align: right;\">\n",
              "      <th></th>\n",
              "      <th>text</th>\n",
              "      <th>target</th>\n",
              "      <th>text_wakati</th>\n",
              "    </tr>\n",
              "  </thead>\n",
              "  <tbody>\n",
              "    <tr>\n",
              "      <th>0</th>\n",
              "      <td>これらの例は、SummaRuNNerがドキュメントのキーポイントを特定する上で適度に良い仕事...</td>\n",
              "      <td>0</td>\n",
              "      <td>これら 例 SummaRuNNer ドキュメント キーポイント 特定 する 上 適度 良い ...</td>\n",
              "    </tr>\n",
              "    <tr>\n",
              "      <th>1</th>\n",
              "      <td>もう一つの新しい貢献は、抽出モデルの抽象化学習で、人間が生成した参考文献の要約だけで学習する...</td>\n",
              "      <td>0</td>\n",
              "      <td>もう 一つ 新しい 貢献 抽出 モデル 抽象化 学習 人間 生成 し 参考文献 要約 学習 ...</td>\n",
              "    </tr>\n",
              "    <tr>\n",
              "      <th>2</th>\n",
              "      <td>ごく最近の研究では、ChengとLapata(0)が、抽出的な単一文書の要約のためのアテンシ...</td>\n",
              "      <td>0</td>\n",
              "      <td>ごく 最近 研究 Cheng Lapata 0 抽出 的 単一 文書 要約 ため アテンショ...</td>\n",
              "    </tr>\n",
              "    <tr>\n",
              "      <th>3</th>\n",
              "      <td>また、Infomap のクラスタリングアルゴリズムの代わりに、グラフベースのクラスタリングア...</td>\n",
              "      <td>2</td>\n",
              "      <td>Infomap クラスタリング アルゴリズム 代わり グラフ ベース クラスタリング アルゴ...</td>\n",
              "    </tr>\n",
              "    <tr>\n",
              "      <th>4</th>\n",
              "      <td>情報技術とインターネットの出現により、世界は毎秒数テラバイトの情報を生み出しています。</td>\n",
              "      <td>2</td>\n",
              "      <td>情報技術 インターネット 出現 世界 数 テラ バイト 情報 生み出し い</td>\n",
              "    </tr>\n",
              "    <tr>\n",
              "      <th>...</th>\n",
              "      <td>...</td>\n",
              "      <td>...</td>\n",
              "      <td>...</td>\n",
              "    </tr>\n",
              "    <tr>\n",
              "      <th>183</th>\n",
              "      <td>私たちの研究では、生成モデルの基本的な枠組みとしてVAEを採用しています。</td>\n",
              "      <td>1</td>\n",
              "      <td>私たち 研究 生成 モデル 基本 的 枠組み VAE 採用 し い</td>\n",
              "    </tr>\n",
              "    <tr>\n",
              "      <th>184</th>\n",
              "      <td>評価では、教師あり学習に基づく0つの文選択法を提供しています。Support Vector ...</td>\n",
              "      <td>1</td>\n",
              "      <td>評価 教師あり学習 基づく 0 文 選択 法 提供 し い Support Vector R...</td>\n",
              "    </tr>\n",
              "    <tr>\n",
              "      <th>185</th>\n",
              "      <td>ランダムベースラインは、各トピックの文章をランダムに選択します。</td>\n",
              "      <td>1</td>\n",
              "      <td>ランダムベースライン トピック 文章 ランダム 選択 し</td>\n",
              "    </tr>\n",
              "    <tr>\n",
              "      <th>186</th>\n",
              "      <td>本研究では、潜在的意味空間と観測された項ベクトル空間の再構成を共同で考慮する、教師なしデータ...</td>\n",
              "      <td>1</td>\n",
              "      <td>研究 潜在的 意味 空間 観測 さ れ 項 ベクトル空間 再構成 共同 考慮 する 教師 な...</td>\n",
              "    </tr>\n",
              "    <tr>\n",
              "      <th>187</th>\n",
              "      <td>ベンチマークデータセットであるDUCとTACでの実験結果は、我々のフレームワークが最先端のモ...</td>\n",
              "      <td>1</td>\n",
              "      <td>ベンチマーク データセット DUC TAC 実験結果 我々 フレームワーク 最先端 モデル ...</td>\n",
              "    </tr>\n",
              "  </tbody>\n",
              "</table>\n",
              "<p>188 rows × 3 columns</p>\n",
              "</div>"
            ],
            "text/plain": [
              "                                                  text  ...                                        text_wakati\n",
              "0    これらの例は、SummaRuNNerがドキュメントのキーポイントを特定する上で適度に良い仕事...  ...  これら 例 SummaRuNNer ドキュメント キーポイント 特定 する 上 適度 良い ...\n",
              "1    もう一つの新しい貢献は、抽出モデルの抽象化学習で、人間が生成した参考文献の要約だけで学習する...  ...  もう 一つ 新しい 貢献 抽出 モデル 抽象化 学習 人間 生成 し 参考文献 要約 学習 ...\n",
              "2    ごく最近の研究では、ChengとLapata(0)が、抽出的な単一文書の要約のためのアテンシ...  ...  ごく 最近 研究 Cheng Lapata 0 抽出 的 単一 文書 要約 ため アテンショ...\n",
              "3    また、Infomap のクラスタリングアルゴリズムの代わりに、グラフベースのクラスタリングア...  ...  Infomap クラスタリング アルゴリズム 代わり グラフ ベース クラスタリング アルゴ...\n",
              "4          情報技術とインターネットの出現により、世界は毎秒数テラバイトの情報を生み出しています。  ...              情報技術 インターネット 出現 世界 数 テラ バイト 情報 生み出し い\n",
              "..                                                 ...  ...                                                ...\n",
              "183              私たちの研究では、生成モデルの基本的な枠組みとしてVAEを採用しています。  ...                  私たち 研究 生成 モデル 基本 的 枠組み VAE 採用 し い\n",
              "184  評価では、教師あり学習に基づく0つの文選択法を提供しています。Support Vector ...  ...  評価 教師あり学習 基づく 0 文 選択 法 提供 し い Support Vector R...\n",
              "185                   ランダムベースラインは、各トピックの文章をランダムに選択します。  ...                       ランダムベースライン トピック 文章 ランダム 選択 し\n",
              "186  本研究では、潜在的意味空間と観測された項ベクトル空間の再構成を共同で考慮する、教師なしデータ...  ...  研究 潜在的 意味 空間 観測 さ れ 項 ベクトル空間 再構成 共同 考慮 する 教師 な...\n",
              "187  ベンチマークデータセットであるDUCとTACでの実験結果は、我々のフレームワークが最先端のモ...  ...  ベンチマーク データセット DUC TAC 実験結果 我々 フレームワーク 最先端 モデル ...\n",
              "\n",
              "[188 rows x 3 columns]"
            ]
          },
          "metadata": {
            "tags": []
          },
          "execution_count": 25
        }
      ]
    },
    {
      "cell_type": "markdown",
      "metadata": {
        "id": "y98EWmGrbv_r"
      },
      "source": [
        "## 単語埋め込みのために、学習と検証とテストに分割"
      ]
    },
    {
      "cell_type": "code",
      "metadata": {
        "id": "NzfNlT7jbzOc",
        "colab": {
          "base_uri": "https://localhost:8080/"
        },
        "outputId": "0ea90f7c-138c-48f2-b197-2f12647bf12f"
      },
      "source": [
        "from sklearn.model_selection import train_test_split\n",
        "\n",
        "train, valid_test = train_test_split(df, test_size=0.2, random_state=144, stratify=df['target'])\n",
        "valid, test = train_test_split(valid_test, test_size=0.5, random_state=144, stratify=valid_test['target'])\n",
        "\n",
        "# 事例数の確認\n",
        "print('===学習データ===')\n",
        "print(train['target'].value_counts())\n",
        "print('===検証データ===')\n",
        "print(valid['target'].value_counts())\n",
        "print('===評価データ===')\n",
        "print(test['target'].value_counts())"
      ],
      "execution_count": null,
      "outputs": [
        {
          "output_type": "stream",
          "text": [
            "===学習データ===\n",
            "1    62\n",
            "3    37\n",
            "0    26\n",
            "2    25\n",
            "Name: target, dtype: int64\n",
            "===検証データ===\n",
            "1    8\n",
            "3    4\n",
            "2    4\n",
            "0    3\n",
            "Name: target, dtype: int64\n",
            "===評価データ===\n",
            "1    8\n",
            "3    5\n",
            "2    3\n",
            "0    3\n",
            "Name: target, dtype: int64\n"
          ],
          "name": "stdout"
        }
      ]
    },
    {
      "cell_type": "markdown",
      "metadata": {
        "id": "qks1t3igW0gP"
      },
      "source": [
        "## TF-IDFによるベクトル化"
      ]
    },
    {
      "cell_type": "code",
      "metadata": {
        "colab": {
          "base_uri": "https://localhost:8080/"
        },
        "id": "x5XGuQzqT-HY",
        "outputId": "c4ca67af-2a16-4551-f637-e61fe5691cf4"
      },
      "source": [
        "from sklearn.feature_extraction.text import TfidfVectorizer\n",
        "\n",
        "vectorizer = TfidfVectorizer(tokenizer=tokenize, ngram_range=(1, 1))\n",
        "vectors = vectorizer.fit_transform(train_df.text)\n",
        "vectors.shape"
      ],
      "execution_count": null,
      "outputs": [
        {
          "output_type": "execute_result",
          "data": {
            "text/plain": [
              "(150, 838)"
            ]
          },
          "metadata": {
            "tags": []
          },
          "execution_count": 11
        }
      ]
    },
    {
      "cell_type": "code",
      "metadata": {
        "id": "FLgTnBiXV_VU"
      },
      "source": [
        "# TF-IDFによるベクトル化\n",
        "vectors_test = vectorizer.transform(test_df.text)"
      ],
      "execution_count": null,
      "outputs": []
    },
    {
      "cell_type": "markdown",
      "metadata": {
        "id": "vyxBpfbAsOzi"
      },
      "source": [
        "## Word2Vecによるベクトル化"
      ]
    },
    {
      "cell_type": "code",
      "metadata": {
        "colab": {
          "base_uri": "https://localhost:8080/",
          "height": 419
        },
        "id": "e6jiDncCvDNc",
        "outputId": "75b39b46-9ee2-4b2c-bc30-6482aac7f08b"
      },
      "source": [
        "wakati = train[['text_wakati']]\n",
        "wakati.to_csv('wakati.csv', sep='\\n', header=True, index=False)\n",
        "wakati"
      ],
      "execution_count": null,
      "outputs": [
        {
          "output_type": "execute_result",
          "data": {
            "text/html": [
              "<div>\n",
              "<style scoped>\n",
              "    .dataframe tbody tr th:only-of-type {\n",
              "        vertical-align: middle;\n",
              "    }\n",
              "\n",
              "    .dataframe tbody tr th {\n",
              "        vertical-align: top;\n",
              "    }\n",
              "\n",
              "    .dataframe thead th {\n",
              "        text-align: right;\n",
              "    }\n",
              "</style>\n",
              "<table border=\"1\" class=\"dataframe\">\n",
              "  <thead>\n",
              "    <tr style=\"text-align: right;\">\n",
              "      <th></th>\n",
              "      <th>text_wakati</th>\n",
              "    </tr>\n",
              "  </thead>\n",
              "  <tbody>\n",
              "    <tr>\n",
              "      <th>149</th>\n",
              "      <td>研究 Recurrent Neural Network RNN ベース シーケンス モデル ...</td>\n",
              "    </tr>\n",
              "    <tr>\n",
              "      <th>10</th>\n",
              "      <td>要約 システム フルサイズ 記事 縮小 し 関連 する 情報 文章 主要 アイデア 中心 的...</td>\n",
              "    </tr>\n",
              "    <tr>\n",
              "      <th>116</th>\n",
              "      <td>生成 モデル データ 構築 プロセス 精神 基づい いくつか 潜在 的 アスペクト ベクトル...</td>\n",
              "    </tr>\n",
              "    <tr>\n",
              "      <th>187</th>\n",
              "      <td>場合 句読点 削除 さ れ</td>\n",
              "    </tr>\n",
              "    <tr>\n",
              "      <th>156</th>\n",
              "      <td>文 名前 つい 実体 削除 する こと 文 ペア ごと 類似 度 測定 値 偏り なくなり ...</td>\n",
              "    </tr>\n",
              "    <tr>\n",
              "      <th>...</th>\n",
              "      <td>...</td>\n",
              "    </tr>\n",
              "    <tr>\n",
              "      <th>115</th>\n",
              "      <td>生 入力 ストップワード 頻繁 使用 さ れる 記事 接続詞 接続詞 除去 する ため 処理...</td>\n",
              "    </tr>\n",
              "    <tr>\n",
              "      <th>117</th>\n",
              "      <td>ごく 最近 研究 Cheng Lapata 0 抽出 的 単一 文書 要約 ため アテンショ...</td>\n",
              "    </tr>\n",
              "    <tr>\n",
              "      <th>3</th>\n",
              "      <td>近年 自然言語処理 NLP 非常 堅固 数学 的 基盤 移行 し い</td>\n",
              "    </tr>\n",
              "    <tr>\n",
              "      <th>22</th>\n",
              "      <td>SUMMONS Radev McKeown 0 複数 ソース 情報 抽出 結合 し 情報 言...</td>\n",
              "    </tr>\n",
              "    <tr>\n",
              "      <th>47</th>\n",
              "      <td>Lead baseline Wasson 0 ニュース 時系列 ランク付け し 先頭 センテ...</td>\n",
              "    </tr>\n",
              "  </tbody>\n",
              "</table>\n",
              "<p>150 rows × 1 columns</p>\n",
              "</div>"
            ],
            "text/plain": [
              "                                           text_wakati\n",
              "149  研究 Recurrent Neural Network RNN ベース シーケンス モデル ...\n",
              "10   要約 システム フルサイズ 記事 縮小 し 関連 する 情報 文章 主要 アイデア 中心 的...\n",
              "116  生成 モデル データ 構築 プロセス 精神 基づい いくつか 潜在 的 アスペクト ベクトル...\n",
              "187                                      場合 句読点 削除 さ れ\n",
              "156  文 名前 つい 実体 削除 する こと 文 ペア ごと 類似 度 測定 値 偏り なくなり ...\n",
              "..                                                 ...\n",
              "115  生 入力 ストップワード 頻繁 使用 さ れる 記事 接続詞 接続詞 除去 する ため 処理...\n",
              "117  ごく 最近 研究 Cheng Lapata 0 抽出 的 単一 文書 要約 ため アテンショ...\n",
              "3                   近年 自然言語処理 NLP 非常 堅固 数学 的 基盤 移行 し い\n",
              "22   SUMMONS Radev McKeown 0 複数 ソース 情報 抽出 結合 し 情報 言...\n",
              "47   Lead baseline Wasson 0 ニュース 時系列 ランク付け し 先頭 センテ...\n",
              "\n",
              "[150 rows x 1 columns]"
            ]
          },
          "metadata": {
            "tags": []
          },
          "execution_count": 13
        }
      ]
    },
    {
      "cell_type": "code",
      "metadata": {
        "id": "fspdXqGGsR28"
      },
      "source": [
        "from gensim.models import word2vec\n",
        "import logging\n",
        "\n",
        "logging.basicConfig(format='%(asctime)s : %(levelname)s : %(message)s', level=logging.INFO)\n",
        "sentence_data = word2vec.LineSentence('wakati.csv')\n",
        "vectorizer = word2vec.Word2Vec(sentence_data,\n",
        "                         sg=1,        # Skip-gram\n",
        "                         size=200,    # 次元数\n",
        "                         min_count=5, # min_count回未満の単語を破棄\n",
        "                         window=5,    # 文脈の最大単語数\n",
        "                         hs=1,        # 階層ソフトマックス(ネガティブサンプリングするなら0)\n",
        "                         negative=5,  # ネガティブサンプリング\n",
        "                         iter=50      # Epoch数\n",
        "                         )"
      ],
      "execution_count": null,
      "outputs": []
    },
    {
      "cell_type": "code",
      "metadata": {
        "colab": {
          "base_uri": "https://localhost:8080/"
        },
        "id": "N89lOhmHvmns",
        "outputId": "49eeb18b-2569-40e1-861b-b1c4d4bc2b31"
      },
      "source": [
        "vectorizer.most_similar('研究')"
      ],
      "execution_count": null,
      "outputs": [
        {
          "output_type": "stream",
          "text": [
            "/usr/local/lib/python3.7/dist-packages/ipykernel_launcher.py:1: DeprecationWarning: Call to deprecated `most_similar` (Method will be removed in 4.0.0, use self.wv.most_similar() instead).\n",
            "  \"\"\"Entry point for launching an IPython kernel.\n",
            "2021-06-21 06:50:41,333 : INFO : precomputing L2-norms of word weight vectors\n"
          ],
          "name": "stderr"
        },
        {
          "output_type": "execute_result",
          "data": {
            "text/plain": [
              "[('コーパス', 0.8662776947021484),\n",
              " ('使用', 0.8247900605201721),\n",
              " ('い', 0.7848438024520874),\n",
              " ('関連', 0.7839489579200745),\n",
              " ('CNN', 0.7731467485427856),\n",
              " ('適用', 0.7502363920211792),\n",
              " ('こと', 0.7492337226867676),\n",
              " ('ドキュメント', 0.7454434633255005),\n",
              " ('VAE', 0.7122609615325928),\n",
              " ('示し', 0.6909725069999695)]"
            ]
          },
          "metadata": {
            "tags": []
          },
          "execution_count": 15
        }
      ]
    },
    {
      "cell_type": "code",
      "metadata": {
        "id": "To_Y8Vaa-P11"
      },
      "source": [
        "import inspect\n",
        "\n",
        "# vectorizerオブジェクトのメソッド一覧\n",
        "for x in inspect.getmembers(vectorizer, inspect.ismethod):\n",
        "  print(x[0])"
      ],
      "execution_count": null,
      "outputs": []
    },
    {
      "cell_type": "markdown",
      "metadata": {
        "id": "k_upBpgZfPMs"
      },
      "source": [
        "## 単語埋め込みから特徴ベクトル作成"
      ]
    },
    {
      "cell_type": "code",
      "metadata": {
        "id": "LAusSWOqfhLd"
      },
      "source": [
        "import string\n",
        "import torch\n",
        "\n",
        "def transform_w2v(text):\n",
        "  table = str.maketrans(string.punctuation, ' '*len(string.punctuation))\n",
        "  words = text.translate(table).split()  # 記号をスペースに置換後、スペースで分割してリスト化\n",
        "  vec = [vectorizer[word] for word in words if word in vectorizer]  # 1語ずつベクトル化\n",
        "\n",
        "  return torch.tensor(sum(vec) / len(vec))  # 平均ベクトルをTensor型に変換して出力"
      ],
      "execution_count": null,
      "outputs": []
    },
    {
      "cell_type": "code",
      "metadata": {
        "colab": {
          "base_uri": "https://localhost:8080/"
        },
        "id": "nswz3rqyf3kP",
        "outputId": "d1a2d2ce-be4b-4a7d-d3ae-871ffc1a8ffa"
      },
      "source": [
        "# 特徴ベクトルの作成\n",
        "X_train = torch.stack([transform_w2v(text) for text in train['text_wakati']])\n",
        "X_valid = torch.stack([transform_w2v(text) for text in valid['text_wakati']])\n",
        "X_test = torch.stack([transform_w2v(text) for text in test['text_wakati']])\n",
        "\n",
        "print(X_train.size())\n",
        "print(X_train)"
      ],
      "execution_count": null,
      "outputs": [
        {
          "output_type": "stream",
          "text": [
            "torch.Size([150, 300])\n",
            "tensor([[ 0.0082,  0.1482,  0.0645,  ...,  0.0595, -0.0429, -0.0154],\n",
            "        [-0.1112, -0.0050,  0.0784,  ...,  0.0530,  0.0678,  0.0772],\n",
            "        [-0.1331,  0.0259, -0.0141,  ...,  0.1070,  0.0831,  0.0161],\n",
            "        ...,\n",
            "        [-0.0841,  0.0472,  0.0747,  ...,  0.0709, -0.1082, -0.0299],\n",
            "        [-0.1101,  0.0452, -0.0171,  ...,  0.1383, -0.0479, -0.0441],\n",
            "        [-0.0954,  0.0727,  0.0907,  ..., -0.0231, -0.0737,  0.0767]])\n"
          ],
          "name": "stdout"
        }
      ]
    },
    {
      "cell_type": "markdown",
      "metadata": {
        "id": "9ri7vzkLyB4g"
      },
      "source": [
        "## ラベルベクトルの作成"
      ]
    },
    {
      "cell_type": "code",
      "metadata": {
        "colab": {
          "base_uri": "https://localhost:8080/"
        },
        "id": "yLEhP0KryFIm",
        "outputId": "a386b1e0-a396-4e59-a64d-4998c860ea00"
      },
      "source": [
        "y_train = torch.tensor(train['target'].values)\n",
        "y_valid = torch.tensor(valid['target'].values)\n",
        "y_test = torch.tensor(test['target'].values)\n",
        "\n",
        "print(y_train.size())\n",
        "print(y_train)"
      ],
      "execution_count": null,
      "outputs": [
        {
          "output_type": "stream",
          "text": [
            "torch.Size([150])\n",
            "tensor([0, 2, 1, 2, 2, 3, 1, 1, 1, 1, 1, 0, 3, 3, 1, 1, 0, 1, 1, 3, 3, 2, 0, 1,\n",
            "        1, 3, 0, 1, 3, 1, 2, 1, 3, 1, 0, 1, 2, 1, 2, 1, 3, 0, 3, 1, 1, 3, 0, 1,\n",
            "        1, 2, 2, 2, 3, 2, 1, 1, 1, 3, 3, 1, 3, 1, 1, 0, 1, 1, 0, 3, 3, 1, 3, 3,\n",
            "        2, 2, 3, 0, 1, 0, 1, 2, 0, 2, 1, 1, 3, 1, 3, 0, 3, 2, 3, 1, 0, 1, 3, 1,\n",
            "        1, 1, 2, 3, 2, 1, 1, 1, 0, 3, 1, 1, 2, 1, 3, 1, 1, 0, 3, 0, 3, 2, 2, 0,\n",
            "        1, 2, 2, 1, 0, 1, 3, 1, 3, 1, 3, 0, 1, 3, 0, 1, 1, 0, 0, 3, 2, 1, 1, 0,\n",
            "        1, 2, 0, 3, 3, 1])\n"
          ],
          "name": "stdout"
        }
      ]
    },
    {
      "cell_type": "markdown",
      "metadata": {
        "id": "ftcH_56OhFMY"
      },
      "source": [
        "## Word2Vecによるベクトル化（ChiVe）"
      ]
    },
    {
      "cell_type": "code",
      "metadata": {
        "colab": {
          "base_uri": "https://localhost:8080/"
        },
        "id": "nMGvYqjFhRLV",
        "outputId": "7d72a20f-4efb-4210-f33e-3462df399ffb"
      },
      "source": [
        "import gensim\n",
        "import urllib.request\n",
        "import sys\n",
        "\n",
        "#ダウンロード\n",
        "url = \"https://sudachi.s3-ap-northeast-1.amazonaws.com/chive/chive-1.2-mc90_gensim.tar.gz\"  #ファイルのURLを指定\n",
        "urllib.request.urlretrieve(url,\"chive.tar.gz\")\n",
        "#解凍\n",
        "!tar -zxvf chive.tar.gz\n",
        "\n",
        "vectorizer = gensim.models.KeyedVectors.load(\"chive-1.2-mc90_gensim/chive-1.2-mc90.kv\")"
      ],
      "execution_count": null,
      "outputs": [
        {
          "output_type": "stream",
          "text": [
            "chive-1.2-mc90_gensim/\n",
            "chive-1.2-mc90_gensim/LICENSE\n",
            "chive-1.2-mc90_gensim/README.md\n",
            "chive-1.2-mc90_gensim/chive-1.2-mc90.kv.vectors.npy\n",
            "chive-1.2-mc90_gensim/chive-1.2-mc90.kv\n"
          ],
          "name": "stdout"
        },
        {
          "output_type": "stream",
          "text": [
            "2021-06-21 06:53:01,262 : INFO : loading Word2VecKeyedVectors object from chive-1.2-mc90_gensim/chive-1.2-mc90.kv\n",
            "2021-06-21 06:53:03,544 : INFO : loading vectors from chive-1.2-mc90_gensim/chive-1.2-mc90.kv.vectors.npy with mmap=None\n",
            "2021-06-21 06:53:04,165 : INFO : setting ignored attribute vectors_norm to None\n",
            "2021-06-21 06:53:04,167 : INFO : loaded chive-1.2-mc90_gensim/chive-1.2-mc90.kv\n"
          ],
          "name": "stderr"
        }
      ]
    },
    {
      "cell_type": "code",
      "metadata": {
        "colab": {
          "base_uri": "https://localhost:8080/"
        },
        "id": "WpjB1x7Fluh2",
        "outputId": "b62fd931-53f4-442d-eef8-816b0a517b15"
      },
      "source": [
        "vectorizer.similarity('ゼロ', '零')"
      ],
      "execution_count": null,
      "outputs": [
        {
          "output_type": "execute_result",
          "data": {
            "text/plain": [
              "0.42525005"
            ]
          },
          "metadata": {
            "tags": []
          },
          "execution_count": 28
        }
      ]
    },
    {
      "cell_type": "code",
      "metadata": {
        "colab": {
          "base_uri": "https://localhost:8080/"
        },
        "id": "Oio1_Ef2pZob",
        "outputId": "9fba9cb5-64b7-4f35-e079-410ae726c41d"
      },
      "source": [
        "vectorizer.most_similar('ゼロ')"
      ],
      "execution_count": null,
      "outputs": [
        {
          "output_type": "stream",
          "text": [
            "2021-06-21 06:18:37,679 : INFO : precomputing L2-norms of word weight vectors\n"
          ],
          "name": "stderr"
        },
        {
          "output_type": "execute_result",
          "data": {
            "text/plain": [
              "[('皆無', 0.5345298051834106),\n",
              " ('限り無い', 0.5146239995956421),\n",
              " ('等しい', 0.5105463266372681),\n",
              " ('zero', 0.48313069343566895),\n",
              " ('0', 0.4786607027053833),\n",
              " ('ルイズゴスパンク', 0.45806729793548584),\n",
              " ('使い魔', 0.4574781060218811),\n",
              " ('ナッシング', 0.4523527920246124),\n",
              " ('シュナイゼル', 0.43490493297576904),\n",
              " ('零', 0.42524999380111694)]"
            ]
          },
          "metadata": {
            "tags": []
          },
          "execution_count": 99
        }
      ]
    },
    {
      "cell_type": "markdown",
      "metadata": {
        "id": "CjtwoxIwuSge"
      },
      "source": [
        "## ベクトルをDFに変換"
      ]
    },
    {
      "cell_type": "code",
      "metadata": {
        "id": "MjfTOkJCh--R"
      },
      "source": [
        "# ベクトルをデータフレームに変換\n",
        "train_text_df = pd.DataFrame(vectors.toarray(), columns=vectorizer.get_feature_names())\n",
        "test_text_df = pd.DataFrame(vectors_test.toarray(), columns=vectorizer.get_feature_names())"
      ],
      "execution_count": null,
      "outputs": []
    },
    {
      "cell_type": "code",
      "metadata": {
        "id": "mROs36AqiYs7",
        "colab": {
          "base_uri": "https://localhost:8080/",
          "height": 304
        },
        "outputId": "79ab2b7b-8497-43a7-dee5-925dc346e699"
      },
      "source": [
        "train_text_df.head()"
      ],
      "execution_count": null,
      "outputs": [
        {
          "output_type": "execute_result",
          "data": {
            "text/html": [
              "<div>\n",
              "<style scoped>\n",
              "    .dataframe tbody tr th:only-of-type {\n",
              "        vertical-align: middle;\n",
              "    }\n",
              "\n",
              "    .dataframe tbody tr th {\n",
              "        vertical-align: top;\n",
              "    }\n",
              "\n",
              "    .dataframe thead th {\n",
              "        text-align: right;\n",
              "    }\n",
              "</style>\n",
              "<table border=\"1\" class=\"dataframe\">\n",
              "  <thead>\n",
              "    <tr style=\"text-align: right;\">\n",
              "      <th></th>\n",
              "      <th>\"</th>\n",
              "      <th>\")</th>\n",
              "      <th>$</th>\n",
              "      <th>&amp;</th>\n",
              "      <th>(</th>\n",
              "      <th>)</th>\n",
              "      <th>))</th>\n",
              "      <th>))、</th>\n",
              "      <th>)、</th>\n",
              "      <th>)。</th>\n",
              "      <th>,</th>\n",
              "      <th>-</th>\n",
              "      <th>.</th>\n",
              "      <th>.\"</th>\n",
              "      <th>/</th>\n",
              "      <th>0</th>\n",
              "      <th>:</th>\n",
              "      <th>:(</th>\n",
              "      <th>;</th>\n",
              "      <th>[</th>\n",
              "      <th>]</th>\n",
              "      <th>][</th>\n",
              "      <th>_</th>\n",
              "      <th>a</th>\n",
              "      <th>absphrase</th>\n",
              "      <th>administration</th>\n",
              "      <th>adversarial</th>\n",
              "      <th>al</th>\n",
              "      <th>amish</th>\n",
              "      <th>an</th>\n",
              "      <th>and</th>\n",
              "      <th>auto</th>\n",
              "      <th>autoencoders</th>\n",
              "      <th>bahdanau</th>\n",
              "      <th>barzilay</th>\n",
              "      <th>baseline</th>\n",
              "      <th>bbc</th>\n",
              "      <th>beautifulsoup</th>\n",
              "      <th>before</th>\n",
              "      <th>bengio</th>\n",
              "      <th>...</th>\n",
              "      <th>通り</th>\n",
              "      <th>通常</th>\n",
              "      <th>連続</th>\n",
              "      <th>進め</th>\n",
              "      <th>遅</th>\n",
              "      <th>過去</th>\n",
              "      <th>達成</th>\n",
              "      <th>適度</th>\n",
              "      <th>適用</th>\n",
              "      <th>選択</th>\n",
              "      <th>部</th>\n",
              "      <th>部分</th>\n",
              "      <th>重み</th>\n",
              "      <th>重み付け</th>\n",
              "      <th>重要</th>\n",
              "      <th>量</th>\n",
              "      <th>鈍感</th>\n",
              "      <th>長</th>\n",
              "      <th>間</th>\n",
              "      <th>関わる</th>\n",
              "      <th>関係</th>\n",
              "      <th>関連</th>\n",
              "      <th>閾値</th>\n",
              "      <th>限り</th>\n",
              "      <th>除去</th>\n",
              "      <th>際</th>\n",
              "      <th>隣接</th>\n",
              "      <th>集合</th>\n",
              "      <th>難しい</th>\n",
              "      <th>非常</th>\n",
              "      <th>頂点</th>\n",
              "      <th>項</th>\n",
              "      <th>頻度</th>\n",
              "      <th>頻繁</th>\n",
              "      <th>類似</th>\n",
              "      <th>食品</th>\n",
              "      <th>駆動</th>\n",
              "      <th>高い</th>\n",
              "      <th>高度</th>\n",
              "      <th>魅力</th>\n",
              "    </tr>\n",
              "  </thead>\n",
              "  <tbody>\n",
              "    <tr>\n",
              "      <th>0</th>\n",
              "      <td>0.0</td>\n",
              "      <td>0.0</td>\n",
              "      <td>0.0</td>\n",
              "      <td>0.0</td>\n",
              "      <td>0.0</td>\n",
              "      <td>0.0</td>\n",
              "      <td>0.0</td>\n",
              "      <td>0.0</td>\n",
              "      <td>0.0</td>\n",
              "      <td>0.0</td>\n",
              "      <td>0.0</td>\n",
              "      <td>0.0</td>\n",
              "      <td>0.0</td>\n",
              "      <td>0.0</td>\n",
              "      <td>0.0</td>\n",
              "      <td>0.169139</td>\n",
              "      <td>0.0</td>\n",
              "      <td>0.0</td>\n",
              "      <td>0.0</td>\n",
              "      <td>0.0</td>\n",
              "      <td>0.0</td>\n",
              "      <td>0.0</td>\n",
              "      <td>0.0</td>\n",
              "      <td>0.0</td>\n",
              "      <td>0.0</td>\n",
              "      <td>0.0</td>\n",
              "      <td>0.0</td>\n",
              "      <td>0.0</td>\n",
              "      <td>0.0</td>\n",
              "      <td>0.0</td>\n",
              "      <td>0.0</td>\n",
              "      <td>0.0</td>\n",
              "      <td>0.0</td>\n",
              "      <td>0.0</td>\n",
              "      <td>0.0</td>\n",
              "      <td>0.0</td>\n",
              "      <td>0.0</td>\n",
              "      <td>0.0</td>\n",
              "      <td>0.0</td>\n",
              "      <td>0.0</td>\n",
              "      <td>...</td>\n",
              "      <td>0.0</td>\n",
              "      <td>0.0</td>\n",
              "      <td>0.0</td>\n",
              "      <td>0.0</td>\n",
              "      <td>0.0</td>\n",
              "      <td>0.0</td>\n",
              "      <td>0.0</td>\n",
              "      <td>0.0</td>\n",
              "      <td>0.0</td>\n",
              "      <td>0.0</td>\n",
              "      <td>0.0</td>\n",
              "      <td>0.0</td>\n",
              "      <td>0.0</td>\n",
              "      <td>0.0</td>\n",
              "      <td>0.00000</td>\n",
              "      <td>0.0</td>\n",
              "      <td>0.0</td>\n",
              "      <td>0.000000</td>\n",
              "      <td>0.0</td>\n",
              "      <td>0.0</td>\n",
              "      <td>0.0</td>\n",
              "      <td>0.000000</td>\n",
              "      <td>0.0</td>\n",
              "      <td>0.0</td>\n",
              "      <td>0.0</td>\n",
              "      <td>0.0</td>\n",
              "      <td>0.0</td>\n",
              "      <td>0.0</td>\n",
              "      <td>0.0</td>\n",
              "      <td>0.0</td>\n",
              "      <td>0.0</td>\n",
              "      <td>0.0</td>\n",
              "      <td>0.0</td>\n",
              "      <td>0.0</td>\n",
              "      <td>0.0</td>\n",
              "      <td>0.0</td>\n",
              "      <td>0.0</td>\n",
              "      <td>0.0</td>\n",
              "      <td>0.0</td>\n",
              "      <td>0.0</td>\n",
              "    </tr>\n",
              "    <tr>\n",
              "      <th>1</th>\n",
              "      <td>0.0</td>\n",
              "      <td>0.0</td>\n",
              "      <td>0.0</td>\n",
              "      <td>0.0</td>\n",
              "      <td>0.0</td>\n",
              "      <td>0.0</td>\n",
              "      <td>0.0</td>\n",
              "      <td>0.0</td>\n",
              "      <td>0.0</td>\n",
              "      <td>0.0</td>\n",
              "      <td>0.0</td>\n",
              "      <td>0.0</td>\n",
              "      <td>0.0</td>\n",
              "      <td>0.0</td>\n",
              "      <td>0.0</td>\n",
              "      <td>0.000000</td>\n",
              "      <td>0.0</td>\n",
              "      <td>0.0</td>\n",
              "      <td>0.0</td>\n",
              "      <td>0.0</td>\n",
              "      <td>0.0</td>\n",
              "      <td>0.0</td>\n",
              "      <td>0.0</td>\n",
              "      <td>0.0</td>\n",
              "      <td>0.0</td>\n",
              "      <td>0.0</td>\n",
              "      <td>0.0</td>\n",
              "      <td>0.0</td>\n",
              "      <td>0.0</td>\n",
              "      <td>0.0</td>\n",
              "      <td>0.0</td>\n",
              "      <td>0.0</td>\n",
              "      <td>0.0</td>\n",
              "      <td>0.0</td>\n",
              "      <td>0.0</td>\n",
              "      <td>0.0</td>\n",
              "      <td>0.0</td>\n",
              "      <td>0.0</td>\n",
              "      <td>0.0</td>\n",
              "      <td>0.0</td>\n",
              "      <td>...</td>\n",
              "      <td>0.0</td>\n",
              "      <td>0.0</td>\n",
              "      <td>0.0</td>\n",
              "      <td>0.0</td>\n",
              "      <td>0.0</td>\n",
              "      <td>0.0</td>\n",
              "      <td>0.0</td>\n",
              "      <td>0.0</td>\n",
              "      <td>0.0</td>\n",
              "      <td>0.0</td>\n",
              "      <td>0.0</td>\n",
              "      <td>0.0</td>\n",
              "      <td>0.0</td>\n",
              "      <td>0.0</td>\n",
              "      <td>0.22841</td>\n",
              "      <td>0.0</td>\n",
              "      <td>0.0</td>\n",
              "      <td>0.000000</td>\n",
              "      <td>0.0</td>\n",
              "      <td>0.0</td>\n",
              "      <td>0.0</td>\n",
              "      <td>0.000000</td>\n",
              "      <td>0.0</td>\n",
              "      <td>0.0</td>\n",
              "      <td>0.0</td>\n",
              "      <td>0.0</td>\n",
              "      <td>0.0</td>\n",
              "      <td>0.0</td>\n",
              "      <td>0.0</td>\n",
              "      <td>0.0</td>\n",
              "      <td>0.0</td>\n",
              "      <td>0.0</td>\n",
              "      <td>0.0</td>\n",
              "      <td>0.0</td>\n",
              "      <td>0.0</td>\n",
              "      <td>0.0</td>\n",
              "      <td>0.0</td>\n",
              "      <td>0.0</td>\n",
              "      <td>0.0</td>\n",
              "      <td>0.0</td>\n",
              "    </tr>\n",
              "    <tr>\n",
              "      <th>2</th>\n",
              "      <td>0.0</td>\n",
              "      <td>0.0</td>\n",
              "      <td>0.0</td>\n",
              "      <td>0.0</td>\n",
              "      <td>0.0</td>\n",
              "      <td>0.0</td>\n",
              "      <td>0.0</td>\n",
              "      <td>0.0</td>\n",
              "      <td>0.0</td>\n",
              "      <td>0.0</td>\n",
              "      <td>0.0</td>\n",
              "      <td>0.0</td>\n",
              "      <td>0.0</td>\n",
              "      <td>0.0</td>\n",
              "      <td>0.0</td>\n",
              "      <td>0.000000</td>\n",
              "      <td>0.0</td>\n",
              "      <td>0.0</td>\n",
              "      <td>0.0</td>\n",
              "      <td>0.0</td>\n",
              "      <td>0.0</td>\n",
              "      <td>0.0</td>\n",
              "      <td>0.0</td>\n",
              "      <td>0.0</td>\n",
              "      <td>0.0</td>\n",
              "      <td>0.0</td>\n",
              "      <td>0.0</td>\n",
              "      <td>0.0</td>\n",
              "      <td>0.0</td>\n",
              "      <td>0.0</td>\n",
              "      <td>0.0</td>\n",
              "      <td>0.0</td>\n",
              "      <td>0.0</td>\n",
              "      <td>0.0</td>\n",
              "      <td>0.0</td>\n",
              "      <td>0.0</td>\n",
              "      <td>0.0</td>\n",
              "      <td>0.0</td>\n",
              "      <td>0.0</td>\n",
              "      <td>0.0</td>\n",
              "      <td>...</td>\n",
              "      <td>0.0</td>\n",
              "      <td>0.0</td>\n",
              "      <td>0.0</td>\n",
              "      <td>0.0</td>\n",
              "      <td>0.0</td>\n",
              "      <td>0.0</td>\n",
              "      <td>0.0</td>\n",
              "      <td>0.0</td>\n",
              "      <td>0.0</td>\n",
              "      <td>0.0</td>\n",
              "      <td>0.0</td>\n",
              "      <td>0.0</td>\n",
              "      <td>0.0</td>\n",
              "      <td>0.0</td>\n",
              "      <td>0.00000</td>\n",
              "      <td>0.0</td>\n",
              "      <td>0.0</td>\n",
              "      <td>0.000000</td>\n",
              "      <td>0.0</td>\n",
              "      <td>0.0</td>\n",
              "      <td>0.0</td>\n",
              "      <td>0.000000</td>\n",
              "      <td>0.0</td>\n",
              "      <td>0.0</td>\n",
              "      <td>0.0</td>\n",
              "      <td>0.0</td>\n",
              "      <td>0.0</td>\n",
              "      <td>0.0</td>\n",
              "      <td>0.0</td>\n",
              "      <td>0.0</td>\n",
              "      <td>0.0</td>\n",
              "      <td>0.0</td>\n",
              "      <td>0.0</td>\n",
              "      <td>0.0</td>\n",
              "      <td>0.0</td>\n",
              "      <td>0.0</td>\n",
              "      <td>0.0</td>\n",
              "      <td>0.0</td>\n",
              "      <td>0.0</td>\n",
              "      <td>0.0</td>\n",
              "    </tr>\n",
              "    <tr>\n",
              "      <th>3</th>\n",
              "      <td>0.0</td>\n",
              "      <td>0.0</td>\n",
              "      <td>0.0</td>\n",
              "      <td>0.0</td>\n",
              "      <td>0.0</td>\n",
              "      <td>0.0</td>\n",
              "      <td>0.0</td>\n",
              "      <td>0.0</td>\n",
              "      <td>0.0</td>\n",
              "      <td>0.0</td>\n",
              "      <td>0.0</td>\n",
              "      <td>0.0</td>\n",
              "      <td>0.0</td>\n",
              "      <td>0.0</td>\n",
              "      <td>0.0</td>\n",
              "      <td>0.000000</td>\n",
              "      <td>0.0</td>\n",
              "      <td>0.0</td>\n",
              "      <td>0.0</td>\n",
              "      <td>0.0</td>\n",
              "      <td>0.0</td>\n",
              "      <td>0.0</td>\n",
              "      <td>0.0</td>\n",
              "      <td>0.0</td>\n",
              "      <td>0.0</td>\n",
              "      <td>0.0</td>\n",
              "      <td>0.0</td>\n",
              "      <td>0.0</td>\n",
              "      <td>0.0</td>\n",
              "      <td>0.0</td>\n",
              "      <td>0.0</td>\n",
              "      <td>0.0</td>\n",
              "      <td>0.0</td>\n",
              "      <td>0.0</td>\n",
              "      <td>0.0</td>\n",
              "      <td>0.0</td>\n",
              "      <td>0.0</td>\n",
              "      <td>0.0</td>\n",
              "      <td>0.0</td>\n",
              "      <td>0.0</td>\n",
              "      <td>...</td>\n",
              "      <td>0.0</td>\n",
              "      <td>0.0</td>\n",
              "      <td>0.0</td>\n",
              "      <td>0.0</td>\n",
              "      <td>0.0</td>\n",
              "      <td>0.0</td>\n",
              "      <td>0.0</td>\n",
              "      <td>0.0</td>\n",
              "      <td>0.0</td>\n",
              "      <td>0.0</td>\n",
              "      <td>0.0</td>\n",
              "      <td>0.0</td>\n",
              "      <td>0.0</td>\n",
              "      <td>0.0</td>\n",
              "      <td>0.00000</td>\n",
              "      <td>0.0</td>\n",
              "      <td>0.0</td>\n",
              "      <td>0.000000</td>\n",
              "      <td>0.0</td>\n",
              "      <td>0.0</td>\n",
              "      <td>0.0</td>\n",
              "      <td>0.217562</td>\n",
              "      <td>0.0</td>\n",
              "      <td>0.0</td>\n",
              "      <td>0.0</td>\n",
              "      <td>0.0</td>\n",
              "      <td>0.0</td>\n",
              "      <td>0.0</td>\n",
              "      <td>0.0</td>\n",
              "      <td>0.0</td>\n",
              "      <td>0.0</td>\n",
              "      <td>0.0</td>\n",
              "      <td>0.0</td>\n",
              "      <td>0.0</td>\n",
              "      <td>0.0</td>\n",
              "      <td>0.0</td>\n",
              "      <td>0.0</td>\n",
              "      <td>0.0</td>\n",
              "      <td>0.0</td>\n",
              "      <td>0.0</td>\n",
              "    </tr>\n",
              "    <tr>\n",
              "      <th>4</th>\n",
              "      <td>0.0</td>\n",
              "      <td>0.0</td>\n",
              "      <td>0.0</td>\n",
              "      <td>0.0</td>\n",
              "      <td>0.0</td>\n",
              "      <td>0.0</td>\n",
              "      <td>0.0</td>\n",
              "      <td>0.0</td>\n",
              "      <td>0.0</td>\n",
              "      <td>0.0</td>\n",
              "      <td>0.0</td>\n",
              "      <td>0.0</td>\n",
              "      <td>0.0</td>\n",
              "      <td>0.0</td>\n",
              "      <td>0.0</td>\n",
              "      <td>0.000000</td>\n",
              "      <td>0.0</td>\n",
              "      <td>0.0</td>\n",
              "      <td>0.0</td>\n",
              "      <td>0.0</td>\n",
              "      <td>0.0</td>\n",
              "      <td>0.0</td>\n",
              "      <td>0.0</td>\n",
              "      <td>0.0</td>\n",
              "      <td>0.0</td>\n",
              "      <td>0.0</td>\n",
              "      <td>0.0</td>\n",
              "      <td>0.0</td>\n",
              "      <td>0.0</td>\n",
              "      <td>0.0</td>\n",
              "      <td>0.0</td>\n",
              "      <td>0.0</td>\n",
              "      <td>0.0</td>\n",
              "      <td>0.0</td>\n",
              "      <td>0.0</td>\n",
              "      <td>0.0</td>\n",
              "      <td>0.0</td>\n",
              "      <td>0.0</td>\n",
              "      <td>0.0</td>\n",
              "      <td>0.0</td>\n",
              "      <td>...</td>\n",
              "      <td>0.0</td>\n",
              "      <td>0.0</td>\n",
              "      <td>0.0</td>\n",
              "      <td>0.0</td>\n",
              "      <td>0.0</td>\n",
              "      <td>0.0</td>\n",
              "      <td>0.0</td>\n",
              "      <td>0.0</td>\n",
              "      <td>0.0</td>\n",
              "      <td>0.0</td>\n",
              "      <td>0.0</td>\n",
              "      <td>0.0</td>\n",
              "      <td>0.0</td>\n",
              "      <td>0.0</td>\n",
              "      <td>0.00000</td>\n",
              "      <td>0.0</td>\n",
              "      <td>0.0</td>\n",
              "      <td>0.536577</td>\n",
              "      <td>0.0</td>\n",
              "      <td>0.0</td>\n",
              "      <td>0.0</td>\n",
              "      <td>0.000000</td>\n",
              "      <td>0.0</td>\n",
              "      <td>0.0</td>\n",
              "      <td>0.0</td>\n",
              "      <td>0.0</td>\n",
              "      <td>0.0</td>\n",
              "      <td>0.0</td>\n",
              "      <td>0.0</td>\n",
              "      <td>0.0</td>\n",
              "      <td>0.0</td>\n",
              "      <td>0.0</td>\n",
              "      <td>0.0</td>\n",
              "      <td>0.0</td>\n",
              "      <td>0.0</td>\n",
              "      <td>0.0</td>\n",
              "      <td>0.0</td>\n",
              "      <td>0.0</td>\n",
              "      <td>0.0</td>\n",
              "      <td>0.0</td>\n",
              "    </tr>\n",
              "  </tbody>\n",
              "</table>\n",
              "<p>5 rows × 838 columns</p>\n",
              "</div>"
            ],
            "text/plain": [
              "     \"   \")    $    &    (    )   ))  ...   頻繁   類似   食品   駆動   高い   高度   魅力\n",
              "0  0.0  0.0  0.0  0.0  0.0  0.0  0.0  ...  0.0  0.0  0.0  0.0  0.0  0.0  0.0\n",
              "1  0.0  0.0  0.0  0.0  0.0  0.0  0.0  ...  0.0  0.0  0.0  0.0  0.0  0.0  0.0\n",
              "2  0.0  0.0  0.0  0.0  0.0  0.0  0.0  ...  0.0  0.0  0.0  0.0  0.0  0.0  0.0\n",
              "3  0.0  0.0  0.0  0.0  0.0  0.0  0.0  ...  0.0  0.0  0.0  0.0  0.0  0.0  0.0\n",
              "4  0.0  0.0  0.0  0.0  0.0  0.0  0.0  ...  0.0  0.0  0.0  0.0  0.0  0.0  0.0\n",
              "\n",
              "[5 rows x 838 columns]"
            ]
          },
          "metadata": {
            "tags": []
          },
          "execution_count": 14
        }
      ]
    },
    {
      "cell_type": "code",
      "metadata": {
        "id": "i4mlf_EFijL9",
        "colab": {
          "base_uri": "https://localhost:8080/",
          "height": 304
        },
        "outputId": "dacb7309-9f21-4bed-c5f3-9824ec46c6b6"
      },
      "source": [
        "test_text_df.head()"
      ],
      "execution_count": null,
      "outputs": [
        {
          "output_type": "execute_result",
          "data": {
            "text/html": [
              "<div>\n",
              "<style scoped>\n",
              "    .dataframe tbody tr th:only-of-type {\n",
              "        vertical-align: middle;\n",
              "    }\n",
              "\n",
              "    .dataframe tbody tr th {\n",
              "        vertical-align: top;\n",
              "    }\n",
              "\n",
              "    .dataframe thead th {\n",
              "        text-align: right;\n",
              "    }\n",
              "</style>\n",
              "<table border=\"1\" class=\"dataframe\">\n",
              "  <thead>\n",
              "    <tr style=\"text-align: right;\">\n",
              "      <th></th>\n",
              "      <th>\"</th>\n",
              "      <th>\")</th>\n",
              "      <th>$</th>\n",
              "      <th>&amp;</th>\n",
              "      <th>(</th>\n",
              "      <th>)</th>\n",
              "      <th>))</th>\n",
              "      <th>))、</th>\n",
              "      <th>)、</th>\n",
              "      <th>)。</th>\n",
              "      <th>,</th>\n",
              "      <th>-</th>\n",
              "      <th>.</th>\n",
              "      <th>.\"</th>\n",
              "      <th>/</th>\n",
              "      <th>0</th>\n",
              "      <th>:</th>\n",
              "      <th>:(</th>\n",
              "      <th>;</th>\n",
              "      <th>[</th>\n",
              "      <th>]</th>\n",
              "      <th>][</th>\n",
              "      <th>_</th>\n",
              "      <th>a</th>\n",
              "      <th>absphrase</th>\n",
              "      <th>administration</th>\n",
              "      <th>adversarial</th>\n",
              "      <th>al</th>\n",
              "      <th>amish</th>\n",
              "      <th>an</th>\n",
              "      <th>and</th>\n",
              "      <th>auto</th>\n",
              "      <th>autoencoders</th>\n",
              "      <th>bahdanau</th>\n",
              "      <th>barzilay</th>\n",
              "      <th>baseline</th>\n",
              "      <th>bbc</th>\n",
              "      <th>beautifulsoup</th>\n",
              "      <th>before</th>\n",
              "      <th>bengio</th>\n",
              "      <th>...</th>\n",
              "      <th>通り</th>\n",
              "      <th>通常</th>\n",
              "      <th>連続</th>\n",
              "      <th>進め</th>\n",
              "      <th>遅</th>\n",
              "      <th>過去</th>\n",
              "      <th>達成</th>\n",
              "      <th>適度</th>\n",
              "      <th>適用</th>\n",
              "      <th>選択</th>\n",
              "      <th>部</th>\n",
              "      <th>部分</th>\n",
              "      <th>重み</th>\n",
              "      <th>重み付け</th>\n",
              "      <th>重要</th>\n",
              "      <th>量</th>\n",
              "      <th>鈍感</th>\n",
              "      <th>長</th>\n",
              "      <th>間</th>\n",
              "      <th>関わる</th>\n",
              "      <th>関係</th>\n",
              "      <th>関連</th>\n",
              "      <th>閾値</th>\n",
              "      <th>限り</th>\n",
              "      <th>除去</th>\n",
              "      <th>際</th>\n",
              "      <th>隣接</th>\n",
              "      <th>集合</th>\n",
              "      <th>難しい</th>\n",
              "      <th>非常</th>\n",
              "      <th>頂点</th>\n",
              "      <th>項</th>\n",
              "      <th>頻度</th>\n",
              "      <th>頻繁</th>\n",
              "      <th>類似</th>\n",
              "      <th>食品</th>\n",
              "      <th>駆動</th>\n",
              "      <th>高い</th>\n",
              "      <th>高度</th>\n",
              "      <th>魅力</th>\n",
              "    </tr>\n",
              "  </thead>\n",
              "  <tbody>\n",
              "    <tr>\n",
              "      <th>0</th>\n",
              "      <td>0.0</td>\n",
              "      <td>0.0</td>\n",
              "      <td>0.0</td>\n",
              "      <td>0.0</td>\n",
              "      <td>0.000000</td>\n",
              "      <td>0.000000</td>\n",
              "      <td>0.0</td>\n",
              "      <td>0.0</td>\n",
              "      <td>0.000000</td>\n",
              "      <td>0.0</td>\n",
              "      <td>0.000000</td>\n",
              "      <td>0.000000</td>\n",
              "      <td>0.0</td>\n",
              "      <td>0.0</td>\n",
              "      <td>0.0</td>\n",
              "      <td>0.000000</td>\n",
              "      <td>0.0</td>\n",
              "      <td>0.0</td>\n",
              "      <td>0.0</td>\n",
              "      <td>0.0</td>\n",
              "      <td>0.0</td>\n",
              "      <td>0.0</td>\n",
              "      <td>0.0</td>\n",
              "      <td>0.0</td>\n",
              "      <td>0.0</td>\n",
              "      <td>0.0</td>\n",
              "      <td>0.0</td>\n",
              "      <td>0.000000</td>\n",
              "      <td>0.0</td>\n",
              "      <td>0.0</td>\n",
              "      <td>0.000000</td>\n",
              "      <td>0.0</td>\n",
              "      <td>0.0</td>\n",
              "      <td>0.0</td>\n",
              "      <td>0.0</td>\n",
              "      <td>0.0</td>\n",
              "      <td>0.0</td>\n",
              "      <td>0.0</td>\n",
              "      <td>0.0</td>\n",
              "      <td>0.0</td>\n",
              "      <td>...</td>\n",
              "      <td>0.0</td>\n",
              "      <td>0.0</td>\n",
              "      <td>0.0</td>\n",
              "      <td>0.0</td>\n",
              "      <td>0.0</td>\n",
              "      <td>0.0</td>\n",
              "      <td>0.0</td>\n",
              "      <td>0.0</td>\n",
              "      <td>0.0</td>\n",
              "      <td>0.0</td>\n",
              "      <td>0.0</td>\n",
              "      <td>0.0</td>\n",
              "      <td>0.0</td>\n",
              "      <td>0.0</td>\n",
              "      <td>0.0</td>\n",
              "      <td>0.0</td>\n",
              "      <td>0.0</td>\n",
              "      <td>0.0</td>\n",
              "      <td>0.0</td>\n",
              "      <td>0.0</td>\n",
              "      <td>0.0</td>\n",
              "      <td>0.0</td>\n",
              "      <td>0.0</td>\n",
              "      <td>0.0</td>\n",
              "      <td>0.0</td>\n",
              "      <td>0.0</td>\n",
              "      <td>0.0</td>\n",
              "      <td>0.0</td>\n",
              "      <td>0.0</td>\n",
              "      <td>0.0</td>\n",
              "      <td>0.0</td>\n",
              "      <td>0.0</td>\n",
              "      <td>0.0</td>\n",
              "      <td>0.0</td>\n",
              "      <td>0.0</td>\n",
              "      <td>0.0</td>\n",
              "      <td>0.0</td>\n",
              "      <td>0.0</td>\n",
              "      <td>0.0</td>\n",
              "      <td>0.0</td>\n",
              "    </tr>\n",
              "    <tr>\n",
              "      <th>1</th>\n",
              "      <td>0.0</td>\n",
              "      <td>0.0</td>\n",
              "      <td>0.0</td>\n",
              "      <td>0.0</td>\n",
              "      <td>0.000000</td>\n",
              "      <td>0.000000</td>\n",
              "      <td>0.0</td>\n",
              "      <td>0.0</td>\n",
              "      <td>0.000000</td>\n",
              "      <td>0.0</td>\n",
              "      <td>0.000000</td>\n",
              "      <td>0.000000</td>\n",
              "      <td>0.0</td>\n",
              "      <td>0.0</td>\n",
              "      <td>0.0</td>\n",
              "      <td>0.000000</td>\n",
              "      <td>0.0</td>\n",
              "      <td>0.0</td>\n",
              "      <td>0.0</td>\n",
              "      <td>0.0</td>\n",
              "      <td>0.0</td>\n",
              "      <td>0.0</td>\n",
              "      <td>0.0</td>\n",
              "      <td>0.0</td>\n",
              "      <td>0.0</td>\n",
              "      <td>0.0</td>\n",
              "      <td>0.0</td>\n",
              "      <td>0.000000</td>\n",
              "      <td>0.0</td>\n",
              "      <td>0.0</td>\n",
              "      <td>0.000000</td>\n",
              "      <td>0.0</td>\n",
              "      <td>0.0</td>\n",
              "      <td>0.0</td>\n",
              "      <td>0.0</td>\n",
              "      <td>0.0</td>\n",
              "      <td>0.0</td>\n",
              "      <td>0.0</td>\n",
              "      <td>0.0</td>\n",
              "      <td>0.0</td>\n",
              "      <td>...</td>\n",
              "      <td>0.0</td>\n",
              "      <td>0.0</td>\n",
              "      <td>0.0</td>\n",
              "      <td>0.0</td>\n",
              "      <td>0.0</td>\n",
              "      <td>0.0</td>\n",
              "      <td>0.0</td>\n",
              "      <td>0.0</td>\n",
              "      <td>0.0</td>\n",
              "      <td>0.0</td>\n",
              "      <td>0.0</td>\n",
              "      <td>0.0</td>\n",
              "      <td>0.0</td>\n",
              "      <td>0.0</td>\n",
              "      <td>0.0</td>\n",
              "      <td>0.0</td>\n",
              "      <td>0.0</td>\n",
              "      <td>0.0</td>\n",
              "      <td>0.0</td>\n",
              "      <td>0.0</td>\n",
              "      <td>0.0</td>\n",
              "      <td>0.0</td>\n",
              "      <td>0.0</td>\n",
              "      <td>0.0</td>\n",
              "      <td>0.0</td>\n",
              "      <td>0.0</td>\n",
              "      <td>0.0</td>\n",
              "      <td>0.0</td>\n",
              "      <td>0.0</td>\n",
              "      <td>0.0</td>\n",
              "      <td>0.0</td>\n",
              "      <td>0.0</td>\n",
              "      <td>0.0</td>\n",
              "      <td>0.0</td>\n",
              "      <td>0.0</td>\n",
              "      <td>0.0</td>\n",
              "      <td>0.0</td>\n",
              "      <td>0.0</td>\n",
              "      <td>0.0</td>\n",
              "      <td>0.0</td>\n",
              "    </tr>\n",
              "    <tr>\n",
              "      <th>2</th>\n",
              "      <td>0.0</td>\n",
              "      <td>0.0</td>\n",
              "      <td>0.0</td>\n",
              "      <td>0.0</td>\n",
              "      <td>0.138841</td>\n",
              "      <td>0.149614</td>\n",
              "      <td>0.0</td>\n",
              "      <td>0.0</td>\n",
              "      <td>0.000000</td>\n",
              "      <td>0.0</td>\n",
              "      <td>0.363873</td>\n",
              "      <td>0.000000</td>\n",
              "      <td>0.0</td>\n",
              "      <td>0.0</td>\n",
              "      <td>0.0</td>\n",
              "      <td>0.126108</td>\n",
              "      <td>0.0</td>\n",
              "      <td>0.0</td>\n",
              "      <td>0.0</td>\n",
              "      <td>0.0</td>\n",
              "      <td>0.0</td>\n",
              "      <td>0.0</td>\n",
              "      <td>0.0</td>\n",
              "      <td>0.0</td>\n",
              "      <td>0.0</td>\n",
              "      <td>0.0</td>\n",
              "      <td>0.0</td>\n",
              "      <td>0.000000</td>\n",
              "      <td>0.0</td>\n",
              "      <td>0.0</td>\n",
              "      <td>0.201736</td>\n",
              "      <td>0.0</td>\n",
              "      <td>0.0</td>\n",
              "      <td>0.0</td>\n",
              "      <td>0.0</td>\n",
              "      <td>0.0</td>\n",
              "      <td>0.0</td>\n",
              "      <td>0.0</td>\n",
              "      <td>0.0</td>\n",
              "      <td>0.0</td>\n",
              "      <td>...</td>\n",
              "      <td>0.0</td>\n",
              "      <td>0.0</td>\n",
              "      <td>0.0</td>\n",
              "      <td>0.0</td>\n",
              "      <td>0.0</td>\n",
              "      <td>0.0</td>\n",
              "      <td>0.0</td>\n",
              "      <td>0.0</td>\n",
              "      <td>0.0</td>\n",
              "      <td>0.0</td>\n",
              "      <td>0.0</td>\n",
              "      <td>0.0</td>\n",
              "      <td>0.0</td>\n",
              "      <td>0.0</td>\n",
              "      <td>0.0</td>\n",
              "      <td>0.0</td>\n",
              "      <td>0.0</td>\n",
              "      <td>0.0</td>\n",
              "      <td>0.0</td>\n",
              "      <td>0.0</td>\n",
              "      <td>0.0</td>\n",
              "      <td>0.0</td>\n",
              "      <td>0.0</td>\n",
              "      <td>0.0</td>\n",
              "      <td>0.0</td>\n",
              "      <td>0.0</td>\n",
              "      <td>0.0</td>\n",
              "      <td>0.0</td>\n",
              "      <td>0.0</td>\n",
              "      <td>0.0</td>\n",
              "      <td>0.0</td>\n",
              "      <td>0.0</td>\n",
              "      <td>0.0</td>\n",
              "      <td>0.0</td>\n",
              "      <td>0.0</td>\n",
              "      <td>0.0</td>\n",
              "      <td>0.0</td>\n",
              "      <td>0.0</td>\n",
              "      <td>0.0</td>\n",
              "      <td>0.0</td>\n",
              "    </tr>\n",
              "    <tr>\n",
              "      <th>3</th>\n",
              "      <td>0.0</td>\n",
              "      <td>0.0</td>\n",
              "      <td>0.0</td>\n",
              "      <td>0.0</td>\n",
              "      <td>0.249301</td>\n",
              "      <td>0.089548</td>\n",
              "      <td>0.0</td>\n",
              "      <td>0.0</td>\n",
              "      <td>0.344668</td>\n",
              "      <td>0.0</td>\n",
              "      <td>0.217789</td>\n",
              "      <td>0.303018</td>\n",
              "      <td>0.0</td>\n",
              "      <td>0.0</td>\n",
              "      <td>0.0</td>\n",
              "      <td>0.301918</td>\n",
              "      <td>0.0</td>\n",
              "      <td>0.0</td>\n",
              "      <td>0.0</td>\n",
              "      <td>0.0</td>\n",
              "      <td>0.0</td>\n",
              "      <td>0.0</td>\n",
              "      <td>0.0</td>\n",
              "      <td>0.0</td>\n",
              "      <td>0.0</td>\n",
              "      <td>0.0</td>\n",
              "      <td>0.0</td>\n",
              "      <td>0.262902</td>\n",
              "      <td>0.0</td>\n",
              "      <td>0.0</td>\n",
              "      <td>0.120745</td>\n",
              "      <td>0.0</td>\n",
              "      <td>0.0</td>\n",
              "      <td>0.0</td>\n",
              "      <td>0.0</td>\n",
              "      <td>0.0</td>\n",
              "      <td>0.0</td>\n",
              "      <td>0.0</td>\n",
              "      <td>0.0</td>\n",
              "      <td>0.0</td>\n",
              "      <td>...</td>\n",
              "      <td>0.0</td>\n",
              "      <td>0.0</td>\n",
              "      <td>0.0</td>\n",
              "      <td>0.0</td>\n",
              "      <td>0.0</td>\n",
              "      <td>0.0</td>\n",
              "      <td>0.0</td>\n",
              "      <td>0.0</td>\n",
              "      <td>0.0</td>\n",
              "      <td>0.0</td>\n",
              "      <td>0.0</td>\n",
              "      <td>0.0</td>\n",
              "      <td>0.0</td>\n",
              "      <td>0.0</td>\n",
              "      <td>0.0</td>\n",
              "      <td>0.0</td>\n",
              "      <td>0.0</td>\n",
              "      <td>0.0</td>\n",
              "      <td>0.0</td>\n",
              "      <td>0.0</td>\n",
              "      <td>0.0</td>\n",
              "      <td>0.0</td>\n",
              "      <td>0.0</td>\n",
              "      <td>0.0</td>\n",
              "      <td>0.0</td>\n",
              "      <td>0.0</td>\n",
              "      <td>0.0</td>\n",
              "      <td>0.0</td>\n",
              "      <td>0.0</td>\n",
              "      <td>0.0</td>\n",
              "      <td>0.0</td>\n",
              "      <td>0.0</td>\n",
              "      <td>0.0</td>\n",
              "      <td>0.0</td>\n",
              "      <td>0.0</td>\n",
              "      <td>0.0</td>\n",
              "      <td>0.0</td>\n",
              "      <td>0.0</td>\n",
              "      <td>0.0</td>\n",
              "      <td>0.0</td>\n",
              "    </tr>\n",
              "    <tr>\n",
              "      <th>4</th>\n",
              "      <td>0.0</td>\n",
              "      <td>0.0</td>\n",
              "      <td>0.0</td>\n",
              "      <td>0.0</td>\n",
              "      <td>0.115752</td>\n",
              "      <td>0.124733</td>\n",
              "      <td>0.0</td>\n",
              "      <td>0.0</td>\n",
              "      <td>0.000000</td>\n",
              "      <td>0.0</td>\n",
              "      <td>0.000000</td>\n",
              "      <td>0.000000</td>\n",
              "      <td>0.0</td>\n",
              "      <td>0.0</td>\n",
              "      <td>0.0</td>\n",
              "      <td>0.000000</td>\n",
              "      <td>0.0</td>\n",
              "      <td>0.0</td>\n",
              "      <td>0.0</td>\n",
              "      <td>0.0</td>\n",
              "      <td>0.0</td>\n",
              "      <td>0.0</td>\n",
              "      <td>0.0</td>\n",
              "      <td>0.0</td>\n",
              "      <td>0.0</td>\n",
              "      <td>0.0</td>\n",
              "      <td>0.0</td>\n",
              "      <td>0.000000</td>\n",
              "      <td>0.0</td>\n",
              "      <td>0.0</td>\n",
              "      <td>0.000000</td>\n",
              "      <td>0.0</td>\n",
              "      <td>0.0</td>\n",
              "      <td>0.0</td>\n",
              "      <td>0.0</td>\n",
              "      <td>0.0</td>\n",
              "      <td>0.0</td>\n",
              "      <td>0.0</td>\n",
              "      <td>0.0</td>\n",
              "      <td>0.0</td>\n",
              "      <td>...</td>\n",
              "      <td>0.0</td>\n",
              "      <td>0.0</td>\n",
              "      <td>0.0</td>\n",
              "      <td>0.0</td>\n",
              "      <td>0.0</td>\n",
              "      <td>0.0</td>\n",
              "      <td>0.0</td>\n",
              "      <td>0.0</td>\n",
              "      <td>0.0</td>\n",
              "      <td>0.0</td>\n",
              "      <td>0.0</td>\n",
              "      <td>0.0</td>\n",
              "      <td>0.0</td>\n",
              "      <td>0.0</td>\n",
              "      <td>0.0</td>\n",
              "      <td>0.0</td>\n",
              "      <td>0.0</td>\n",
              "      <td>0.0</td>\n",
              "      <td>0.0</td>\n",
              "      <td>0.0</td>\n",
              "      <td>0.0</td>\n",
              "      <td>0.0</td>\n",
              "      <td>0.0</td>\n",
              "      <td>0.0</td>\n",
              "      <td>0.0</td>\n",
              "      <td>0.0</td>\n",
              "      <td>0.0</td>\n",
              "      <td>0.0</td>\n",
              "      <td>0.0</td>\n",
              "      <td>0.0</td>\n",
              "      <td>0.0</td>\n",
              "      <td>0.0</td>\n",
              "      <td>0.0</td>\n",
              "      <td>0.0</td>\n",
              "      <td>0.0</td>\n",
              "      <td>0.0</td>\n",
              "      <td>0.0</td>\n",
              "      <td>0.0</td>\n",
              "      <td>0.0</td>\n",
              "      <td>0.0</td>\n",
              "    </tr>\n",
              "  </tbody>\n",
              "</table>\n",
              "<p>5 rows × 838 columns</p>\n",
              "</div>"
            ],
            "text/plain": [
              "     \"   \")    $    &         (         )  ...   類似   食品   駆動   高い   高度   魅力\n",
              "0  0.0  0.0  0.0  0.0  0.000000  0.000000  ...  0.0  0.0  0.0  0.0  0.0  0.0\n",
              "1  0.0  0.0  0.0  0.0  0.000000  0.000000  ...  0.0  0.0  0.0  0.0  0.0  0.0\n",
              "2  0.0  0.0  0.0  0.0  0.138841  0.149614  ...  0.0  0.0  0.0  0.0  0.0  0.0\n",
              "3  0.0  0.0  0.0  0.0  0.249301  0.089548  ...  0.0  0.0  0.0  0.0  0.0  0.0\n",
              "4  0.0  0.0  0.0  0.0  0.115752  0.124733  ...  0.0  0.0  0.0  0.0  0.0  0.0\n",
              "\n",
              "[5 rows x 838 columns]"
            ]
          },
          "metadata": {
            "tags": []
          },
          "execution_count": 15
        }
      ]
    },
    {
      "cell_type": "markdown",
      "metadata": {
        "id": "nFbPNx-bjtEn"
      },
      "source": [
        "## 学習 => 予測 => 精度表示"
      ]
    },
    {
      "cell_type": "code",
      "metadata": {
        "id": "Mk3WNhK2jy99"
      },
      "source": [
        "def learn_pred_accuracy(clf, train_x, train_y, valid_x, valid_y, test_x, test_y):\n",
        "  # 学習\n",
        "  clf.fit(train_x, train_y)\n",
        "  # 予測\n",
        "  predict_vy = clf.predict(valid_x)\n",
        "  predict_y = clf.predict(test_x)\n",
        "  # 正解率\n",
        "  print('検証True:', np.count_nonzero(predict_vy == valid_y))\n",
        "  print('検証False:', np.count_nonzero(predict_vy != valid_y))\n",
        "  print('検証正解率:', np.count_nonzero(predict_vy == valid_y) / len(valid_y))\n",
        "  print('テストTrue:', np.count_nonzero(predict_y == test_y))\n",
        "  print('テストFalse:', np.count_nonzero(predict_y != test_y))\n",
        "  print('テスト正解率:', np.count_nonzero(predict_y == test_y) / len(test_y))\n",
        "  # 様々な精度結果\n",
        "  print(classification_report(test_y, predict_y))\n",
        "  # 正解と予測データ\n",
        "  print('検証正解：', valid_y)\n",
        "  print('検証予測：', predict_vy)\n",
        "  print('test正解：', test_y)\n",
        "  print('test予測：', predict_y)\n",
        "  # 予測データのヒストグラム\n",
        "  plt.hist(predict_vy)\n",
        "  plt.show()\n",
        "  plt.hist(predict_y)"
      ],
      "execution_count": null,
      "outputs": []
    },
    {
      "cell_type": "markdown",
      "metadata": {
        "id": "JMBdXIhjmkzN"
      },
      "source": [
        "## 各データをnp.array化"
      ]
    },
    {
      "cell_type": "code",
      "metadata": {
        "id": "zeKNIKM6moPN"
      },
      "source": [
        "train_x = np.array(train_text_df)\n",
        "train_y = np.array(train_df.target)\n",
        "test_x = np.array(test_text_df)\n",
        "test_y = np.array(test_df.target)"
      ],
      "execution_count": null,
      "outputs": []
    },
    {
      "cell_type": "markdown",
      "metadata": {
        "id": "ZrQ8nQFowyjk"
      },
      "source": [
        "## 正解データのヒストグラム"
      ]
    },
    {
      "cell_type": "code",
      "metadata": {
        "id": "2lqxoVbjw1X_",
        "colab": {
          "base_uri": "https://localhost:8080/",
          "height": 316
        },
        "outputId": "735ffb96-5594-4762-b82c-27185150774a"
      },
      "source": [
        "plt.hist(y_test)"
      ],
      "execution_count": null,
      "outputs": [
        {
          "output_type": "execute_result",
          "data": {
            "text/plain": [
              "(array([3., 0., 0., 8., 0., 0., 3., 0., 0., 5.]),\n",
              " array([0. , 0.3, 0.6, 0.9, 1.2, 1.5, 1.8, 2.1, 2.4, 2.7, 3. ]),\n",
              " <a list of 10 Patch objects>)"
            ]
          },
          "metadata": {
            "tags": []
          },
          "execution_count": 34
        },
        {
          "output_type": "display_data",
          "data": {
            "image/png": "[encoded data removed]",
            "text/plain": [
              "<Figure size 432x288 with 1 Axes>"
            ]
          },
          "metadata": {
            "tags": [],
            "needs_background": "light"
          }
        }
      ]
    },
    {
      "cell_type": "markdown",
      "metadata": {
        "id": "FzXAXS80cdAG"
      },
      "source": [
        "## Naive Bayes"
      ]
    },
    {
      "cell_type": "code",
      "metadata": {
        "id": "8ghCXrmrcnRp",
        "colab": {
          "base_uri": "https://localhost:8080/",
          "height": 924
        },
        "outputId": "c60ce778-dbf0-46d9-e13d-78b6812096a4"
      },
      "source": [
        "from sklearn.naive_bayes import MultinomialNB\n",
        "from sklearn.metrics import classification_report\n",
        "from sklearn import preprocessing\n",
        "\n",
        "clf = MultinomialNB(alpha=.01)\n",
        "mm = preprocessing.MinMaxScaler()\n",
        "X_train_mm = mm.fit_transform(X_train)\n",
        "X_valid_mm = mm.transform(X_valid)\n",
        "X_test_mm = mm.transform(X_test)\n",
        "mm = preprocessing.MinMaxScaler()\n",
        "learn_pred_accuracy(clf, X_train_mm, y_train, X_valid_mm, np.array(y_valid), X_test_mm, np.array(y_test))"
      ],
      "execution_count": null,
      "outputs": [
        {
          "output_type": "stream",
          "text": [
            "検証True: 9\n",
            "検証False: 10\n",
            "検証正解率: 0.47368421052631576\n",
            "テストTrue: 11\n",
            "テストFalse: 8\n",
            "テスト正解率: 0.5789473684210527\n",
            "              precision    recall  f1-score   support\n",
            "\n",
            "           0       0.00      0.00      0.00         3\n",
            "           1       0.80      1.00      0.89         8\n",
            "           2       0.33      0.33      0.33         3\n",
            "           3       0.33      0.40      0.36         5\n",
            "\n",
            "    accuracy                           0.58        19\n",
            "   macro avg       0.37      0.43      0.40        19\n",
            "weighted avg       0.48      0.58      0.52        19\n",
            "\n",
            "検証正解： [0 1 2 1 1 1 1 2 1 3 3 1 2 0 2 3 3 0 1]\n",
            "検証予測： [0 1 3 1 1 0 1 3 1 2 3 3 3 1 1 3 3 1 2]\n",
            "test正解： [1 1 3 2 1 3 0 1 1 1 1 2 0 3 0 1 3 2 3]\n",
            "test予測： [1 1 1 2 1 3 3 1 1 1 1 3 3 2 3 1 3 1 2]\n"
          ],
          "name": "stdout"
        },
        {
          "output_type": "stream",
          "text": [
            "/usr/local/lib/python3.7/dist-packages/sklearn/metrics/_classification.py:1272: UndefinedMetricWarning: Precision and F-score are ill-defined and being set to 0.0 in labels with no predicted samples. Use `zero_division` parameter to control this behavior.\n",
            "  _warn_prf(average, modifier, msg_start, len(result))\n"
          ],
          "name": "stderr"
        },
        {
          "output_type": "display_data",
          "data": {
            "image/png": "[encoded data removed]",
            "text/plain": [
              "<Figure size 432x288 with 1 Axes>"
            ]
          },
          "metadata": {
            "tags": [],
            "needs_background": "light"
          }
        },
        {
          "output_type": "display_data",
          "data": {
            "image/png": "[encoded data removed]",
            "text/plain": [
              "<Figure size 432x288 with 1 Axes>"
            ]
          },
          "metadata": {
            "tags": [],
            "needs_background": "light"
          }
        }
      ]
    },
    {
      "cell_type": "markdown",
      "metadata": {
        "id": "GqeNKzrhnG-i"
      },
      "source": [
        "## DecisionTreeClassifier"
      ]
    },
    {
      "cell_type": "code",
      "metadata": {
        "id": "fn7EMms7d2rk",
        "colab": {
          "base_uri": "https://localhost:8080/",
          "height": 870
        },
        "outputId": "931f5ee1-d250-44c3-c970-c98990f88da2"
      },
      "source": [
        "from sklearn.tree import DecisionTreeClassifier\n",
        "\n",
        "clf = DecisionTreeClassifier(random_state=144)\n",
        "learn_pred_accuracy(clf, X_train, y_train, X_valid, np.array(y_valid), X_test, np.array(y_test))"
      ],
      "execution_count": null,
      "outputs": [
        {
          "output_type": "stream",
          "text": [
            "検証True: 10\n",
            "検証False: 9\n",
            "検証正解率: 0.5263157894736842\n",
            "テストTrue: 9\n",
            "テストFalse: 10\n",
            "テスト正解率: 0.47368421052631576\n",
            "              precision    recall  f1-score   support\n",
            "\n",
            "           0       0.00      0.00      0.00         3\n",
            "           1       0.70      0.88      0.78         8\n",
            "           2       0.00      0.00      0.00         3\n",
            "           3       0.33      0.40      0.36         5\n",
            "\n",
            "    accuracy                           0.47        19\n",
            "   macro avg       0.26      0.32      0.29        19\n",
            "weighted avg       0.38      0.47      0.42        19\n",
            "\n",
            "検証正解： [0 1 2 1 1 1 1 2 1 3 3 1 2 0 2 3 3 0 1]\n",
            "検証予測： [0 1 2 0 0 1 1 1 1 3 0 1 3 1 1 3 3 1 3]\n",
            "test正解： [1 1 3 2 1 3 0 1 1 1 1 2 0 3 0 1 3 2 3]\n",
            "test予測： [1 1 1 0 0 1 3 1 1 1 1 3 2 3 3 1 3 3 1]\n"
          ],
          "name": "stdout"
        },
        {
          "output_type": "display_data",
          "data": {
            "image/png": "[encoded data removed]",
            "text/plain": [
              "<Figure size 432x288 with 1 Axes>"
            ]
          },
          "metadata": {
            "tags": [],
            "needs_background": "light"
          }
        },
        {
          "output_type": "display_data",
          "data": {
            "image/png": "[encoded data removed]",
            "text/plain": [
              "<Figure size 432x288 with 1 Axes>"
            ]
          },
          "metadata": {
            "tags": [],
            "needs_background": "light"
          }
        }
      ]
    },
    {
      "cell_type": "markdown",
      "metadata": {
        "id": "vEFzpOjOns1e"
      },
      "source": [
        "## XGBoost"
      ]
    },
    {
      "cell_type": "code",
      "metadata": {
        "id": "oKPVK9QFnYJn",
        "colab": {
          "base_uri": "https://localhost:8080/",
          "height": 870
        },
        "outputId": "cd2be8c8-ca49-49d2-e1ac-4cb3848ff02c"
      },
      "source": [
        "from xgboost import XGBClassifier\n",
        "\n",
        "clf = XGBClassifier(random_state=144, objective='binary:logistic')\n",
        "learn_pred_accuracy(clf, X_train, y_train, X_valid, np.array(y_valid), X_test, np.array(y_test))"
      ],
      "execution_count": null,
      "outputs": [
        {
          "output_type": "stream",
          "text": [
            "検証True: 10\n",
            "検証False: 9\n",
            "検証正解率: 0.5263157894736842\n",
            "テストTrue: 12\n",
            "テストFalse: 7\n",
            "テスト正解率: 0.631578947368421\n",
            "              precision    recall  f1-score   support\n",
            "\n",
            "           0       0.00      0.00      0.00         3\n",
            "           1       0.80      1.00      0.89         8\n",
            "           2       0.50      0.67      0.57         3\n",
            "           3       0.50      0.40      0.44         5\n",
            "\n",
            "    accuracy                           0.63        19\n",
            "   macro avg       0.45      0.52      0.48        19\n",
            "weighted avg       0.55      0.63      0.58        19\n",
            "\n",
            "検証正解： [0 1 2 1 1 1 1 2 1 3 3 1 2 0 2 3 3 0 1]\n",
            "検証予測： [0 1 2 1 1 0 1 0 1 2 3 3 3 1 1 1 3 1 1]\n",
            "test正解： [1 1 3 2 1 3 0 1 1 1 1 2 0 3 0 1 3 2 3]\n",
            "test予測： [1 1 0 2 1 3 3 1 1 1 1 2 3 2 2 1 3 1 1]\n"
          ],
          "name": "stdout"
        },
        {
          "output_type": "display_data",
          "data": {
            "image/png": "[encoded data removed]",
            "text/plain": [
              "<Figure size 432x288 with 1 Axes>"
            ]
          },
          "metadata": {
            "tags": [],
            "needs_background": "light"
          }
        },
        {
          "output_type": "display_data",
          "data": {
            "image/png": "[encoded data removed]",
            "text/plain": [
              "<Figure size 432x288 with 1 Axes>"
            ]
          },
          "metadata": {
            "tags": [],
            "needs_background": "light"
          }
        }
      ]
    },
    {
      "cell_type": "markdown",
      "metadata": {
        "id": "kYruzJdvn6Hj"
      },
      "source": [
        "## ロジスティック回帰"
      ]
    },
    {
      "cell_type": "code",
      "metadata": {
        "id": "gqG7Rr-Bnpk_",
        "colab": {
          "base_uri": "https://localhost:8080/",
          "height": 924
        },
        "outputId": "fbc7bdcc-a507-4df1-a984-1efe866812ae"
      },
      "source": [
        "from sklearn.linear_model import LogisticRegression\n",
        "\n",
        "clf = LogisticRegression(random_state=144, max_iter=144000)\n",
        "learn_pred_accuracy(clf, X_train, y_train, X_valid, np.array(y_valid), X_test, np.array(y_test))"
      ],
      "execution_count": null,
      "outputs": [
        {
          "output_type": "stream",
          "text": [
            "検証True: 10\n",
            "検証False: 9\n",
            "検証正解率: 0.5263157894736842\n",
            "テストTrue: 11\n",
            "テストFalse: 8\n",
            "テスト正解率: 0.5789473684210527\n",
            "              precision    recall  f1-score   support\n",
            "\n",
            "           0       0.00      0.00      0.00         3\n",
            "           1       0.80      1.00      0.89         8\n",
            "           2       0.33      0.33      0.33         3\n",
            "           3       0.33      0.40      0.36         5\n",
            "\n",
            "    accuracy                           0.58        19\n",
            "   macro avg       0.37      0.43      0.40        19\n",
            "weighted avg       0.48      0.58      0.52        19\n",
            "\n",
            "検証正解： [0 1 2 1 1 1 1 2 1 3 3 1 2 0 2 3 3 0 1]\n",
            "検証予測： [0 1 3 1 1 0 1 3 1 2 3 1 3 1 1 3 3 1 2]\n",
            "test正解： [1 1 3 2 1 3 0 1 1 1 1 2 0 3 0 1 3 2 3]\n",
            "test予測： [1 1 1 2 1 3 3 1 1 1 1 3 3 2 3 1 3 1 2]\n"
          ],
          "name": "stdout"
        },
        {
          "output_type": "stream",
          "text": [
            "/usr/local/lib/python3.7/dist-packages/sklearn/metrics/_classification.py:1272: UndefinedMetricWarning: Precision and F-score are ill-defined and being set to 0.0 in labels with no predicted samples. Use `zero_division` parameter to control this behavior.\n",
            "  _warn_prf(average, modifier, msg_start, len(result))\n"
          ],
          "name": "stderr"
        },
        {
          "output_type": "display_data",
          "data": {
            "image/png": "[encoded data removed]",
            "text/plain": [
              "<Figure size 432x288 with 1 Axes>"
            ]
          },
          "metadata": {
            "tags": [],
            "needs_background": "light"
          }
        },
        {
          "output_type": "display_data",
          "data": {
            "image/png": "[encoded data removed]",
            "text/plain": [
              "<Figure size 432x288 with 1 Axes>"
            ]
          },
          "metadata": {
            "tags": [],
            "needs_background": "light"
          }
        }
      ]
    },
    {
      "cell_type": "markdown",
      "metadata": {
        "id": "H2deBM65iZ-r"
      },
      "source": [
        "## 単層ニューラルネットワーク（SLPNet）"
      ]
    },
    {
      "cell_type": "code",
      "metadata": {
        "id": "8SZUgnqNn5F4"
      },
      "source": [
        "from torch import nn\n",
        "\n",
        "class SLPNet(nn.Module):\n",
        "  def __init__(self, input_size, output_size):\n",
        "    super().__init__()\n",
        "    self.fc = nn.Linear(input_size, output_size, bias=False)\n",
        "    nn.init.normal_(self.fc.weight, 0.0, 1.0)  # 正規乱数で重みを初期化\n",
        "\n",
        "  def forward(self, x):\n",
        "    x = self.fc(x)\n",
        "    return x"
      ],
      "execution_count": null,
      "outputs": []
    },
    {
      "cell_type": "code",
      "metadata": {
        "colab": {
          "base_uri": "https://localhost:8080/"
        },
        "id": "LrATzWDLjB2F",
        "outputId": "056ae904-7224-4a61-e53f-18ef02992565"
      },
      "source": [
        "input_size = len(X_train.T)\n",
        "mid_size = len(X_valid.T)\n",
        "output_size = df['target'].nunique()\n",
        "model = SLPNet(input_size, output_size)  # 単層ニューラルネットワークの初期化\n",
        "y_hat = torch.softmax(model(X_train[:output_size]), dim=-1)\n",
        "print(y_hat)"
      ],
      "execution_count": null,
      "outputs": [
        {
          "output_type": "stream",
          "text": [
            "tensor([[0.0029, 0.9361, 0.0451, 0.0159],\n",
            "        [0.0025, 0.0979, 0.6613, 0.2384],\n",
            "        [0.0143, 0.5575, 0.1339, 0.2943],\n",
            "        [0.1380, 0.1521, 0.3306, 0.3793]], grad_fn=<SoftmaxBackward>)\n"
          ],
          "name": "stdout"
        }
      ]
    },
    {
      "cell_type": "code",
      "metadata": {
        "id": "AqIBtWmhkNKO"
      },
      "source": [
        "criterion = nn.CrossEntropyLoss()"
      ],
      "execution_count": null,
      "outputs": []
    },
    {
      "cell_type": "code",
      "metadata": {
        "colab": {
          "base_uri": "https://localhost:8080/"
        },
        "id": "NybI1v81ki3F",
        "outputId": "7cae6097-6e3e-4827-ec95-9c37a9993dd7"
      },
      "source": [
        "l = criterion(model(X_train[:output_size]), torch.tensor(list(y_train))[:output_size])  # 入力ベクトルはsoftmax前の値\n",
        "model.zero_grad()  # 勾配をゼロで初期化\n",
        "l.backward()  # 勾配を計算\n",
        "print(f'損失: {l:.4f}')\n",
        "print(f'勾配:\\n{model.fc.weight.grad}')"
      ],
      "execution_count": null,
      "outputs": [
        {
          "output_type": "stream",
          "text": [
            "損失: 1.9868\n",
            "勾配:\n",
            "tensor([[-0.0003, -0.0339, -0.0167,  ..., -0.0128,  0.0099,  0.0029],\n",
            "        [ 0.0165,  0.0349,  0.0179,  ...,  0.0052, -0.0188, -0.0047],\n",
            "        [-0.0061, -0.0112, -0.0033,  ..., -0.0083,  0.0021, -0.0010],\n",
            "        [-0.0101,  0.0102,  0.0021,  ...,  0.0158,  0.0068,  0.0028]])\n"
          ],
          "name": "stdout"
        }
      ]
    },
    {
      "cell_type": "code",
      "metadata": {
        "id": "XxsEWeWhlIAN"
      },
      "source": [
        "from torch.utils.data import Dataset\n",
        "\n",
        "class NewsDataset(Dataset):\n",
        "  def __init__(self, X, y):  # datasetの構成要素を指定\n",
        "    self.X = X\n",
        "    self.y = y\n",
        "\n",
        "  def __len__(self):  # len(dataset)で返す値を指定\n",
        "    return len(self.y)\n",
        "\n",
        "  def __getitem__(self, idx):  # dataset[idx]で返す値を指定\n",
        "    return [self.X[idx], self.y[idx]]"
      ],
      "execution_count": null,
      "outputs": []
    },
    {
      "cell_type": "code",
      "metadata": {
        "id": "ZLSOVNl7lwHq"
      },
      "source": [
        "from torch.utils.data import DataLoader\n",
        "\n",
        "# Datasetの作成\n",
        "dataset_train = NewsDataset(X_train, y_train)\n",
        "dataset_valid = NewsDataset(X_valid, y_valid)\n",
        "dataset_test = NewsDataset(X_test, y_test)\n",
        "\n",
        "# Dataloaderの作成\n",
        "dataloader_train = DataLoader(dataset_train, batch_size=1, shuffle=True)\n",
        "dataloader_valid = DataLoader(dataset_valid, batch_size=len(dataset_valid), shuffle=False)\n",
        "dataloader_test = DataLoader(dataset_test, batch_size=len(dataset_test), shuffle=False)"
      ],
      "execution_count": null,
      "outputs": []
    },
    {
      "cell_type": "code",
      "metadata": {
        "colab": {
          "base_uri": "https://localhost:8080/"
        },
        "id": "FWMM8eMsmFks",
        "outputId": "2cc1d541-cc6a-48d0-eaec-1d81f3866c44"
      },
      "source": [
        "# モデルの定義\n",
        "model = SLPNet(input_size, output_size)\n",
        "\n",
        "# 損失関数の定義\n",
        "criterion = nn.CrossEntropyLoss()\n",
        "\n",
        "# オプティマイザの定義\n",
        "optimizer = torch.optim.SGD(model.parameters(), lr=1e-1)\n",
        "\n",
        "# 学習\n",
        "num_epochs = 100\n",
        "for epoch in range(num_epochs):\n",
        "  # 訓練モードに設定\n",
        "  model.train()\n",
        "  loss_train = 0.0\n",
        "  for i, (inputs, labels) in enumerate(dataloader_train):\n",
        "    # 勾配をゼロで初期化\n",
        "    optimizer.zero_grad()\n",
        "\n",
        "    # 順伝播 + 誤差逆伝播 + 重み更新\n",
        "    outputs = model(inputs)\n",
        "    loss = criterion(outputs, labels)\n",
        "    loss.backward()\n",
        "    optimizer.step()\n",
        "\n",
        "    # 損失を記録\n",
        "    loss_train += loss.item()\n",
        "\n",
        "  # バッチ単位の平均損失計算\n",
        "  loss_train = loss_train / i\n",
        "\n",
        "  # 検証データの損失計算\n",
        "  model.eval() \n",
        "  with torch.no_grad():\n",
        "    inputs, labels = next(iter(dataloader_valid))\n",
        "    outputs = model(inputs)\n",
        "    loss_valid = criterion(outputs, labels)\n",
        "\n",
        "  # ログを出力\n",
        "  print(f'epoch: {epoch + 1}, loss_train: {loss_train:.4f}, loss_valid: {loss_valid:.4f}')  "
      ],
      "execution_count": null,
      "outputs": [
        {
          "output_type": "stream",
          "text": [
            "epoch: 1, loss_train: 1.7003, loss_valid: 1.7295\n",
            "epoch: 2, loss_train: 1.4669, loss_valid: 1.6304\n",
            "epoch: 3, loss_train: 1.2983, loss_valid: 1.6555\n",
            "epoch: 4, loss_train: 1.2069, loss_valid: 1.6065\n",
            "epoch: 5, loss_train: 1.1026, loss_valid: 1.5363\n",
            "epoch: 6, loss_train: 1.0446, loss_valid: 1.5373\n",
            "epoch: 7, loss_train: 0.9823, loss_valid: 1.5118\n",
            "epoch: 8, loss_train: 0.9108, loss_valid: 1.5073\n",
            "epoch: 9, loss_train: 0.8778, loss_valid: 1.4799\n",
            "epoch: 10, loss_train: 0.8473, loss_valid: 1.4814\n",
            "epoch: 11, loss_train: 0.8015, loss_valid: 1.4659\n",
            "epoch: 12, loss_train: 0.7761, loss_valid: 1.4592\n",
            "epoch: 13, loss_train: 0.7391, loss_valid: 1.4518\n",
            "epoch: 14, loss_train: 0.7199, loss_valid: 1.4528\n",
            "epoch: 15, loss_train: 0.6998, loss_valid: 1.4761\n",
            "epoch: 16, loss_train: 0.6816, loss_valid: 1.4240\n",
            "epoch: 17, loss_train: 0.6582, loss_valid: 1.5075\n",
            "epoch: 18, loss_train: 0.6366, loss_valid: 1.4133\n",
            "epoch: 19, loss_train: 0.6173, loss_valid: 1.4573\n",
            "epoch: 20, loss_train: 0.6094, loss_valid: 1.4315\n",
            "epoch: 21, loss_train: 0.5971, loss_valid: 1.4279\n",
            "epoch: 22, loss_train: 0.5794, loss_valid: 1.4354\n",
            "epoch: 23, loss_train: 0.5672, loss_valid: 1.4161\n",
            "epoch: 24, loss_train: 0.5564, loss_valid: 1.4123\n",
            "epoch: 25, loss_train: 0.5343, loss_valid: 1.4162\n",
            "epoch: 26, loss_train: 0.5328, loss_valid: 1.4049\n",
            "epoch: 27, loss_train: 0.5152, loss_valid: 1.3932\n",
            "epoch: 28, loss_train: 0.5046, loss_valid: 1.4240\n",
            "epoch: 29, loss_train: 0.4940, loss_valid: 1.4140\n",
            "epoch: 30, loss_train: 0.4902, loss_valid: 1.4169\n",
            "epoch: 31, loss_train: 0.4768, loss_valid: 1.3948\n",
            "epoch: 32, loss_train: 0.4680, loss_valid: 1.3937\n",
            "epoch: 33, loss_train: 0.4592, loss_valid: 1.3611\n",
            "epoch: 34, loss_train: 0.4532, loss_valid: 1.3786\n",
            "epoch: 35, loss_train: 0.4419, loss_valid: 1.3978\n",
            "epoch: 36, loss_train: 0.4375, loss_valid: 1.3816\n",
            "epoch: 37, loss_train: 0.4250, loss_valid: 1.4160\n",
            "epoch: 38, loss_train: 0.4239, loss_valid: 1.3627\n",
            "epoch: 39, loss_train: 0.4128, loss_valid: 1.3803\n",
            "epoch: 40, loss_train: 0.4073, loss_valid: 1.3459\n",
            "epoch: 41, loss_train: 0.4015, loss_valid: 1.3446\n",
            "epoch: 42, loss_train: 0.3854, loss_valid: 1.4424\n",
            "epoch: 43, loss_train: 0.3901, loss_valid: 1.3502\n",
            "epoch: 44, loss_train: 0.3835, loss_valid: 1.3539\n",
            "epoch: 45, loss_train: 0.3731, loss_valid: 1.3619\n",
            "epoch: 46, loss_train: 0.3692, loss_valid: 1.3616\n",
            "epoch: 47, loss_train: 0.3661, loss_valid: 1.3896\n",
            "epoch: 48, loss_train: 0.3593, loss_valid: 1.3436\n",
            "epoch: 49, loss_train: 0.3543, loss_valid: 1.3317\n",
            "epoch: 50, loss_train: 0.3521, loss_valid: 1.3557\n",
            "epoch: 51, loss_train: 0.3463, loss_valid: 1.3455\n",
            "epoch: 52, loss_train: 0.3403, loss_valid: 1.3604\n",
            "epoch: 53, loss_train: 0.3379, loss_valid: 1.3631\n",
            "epoch: 54, loss_train: 0.3239, loss_valid: 1.3346\n",
            "epoch: 55, loss_train: 0.3317, loss_valid: 1.3426\n",
            "epoch: 56, loss_train: 0.3235, loss_valid: 1.3411\n",
            "epoch: 57, loss_train: 0.3161, loss_valid: 1.3589\n",
            "epoch: 58, loss_train: 0.3158, loss_valid: 1.3694\n",
            "epoch: 59, loss_train: 0.3119, loss_valid: 1.3360\n",
            "epoch: 60, loss_train: 0.3056, loss_valid: 1.3405\n",
            "epoch: 61, loss_train: 0.3040, loss_valid: 1.3413\n",
            "epoch: 62, loss_train: 0.2985, loss_valid: 1.3235\n",
            "epoch: 63, loss_train: 0.2970, loss_valid: 1.3441\n",
            "epoch: 64, loss_train: 0.2919, loss_valid: 1.3471\n",
            "epoch: 65, loss_train: 0.2900, loss_valid: 1.3333\n",
            "epoch: 66, loss_train: 0.2864, loss_valid: 1.3244\n",
            "epoch: 67, loss_train: 0.2840, loss_valid: 1.3533\n",
            "epoch: 68, loss_train: 0.2785, loss_valid: 1.3514\n",
            "epoch: 69, loss_train: 0.2762, loss_valid: 1.3709\n",
            "epoch: 70, loss_train: 0.2731, loss_valid: 1.3178\n",
            "epoch: 71, loss_train: 0.2664, loss_valid: 1.3310\n",
            "epoch: 72, loss_train: 0.2700, loss_valid: 1.3506\n",
            "epoch: 73, loss_train: 0.2637, loss_valid: 1.3174\n",
            "epoch: 74, loss_train: 0.2617, loss_valid: 1.3475\n",
            "epoch: 75, loss_train: 0.2586, loss_valid: 1.3550\n",
            "epoch: 76, loss_train: 0.2567, loss_valid: 1.3375\n",
            "epoch: 77, loss_train: 0.2512, loss_valid: 1.3272\n",
            "epoch: 78, loss_train: 0.2532, loss_valid: 1.3167\n",
            "epoch: 79, loss_train: 0.2475, loss_valid: 1.3340\n",
            "epoch: 80, loss_train: 0.2437, loss_valid: 1.3501\n",
            "epoch: 81, loss_train: 0.2439, loss_valid: 1.3350\n",
            "epoch: 82, loss_train: 0.2420, loss_valid: 1.3228\n",
            "epoch: 83, loss_train: 0.2379, loss_valid: 1.3489\n",
            "epoch: 84, loss_train: 0.2366, loss_valid: 1.3510\n",
            "epoch: 85, loss_train: 0.2351, loss_valid: 1.3365\n",
            "epoch: 86, loss_train: 0.2321, loss_valid: 1.3379\n",
            "epoch: 87, loss_train: 0.2312, loss_valid: 1.3335\n",
            "epoch: 88, loss_train: 0.2256, loss_valid: 1.3380\n",
            "epoch: 89, loss_train: 0.2252, loss_valid: 1.3303\n",
            "epoch: 90, loss_train: 0.2213, loss_valid: 1.3324\n",
            "epoch: 91, loss_train: 0.2219, loss_valid: 1.3309\n",
            "epoch: 92, loss_train: 0.2205, loss_valid: 1.3455\n",
            "epoch: 93, loss_train: 0.2155, loss_valid: 1.3350\n",
            "epoch: 94, loss_train: 0.2161, loss_valid: 1.3337\n",
            "epoch: 95, loss_train: 0.2142, loss_valid: 1.3440\n",
            "epoch: 96, loss_train: 0.2098, loss_valid: 1.3216\n",
            "epoch: 97, loss_train: 0.2060, loss_valid: 1.3587\n",
            "epoch: 98, loss_train: 0.2097, loss_valid: 1.3660\n",
            "epoch: 99, loss_train: 0.2067, loss_valid: 1.3471\n",
            "epoch: 100, loss_train: 0.2049, loss_valid: 1.3462\n"
          ],
          "name": "stdout"
        }
      ]
    },
    {
      "cell_type": "code",
      "metadata": {
        "id": "peWLBSlGzf3E"
      },
      "source": [
        "def calculate_accuracy(model, loader):\n",
        "  model.eval()\n",
        "  total = 0\n",
        "  correct = 0\n",
        "  with torch.no_grad():\n",
        "    for inputs, labels in loader:\n",
        "      outputs = model(inputs)\n",
        "      pred = torch.argmax(outputs, dim=-1)\n",
        "      total += len(inputs)\n",
        "      correct += (pred == labels).sum().item()\n",
        "\n",
        "  return correct / total"
      ],
      "execution_count": null,
      "outputs": []
    },
    {
      "cell_type": "code",
      "metadata": {
        "colab": {
          "base_uri": "https://localhost:8080/"
        },
        "id": "T1RQKNa-1rIO",
        "outputId": "d3213036-e3e8-40e6-b958-11acff4c64bf"
      },
      "source": [
        "acc_train = calculate_accuracy(model, dataloader_train)\n",
        "acc_test = calculate_accuracy(model, dataloader_test)\n",
        "print(f'正解率（学習データ）：{acc_train:.3f}')\n",
        "print(f'正解率（評価データ）：{acc_test:.3f}')"
      ],
      "execution_count": null,
      "outputs": [
        {
          "output_type": "stream",
          "text": [
            "正解率（学習データ）：0.987\n",
            "正解率（評価データ）：0.632\n"
          ],
          "name": "stdout"
        }
      ]
    },
    {
      "cell_type": "code",
      "metadata": {
        "id": "4OGTneJD1vT-"
      },
      "source": [
        "def calculate_loss_and_accuracy(model, criterion, loader):\n",
        "  model.eval()\n",
        "  loss = 0.0\n",
        "  total = 0\n",
        "  correct = 0\n",
        "  with torch.no_grad():\n",
        "    for inputs, labels in loader:\n",
        "      outputs = model(inputs)\n",
        "      loss += criterion(outputs, labels).item()\n",
        "      pred = torch.argmax(outputs, dim=-1)\n",
        "      total += len(inputs)\n",
        "      correct += (pred == labels).sum().item()\n",
        "\n",
        "  return loss / len(loader), correct / total"
      ],
      "execution_count": null,
      "outputs": []
    },
    {
      "cell_type": "code",
      "metadata": {
        "colab": {
          "base_uri": "https://localhost:8080/"
        },
        "id": "iKKIUds42X_m",
        "outputId": "f3a7017b-44b8-4a5d-fda2-37c20762cafe"
      },
      "source": [
        "# モデルの定義\n",
        "model = SLPNet(input_size, output_size)\n",
        "\n",
        "# 損失関数の定義\n",
        "criterion = nn.CrossEntropyLoss()\n",
        "\n",
        "# オプティマイザの定義\n",
        "optimizer = torch.optim.SGD(model.parameters(), lr=1e-1)\n",
        "\n",
        "# 学習\n",
        "num_epochs = 100\n",
        "log_train = []\n",
        "log_valid = []\n",
        "for epoch in range(num_epochs):\n",
        "  # 訓練モードに設定\n",
        "  model.train()\n",
        "  for inputs, labels in dataloader_train:\n",
        "    # 勾配をゼロで初期化\n",
        "    optimizer.zero_grad()\n",
        "\n",
        "    # 順伝播 + 誤差逆伝播 + 重み更新\n",
        "    outputs = model(inputs)\n",
        "    loss = criterion(outputs, labels)\n",
        "    loss.backward()\n",
        "    optimizer.step()\n",
        "\n",
        "  # 損失と正解率の算出\n",
        "  loss_train, acc_train = calculate_loss_and_accuracy(model, criterion, dataloader_train)\n",
        "  loss_valid, acc_valid = calculate_loss_and_accuracy(model, criterion, dataloader_valid)\n",
        "  log_train.append([loss_train, acc_train])\n",
        "  log_valid.append([loss_valid, acc_valid])\n",
        "\n",
        "  # ログを出力\n",
        "  print(f'epoch: {epoch + 1}, loss_train: {loss_train:.4f}, accuracy_train: {acc_train:.4f}, loss_valid: {loss_valid:.4f}, accuracy_valid: {acc_valid:.4f}')  "
      ],
      "execution_count": null,
      "outputs": [
        {
          "output_type": "stream",
          "text": [
            "epoch: 1, loss_train: 1.4301, accuracy_train: 0.3867, loss_valid: 1.2480, accuracy_valid: 0.5263\n",
            "epoch: 2, loss_train: 1.3158, accuracy_train: 0.4533, loss_valid: 1.2101, accuracy_valid: 0.4211\n",
            "epoch: 3, loss_train: 1.1540, accuracy_train: 0.5067, loss_valid: 1.1948, accuracy_valid: 0.5789\n",
            "epoch: 4, loss_train: 1.0683, accuracy_train: 0.5400, loss_valid: 1.1770, accuracy_valid: 0.5263\n",
            "epoch: 5, loss_train: 0.9958, accuracy_train: 0.5933, loss_valid: 1.1977, accuracy_valid: 0.5789\n",
            "epoch: 6, loss_train: 0.9486, accuracy_train: 0.6067, loss_valid: 1.2151, accuracy_valid: 0.6316\n",
            "epoch: 7, loss_train: 0.9425, accuracy_train: 0.6267, loss_valid: 1.1638, accuracy_valid: 0.4737\n",
            "epoch: 8, loss_train: 0.8856, accuracy_train: 0.6333, loss_valid: 1.1508, accuracy_valid: 0.4737\n",
            "epoch: 9, loss_train: 0.8670, accuracy_train: 0.6333, loss_valid: 1.2501, accuracy_valid: 0.4737\n",
            "epoch: 10, loss_train: 0.7986, accuracy_train: 0.7333, loss_valid: 1.1904, accuracy_valid: 0.5263\n",
            "epoch: 11, loss_train: 0.7795, accuracy_train: 0.6733, loss_valid: 1.1782, accuracy_valid: 0.4737\n",
            "epoch: 12, loss_train: 0.7474, accuracy_train: 0.7133, loss_valid: 1.1645, accuracy_valid: 0.6316\n",
            "epoch: 13, loss_train: 0.7182, accuracy_train: 0.6933, loss_valid: 1.1907, accuracy_valid: 0.5263\n",
            "epoch: 14, loss_train: 0.7104, accuracy_train: 0.7400, loss_valid: 1.1448, accuracy_valid: 0.5263\n",
            "epoch: 15, loss_train: 0.6761, accuracy_train: 0.7867, loss_valid: 1.1823, accuracy_valid: 0.5263\n",
            "epoch: 16, loss_train: 0.6536, accuracy_train: 0.7800, loss_valid: 1.1819, accuracy_valid: 0.5263\n",
            "epoch: 17, loss_train: 0.6649, accuracy_train: 0.7667, loss_valid: 1.1457, accuracy_valid: 0.5789\n",
            "epoch: 18, loss_train: 0.6302, accuracy_train: 0.8067, loss_valid: 1.2122, accuracy_valid: 0.4737\n",
            "epoch: 19, loss_train: 0.6148, accuracy_train: 0.8200, loss_valid: 1.2773, accuracy_valid: 0.4737\n",
            "epoch: 20, loss_train: 0.6053, accuracy_train: 0.7933, loss_valid: 1.1589, accuracy_valid: 0.4737\n",
            "epoch: 21, loss_train: 0.5723, accuracy_train: 0.8667, loss_valid: 1.2094, accuracy_valid: 0.5263\n",
            "epoch: 22, loss_train: 0.5626, accuracy_train: 0.8400, loss_valid: 1.2249, accuracy_valid: 0.5263\n",
            "epoch: 23, loss_train: 0.5580, accuracy_train: 0.8600, loss_valid: 1.2745, accuracy_valid: 0.4737\n",
            "epoch: 24, loss_train: 0.5399, accuracy_train: 0.8467, loss_valid: 1.1731, accuracy_valid: 0.5263\n",
            "epoch: 25, loss_train: 0.5243, accuracy_train: 0.8467, loss_valid: 1.2275, accuracy_valid: 0.4737\n",
            "epoch: 26, loss_train: 0.5177, accuracy_train: 0.8800, loss_valid: 1.1580, accuracy_valid: 0.5789\n",
            "epoch: 27, loss_train: 0.5002, accuracy_train: 0.8800, loss_valid: 1.1976, accuracy_valid: 0.5263\n",
            "epoch: 28, loss_train: 0.4923, accuracy_train: 0.8667, loss_valid: 1.2318, accuracy_valid: 0.5263\n",
            "epoch: 29, loss_train: 0.4824, accuracy_train: 0.8867, loss_valid: 1.2157, accuracy_valid: 0.5263\n",
            "epoch: 30, loss_train: 0.4832, accuracy_train: 0.8933, loss_valid: 1.1585, accuracy_valid: 0.5263\n",
            "epoch: 31, loss_train: 0.4709, accuracy_train: 0.8600, loss_valid: 1.2172, accuracy_valid: 0.5263\n",
            "epoch: 32, loss_train: 0.4585, accuracy_train: 0.8800, loss_valid: 1.2381, accuracy_valid: 0.4737\n",
            "epoch: 33, loss_train: 0.4535, accuracy_train: 0.9067, loss_valid: 1.1655, accuracy_valid: 0.5263\n",
            "epoch: 34, loss_train: 0.4380, accuracy_train: 0.8867, loss_valid: 1.1947, accuracy_valid: 0.5789\n",
            "epoch: 35, loss_train: 0.4296, accuracy_train: 0.9000, loss_valid: 1.1890, accuracy_valid: 0.5789\n",
            "epoch: 36, loss_train: 0.4248, accuracy_train: 0.9000, loss_valid: 1.2176, accuracy_valid: 0.5263\n",
            "epoch: 37, loss_train: 0.4216, accuracy_train: 0.9067, loss_valid: 1.1729, accuracy_valid: 0.4737\n",
            "epoch: 38, loss_train: 0.4094, accuracy_train: 0.9067, loss_valid: 1.1784, accuracy_valid: 0.5789\n",
            "epoch: 39, loss_train: 0.4121, accuracy_train: 0.8933, loss_valid: 1.2061, accuracy_valid: 0.5263\n",
            "epoch: 40, loss_train: 0.3997, accuracy_train: 0.9200, loss_valid: 1.2013, accuracy_valid: 0.5263\n",
            "epoch: 41, loss_train: 0.3920, accuracy_train: 0.9133, loss_valid: 1.1895, accuracy_valid: 0.5789\n",
            "epoch: 42, loss_train: 0.3991, accuracy_train: 0.8933, loss_valid: 1.2372, accuracy_valid: 0.4737\n",
            "epoch: 43, loss_train: 0.3773, accuracy_train: 0.9267, loss_valid: 1.2009, accuracy_valid: 0.5789\n",
            "epoch: 44, loss_train: 0.3740, accuracy_train: 0.9200, loss_valid: 1.1798, accuracy_valid: 0.5789\n",
            "epoch: 45, loss_train: 0.3802, accuracy_train: 0.9133, loss_valid: 1.2731, accuracy_valid: 0.4737\n",
            "epoch: 46, loss_train: 0.3629, accuracy_train: 0.9200, loss_valid: 1.1923, accuracy_valid: 0.5263\n",
            "epoch: 47, loss_train: 0.3565, accuracy_train: 0.9400, loss_valid: 1.2073, accuracy_valid: 0.5789\n",
            "epoch: 48, loss_train: 0.3564, accuracy_train: 0.9200, loss_valid: 1.1974, accuracy_valid: 0.5263\n",
            "epoch: 49, loss_train: 0.3503, accuracy_train: 0.9467, loss_valid: 1.1406, accuracy_valid: 0.5789\n",
            "epoch: 50, loss_train: 0.3436, accuracy_train: 0.9333, loss_valid: 1.2214, accuracy_valid: 0.5263\n",
            "epoch: 51, loss_train: 0.3397, accuracy_train: 0.9600, loss_valid: 1.1845, accuracy_valid: 0.5263\n",
            "epoch: 52, loss_train: 0.3332, accuracy_train: 0.9533, loss_valid: 1.1740, accuracy_valid: 0.5789\n",
            "epoch: 53, loss_train: 0.3367, accuracy_train: 0.9400, loss_valid: 1.1321, accuracy_valid: 0.5789\n",
            "epoch: 54, loss_train: 0.3228, accuracy_train: 0.9533, loss_valid: 1.1575, accuracy_valid: 0.5789\n",
            "epoch: 55, loss_train: 0.3180, accuracy_train: 0.9400, loss_valid: 1.1949, accuracy_valid: 0.5789\n",
            "epoch: 56, loss_train: 0.3141, accuracy_train: 0.9533, loss_valid: 1.1797, accuracy_valid: 0.5789\n",
            "epoch: 57, loss_train: 0.3123, accuracy_train: 0.9533, loss_valid: 1.1585, accuracy_valid: 0.5789\n",
            "epoch: 58, loss_train: 0.3101, accuracy_train: 0.9533, loss_valid: 1.2160, accuracy_valid: 0.5789\n",
            "epoch: 59, loss_train: 0.3036, accuracy_train: 0.9600, loss_valid: 1.1825, accuracy_valid: 0.5789\n",
            "epoch: 60, loss_train: 0.3014, accuracy_train: 0.9533, loss_valid: 1.2146, accuracy_valid: 0.5789\n",
            "epoch: 61, loss_train: 0.2964, accuracy_train: 0.9600, loss_valid: 1.1831, accuracy_valid: 0.5789\n",
            "epoch: 62, loss_train: 0.2921, accuracy_train: 0.9667, loss_valid: 1.1906, accuracy_valid: 0.5789\n",
            "epoch: 63, loss_train: 0.2892, accuracy_train: 0.9667, loss_valid: 1.1640, accuracy_valid: 0.5789\n",
            "epoch: 64, loss_train: 0.2934, accuracy_train: 0.9667, loss_valid: 1.1628, accuracy_valid: 0.5263\n",
            "epoch: 65, loss_train: 0.2842, accuracy_train: 0.9667, loss_valid: 1.1445, accuracy_valid: 0.5789\n",
            "epoch: 66, loss_train: 0.2782, accuracy_train: 0.9667, loss_valid: 1.1777, accuracy_valid: 0.5789\n",
            "epoch: 67, loss_train: 0.2765, accuracy_train: 0.9667, loss_valid: 1.2096, accuracy_valid: 0.5789\n",
            "epoch: 68, loss_train: 0.2750, accuracy_train: 0.9600, loss_valid: 1.2159, accuracy_valid: 0.5789\n",
            "epoch: 69, loss_train: 0.2683, accuracy_train: 0.9733, loss_valid: 1.1881, accuracy_valid: 0.5789\n",
            "epoch: 70, loss_train: 0.2668, accuracy_train: 0.9667, loss_valid: 1.1473, accuracy_valid: 0.5789\n",
            "epoch: 71, loss_train: 0.2642, accuracy_train: 0.9733, loss_valid: 1.1615, accuracy_valid: 0.5789\n",
            "epoch: 72, loss_train: 0.2602, accuracy_train: 0.9800, loss_valid: 1.1699, accuracy_valid: 0.5789\n",
            "epoch: 73, loss_train: 0.2566, accuracy_train: 0.9733, loss_valid: 1.1713, accuracy_valid: 0.5789\n",
            "epoch: 74, loss_train: 0.2622, accuracy_train: 0.9667, loss_valid: 1.2068, accuracy_valid: 0.5789\n",
            "epoch: 75, loss_train: 0.2519, accuracy_train: 0.9800, loss_valid: 1.1615, accuracy_valid: 0.5789\n",
            "epoch: 76, loss_train: 0.2495, accuracy_train: 0.9800, loss_valid: 1.1862, accuracy_valid: 0.5789\n",
            "epoch: 77, loss_train: 0.2491, accuracy_train: 0.9733, loss_valid: 1.2116, accuracy_valid: 0.5263\n",
            "epoch: 78, loss_train: 0.2462, accuracy_train: 0.9733, loss_valid: 1.1578, accuracy_valid: 0.6316\n",
            "epoch: 79, loss_train: 0.2411, accuracy_train: 0.9800, loss_valid: 1.1775, accuracy_valid: 0.5789\n",
            "epoch: 80, loss_train: 0.2439, accuracy_train: 0.9667, loss_valid: 1.2018, accuracy_valid: 0.5789\n",
            "epoch: 81, loss_train: 0.2368, accuracy_train: 0.9800, loss_valid: 1.1919, accuracy_valid: 0.5789\n",
            "epoch: 82, loss_train: 0.2360, accuracy_train: 0.9800, loss_valid: 1.1597, accuracy_valid: 0.6316\n",
            "epoch: 83, loss_train: 0.2317, accuracy_train: 0.9867, loss_valid: 1.1850, accuracy_valid: 0.5789\n",
            "epoch: 84, loss_train: 0.2312, accuracy_train: 0.9867, loss_valid: 1.1744, accuracy_valid: 0.5789\n",
            "epoch: 85, loss_train: 0.2386, accuracy_train: 0.9533, loss_valid: 1.2226, accuracy_valid: 0.5263\n",
            "epoch: 86, loss_train: 0.2258, accuracy_train: 0.9867, loss_valid: 1.1885, accuracy_valid: 0.5789\n",
            "epoch: 87, loss_train: 0.2261, accuracy_train: 0.9867, loss_valid: 1.1440, accuracy_valid: 0.6316\n",
            "epoch: 88, loss_train: 0.2220, accuracy_train: 0.9800, loss_valid: 1.1884, accuracy_valid: 0.5789\n",
            "epoch: 89, loss_train: 0.2194, accuracy_train: 0.9800, loss_valid: 1.1762, accuracy_valid: 0.6316\n",
            "epoch: 90, loss_train: 0.2228, accuracy_train: 0.9867, loss_valid: 1.1523, accuracy_valid: 0.6316\n",
            "epoch: 91, loss_train: 0.2147, accuracy_train: 0.9867, loss_valid: 1.1792, accuracy_valid: 0.5789\n",
            "epoch: 92, loss_train: 0.2132, accuracy_train: 0.9867, loss_valid: 1.1936, accuracy_valid: 0.5789\n",
            "epoch: 93, loss_train: 0.2121, accuracy_train: 0.9800, loss_valid: 1.1907, accuracy_valid: 0.5789\n",
            "epoch: 94, loss_train: 0.2095, accuracy_train: 0.9867, loss_valid: 1.1688, accuracy_valid: 0.6316\n",
            "epoch: 95, loss_train: 0.2084, accuracy_train: 0.9867, loss_valid: 1.2050, accuracy_valid: 0.5789\n",
            "epoch: 96, loss_train: 0.2079, accuracy_train: 0.9800, loss_valid: 1.2005, accuracy_valid: 0.5789\n",
            "epoch: 97, loss_train: 0.2042, accuracy_train: 0.9867, loss_valid: 1.1891, accuracy_valid: 0.5789\n",
            "epoch: 98, loss_train: 0.2028, accuracy_train: 0.9867, loss_valid: 1.1824, accuracy_valid: 0.6316\n",
            "epoch: 99, loss_train: 0.2019, accuracy_train: 0.9800, loss_valid: 1.1882, accuracy_valid: 0.6316\n",
            "epoch: 100, loss_train: 0.2025, accuracy_train: 0.9867, loss_valid: 1.1708, accuracy_valid: 0.6316\n"
          ],
          "name": "stdout"
        }
      ]
    },
    {
      "cell_type": "code",
      "metadata": {
        "colab": {
          "base_uri": "https://localhost:8080/",
          "height": 334
        },
        "id": "g9B3PnL22eXM",
        "outputId": "71057f8a-5e5f-4740-a745-70ac23adf869"
      },
      "source": [
        "from matplotlib import pyplot as plt\n",
        "\n",
        "# 視覚化\n",
        "fig, ax = plt.subplots(1, 2, figsize=(15, 5))\n",
        "ax[0].plot(np.array(log_train).T[0], label='train')\n",
        "ax[0].plot(np.array(log_valid).T[0], label='valid')\n",
        "ax[0].set_xlabel('epoch')\n",
        "ax[0].set_ylabel('loss')\n",
        "ax[0].legend()\n",
        "ax[1].plot(np.array(log_train).T[1], label='train')\n",
        "ax[1].plot(np.array(log_valid).T[1], label='valid')\n",
        "ax[1].set_xlabel('epoch')\n",
        "ax[1].set_ylabel('accuracy')\n",
        "ax[1].legend()\n",
        "plt.show()"
      ],
      "execution_count": null,
      "outputs": [
        {
          "output_type": "display_data",
          "data": {
            "image/png": "[encoded data removed]",
            "text/plain": [
              "<Figure size 1080x360 with 2 Axes>"
            ]
          },
          "metadata": {
            "tags": [],
            "needs_background": "light"
          }
        }
      ]
    },
    {
      "cell_type": "markdown",
      "metadata": {
        "id": "lFHAP_nc3b-v"
      },
      "source": [
        "## 多層ニューラルネットワーク（MLPNet）"
      ]
    },
    {
      "cell_type": "code",
      "metadata": {
        "id": "RaMlPozC2irN"
      },
      "source": [
        "from torch.nn import functional as F\n",
        "\n",
        "class MLPNet(nn.Module):\n",
        "  def __init__(self, input_size, mid_size, output_size, mid_layers):\n",
        "    super().__init__()\n",
        "    self.mid_layers = mid_layers\n",
        "    self.fc = nn.Linear(input_size, mid_size)\n",
        "    self.fc_mid = nn.Linear(mid_size, mid_size)\n",
        "    self.fc_out = nn.Linear(mid_size, output_size) \n",
        "    self.bn = nn.BatchNorm1d(mid_size)\n",
        "\n",
        "  def forward(self, x):\n",
        "    x = F.relu(self.fc(x))\n",
        "    for _ in range(self.mid_layers):\n",
        "      x = F.relu(self.bn(self.fc_mid(x)))\n",
        "    x = F.relu(self.fc_out(x))\n",
        "\n",
        "    return x"
      ],
      "execution_count": null,
      "outputs": []
    },
    {
      "cell_type": "code",
      "metadata": {
        "id": "0aHr6jyQ3p3f"
      },
      "source": [
        "from torch import optim\n",
        "import time\n",
        "\n",
        "def calculate_loss_and_accuracy(model, criterion, loader, device):\n",
        "  model.eval()\n",
        "  loss = 0.0\n",
        "  total = 0\n",
        "  correct = 0\n",
        "  with torch.no_grad():\n",
        "    for inputs, labels in loader:\n",
        "      inputs = inputs.to(device)\n",
        "      labels = labels.to(device)\n",
        "      outputs = model(inputs)\n",
        "      loss += criterion(outputs, labels).item()\n",
        "      pred = torch.argmax(outputs, dim=-1)\n",
        "      total += len(inputs)\n",
        "      correct += (pred == labels).sum().item()\n",
        "\n",
        "  return loss / len(loader), correct / total\n",
        "\n",
        "\n",
        "def train_model(dataset_train, dataset_valid, batch_size, model, criterion, optimizer, num_epochs, device=None):\n",
        "  # GPUに送る\n",
        "  model.to(device)\n",
        "\n",
        "  # dataloaderの作成\n",
        "  dataloader_train = DataLoader(dataset_train, batch_size=batch_size, shuffle=True)\n",
        "  dataloader_valid = DataLoader(dataset_valid, batch_size=len(dataset_valid), shuffle=False)\n",
        "\n",
        "  # スケジューラの設定\n",
        "  scheduler = optim.lr_scheduler.CosineAnnealingLR(optimizer, num_epochs, eta_min=1e-5, last_epoch=-1)\n",
        "\n",
        "  # 学習\n",
        "  log_train = []\n",
        "  log_valid = []\n",
        "  for epoch in range(num_epochs):\n",
        "    # 開始時刻の記録\n",
        "    s_time = time.time()\n",
        "\n",
        "    # 訓練モードに設定\n",
        "    model.train()\n",
        "    for inputs, labels in dataloader_train:\n",
        "      # 勾配をゼロで初期化\n",
        "      optimizer.zero_grad()\n",
        "\n",
        "      # 順伝播 + 誤差逆伝播 + 重み更新\n",
        "      inputs = inputs.to(device)\n",
        "      labels = labels.to(device)\n",
        "      outputs = model.forward(inputs)\n",
        "      loss = criterion(outputs, labels)\n",
        "      loss.backward()\n",
        "      optimizer.step()\n",
        "\n",
        "    # 損失と正解率の算出\n",
        "    loss_train, acc_train = calculate_loss_and_accuracy(model, criterion, dataloader_train, device)\n",
        "    loss_valid, acc_valid = calculate_loss_and_accuracy(model, criterion, dataloader_valid, device)\n",
        "    log_train.append([loss_train, acc_train])\n",
        "    log_valid.append([loss_valid, acc_valid])\n",
        "\n",
        "    # チェックポイントの保存\n",
        "    torch.save({'epoch': epoch, 'model_state_dict': model.state_dict(), 'optimizer_state_dict': optimizer.state_dict()}, f'checkpoint{epoch + 1}.pt')\n",
        "\n",
        "    # 終了時刻の記録\n",
        "    e_time = time.time()\n",
        "\n",
        "    # ログを出力\n",
        "    print(f'epoch: {epoch + 1}, loss_train: {loss_train:.4f}, accuracy_train: {acc_train:.4f}, loss_valid: {loss_valid:.4f}, accuracy_valid: {acc_valid:.4f}, {(e_time - s_time):.4f}sec') \n",
        "\n",
        "    # 検証データの損失が3エポック連続で低下しなかった場合は学習終了\n",
        "    if epoch > 2 and log_valid[epoch - 3][0] <= log_valid[epoch - 2][0] <= log_valid[epoch - 1][0] <= log_valid[epoch][0]:\n",
        "      break\n",
        "\n",
        "    # スケジューラを1ステップ進める\n",
        "    scheduler.step()\n",
        "\n",
        "  return {'train': log_train, 'valid': log_valid}"
      ],
      "execution_count": null,
      "outputs": []
    },
    {
      "cell_type": "code",
      "metadata": {
        "colab": {
          "base_uri": "https://localhost:8080/"
        },
        "id": "-FbawdWG3usP",
        "outputId": "4d282e30-cbae-47ff-824e-fe3eb1b68e62"
      },
      "source": [
        "# datasetの作成\n",
        "dataset_train = NewsDataset(X_train, y_train)\n",
        "dataset_valid = NewsDataset(X_valid, y_valid)\n",
        "\n",
        "# モデルの定義\n",
        "model = MLPNet(input_size, mid_size, output_size, 1)\n",
        "\n",
        "# 損失関数の定義\n",
        "criterion = nn.CrossEntropyLoss()\n",
        "\n",
        "# オプティマイザの定義\n",
        "optimizer = torch.optim.SGD(model.parameters(), lr=1e-3)\n",
        "\n",
        "# デバイスの指定\n",
        "device = torch.device('cuda')\n",
        "\n",
        "# モデルの学習\n",
        "log = train_model(dataset_train, dataset_valid, 64, model, criterion, optimizer, 1000)"
      ],
      "execution_count": null,
      "outputs": [
        {
          "output_type": "stream",
          "text": [
            "epoch: 1, loss_train: 1.3869, accuracy_train: 0.2467, loss_valid: 1.3871, accuracy_valid: 0.2105, 0.0387sec\n",
            "epoch: 2, loss_train: 1.3869, accuracy_train: 0.2467, loss_valid: 1.3869, accuracy_valid: 0.2105, 0.0205sec\n",
            "epoch: 3, loss_train: 1.3854, accuracy_train: 0.2467, loss_valid: 1.3868, accuracy_valid: 0.2105, 0.0200sec\n",
            "epoch: 4, loss_train: 1.3856, accuracy_train: 0.2467, loss_valid: 1.3867, accuracy_valid: 0.2105, 0.0184sec\n",
            "epoch: 5, loss_train: 1.3866, accuracy_train: 0.2467, loss_valid: 1.3867, accuracy_valid: 0.2105, 0.0174sec\n",
            "epoch: 6, loss_train: 1.3857, accuracy_train: 0.2400, loss_valid: 1.3868, accuracy_valid: 0.2105, 0.0175sec\n",
            "epoch: 7, loss_train: 1.3867, accuracy_train: 0.2467, loss_valid: 1.3869, accuracy_valid: 0.2105, 0.0172sec\n"
          ],
          "name": "stdout"
        }
      ]
    },
    {
      "cell_type": "code",
      "metadata": {
        "colab": {
          "base_uri": "https://localhost:8080/",
          "height": 334
        },
        "id": "gWpYwtNu4jr5",
        "outputId": "9074efb1-38e8-4ece-e222-ea8ef4eaedab"
      },
      "source": [
        "fig, ax = plt.subplots(1, 2, figsize=(15, 5))\n",
        "ax[0].plot(np.array(log['train']).T[0], label='train')\n",
        "ax[0].plot(np.array(log['valid']).T[0], label='valid')\n",
        "ax[0].set_xlabel('epoch')\n",
        "ax[0].set_ylabel('loss')\n",
        "ax[0].legend()\n",
        "ax[1].plot(np.array(log['train']).T[1], label='train')\n",
        "ax[1].plot(np.array(log['valid']).T[1], label='valid')\n",
        "ax[1].set_xlabel('epoch')\n",
        "ax[1].set_ylabel('accuracy')\n",
        "ax[1].legend()\n",
        "plt.show()"
      ],
      "execution_count": null,
      "outputs": [
        {
          "output_type": "display_data",
          "data": {
            "image/png": "[encoded data removed]",
            "text/plain": [
              "<Figure size 1080x360 with 2 Axes>"
            ]
          },
          "metadata": {
            "tags": [],
            "needs_background": "light"
          }
        }
      ]
    },
    {
      "cell_type": "code",
      "metadata": {
        "colab": {
          "base_uri": "https://localhost:8080/"
        },
        "id": "DwK1ZQHS5Zjt",
        "outputId": "21dd15a3-4963-4dd1-a32c-eb1f74ebb783"
      },
      "source": [
        "# 正解率の確認\n",
        "acc_train = calculate_accuracy(model, dataloader_train)\n",
        "acc_test = calculate_accuracy(model, dataloader_test)\n",
        "print(f'正解率（学習データ）：{acc_train:.3f}')\n",
        "print(f'正解率（評価データ）：{acc_test:.3f}')"
      ],
      "execution_count": null,
      "outputs": [
        {
          "output_type": "stream",
          "text": [
            "正解率（学習データ）：0.247\n",
            "正解率（評価データ）：0.263\n"
          ],
          "name": "stdout"
        }
      ]
    },
    {
      "cell_type": "code",
      "metadata": {
        "id": "bNc1C11W5m6w"
      },
      "source": [
        ""
      ],
      "execution_count": null,
      "outputs": []
    }
  ]
}