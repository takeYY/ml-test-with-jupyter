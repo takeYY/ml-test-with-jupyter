{
 "cells": [
  {
   "cell_type": "code",
   "execution_count": null,
   "id": "b95a20bd",
   "metadata": {
    "scrolled": true
   },
   "outputs": [],
   "source": [
    "!pip install keras\n",
    "!pip install tensorflow\n",
    "!pip install gensim"
   ]
  },
  {
   "cell_type": "code",
   "execution_count": 2,
   "id": "9b078d52",
   "metadata": {},
   "outputs": [
    {
     "data": {
      "text/html": [
       "<div>\n",
       "<style scoped>\n",
       "    .dataframe tbody tr th:only-of-type {\n",
       "        vertical-align: middle;\n",
       "    }\n",
       "\n",
       "    .dataframe tbody tr th {\n",
       "        vertical-align: top;\n",
       "    }\n",
       "\n",
       "    .dataframe thead th {\n",
       "        text-align: right;\n",
       "    }\n",
       "</style>\n",
       "<table border=\"1\" class=\"dataframe\">\n",
       "  <thead>\n",
       "    <tr style=\"text-align: right;\">\n",
       "      <th></th>\n",
       "      <th>text</th>\n",
       "      <th>target</th>\n",
       "    </tr>\n",
       "  </thead>\n",
       "  <tbody>\n",
       "    <tr>\n",
       "      <th>0</th>\n",
       "      <td>From: lerxst@wam.umd.edu (where's my thing)\\nS...</td>\n",
       "      <td>7</td>\n",
       "    </tr>\n",
       "    <tr>\n",
       "      <th>1440</th>\n",
       "      <td>From: sandvik@newton.apple.com (Kent Sandvik)\\...</td>\n",
       "      <td>19</td>\n",
       "    </tr>\n",
       "    <tr>\n",
       "      <th>2880</th>\n",
       "      <td>From: thad@cup.portal.com (Thad P Floryan)\\nSu...</td>\n",
       "      <td>6</td>\n",
       "    </tr>\n",
       "    <tr>\n",
       "      <th>4320</th>\n",
       "      <td>From: guyd@austin.ibm.com (Guy Dawson)\\nSubjec...</td>\n",
       "      <td>2</td>\n",
       "    </tr>\n",
       "    <tr>\n",
       "      <th>5760</th>\n",
       "      <td>From: kxgst1+@pitt.edu (Kenneth Gilbert)\\nSubj...</td>\n",
       "      <td>13</td>\n",
       "    </tr>\n",
       "    <tr>\n",
       "      <th>7200</th>\n",
       "      <td>From: julie@eddie.jpl.nasa.gov (Julie Kangas)\\...</td>\n",
       "      <td>18</td>\n",
       "    </tr>\n",
       "    <tr>\n",
       "      <th>8640</th>\n",
       "      <td>From: edm@twisto.compaq.com (Ed McCreary)\\nSub...</td>\n",
       "      <td>0</td>\n",
       "    </tr>\n",
       "    <tr>\n",
       "      <th>10080</th>\n",
       "      <td>From: sieferme@stein.u.washington.edu (Eric Si...</td>\n",
       "      <td>0</td>\n",
       "    </tr>\n",
       "  </tbody>\n",
       "</table>\n",
       "</div>"
      ],
      "text/plain": [
       "                                                    text  target\n",
       "0      From: lerxst@wam.umd.edu (where's my thing)\\nS...       7\n",
       "1440   From: sandvik@newton.apple.com (Kent Sandvik)\\...      19\n",
       "2880   From: thad@cup.portal.com (Thad P Floryan)\\nSu...       6\n",
       "4320   From: guyd@austin.ibm.com (Guy Dawson)\\nSubjec...       2\n",
       "5760   From: kxgst1+@pitt.edu (Kenneth Gilbert)\\nSubj...      13\n",
       "7200   From: julie@eddie.jpl.nasa.gov (Julie Kangas)\\...      18\n",
       "8640   From: edm@twisto.compaq.com (Ed McCreary)\\nSub...       0\n",
       "10080  From: sieferme@stein.u.washington.edu (Eric Si...       0"
      ]
     },
     "execution_count": 2,
     "metadata": {},
     "output_type": "execute_result"
    }
   ],
   "source": [
    "import pandas as pd\n",
    "import numpy as np\n",
    "from sklearn import datasets\n",
    "from keras.utils import np_utils\n",
    "\n",
    "news_groups = datasets.fetch_20newsgroups()\n",
    "\n",
    "categories = news_groups.target_names\n",
    "newsgroups_train = datasets.fetch_20newsgroups(subset='train', categories=categories)\n",
    "\n",
    "train_df = pd.DataFrame({'text': newsgroups_train.data, 'target': newsgroups_train.target})\n",
    "train_df[::1440]"
   ]
  },
  {
   "cell_type": "code",
   "execution_count": 3,
   "id": "060883cd",
   "metadata": {},
   "outputs": [
    {
     "data": {
      "text/plain": [
       "(11314, 130107)"
      ]
     },
     "execution_count": 3,
     "metadata": {},
     "output_type": "execute_result"
    }
   ],
   "source": [
    "from sklearn.feature_extraction.text import TfidfVectorizer\n",
    "\n",
    "vectorizer = TfidfVectorizer()\n",
    "vectors = vectorizer.fit_transform(newsgroups_train.data)\n",
    "vectors.shape"
   ]
  },
  {
   "cell_type": "markdown",
   "id": "2738e640",
   "metadata": {},
   "source": [
    "## Naive Bayes classifier"
   ]
  },
  {
   "cell_type": "code",
   "execution_count": 4,
   "id": "9d70c3cd",
   "metadata": {},
   "outputs": [],
   "source": [
    "from sklearn.naive_bayes import MultinomialNB\n",
    "\n",
    "newsgroups_test = datasets.fetch_20newsgroups(subset='test', categories=categories)\n",
    "vectors_test = vectorizer.transform(newsgroups_test.data)"
   ]
  },
  {
   "cell_type": "code",
   "execution_count": 5,
   "id": "d2853e94",
   "metadata": {},
   "outputs": [
    {
     "data": {
      "text/plain": [
       "MultinomialNB(alpha=0.01)"
      ]
     },
     "execution_count": 5,
     "metadata": {},
     "output_type": "execute_result"
    }
   ],
   "source": [
    "clf = MultinomialNB(alpha=.01)\n",
    "clf.fit(vectors, newsgroups_train.target)"
   ]
  },
  {
   "cell_type": "code",
   "execution_count": 6,
   "id": "391f5481",
   "metadata": {},
   "outputs": [
    {
     "data": {
      "text/plain": [
       "array([ 7, 11,  0, ...,  9,  3, 15])"
      ]
     },
     "execution_count": 6,
     "metadata": {},
     "output_type": "execute_result"
    }
   ],
   "source": [
    "# 予測結果\n",
    "predict_y = clf.predict(vectors_test)\n",
    "predict_y"
   ]
  },
  {
   "cell_type": "code",
   "execution_count": 7,
   "id": "714c14eb",
   "metadata": {},
   "outputs": [
    {
     "data": {
      "text/plain": [
       "array([ 7,  5,  0, ...,  9,  6, 15])"
      ]
     },
     "execution_count": 7,
     "metadata": {},
     "output_type": "execute_result"
    }
   ],
   "source": [
    "# 正解データ\n",
    "Y_index = newsgroups_test.target\n",
    "Y_index"
   ]
  },
  {
   "cell_type": "code",
   "execution_count": 8,
   "id": "77a64fc5",
   "metadata": {},
   "outputs": [
    {
     "name": "stdout",
     "output_type": "stream",
     "text": [
      "True: 6291\n",
      "False: 1241\n"
     ]
    }
   ],
   "source": [
    "print('True:', np.count_nonzero(predict_y == Y_index))\n",
    "print('False:', np.count_nonzero(predict_y != Y_index))"
   ]
  },
  {
   "cell_type": "code",
   "execution_count": 9,
   "id": "93b5e141",
   "metadata": {},
   "outputs": [
    {
     "name": "stdout",
     "output_type": "stream",
     "text": [
      "              precision    recall  f1-score   support\n",
      "\n",
      "           0       0.82      0.78      0.80       319\n",
      "           1       0.69      0.75      0.72       389\n",
      "           2       0.74      0.63      0.68       394\n",
      "           3       0.65      0.75      0.69       392\n",
      "           4       0.83      0.84      0.83       385\n",
      "           5       0.84      0.78      0.81       395\n",
      "           6       0.82      0.78      0.80       390\n",
      "           7       0.89      0.90      0.90       396\n",
      "           8       0.93      0.96      0.95       398\n",
      "           9       0.95      0.94      0.95       397\n",
      "          10       0.95      0.97      0.96       399\n",
      "          11       0.89      0.93      0.91       396\n",
      "          12       0.79      0.77      0.78       393\n",
      "          13       0.89      0.84      0.86       396\n",
      "          14       0.87      0.91      0.89       394\n",
      "          15       0.82      0.95      0.88       398\n",
      "          16       0.76      0.91      0.83       364\n",
      "          17       0.97      0.94      0.96       376\n",
      "          18       0.80      0.64      0.71       310\n",
      "          19       0.76      0.59      0.67       251\n",
      "\n",
      "    accuracy                           0.84      7532\n",
      "   macro avg       0.83      0.83      0.83      7532\n",
      "weighted avg       0.84      0.84      0.83      7532\n",
      "\n"
     ]
    }
   ],
   "source": [
    "from sklearn.metrics import classification_report\n",
    "\n",
    "print(classification_report(Y_index, predict_y))"
   ]
  },
  {
   "cell_type": "markdown",
   "id": "8e9ce2b7",
   "metadata": {},
   "source": [
    "## Random Forest Model"
   ]
  },
  {
   "cell_type": "code",
   "execution_count": 10,
   "id": "1d58d99b",
   "metadata": {},
   "outputs": [
    {
     "data": {
      "text/plain": [
       "DecisionTreeClassifier(random_state=144)"
      ]
     },
     "execution_count": 10,
     "metadata": {},
     "output_type": "execute_result"
    }
   ],
   "source": [
    "from sklearn.tree import DecisionTreeClassifier\n",
    "\n",
    "clf = DecisionTreeClassifier(random_state=144)\n",
    "clf.fit(vectors, newsgroups_train.target)"
   ]
  },
  {
   "cell_type": "code",
   "execution_count": 11,
   "id": "35a1c26f",
   "metadata": {},
   "outputs": [
    {
     "data": {
      "text/plain": [
       "array([ 4, 12, 15, ..., 12, 12, 15])"
      ]
     },
     "execution_count": 11,
     "metadata": {},
     "output_type": "execute_result"
    }
   ],
   "source": [
    "# 予測結果\n",
    "predict_y = clf.predict(vectors_test)\n",
    "predict_y"
   ]
  },
  {
   "cell_type": "code",
   "execution_count": 12,
   "id": "004a8ad2",
   "metadata": {},
   "outputs": [
    {
     "data": {
      "text/plain": [
       "array([ 7,  5,  0, ...,  9,  6, 15])"
      ]
     },
     "execution_count": 12,
     "metadata": {},
     "output_type": "execute_result"
    }
   ],
   "source": [
    "# 正解データ\n",
    "Y_index = newsgroups_test.target\n",
    "Y_index"
   ]
  },
  {
   "cell_type": "code",
   "execution_count": 13,
   "id": "72d5da10",
   "metadata": {},
   "outputs": [
    {
     "name": "stdout",
     "output_type": "stream",
     "text": [
      "True: 4163\n",
      "False: 3369\n"
     ]
    }
   ],
   "source": [
    "print('True:', np.count_nonzero(predict_y == Y_index))\n",
    "print('False:', np.count_nonzero(predict_y != Y_index))"
   ]
  },
  {
   "cell_type": "code",
   "execution_count": 14,
   "id": "3bc7ab16",
   "metadata": {},
   "outputs": [
    {
     "name": "stdout",
     "output_type": "stream",
     "text": [
      "              precision    recall  f1-score   support\n",
      "\n",
      "           0       0.48      0.47      0.48       319\n",
      "           1       0.41      0.43      0.42       389\n",
      "           2       0.52      0.55      0.53       394\n",
      "           3       0.44      0.41      0.43       392\n",
      "           4       0.53      0.59      0.56       385\n",
      "           5       0.51      0.46      0.49       395\n",
      "           6       0.69      0.72      0.70       390\n",
      "           7       0.61      0.57      0.59       396\n",
      "           8       0.73      0.74      0.73       398\n",
      "           9       0.54      0.53      0.53       397\n",
      "          10       0.65      0.67      0.66       399\n",
      "          11       0.77      0.69      0.73       396\n",
      "          12       0.34      0.36      0.35       393\n",
      "          13       0.54      0.44      0.49       396\n",
      "          14       0.66      0.64      0.65       394\n",
      "          15       0.67      0.73      0.70       398\n",
      "          16       0.48      0.61      0.54       364\n",
      "          17       0.74      0.58      0.65       376\n",
      "          18       0.39      0.40      0.39       310\n",
      "          19       0.31      0.31      0.31       251\n",
      "\n",
      "    accuracy                           0.55      7532\n",
      "   macro avg       0.55      0.55      0.55      7532\n",
      "weighted avg       0.56      0.55      0.55      7532\n",
      "\n"
     ]
    }
   ],
   "source": [
    "from sklearn.metrics import classification_report\n",
    "\n",
    "print(classification_report(Y_index, predict_y))"
   ]
  },
  {
   "cell_type": "code",
   "execution_count": null,
   "id": "9dcdff30",
   "metadata": {},
   "outputs": [],
   "source": []
  }
 ],
 "metadata": {
  "kernelspec": {
   "display_name": "Python 3",
   "language": "python",
   "name": "python3"
  },
  "language_info": {
   "codemirror_mode": {
    "name": "ipython",
    "version": 3
   },
   "file_extension": ".py",
   "mimetype": "text/x-python",
   "name": "python",
   "nbconvert_exporter": "python",
   "pygments_lexer": "ipython3",
   "version": "3.8.8"
  }
 },
 "nbformat": 4,
 "nbformat_minor": 5
}
